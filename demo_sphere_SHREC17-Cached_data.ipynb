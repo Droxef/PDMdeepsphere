{
 "cells": [
  {
   "cell_type": "markdown",
   "metadata": {},
   "source": [
    "# DeepSphere using SHREC17 dataset\n",
    "### Benchmark with Cohen method S2CNN[[1]](http://arxiv.org/abs/1801.10130) and Esteves method[[2]](http://arxiv.org/abs/1711.06721)\n",
    "Multi-class classification of 3D objects, using the interesting property of rotation equivariance.\n",
    "\n",
    "The 3D objects are projected on a unit sphere.\n",
    "Cohen and Esteves use equiangular sampling, while our method use a HEAlpix sampling\n",
    "\n",
    "Several features are collected:\n",
    "* projection ray length (from sphere border to intersection [0, 2])\n",
    "* cos/sin with surface normal\n",
    "* same features using the convex hull of the 3D object"
   ]
  },
  {
   "cell_type": "markdown",
   "metadata": {},
   "source": [
    "## 0.1 Load libs"
   ]
  },
  {
   "cell_type": "code",
   "execution_count": 1,
   "metadata": {},
   "outputs": [],
   "source": [
    "%load_ext autoreload\n",
    "%autoreload 2\n",
    "%matplotlib inline"
   ]
  },
  {
   "cell_type": "code",
   "execution_count": 2,
   "metadata": {},
   "outputs": [],
   "source": [
    "import os\n",
    "import shutil\n",
    "import sys\n",
    "\n",
    "os.environ[\"CUDA_VISIBLE_DEVICES\"] = \"2\"  # change to chosen GPU to use, nothing if work on CPU\n",
    "\n",
    "import numpy as np\n",
    "import time\n",
    "import matplotlib.pyplot as plt\n",
    "import healpy as hp"
   ]
  },
  {
   "cell_type": "code",
   "execution_count": 3,
   "metadata": {},
   "outputs": [],
   "source": [
    "from deepsphere import models, experiment_helper, plot, utils\n",
    "from deepsphere.data import LabeledDatasetWithNoise, LabeledDataset\n",
    "import hyperparameters\n",
    "\n",
    "from SHREC17.load_shrec import fix_dataset, Shrec17Dataset, Shrec17DatasetCache, Shrec17DatasetTF"
   ]
  },
  {
   "cell_type": "markdown",
   "metadata": {},
   "source": [
    "## 0.2 Define parameters"
   ]
  },
  {
   "cell_type": "code",
   "execution_count": 4,
   "metadata": {},
   "outputs": [],
   "source": [
    "Nside = 64\n",
    "experiment_type = 'CNN' # 'FCN'\n",
    "ename = '_'+experiment_type\n",
    "datapath = '../data/shrec17/' # localisation of the .obj files"
   ]
  },
  {
   "cell_type": "code",
   "execution_count": 5,
   "metadata": {},
   "outputs": [],
   "source": [
    "noise_dataset = True    # use perturbed dataset (Cohen and Esteves do the same)\n",
    "augmentation = 1        # number of element per file (1 = no augmentation of dataset)"
   ]
  },
  {
   "cell_type": "markdown",
   "metadata": {},
   "source": [
    "## 1 Load dataset"
   ]
  },
  {
   "cell_type": "code",
   "execution_count": 6,
   "metadata": {},
   "outputs": [],
   "source": [
    "# if datasets are already downloaded but not preprocessed\n",
    "fix = False\n",
    "download = False\n",
    "if fix:\n",
    "    fix_dataset(datapath+'val_perturbed')\n",
    "    fix_dataset(datapath+'test_perturbed')"
   ]
  },
  {
   "cell_type": "markdown",
   "metadata": {},
   "source": [
    "download dataset if True, preprocess data and store it in npy files, and load it in a dataset object"
   ]
  },
  {
   "cell_type": "code",
   "execution_count": 7,
   "metadata": {},
   "outputs": [],
   "source": [
    "#train_dataset = Shrec17DatasetCache(datapath, 'train', perturbed=noise_dataset, download=download, nside=Nside, augmentation=augmentation, nfile=None)\n"
   ]
  },
  {
   "cell_type": "markdown",
   "metadata": {},
   "source": [
    "Better to keep validation and testing set in RAM, but not always possible"
   ]
  },
  {
   "cell_type": "code",
   "execution_count": 8,
   "metadata": {},
   "outputs": [],
   "source": [
    "val_dataset = Shrec17DatasetCache(datapath, 'val', perturbed=noise_dataset, download=download, nside=Nside, augmentation=1, nfile=None)"
   ]
  },
  {
   "cell_type": "markdown",
   "metadata": {},
   "source": [
    "Try do make a tensorflow dataset object"
   ]
  },
  {
   "cell_type": "code",
   "execution_count": 9,
   "metadata": {},
   "outputs": [],
   "source": [
    "train_TFDataset = Shrec17DatasetTF(datapath, 'train', perturbed=noise_dataset, download=download, nside=Nside, augmentation=augmentation, nfile=None)"
   ]
  },
  {
   "cell_type": "code",
   "execution_count": 10,
   "metadata": {},
   "outputs": [],
   "source": [
    "#dataset = train_TFDataset.get_tf_dataset(32)"
   ]
  },
  {
   "cell_type": "code",
   "execution_count": 11,
   "metadata": {},
   "outputs": [],
   "source": [
    "# import time\n",
    "# import tensorflow as tf\n",
    "\n",
    "# #dataset = tf_dataset_file(datapath, dataset, file_pattern, 32, Nside, augmentation)\n",
    "# t_start = time.time()\n",
    "# data_next = dataset.make_one_shot_iterator().get_next()\n",
    "# config = tf.ConfigProto()\n",
    "# config.gpu_options.allow_growth = True\n",
    "# steps = train_TFDataset.N // 32 + 1\n",
    "# with tf.Session(config=config) as sess:\n",
    "#     sess.run(tf.global_variables_initializer())\n",
    "#     try:\n",
    "#         for i in range(steps):\n",
    "#             out = sess.run(data_next)\n",
    "#     except tf.errors.OutOfRangeError:\n",
    "#         print(\"Done\") # Never reach this as will iterate on infinite sets\n",
    "# t_end = time.time()\n",
    "# print(str(t_end-t_start)+\" s\")\n",
    "\n",
    "# # t_start = time.time()\n",
    "# # data_iter = train_dataset.iter(32)\n",
    "# # steps = int(train_dataset.N / 32)\n",
    "# # for i in range(steps):\n",
    "# #     next(data_iter)\n",
    "# #     #feed_dict = {self.ph_data: batch_data, self.ph_labels: batch_labels, self.ph_training: True}\n",
    "# # t_end = time.time()\n",
    "# # print(str(t_end-t_start)+\" s\")"
   ]
  },
  {
   "cell_type": "markdown",
   "metadata": {},
   "source": [
    "## 1.1 Preprocess the dataset"
   ]
  },
  {
   "cell_type": "markdown",
   "metadata": {},
   "source": [
    "Shuffle the training dataset and print the classes distribution"
   ]
  },
  {
   "cell_type": "code",
   "execution_count": 12,
   "metadata": {},
   "outputs": [
    {
     "name": "stdout",
     "output_type": "stream",
     "text": [
      "number of class: 55 \n",
      "number of elements: 31364\n"
     ]
    }
   ],
   "source": [
    "nclass = train_TFDataset.nclass\n",
    "num_elem = train_TFDataset.N\n",
    "#ids_train = train_dataset.ids\n",
    "print('number of class:',nclass,'\\nnumber of elements:',num_elem)#,'\\nfirst id:',ids_train[0])"
   ]
  },
  {
   "cell_type": "code",
   "execution_count": 13,
   "metadata": {},
   "outputs": [],
   "source": [
    "# x_val, labels_val, ids_val = val_dataset.return_data(train=False)"
   ]
  },
  {
   "cell_type": "code",
   "execution_count": 14,
   "metadata": {},
   "outputs": [],
   "source": [
    "nfeat = 6#x_val.shape[-1]"
   ]
  },
  {
   "cell_type": "markdown",
   "metadata": {},
   "source": [
    "## 2 Classification using DeepSphere"
   ]
  },
  {
   "cell_type": "markdown",
   "metadata": {},
   "source": [
    "Use of the Dataset object used for other DeepSphere experiments"
   ]
  },
  {
   "cell_type": "code",
   "execution_count": 12,
   "metadata": {},
   "outputs": [],
   "source": [
    "# #training = LabeledDatasetWithNoise(x_train, labels_train, end_level=sigma_noise)\n",
    "# #training = LabeledDataset(x_train, labels_train)\n",
    "# validation = LabeledDataset(x_val, labels_val)"
   ]
  },
  {
   "cell_type": "code",
   "execution_count": 15,
   "metadata": {},
   "outputs": [],
   "source": [
    "#EXP_NAME = 'shrec17_best_4K_cache_{}aug_{}sides{}'.format(augmentation, Nside, ename)\n",
    "#EXP_NAME = 'shrec17_Cohen_simple_SGD_max_nsides_300epoch_{}sides{}'.format(Nside, ename)\n",
    "EXP_NAME = \"shrec17_best_5K_cache_1aug_64sides_CNN\"\n",
    "#EXP_NAME = 'essai_TFDataset'"
   ]
  },
  {
   "cell_type": "markdown",
   "metadata": {},
   "source": [
    "Load model with hyperparameters chosen.\n",
    "For each experiment, a new EXP_NAME is chosen, and new hyperparameters are store.\n",
    "All informations are present 'DeepSphere/Shrec17/experiments.md'\n",
    "The fastest way to reproduce an experiment is to revert to the commit of the experiment to load the correct files and notebook"
   ]
  },
  {
   "cell_type": "markdown",
   "metadata": {},
   "source": [
    "Adding a layer in the fully connected can be beneficial"
   ]
  },
  {
   "cell_type": "code",
   "execution_count": 21,
   "metadata": {},
   "outputs": [
    {
     "name": "stdout",
     "output_type": "stream",
     "text": [
      "#sides: [64, 32, 16, 8, 4, 2, 2]\n",
      "#pixels: [49152, 12288, 3072, 768, 192, 48, 48]\n",
      "#samples per batch: 32\n",
      "=> #pixels per batch (input): 1,572,864\n",
      "=> #pixels for training (input): 77,080,166,400\n",
      "Learning rate will start at 1.0e-02 and finish at 1.0e-02.\n",
      "NN architecture\n",
      "  input: M_0 = 49152\n",
      "  layer 1: cgconv1\n",
      "    representation: M_0 * F_1 / p_1 = 49152 * 16 / 4 = 196608\n",
      "    weights: F_0 * F_1 * K_1 = 6 * 16 * 5 = 480\n",
      "    biases: F_1 = 16\n",
      "    batch normalization\n",
      "  layer 2: cgconv2\n",
      "    representation: M_1 * F_2 / p_2 = 12288 * 32 / 4 = 98304\n",
      "    weights: F_1 * F_2 * K_2 = 16 * 32 * 5 = 2560\n",
      "    biases: F_2 = 32\n",
      "    batch normalization\n",
      "  layer 3: cgconv3\n",
      "    representation: M_2 * F_3 / p_3 = 3072 * 64 / 4 = 49152\n",
      "    weights: F_2 * F_3 * K_3 = 32 * 64 * 5 = 10240\n",
      "    biases: F_3 = 64\n",
      "    batch normalization\n",
      "  layer 4: cgconv4\n",
      "    representation: M_3 * F_4 / p_4 = 768 * 128 / 4 = 24576\n",
      "    weights: F_3 * F_4 * K_4 = 64 * 128 * 5 = 40960\n",
      "    biases: F_4 = 128\n",
      "    batch normalization\n",
      "  layer 5: cgconv5\n",
      "    representation: M_4 * F_5 / p_5 = 192 * 256 / 4 = 12288\n",
      "    weights: F_4 * F_5 * K_5 = 128 * 256 * 5 = 163840\n",
      "    biases: F_5 = 256\n",
      "    batch normalization\n",
      "  Statistical layer: mean\n",
      "    representation: 1 * 256 = 256\n",
      "  layer 6: logits (softmax)\n",
      "    representation: M_6 = 55\n",
      "    weights: M_5 * M_6 = 256 * 55 = 14080\n"
     ]
    }
   ],
   "source": [
    "params = hyperparameters.get_params_shrec17_optim(num_elem, EXP_NAME, Nside, nclass, nfeat_in=nfeat, architecture=experiment_type)\n",
    "params[\"tf_dataset\"] = train_TFDataset.get_tf_dataset(params[\"batch_size\"])\n",
    "params[\"std\"] = 0.001\n",
    "model = models.deepsphere(**params)"
   ]
  },
  {
   "cell_type": "code",
   "execution_count": 14,
   "metadata": {},
   "outputs": [],
   "source": [
    "shutil.rmtree('summaries/{}/'.format(EXP_NAME), ignore_errors=True)\n",
    "shutil.rmtree('checkpoints/{}/'.format(EXP_NAME), ignore_errors=True)"
   ]
  },
  {
   "cell_type": "markdown",
   "metadata": {},
   "source": [
    "Find a correct learning rate"
   ]
  },
  {
   "cell_type": "code",
   "execution_count": null,
   "metadata": {
    "scrolled": true
   },
   "outputs": [
    {
     "name": "stdout",
     "output_type": "stream",
     "text": [
      "NN architecture\n",
      "  input: M_0 = 196608\n",
      "  layer 1: cgconv1\n",
      "    representation: M_0 * F_1 / p_1 = 196608 * 16 / 4 = 786432\n",
      "    weights: F_0 * F_1 * K_1 = 6 * 16 * 5 = 480\n",
      "    biases: F_1 = 16\n",
      "    batch normalization\n",
      "  layer 2: cgconv2\n",
      "    representation: M_1 * F_2 / p_2 = 49152 * 32 / 4 = 393216\n",
      "    weights: F_1 * F_2 * K_2 = 16 * 32 * 5 = 2560\n",
      "    biases: F_2 = 32\n",
      "    batch normalization\n",
      "  layer 3: cgconv3\n",
      "    representation: M_2 * F_3 / p_3 = 12288 * 64 / 4 = 196608\n",
      "    weights: F_2 * F_3 * K_3 = 32 * 64 * 5 = 10240\n",
      "    biases: F_3 = 64\n",
      "    batch normalization\n",
      "  layer 4: cgconv4\n",
      "    representation: M_3 * F_4 / p_4 = 3072 * 128 / 4 = 98304\n",
      "    weights: F_3 * F_4 * K_4 = 64 * 128 * 5 = 40960\n",
      "    biases: F_4 = 128\n",
      "    batch normalization\n",
      "  layer 5: cgconv5\n",
      "    representation: M_4 * F_5 / p_5 = 768 * 256 / 4 = 49152\n",
      "    weights: F_4 * F_5 * K_5 = 128 * 256 * 5 = 163840\n",
      "    biases: F_5 = 256\n",
      "    batch normalization\n",
      "  Statistical layer: mean\n",
      "    representation: 1 * 256 = 256\n",
      "  layer 6: logits (softmax)\n",
      "    representation: M_6 = 55\n",
      "    weights: M_5 * M_6 = 256 * 55 = 14080\n",
      "step 490 / 19602 (epoch 0.50 / 20):\n",
      "  learning_rate = 1.78e-06, training loss = 4.24e+00\n"
     ]
    },
    {
     "name": "stderr",
     "output_type": "stream",
     "text": [
      "/home/gusset/miniconda3/envs/PDMsphere/lib/python3.6/site-packages/sklearn/metrics/classification.py:1135: UndefinedMetricWarning: F-score is ill-defined and being set to 0.0 in labels with no predicted samples.\n",
      "  'precision', 'predicted', average, warn_for)\n"
     ]
    },
    {
     "name": "stdout",
     "output_type": "stream",
     "text": [
      "  validation accuracy: 0.76 (39 / 5133), f1 (weighted): 0.80, loss: 4.29e+00\n",
      "  CPU time: 1477s, wall time: 797s, perf_time_load: 1.16s, perf_time: 1.16s\n",
      "step 980 / 19602 (epoch 1.00 / 20):\n",
      "  learning_rate = 3.16e-06, training loss = 4.13e+00\n",
      "  validation accuracy: 3.78 (194 / 5133), f1 (weighted): 2.88, loss: 4.19e+00\n",
      "  CPU time: 2964s, wall time: 1587s, perf_time_load: 1.13s, perf_time: 1.13s\n",
      "step 1470 / 19602 (epoch 1.50 / 20):\n",
      "  learning_rate = 5.62e-06, training loss = 4.08e+00\n",
      "  validation accuracy: 10.29 (528 / 5133), f1 (weighted): 4.54, loss: 4.00e+00\n",
      "  CPU time: 4446s, wall time: 2374s, perf_time_load: 1.16s, perf_time: 1.16s\n",
      "step 1960 / 19602 (epoch 2.00 / 20):\n",
      "  learning_rate = 9.99e-06, training loss = 3.78e+00\n",
      "  validation accuracy: 26.57 (1364 / 5133), f1 (weighted): 15.49, loss: 3.70e+00\n",
      "  CPU time: 5924s, wall time: 3166s, perf_time_load: 1.15s, perf_time: 1.15s\n",
      "step 2450 / 19602 (epoch 2.50 / 20):\n",
      "  learning_rate = 1.78e-05, training loss = 3.08e+00\n",
      "  validation accuracy: 35.52 (1823 / 5133), f1 (weighted): 23.55, loss: 3.37e+00\n",
      "  CPU time: 7409s, wall time: 3951s, perf_time_load: 1.15s, perf_time: 1.15s\n",
      "step 2940 / 19602 (epoch 3.00 / 20):\n",
      "  learning_rate = 3.16e-05, training loss = 2.92e+00\n",
      "  validation accuracy: 41.22 (2116 / 5133), f1 (weighted): 27.08, loss: 3.05e+00\n",
      "  CPU time: 8890s, wall time: 4737s, perf_time_load: 1.17s, perf_time: 1.17s\n",
      "step 3430 / 19602 (epoch 3.50 / 20):\n",
      "  learning_rate = 5.62e-05, training loss = 2.43e+00\n",
      "  validation accuracy: 43.13 (2214 / 5133), f1 (weighted): 29.75, loss: 2.78e+00\n",
      "  CPU time: 10385s, wall time: 5525s, perf_time_load: 1.14s, perf_time: 1.14s\n",
      "step 3920 / 19602 (epoch 4.00 / 20):\n",
      "  learning_rate = 9.99e-05, training loss = 2.51e+00\n",
      "  validation accuracy: 46.13 (2368 / 5133), f1 (weighted): 34.35, loss: 2.55e+00\n",
      "  CPU time: 11895s, wall time: 6315s, perf_time_load: 1.14s, perf_time: 1.14s\n",
      "step 4410 / 19602 (epoch 4.50 / 20):\n",
      "  learning_rate = 1.78e-04, training loss = 2.13e+00\n",
      "  validation accuracy: 48.61 (2495 / 5133), f1 (weighted): 38.04, loss: 2.32e+00\n",
      "  CPU time: 13355s, wall time: 7094s, perf_time_load: 1.17s, perf_time: 1.17s\n",
      "step 4900 / 19602 (epoch 5.00 / 20):\n",
      "  learning_rate = 3.16e-04, training loss = 2.27e+00\n",
      "  validation accuracy: 52.41 (2690 / 5133), f1 (weighted): 43.24, loss: 2.12e+00\n",
      "  CPU time: 14828s, wall time: 7876s, perf_time_load: 1.17s, perf_time: 1.17s\n",
      "step 5390 / 19602 (epoch 5.50 / 20):\n",
      "  learning_rate = 5.61e-04, training loss = 1.93e+00\n",
      "  validation accuracy: 56.91 (2921 / 5133), f1 (weighted): 49.32, loss: 1.93e+00\n",
      "  CPU time: 16301s, wall time: 8660s, perf_time_load: 1.17s, perf_time: 1.17s\n",
      "step 5880 / 19602 (epoch 6.00 / 20):\n",
      "  learning_rate = 9.98e-04, training loss = 1.77e+00\n",
      "  validation accuracy: 61.33 (3148 / 5133), f1 (weighted): 55.17, loss: 1.75e+00\n",
      "  CPU time: 17783s, wall time: 9427s, perf_time_load: 1.11s, perf_time: 1.11s\n",
      "step 6370 / 19602 (epoch 6.50 / 20):\n",
      "  learning_rate = 1.77e-03, training loss = 1.69e+00\n",
      "  validation accuracy: 64.50 (3311 / 5133), f1 (weighted): 59.56, loss: 1.60e+00\n",
      "  CPU time: 19248s, wall time: 10200s, perf_time_load: 1.13s, perf_time: 1.13s\n"
     ]
    }
   ],
   "source": [
    "backup = params.copy()\n",
    "\n",
    "params, learning_rate = utils.test_learning_rates(params, train_TFDataset.N, 1e-6, 1e-1, num_epochs=20)\n",
    "\n",
    "shutil.rmtree('summaries/{}/'.format(params['dir_name']), ignore_errors=True)\n",
    "shutil.rmtree('checkpoints/{}/'.format(params['dir_name']), ignore_errors=True)\n",
    "\n",
    "model = models.deepsphere(**params)\n",
    "_, loss_validation, _, _ = model.fit(train_TFDataset, val_dataset, use_tf_dataset=True, cache=True)\n",
    "\n",
    "params.update(backup)\n",
    "\n",
    "plt.semilogx(learning_rate, loss_validation, '.-')"
   ]
  },
  {
   "cell_type": "code",
   "execution_count": null,
   "metadata": {},
   "outputs": [],
   "source": [
    "shutil.rmtree('summaries/lr_finder/', ignore_errors=True)\n",
    "shutil.rmtree('checkpoints/lr_finder/', ignore_errors=True)"
   ]
  },
  {
   "cell_type": "markdown",
   "metadata": {},
   "source": [
    "0.9 seems to be a good learning rate for SGD with current parameters"
   ]
  },
  {
   "cell_type": "markdown",
   "metadata": {},
   "source": [
    "## 2.2 Train Network"
   ]
  },
  {
   "cell_type": "code",
   "execution_count": 17,
   "metadata": {},
   "outputs": [
    {
     "name": "stdout",
     "output_type": "stream",
     "text": [
      "conv1/weights:0\n",
      "conv1/bias:0\n",
      "conv2/weights:0\n",
      "conv2/bias:0\n",
      "conv3/weights:0\n",
      "conv3/bias:0\n",
      "conv4/weights:0\n",
      "conv4/bias:0\n",
      "conv5/weights:0\n",
      "conv5/bias:0\n",
      "logits/weights:0\n",
      "the number of parameters in the model is: 189,040\n"
     ]
    }
   ],
   "source": [
    "print(\"the number of parameters in the model is: {:,}\".format(model.get_nbr_var()))"
   ]
  },
  {
   "cell_type": "code",
   "execution_count": 16,
   "metadata": {
    "scrolled": true
   },
   "outputs": [
    {
     "name": "stdout",
     "output_type": "stream",
     "text": [
      "step 735 / 147018 (epoch 0.25 / 50):\n",
      "  learning_rate = 1.00e-02, training loss = 9.60e-01\n"
     ]
    },
    {
     "name": "stderr",
     "output_type": "stream",
     "text": [
      "/home/gusset/miniconda3/envs/PDMsphere/lib/python3.6/site-packages/sklearn/metrics/classification.py:1135: UndefinedMetricWarning: F-score is ill-defined and being set to 0.0 in labels with no predicted samples.\n",
      "  'precision', 'predicted', average, warn_for)\n"
     ]
    },
    {
     "name": "stdout",
     "output_type": "stream",
     "text": [
      "  validation accuracy: 68.17 (3499 / 5133), f1 (weighted): 65.15, loss: 1.38e+00\n",
      "  CPU time: 385s, wall time: 196s, perf_time_load: 0.19s, perf_time: 0.19s\n",
      "step 1470 / 147018 (epoch 0.50 / 50):\n",
      "  learning_rate = 1.00e-02, training loss = 1.11e+00\n",
      "  validation accuracy: 71.62 (3676 / 5133), f1 (weighted): 68.85, loss: 1.24e+00\n",
      "  CPU time: 754s, wall time: 382s, perf_time_load: 0.19s, perf_time: 0.19s\n",
      "step 2205 / 147018 (epoch 0.75 / 50):\n",
      "  learning_rate = 1.00e-02, training loss = 7.25e-01\n",
      "  validation accuracy: 74.65 (3832 / 5133), f1 (weighted): 72.81, loss: 1.13e+00\n",
      "  CPU time: 1144s, wall time: 565s, perf_time_load: 0.19s, perf_time: 0.19s\n",
      "step 2940 / 147018 (epoch 1.00 / 50):\n",
      "  learning_rate = 1.00e-02, training loss = 5.75e-01\n",
      "  validation accuracy: 76.17 (3910 / 5133), f1 (weighted): 74.58, loss: 1.06e+00\n",
      "  CPU time: 1539s, wall time: 748s, perf_time_load: 0.20s, perf_time: 0.20s\n",
      "step 3675 / 147018 (epoch 1.25 / 50):\n",
      "  learning_rate = 1.00e-02, training loss = 9.17e-01\n",
      "  validation accuracy: 75.96 (3899 / 5133), f1 (weighted): 74.27, loss: 1.06e+00\n",
      "  CPU time: 1926s, wall time: 932s, perf_time_load: 0.19s, perf_time: 0.19s\n",
      "step 4410 / 147018 (epoch 1.50 / 50):\n",
      "  learning_rate = 1.00e-02, training loss = 7.12e-01\n",
      "  validation accuracy: 76.66 (3935 / 5133), f1 (weighted): 75.23, loss: 1.02e+00\n",
      "  CPU time: 2314s, wall time: 1116s, perf_time_load: 0.19s, perf_time: 0.19s\n",
      "step 5145 / 147018 (epoch 1.75 / 50):\n",
      "  learning_rate = 1.00e-02, training loss = 1.04e+00\n",
      "  validation accuracy: 77.03 (3954 / 5133), f1 (weighted): 76.36, loss: 1.03e+00\n",
      "  CPU time: 2705s, wall time: 1300s, perf_time_load: 0.19s, perf_time: 0.19s\n",
      "step 5880 / 147018 (epoch 2.00 / 50):\n",
      "  learning_rate = 1.00e-02, training loss = 7.84e-01\n",
      "  validation accuracy: 78.28 (4018 / 5133), f1 (weighted): 76.76, loss: 9.82e-01\n",
      "  CPU time: 3091s, wall time: 1484s, perf_time_load: 0.19s, perf_time: 0.19s\n",
      "step 6615 / 147018 (epoch 2.25 / 50):\n",
      "  learning_rate = 1.00e-02, training loss = 8.24e-01\n",
      "  validation accuracy: 78.88 (4049 / 5133), f1 (weighted): 77.39, loss: 9.25e-01\n",
      "  CPU time: 3480s, wall time: 1666s, perf_time_load: 0.19s, perf_time: 0.19s\n",
      "step 7350 / 147018 (epoch 2.50 / 50):\n",
      "  learning_rate = 1.00e-02, training loss = 8.32e-01\n",
      "  validation accuracy: 78.26 (4017 / 5133), f1 (weighted): 77.27, loss: 9.44e-01\n",
      "  CPU time: 3879s, wall time: 1850s, perf_time_load: 0.19s, perf_time: 0.19s\n",
      "step 8085 / 147018 (epoch 2.75 / 50):\n",
      "  learning_rate = 1.00e-02, training loss = 2.35e-01\n",
      "  validation accuracy: 77.75 (3991 / 5133), f1 (weighted): 76.17, loss: 9.82e-01\n",
      "  CPU time: 4272s, wall time: 2034s, perf_time_load: 0.19s, perf_time: 0.19s\n",
      "step 8820 / 147018 (epoch 3.00 / 50):\n",
      "  learning_rate = 1.00e-02, training loss = 6.58e-01\n",
      "  validation accuracy: 79.64 (4088 / 5133), f1 (weighted): 78.51, loss: 9.06e-01\n",
      "  CPU time: 4663s, wall time: 2218s, perf_time_load: 0.19s, perf_time: 0.19s\n",
      "step 9555 / 147018 (epoch 3.25 / 50):\n",
      "  learning_rate = 1.00e-02, training loss = 9.37e-01\n",
      "  validation accuracy: 80.28 (4121 / 5133), f1 (weighted): 79.50, loss: 8.87e-01\n",
      "  CPU time: 5051s, wall time: 2401s, perf_time_load: 0.19s, perf_time: 0.19s\n",
      "step 10290 / 147018 (epoch 3.50 / 50):\n",
      "  learning_rate = 1.00e-02, training loss = 4.46e-01\n",
      "  validation accuracy: 79.82 (4097 / 5133), f1 (weighted): 78.62, loss: 8.92e-01\n",
      "  CPU time: 5456s, wall time: 2584s, perf_time_load: 0.19s, perf_time: 0.19s\n",
      "step 11025 / 147018 (epoch 3.75 / 50):\n",
      "  learning_rate = 1.00e-02, training loss = 4.24e-01\n",
      "  validation accuracy: 79.33 (4072 / 5133), f1 (weighted): 78.25, loss: 8.75e-01\n",
      "  CPU time: 5848s, wall time: 2768s, perf_time_load: 0.19s, perf_time: 0.19s\n",
      "step 11760 / 147018 (epoch 4.00 / 50):\n",
      "  learning_rate = 1.00e-02, training loss = 7.55e-01\n",
      "  validation accuracy: 80.01 (4107 / 5133), f1 (weighted): 78.95, loss: 8.82e-01\n",
      "  CPU time: 6237s, wall time: 2952s, perf_time_load: 0.19s, perf_time: 0.19s\n",
      "step 12495 / 147018 (epoch 4.25 / 50):\n",
      "  learning_rate = 1.00e-02, training loss = 5.12e-01\n",
      "  validation accuracy: 80.40 (4127 / 5133), f1 (weighted): 78.95, loss: 8.91e-01\n",
      "  CPU time: 6623s, wall time: 3136s, perf_time_load: 0.19s, perf_time: 0.19s\n",
      "step 13230 / 147018 (epoch 4.50 / 50):\n",
      "  learning_rate = 1.00e-02, training loss = 5.51e-01\n",
      "  validation accuracy: 80.40 (4127 / 5133), f1 (weighted): 79.63, loss: 8.87e-01\n",
      "  CPU time: 7005s, wall time: 3319s, perf_time_load: 0.19s, perf_time: 0.19s\n",
      "step 13965 / 147018 (epoch 4.75 / 50):\n",
      "  learning_rate = 1.00e-02, training loss = 7.96e-01\n",
      "  validation accuracy: 80.62 (4138 / 5133), f1 (weighted): 79.55, loss: 8.57e-01\n",
      "  CPU time: 7396s, wall time: 3501s, perf_time_load: 0.19s, perf_time: 0.19s\n",
      "step 14700 / 147018 (epoch 5.00 / 50):\n",
      "  learning_rate = 1.00e-02, training loss = 5.24e-01\n",
      "  validation accuracy: 80.89 (4152 / 5133), f1 (weighted): 79.45, loss: 8.70e-01\n",
      "  CPU time: 7786s, wall time: 3685s, perf_time_load: 0.19s, perf_time: 0.19s\n",
      "step 15435 / 147018 (epoch 5.25 / 50):\n",
      "  learning_rate = 1.00e-02, training loss = 4.69e-01\n",
      "  validation accuracy: 79.82 (4097 / 5133), f1 (weighted): 79.08, loss: 8.91e-01\n",
      "  CPU time: 8175s, wall time: 3868s, perf_time_load: 0.19s, perf_time: 0.19s\n",
      "step 16170 / 147018 (epoch 5.50 / 50):\n",
      "  learning_rate = 1.00e-02, training loss = 5.07e-01\n",
      "  validation accuracy: 81.59 (4188 / 5133), f1 (weighted): 80.36, loss: 8.43e-01\n",
      "  CPU time: 8560s, wall time: 4052s, perf_time_load: 0.20s, perf_time: 0.20s\n",
      "step 16905 / 147018 (epoch 5.75 / 50):\n",
      "  learning_rate = 1.00e-02, training loss = 5.19e-01\n",
      "  validation accuracy: 81.30 (4173 / 5133), f1 (weighted): 80.41, loss: 8.56e-01\n",
      "  CPU time: 8946s, wall time: 4235s, perf_time_load: 0.19s, perf_time: 0.19s\n",
      "step 17640 / 147018 (epoch 6.00 / 50):\n",
      "  learning_rate = 1.00e-02, training loss = 4.57e-01\n",
      "  validation accuracy: 80.71 (4143 / 5133), f1 (weighted): 80.25, loss: 8.84e-01\n",
      "  CPU time: 9340s, wall time: 4418s, perf_time_load: 0.19s, perf_time: 0.19s\n",
      "step 18375 / 147018 (epoch 6.25 / 50):\n",
      "  learning_rate = 1.00e-02, training loss = 5.84e-01\n",
      "  validation accuracy: 80.73 (4144 / 5133), f1 (weighted): 80.18, loss: 8.59e-01\n",
      "  CPU time: 9730s, wall time: 4602s, perf_time_load: 0.19s, perf_time: 0.19s\n",
      "step 19110 / 147018 (epoch 6.50 / 50):\n",
      "  learning_rate = 1.00e-02, training loss = 4.22e-01\n",
      "  validation accuracy: 81.32 (4174 / 5133), f1 (weighted): 80.53, loss: 8.46e-01\n",
      "  CPU time: 10114s, wall time: 4786s, perf_time_load: 0.19s, perf_time: 0.19s\n",
      "step 19845 / 147018 (epoch 6.75 / 50):\n",
      "  learning_rate = 1.00e-02, training loss = 4.42e-01\n",
      "  validation accuracy: 81.71 (4194 / 5133), f1 (weighted): 81.10, loss: 8.55e-01\n",
      "  CPU time: 10499s, wall time: 4970s, perf_time_load: 0.19s, perf_time: 0.19s\n",
      "step 20580 / 147018 (epoch 7.00 / 50):\n",
      "  learning_rate = 1.00e-02, training loss = 6.39e-01\n",
      "  validation accuracy: 81.20 (4168 / 5133), f1 (weighted): 80.06, loss: 8.63e-01\n",
      "  CPU time: 10882s, wall time: 5153s, perf_time_load: 0.19s, perf_time: 0.19s\n",
      "step 21315 / 147018 (epoch 7.25 / 50):\n",
      "  learning_rate = 1.00e-02, training loss = 2.80e-01\n",
      "  validation accuracy: 81.34 (4175 / 5133), f1 (weighted): 80.64, loss: 8.54e-01\n",
      "  CPU time: 11281s, wall time: 5336s, perf_time_load: 0.19s, perf_time: 0.19s\n",
      "step 22050 / 147018 (epoch 7.50 / 50):\n",
      "  learning_rate = 1.00e-02, training loss = 4.83e-01\n",
      "  validation accuracy: 81.51 (4184 / 5133), f1 (weighted): 80.46, loss: 8.47e-01\n",
      "  CPU time: 11675s, wall time: 5520s, perf_time_load: 0.19s, perf_time: 0.19s\n",
      "step 22785 / 147018 (epoch 7.75 / 50):\n",
      "  learning_rate = 1.00e-02, training loss = 3.94e-01\n",
      "  validation accuracy: 81.22 (4169 / 5133), f1 (weighted): 80.27, loss: 8.67e-01\n",
      "  CPU time: 12063s, wall time: 5704s, perf_time_load: 0.19s, perf_time: 0.19s\n",
      "step 23520 / 147018 (epoch 8.00 / 50):\n",
      "  learning_rate = 1.00e-02, training loss = 3.75e-01\n",
      "  validation accuracy: 81.75 (4196 / 5133), f1 (weighted): 80.89, loss: 8.62e-01\n",
      "  CPU time: 12449s, wall time: 5887s, perf_time_load: 0.19s, perf_time: 0.19s\n",
      "step 24255 / 147018 (epoch 8.25 / 50):\n",
      "  learning_rate = 1.00e-02, training loss = 6.89e-01\n",
      "  validation accuracy: 81.47 (4182 / 5133), f1 (weighted): 80.50, loss: 8.58e-01\n",
      "  CPU time: 12834s, wall time: 6071s, perf_time_load: 0.19s, perf_time: 0.19s\n",
      "step 24990 / 147018 (epoch 8.50 / 50):\n",
      "  learning_rate = 1.00e-02, training loss = 4.26e-01\n"
     ]
    },
    {
     "name": "stdout",
     "output_type": "stream",
     "text": [
      "  validation accuracy: 81.86 (4202 / 5133), f1 (weighted): 81.36, loss: 8.29e-01\n",
      "  CPU time: 13237s, wall time: 6254s, perf_time_load: 0.19s, perf_time: 0.19s\n",
      "step 25725 / 147018 (epoch 8.75 / 50):\n",
      "  learning_rate = 1.00e-02, training loss = 3.92e-01\n",
      "  validation accuracy: 81.10 (4163 / 5133), f1 (weighted): 80.02, loss: 8.93e-01\n",
      "  CPU time: 13621s, wall time: 6437s, perf_time_load: 0.19s, perf_time: 0.19s\n",
      "step 26460 / 147018 (epoch 9.00 / 50):\n",
      "  learning_rate = 1.00e-02, training loss = 3.84e-01\n",
      "  validation accuracy: 81.67 (4192 / 5133), f1 (weighted): 80.74, loss: 8.50e-01\n",
      "  CPU time: 14007s, wall time: 6621s, perf_time_load: 0.19s, perf_time: 0.19s\n",
      "step 27195 / 147018 (epoch 9.25 / 50):\n",
      "  learning_rate = 1.00e-02, training loss = 5.14e-01\n",
      "  validation accuracy: 82.23 (4221 / 5133), f1 (weighted): 81.40, loss: 8.49e-01\n",
      "  CPU time: 14391s, wall time: 6805s, perf_time_load: 0.19s, perf_time: 0.19s\n",
      "step 27930 / 147018 (epoch 9.50 / 50):\n",
      "  learning_rate = 1.00e-02, training loss = 8.75e-01\n",
      "  validation accuracy: 80.17 (4115 / 5133), f1 (weighted): 79.23, loss: 9.00e-01\n",
      "  CPU time: 14776s, wall time: 6988s, perf_time_load: 0.19s, perf_time: 0.19s\n",
      "step 28665 / 147018 (epoch 9.75 / 50):\n",
      "  learning_rate = 1.00e-02, training loss = 3.29e-01\n",
      "  validation accuracy: 81.26 (4171 / 5133), f1 (weighted): 80.58, loss: 8.62e-01\n",
      "  CPU time: 15161s, wall time: 7170s, perf_time_load: 0.19s, perf_time: 0.19s\n",
      "step 29400 / 147018 (epoch 10.00 / 50):\n",
      "  learning_rate = 1.00e-02, training loss = 3.98e-01\n",
      "  validation accuracy: 82.27 (4223 / 5133), f1 (weighted): 81.38, loss: 8.63e-01\n",
      "  CPU time: 15552s, wall time: 7354s, perf_time_load: 0.19s, perf_time: 0.19s\n",
      "step 30135 / 147018 (epoch 10.25 / 50):\n",
      "  learning_rate = 1.00e-02, training loss = 4.41e-01\n",
      "  validation accuracy: 80.97 (4156 / 5133), f1 (weighted): 80.60, loss: 8.93e-01\n",
      "  CPU time: 15939s, wall time: 7538s, perf_time_load: 0.19s, perf_time: 0.19s\n",
      "step 30870 / 147018 (epoch 10.50 / 50):\n",
      "  learning_rate = 1.00e-02, training loss = 4.48e-01\n",
      "  validation accuracy: 81.53 (4185 / 5133), f1 (weighted): 80.65, loss: 8.77e-01\n",
      "  CPU time: 16324s, wall time: 7721s, perf_time_load: 0.19s, perf_time: 0.19s\n",
      "step 31605 / 147018 (epoch 10.75 / 50):\n",
      "  learning_rate = 1.00e-02, training loss = 5.85e-01\n",
      "  validation accuracy: 80.99 (4157 / 5133), f1 (weighted): 80.00, loss: 9.02e-01\n",
      "  CPU time: 16712s, wall time: 7905s, perf_time_load: 0.19s, perf_time: 0.19s\n",
      "step 32340 / 147018 (epoch 11.00 / 50):\n",
      "  learning_rate = 1.00e-02, training loss = 4.06e-01\n",
      "  validation accuracy: 82.31 (4225 / 5133), f1 (weighted): 81.54, loss: 8.50e-01\n",
      "  CPU time: 17109s, wall time: 8088s, perf_time_load: 0.19s, perf_time: 0.19s\n",
      "step 33075 / 147018 (epoch 11.25 / 50):\n",
      "  learning_rate = 1.00e-02, training loss = 6.04e-01\n",
      "  validation accuracy: 82.02 (4210 / 5133), f1 (weighted): 81.51, loss: 8.63e-01\n",
      "  CPU time: 17492s, wall time: 8271s, perf_time_load: 0.19s, perf_time: 0.19s\n",
      "step 33810 / 147018 (epoch 11.50 / 50):\n",
      "  learning_rate = 1.00e-02, training loss = 3.82e-01\n",
      "  validation accuracy: 81.53 (4185 / 5133), f1 (weighted): 80.42, loss: 8.87e-01\n",
      "  CPU time: 17879s, wall time: 8454s, perf_time_load: 0.19s, perf_time: 0.19s\n",
      "step 34545 / 147018 (epoch 11.75 / 50):\n",
      "  learning_rate = 1.00e-02, training loss = 2.94e-01\n",
      "  validation accuracy: 81.88 (4203 / 5133), f1 (weighted): 81.31, loss: 8.79e-01\n",
      "  CPU time: 18263s, wall time: 8638s, perf_time_load: 0.19s, perf_time: 0.19s\n",
      "step 35280 / 147018 (epoch 12.00 / 50):\n",
      "  learning_rate = 1.00e-02, training loss = 3.45e-01\n",
      "  validation accuracy: 81.69 (4193 / 5133), f1 (weighted): 80.60, loss: 8.73e-01\n",
      "  CPU time: 18650s, wall time: 8821s, perf_time_load: 0.19s, perf_time: 0.19s\n",
      "step 36015 / 147018 (epoch 12.25 / 50):\n",
      "  learning_rate = 1.00e-02, training loss = 5.64e-01\n",
      "  validation accuracy: 81.53 (4185 / 5133), f1 (weighted): 80.83, loss: 8.61e-01\n",
      "  CPU time: 19025s, wall time: 9003s, perf_time_load: 0.19s, perf_time: 0.19s\n",
      "step 36750 / 147018 (epoch 12.50 / 50):\n",
      "  learning_rate = 1.00e-02, training loss = 4.45e-01\n",
      "  validation accuracy: 80.95 (4155 / 5133), f1 (weighted): 80.21, loss: 8.81e-01\n",
      "  CPU time: 19410s, wall time: 9186s, perf_time_load: 0.19s, perf_time: 0.19s\n",
      "step 37485 / 147018 (epoch 12.75 / 50):\n",
      "  learning_rate = 1.00e-02, training loss = 3.84e-01\n",
      "  validation accuracy: 82.86 (4253 / 5133), f1 (weighted): 82.10, loss: 8.73e-01\n",
      "  CPU time: 19797s, wall time: 9369s, perf_time_load: 0.19s, perf_time: 0.19s\n",
      "step 38220 / 147018 (epoch 13.00 / 50):\n",
      "  learning_rate = 1.00e-02, training loss = 3.78e-01\n",
      "  validation accuracy: 81.32 (4174 / 5133), f1 (weighted): 80.93, loss: 8.74e-01\n",
      "  CPU time: 20184s, wall time: 9553s, perf_time_load: 0.19s, perf_time: 0.19s\n",
      "step 38955 / 147018 (epoch 13.25 / 50):\n",
      "  learning_rate = 1.00e-02, training loss = 4.46e-01\n",
      "  validation accuracy: 81.86 (4202 / 5133), f1 (weighted): 81.42, loss: 8.61e-01\n",
      "  CPU time: 20562s, wall time: 9736s, perf_time_load: 0.19s, perf_time: 0.19s\n",
      "step 39690 / 147018 (epoch 13.50 / 50):\n",
      "  learning_rate = 1.00e-02, training loss = 3.01e-01\n",
      "  validation accuracy: 82.10 (4214 / 5133), f1 (weighted): 81.67, loss: 8.50e-01\n",
      "  CPU time: 20944s, wall time: 9918s, perf_time_load: 0.19s, perf_time: 0.19s\n",
      "step 40425 / 147018 (epoch 13.75 / 50):\n",
      "  learning_rate = 1.00e-02, training loss = 4.50e-01\n",
      "  validation accuracy: 82.76 (4248 / 5133), f1 (weighted): 82.02, loss: 8.58e-01\n",
      "  CPU time: 21313s, wall time: 10101s, perf_time_load: 0.19s, perf_time: 0.19s\n",
      "step 41160 / 147018 (epoch 14.00 / 50):\n",
      "  learning_rate = 1.00e-02, training loss = 4.54e-01\n",
      "  validation accuracy: 81.47 (4182 / 5133), f1 (weighted): 80.86, loss: 8.64e-01\n",
      "  CPU time: 21698s, wall time: 10283s, perf_time_load: 0.19s, perf_time: 0.19s\n",
      "step 41895 / 147018 (epoch 14.25 / 50):\n",
      "  learning_rate = 1.00e-02, training loss = 3.35e-01\n",
      "  validation accuracy: 81.24 (4170 / 5133), f1 (weighted): 80.63, loss: 8.86e-01\n",
      "  CPU time: 22080s, wall time: 10467s, perf_time_load: 0.19s, perf_time: 0.19s\n",
      "step 42630 / 147018 (epoch 14.50 / 50):\n",
      "  learning_rate = 1.00e-02, training loss = 5.56e-01\n",
      "  validation accuracy: 82.64 (4242 / 5133), f1 (weighted): 81.82, loss: 8.61e-01\n",
      "  CPU time: 22465s, wall time: 10650s, perf_time_load: 0.19s, perf_time: 0.19s\n",
      "step 43365 / 147018 (epoch 14.75 / 50):\n",
      "  learning_rate = 1.00e-02, training loss = 5.30e-01\n",
      "  validation accuracy: 80.46 (4130 / 5133), f1 (weighted): 79.25, loss: 9.07e-01\n",
      "  CPU time: 22846s, wall time: 10832s, perf_time_load: 0.19s, perf_time: 0.19s\n",
      "step 44100 / 147018 (epoch 15.00 / 50):\n",
      "  learning_rate = 1.00e-02, training loss = 4.74e-01\n",
      "  validation accuracy: 82.37 (4228 / 5133), f1 (weighted): 82.03, loss: 8.73e-01\n",
      "  CPU time: 23233s, wall time: 11016s, perf_time_load: 0.19s, perf_time: 0.19s\n",
      "step 44835 / 147018 (epoch 15.25 / 50):\n",
      "  learning_rate = 1.00e-02, training loss = 8.87e-01\n",
      "  validation accuracy: 81.10 (4163 / 5133), f1 (weighted): 80.59, loss: 9.08e-01\n",
      "  CPU time: 23614s, wall time: 11199s, perf_time_load: 0.19s, perf_time: 0.19s\n",
      "step 45570 / 147018 (epoch 15.50 / 50):\n",
      "  learning_rate = 1.00e-02, training loss = 3.29e-01\n",
      "  validation accuracy: 82.00 (4209 / 5133), f1 (weighted): 81.70, loss: 8.62e-01\n",
      "  CPU time: 23991s, wall time: 11383s, perf_time_load: 0.19s, perf_time: 0.19s\n",
      "step 46305 / 147018 (epoch 15.75 / 50):\n",
      "  learning_rate = 1.00e-02, training loss = 8.01e-01\n",
      "  validation accuracy: 81.61 (4189 / 5133), f1 (weighted): 81.20, loss: 8.84e-01\n",
      "  CPU time: 24364s, wall time: 11566s, perf_time_load: 0.19s, perf_time: 0.19s\n",
      "step 47040 / 147018 (epoch 16.00 / 50):\n",
      "  learning_rate = 1.00e-02, training loss = 4.83e-01\n",
      "  validation accuracy: 82.15 (4217 / 5133), f1 (weighted): 81.40, loss: 8.56e-01\n",
      "  CPU time: 24759s, wall time: 11749s, perf_time_load: 0.19s, perf_time: 0.19s\n",
      "step 47775 / 147018 (epoch 16.25 / 50):\n",
      "  learning_rate = 1.00e-02, training loss = 3.79e-01\n",
      "  validation accuracy: 81.69 (4193 / 5133), f1 (weighted): 81.17, loss: 8.89e-01\n",
      "  CPU time: 25094s, wall time: 11944s, perf_time_load: 0.19s, perf_time: 0.19s\n",
      "step 48510 / 147018 (epoch 16.50 / 50):\n",
      "  learning_rate = 1.00e-02, training loss = 5.43e-01\n",
      "  validation accuracy: 82.33 (4226 / 5133), f1 (weighted): 81.24, loss: 8.60e-01\n",
      "  CPU time: 25424s, wall time: 12125s, perf_time_load: 0.19s, perf_time: 0.19s\n"
     ]
    },
    {
     "name": "stdout",
     "output_type": "stream",
     "text": [
      "step 49245 / 147018 (epoch 16.75 / 50):\n",
      "  learning_rate = 1.00e-02, training loss = 3.65e-01\n",
      "  validation accuracy: 81.69 (4193 / 5133), f1 (weighted): 80.75, loss: 8.93e-01\n",
      "  CPU time: 25791s, wall time: 12307s, perf_time_load: 0.19s, perf_time: 0.19s\n",
      "step 49980 / 147018 (epoch 17.00 / 50):\n",
      "  learning_rate = 1.00e-02, training loss = 8.79e-01\n",
      "  validation accuracy: 82.14 (4216 / 5133), f1 (weighted): 81.46, loss: 8.96e-01\n",
      "  CPU time: 26152s, wall time: 12488s, perf_time_load: 0.19s, perf_time: 0.19s\n",
      "step 50715 / 147018 (epoch 17.25 / 50):\n",
      "  learning_rate = 1.00e-02, training loss = 6.17e-01\n",
      "  validation accuracy: 81.82 (4200 / 5133), f1 (weighted): 81.49, loss: 8.89e-01\n",
      "  CPU time: 26526s, wall time: 12668s, perf_time_load: 0.19s, perf_time: 0.19s\n",
      "step 51450 / 147018 (epoch 17.50 / 50):\n",
      "  learning_rate = 1.00e-02, training loss = 6.39e-01\n",
      "  validation accuracy: 82.10 (4214 / 5133), f1 (weighted): 81.14, loss: 9.04e-01\n",
      "  CPU time: 26902s, wall time: 12850s, perf_time_load: 0.19s, perf_time: 0.19s\n",
      "step 52185 / 147018 (epoch 17.75 / 50):\n",
      "  learning_rate = 1.00e-02, training loss = 4.02e-01\n",
      "  validation accuracy: 81.94 (4206 / 5133), f1 (weighted): 81.33, loss: 8.88e-01\n",
      "  CPU time: 27277s, wall time: 13032s, perf_time_load: 0.19s, perf_time: 0.19s\n",
      "step 52920 / 147018 (epoch 18.00 / 50):\n",
      "  learning_rate = 1.00e-02, training loss = 4.27e-01\n",
      "  validation accuracy: 82.08 (4213 / 5133), f1 (weighted): 81.17, loss: 9.06e-01\n",
      "  CPU time: 27642s, wall time: 13215s, perf_time_load: 0.19s, perf_time: 0.19s\n",
      "step 53655 / 147018 (epoch 18.25 / 50):\n",
      "  learning_rate = 1.00e-02, training loss = 3.27e-01\n",
      "  validation accuracy: 82.66 (4243 / 5133), f1 (weighted): 82.07, loss: 8.89e-01\n",
      "  CPU time: 28017s, wall time: 13397s, perf_time_load: 0.19s, perf_time: 0.19s\n",
      "step 54390 / 147018 (epoch 18.50 / 50):\n",
      "  learning_rate = 1.00e-02, training loss = 3.73e-01\n",
      "  validation accuracy: 83.13 (4267 / 5133), f1 (weighted): 82.48, loss: 8.69e-01\n",
      "  CPU time: 28397s, wall time: 13579s, perf_time_load: 0.19s, perf_time: 0.19s\n",
      "step 55125 / 147018 (epoch 18.75 / 50):\n",
      "  learning_rate = 1.00e-02, training loss = 5.37e-01\n",
      "  validation accuracy: 81.45 (4181 / 5133), f1 (weighted): 80.81, loss: 9.28e-01\n",
      "  CPU time: 28774s, wall time: 13761s, perf_time_load: 0.19s, perf_time: 0.19s\n",
      "step 55860 / 147018 (epoch 19.00 / 50):\n",
      "  learning_rate = 1.00e-02, training loss = 6.65e-01\n",
      "  validation accuracy: 82.52 (4236 / 5133), f1 (weighted): 81.68, loss: 8.97e-01\n",
      "  CPU time: 29148s, wall time: 13943s, perf_time_load: 0.19s, perf_time: 0.19s\n",
      "step 56595 / 147018 (epoch 19.25 / 50):\n",
      "  learning_rate = 1.00e-02, training loss = 4.04e-01\n",
      "  validation accuracy: 82.21 (4220 / 5133), f1 (weighted): 81.58, loss: 8.79e-01\n",
      "  CPU time: 29525s, wall time: 14126s, perf_time_load: 0.19s, perf_time: 0.19s\n",
      "step 57330 / 147018 (epoch 19.50 / 50):\n",
      "  learning_rate = 1.00e-02, training loss = 5.66e-01\n",
      "  validation accuracy: 82.10 (4214 / 5133), f1 (weighted): 81.87, loss: 8.90e-01\n",
      "  CPU time: 29882s, wall time: 14308s, perf_time_load: 0.19s, perf_time: 0.19s\n",
      "step 58065 / 147018 (epoch 19.75 / 50):\n",
      "  learning_rate = 1.00e-02, training loss = 6.73e-01\n",
      "  validation accuracy: 82.39 (4229 / 5133), f1 (weighted): 81.85, loss: 8.93e-01\n",
      "  CPU time: 30269s, wall time: 14489s, perf_time_load: 0.19s, perf_time: 0.19s\n",
      "step 58800 / 147018 (epoch 20.00 / 50):\n",
      "  learning_rate = 1.00e-02, training loss = 3.32e-01\n",
      "  validation accuracy: 83.01 (4261 / 5133), f1 (weighted): 82.22, loss: 8.59e-01\n",
      "  CPU time: 30662s, wall time: 14672s, perf_time_load: 0.19s, perf_time: 0.19s\n",
      "step 59535 / 147018 (epoch 20.25 / 50):\n",
      "  learning_rate = 1.00e-02, training loss = 3.79e-01\n",
      "  validation accuracy: 82.39 (4229 / 5133), f1 (weighted): 81.59, loss: 8.69e-01\n",
      "  CPU time: 31042s, wall time: 14853s, perf_time_load: 0.19s, perf_time: 0.19s\n",
      "step 60270 / 147018 (epoch 20.50 / 50):\n",
      "  learning_rate = 1.00e-02, training loss = 5.47e-01\n",
      "  validation accuracy: 82.74 (4247 / 5133), f1 (weighted): 82.06, loss: 8.79e-01\n",
      "  CPU time: 31411s, wall time: 15037s, perf_time_load: 0.19s, perf_time: 0.19s\n",
      "step 61005 / 147018 (epoch 20.75 / 50):\n",
      "  learning_rate = 1.00e-02, training loss = 3.09e-01\n",
      "  validation accuracy: 82.47 (4233 / 5133), f1 (weighted): 81.67, loss: 8.94e-01\n",
      "  CPU time: 31787s, wall time: 15218s, perf_time_load: 0.19s, perf_time: 0.19s\n",
      "step 61740 / 147018 (epoch 21.00 / 50):\n",
      "  learning_rate = 1.00e-02, training loss = 6.01e-01\n",
      "  validation accuracy: 83.09 (4265 / 5133), f1 (weighted): 82.43, loss: 8.64e-01\n",
      "  CPU time: 32171s, wall time: 15399s, perf_time_load: 0.19s, perf_time: 0.19s\n",
      "step 62475 / 147018 (epoch 21.25 / 50):\n",
      "  learning_rate = 1.00e-02, training loss = 4.52e-01\n",
      "  validation accuracy: 81.34 (4175 / 5133), f1 (weighted): 80.92, loss: 8.93e-01\n",
      "  CPU time: 32557s, wall time: 15581s, perf_time_load: 0.19s, perf_time: 0.19s\n",
      "step 63210 / 147018 (epoch 21.50 / 50):\n",
      "  learning_rate = 1.00e-02, training loss = 3.52e-01\n",
      "  validation accuracy: 81.49 (4183 / 5133), f1 (weighted): 80.68, loss: 9.01e-01\n",
      "  CPU time: 32938s, wall time: 15765s, perf_time_load: 0.19s, perf_time: 0.19s\n",
      "step 63945 / 147018 (epoch 21.75 / 50):\n",
      "  learning_rate = 1.00e-02, training loss = 6.91e-01\n",
      "  validation accuracy: 81.28 (4172 / 5133), f1 (weighted): 80.71, loss: 9.24e-01\n",
      "  CPU time: 33320s, wall time: 15947s, perf_time_load: 0.19s, perf_time: 0.19s\n",
      "step 64680 / 147018 (epoch 22.00 / 50):\n",
      "  learning_rate = 1.00e-02, training loss = 5.45e-01\n",
      "  validation accuracy: 82.17 (4218 / 5133), f1 (weighted): 81.95, loss: 8.80e-01\n",
      "  CPU time: 33677s, wall time: 16130s, perf_time_load: 0.19s, perf_time: 0.19s\n",
      "step 65415 / 147018 (epoch 22.25 / 50):\n",
      "  learning_rate = 1.00e-02, training loss = 3.91e-01\n",
      "  validation accuracy: 81.16 (4166 / 5133), f1 (weighted): 80.78, loss: 9.18e-01\n",
      "  CPU time: 34069s, wall time: 16311s, perf_time_load: 0.19s, perf_time: 0.19s\n",
      "step 66150 / 147018 (epoch 22.50 / 50):\n",
      "  learning_rate = 1.00e-02, training loss = 4.57e-01\n",
      "  validation accuracy: 81.39 (4178 / 5133), f1 (weighted): 80.51, loss: 9.52e-01\n",
      "  CPU time: 34455s, wall time: 16493s, perf_time_load: 0.19s, perf_time: 0.19s\n",
      "step 66885 / 147018 (epoch 22.75 / 50):\n",
      "  learning_rate = 1.00e-02, training loss = 4.52e-01\n",
      "  validation accuracy: 82.89 (4255 / 5133), f1 (weighted): 82.15, loss: 8.59e-01\n",
      "  CPU time: 34842s, wall time: 16677s, perf_time_load: 0.19s, perf_time: 0.19s\n",
      "step 67620 / 147018 (epoch 23.00 / 50):\n",
      "  learning_rate = 1.00e-02, training loss = 2.89e-01\n",
      "  validation accuracy: 82.10 (4214 / 5133), f1 (weighted): 81.32, loss: 9.06e-01\n",
      "  CPU time: 35210s, wall time: 16859s, perf_time_load: 0.19s, perf_time: 0.19s\n",
      "step 68355 / 147018 (epoch 23.25 / 50):\n",
      "  learning_rate = 1.00e-02, training loss = 4.50e-01\n",
      "  validation accuracy: 81.18 (4167 / 5133), f1 (weighted): 80.71, loss: 9.39e-01\n",
      "  CPU time: 35593s, wall time: 17042s, perf_time_load: 0.19s, perf_time: 0.19s\n",
      "step 69090 / 147018 (epoch 23.50 / 50):\n",
      "  learning_rate = 1.00e-02, training loss = 2.84e-01\n",
      "  validation accuracy: 82.37 (4228 / 5133), f1 (weighted): 81.67, loss: 8.99e-01\n",
      "  CPU time: 35983s, wall time: 17223s, perf_time_load: 0.19s, perf_time: 0.19s\n",
      "step 69825 / 147018 (epoch 23.75 / 50):\n",
      "  learning_rate = 1.00e-02, training loss = 5.28e-01\n",
      "  validation accuracy: 80.54 (4134 / 5133), f1 (weighted): 79.82, loss: 9.47e-01\n",
      "  CPU time: 36373s, wall time: 17405s, perf_time_load: 0.19s, perf_time: 0.19s\n",
      "step 70560 / 147018 (epoch 24.00 / 50):\n",
      "  learning_rate = 1.00e-02, training loss = 2.97e-01\n",
      "  validation accuracy: 82.15 (4217 / 5133), f1 (weighted): 81.85, loss: 8.86e-01\n",
      "  CPU time: 36755s, wall time: 17588s, perf_time_load: 0.19s, perf_time: 0.19s\n",
      "step 71295 / 147018 (epoch 24.25 / 50):\n",
      "  learning_rate = 1.00e-02, training loss = 4.00e-01\n",
      "  validation accuracy: 82.39 (4229 / 5133), f1 (weighted): 82.04, loss: 8.99e-01\n",
      "  CPU time: 37139s, wall time: 17770s, perf_time_load: 0.19s, perf_time: 0.19s\n",
      "step 72030 / 147018 (epoch 24.50 / 50):\n",
      "  learning_rate = 1.00e-02, training loss = 4.64e-01\n",
      "  validation accuracy: 82.62 (4241 / 5133), f1 (weighted): 82.29, loss: 8.84e-01\n",
      "  CPU time: 37500s, wall time: 17952s, perf_time_load: 0.19s, perf_time: 0.19s\n",
      "step 72765 / 147018 (epoch 24.75 / 50):\n",
      "  learning_rate = 1.00e-02, training loss = 6.15e-01\n",
      "  validation accuracy: 81.71 (4194 / 5133), f1 (weighted): 80.86, loss: 9.38e-01\n",
      "  CPU time: 37895s, wall time: 18135s, perf_time_load: 0.19s, perf_time: 0.19s\n"
     ]
    },
    {
     "name": "stdout",
     "output_type": "stream",
     "text": [
      "step 73500 / 147018 (epoch 25.00 / 50):\n",
      "  learning_rate = 1.00e-02, training loss = 3.11e-01\n",
      "  validation accuracy: 81.96 (4207 / 5133), f1 (weighted): 81.49, loss: 9.13e-01\n",
      "  CPU time: 38290s, wall time: 18317s, perf_time_load: 0.19s, perf_time: 0.19s\n",
      "step 74235 / 147018 (epoch 25.25 / 50):\n",
      "  learning_rate = 1.00e-02, training loss = 3.72e-01\n",
      "  validation accuracy: 82.47 (4233 / 5133), f1 (weighted): 81.72, loss: 9.00e-01\n",
      "  CPU time: 38672s, wall time: 18499s, perf_time_load: 0.19s, perf_time: 0.19s\n",
      "step 74970 / 147018 (epoch 25.50 / 50):\n",
      "  learning_rate = 1.00e-02, training loss = 6.49e-01\n",
      "  validation accuracy: 83.11 (4266 / 5133), f1 (weighted): 82.40, loss: 8.75e-01\n",
      "  CPU time: 39018s, wall time: 18681s, perf_time_load: 0.19s, perf_time: 0.19s\n",
      "step 75705 / 147018 (epoch 25.75 / 50):\n",
      "  learning_rate = 1.00e-02, training loss = 4.78e-01\n",
      "  validation accuracy: 83.11 (4266 / 5133), f1 (weighted): 82.62, loss: 8.73e-01\n",
      "  CPU time: 39384s, wall time: 18863s, perf_time_load: 0.19s, perf_time: 0.19s\n",
      "step 76440 / 147018 (epoch 26.00 / 50):\n",
      "  learning_rate = 1.00e-02, training loss = 4.26e-01\n",
      "  validation accuracy: 81.67 (4192 / 5133), f1 (weighted): 80.67, loss: 9.41e-01\n",
      "  CPU time: 39748s, wall time: 19044s, perf_time_load: 0.19s, perf_time: 0.19s\n",
      "step 77175 / 147018 (epoch 26.25 / 50):\n",
      "  learning_rate = 1.00e-02, training loss = 3.50e-01\n",
      "  validation accuracy: 81.71 (4194 / 5133), f1 (weighted): 81.16, loss: 9.32e-01\n",
      "  CPU time: 40116s, wall time: 19226s, perf_time_load: 0.19s, perf_time: 0.19s\n",
      "step 77910 / 147018 (epoch 26.50 / 50):\n",
      "  learning_rate = 1.00e-02, training loss = 3.01e-01\n",
      "  validation accuracy: 81.06 (4161 / 5133), f1 (weighted): 80.12, loss: 9.30e-01\n",
      "  CPU time: 40493s, wall time: 19408s, perf_time_load: 0.19s, perf_time: 0.19s\n",
      "step 78645 / 147018 (epoch 26.75 / 50):\n",
      "  learning_rate = 1.00e-02, training loss = 5.92e-01\n",
      "  validation accuracy: 82.08 (4213 / 5133), f1 (weighted): 81.51, loss: 8.90e-01\n",
      "  CPU time: 40864s, wall time: 19590s, perf_time_load: 0.19s, perf_time: 0.19s\n",
      "step 79380 / 147018 (epoch 27.00 / 50):\n",
      "  learning_rate = 1.00e-02, training loss = 5.70e-01\n",
      "  validation accuracy: 81.65 (4191 / 5133), f1 (weighted): 81.40, loss: 9.00e-01\n",
      "  CPU time: 41199s, wall time: 19771s, perf_time_load: 0.19s, perf_time: 0.19s\n",
      "step 80115 / 147018 (epoch 27.25 / 50):\n",
      "  learning_rate = 1.00e-02, training loss = 3.93e-01\n",
      "  validation accuracy: 82.99 (4260 / 5133), f1 (weighted): 82.69, loss: 8.75e-01\n",
      "  CPU time: 41573s, wall time: 19952s, perf_time_load: 0.19s, perf_time: 0.19s\n",
      "step 80850 / 147018 (epoch 27.50 / 50):\n",
      "  learning_rate = 1.00e-02, training loss = 6.06e-01\n",
      "  validation accuracy: 81.84 (4201 / 5133), f1 (weighted): 81.50, loss: 9.18e-01\n",
      "  CPU time: 41950s, wall time: 20134s, perf_time_load: 0.19s, perf_time: 0.19s\n",
      "step 81585 / 147018 (epoch 27.75 / 50):\n",
      "  learning_rate = 1.00e-02, training loss = 6.04e-01\n",
      "  validation accuracy: 81.57 (4187 / 5133), f1 (weighted): 81.13, loss: 9.03e-01\n",
      "  CPU time: 42318s, wall time: 20315s, perf_time_load: 0.19s, perf_time: 0.19s\n",
      "step 82320 / 147018 (epoch 28.00 / 50):\n",
      "  learning_rate = 1.00e-02, training loss = 3.64e-01\n",
      "  validation accuracy: 83.25 (4273 / 5133), f1 (weighted): 82.88, loss: 8.66e-01\n",
      "  CPU time: 42665s, wall time: 20497s, perf_time_load: 0.19s, perf_time: 0.19s\n",
      "step 83055 / 147018 (epoch 28.25 / 50):\n",
      "  learning_rate = 1.00e-02, training loss = 3.56e-01\n",
      "  validation accuracy: 82.51 (4235 / 5133), f1 (weighted): 81.57, loss: 9.07e-01\n",
      "  CPU time: 43031s, wall time: 20677s, perf_time_load: 0.19s, perf_time: 0.19s\n",
      "step 83790 / 147018 (epoch 28.50 / 50):\n",
      "  learning_rate = 1.00e-02, training loss = 3.27e-01\n",
      "  validation accuracy: 81.82 (4200 / 5133), f1 (weighted): 81.51, loss: 9.20e-01\n",
      "  CPU time: 43310s, wall time: 20864s, perf_time_load: 0.19s, perf_time: 0.19s\n",
      "step 84525 / 147018 (epoch 28.75 / 50):\n",
      "  learning_rate = 1.00e-02, training loss = 8.89e-01\n",
      "  validation accuracy: 81.92 (4205 / 5133), f1 (weighted): 81.23, loss: 9.26e-01\n",
      "  CPU time: 43636s, wall time: 21047s, perf_time_load: 0.19s, perf_time: 0.19s\n",
      "step 85260 / 147018 (epoch 29.00 / 50):\n",
      "  learning_rate = 1.00e-02, training loss = 6.18e-01\n",
      "  validation accuracy: 82.23 (4221 / 5133), f1 (weighted): 81.76, loss: 9.07e-01\n",
      "  CPU time: 43992s, wall time: 21227s, perf_time_load: 0.19s, perf_time: 0.19s\n",
      "step 85995 / 147018 (epoch 29.25 / 50):\n",
      "  learning_rate = 1.00e-02, training loss = 2.97e-01\n",
      "  validation accuracy: 82.35 (4227 / 5133), f1 (weighted): 81.61, loss: 9.12e-01\n",
      "  CPU time: 44329s, wall time: 21408s, perf_time_load: 0.19s, perf_time: 0.19s\n",
      "step 86730 / 147018 (epoch 29.50 / 50):\n",
      "  learning_rate = 1.00e-02, training loss = 2.99e-01\n",
      "  validation accuracy: 82.37 (4228 / 5133), f1 (weighted): 81.81, loss: 9.15e-01\n",
      "  CPU time: 44636s, wall time: 21588s, perf_time_load: 0.19s, perf_time: 0.19s\n",
      "step 87465 / 147018 (epoch 29.75 / 50):\n",
      "  learning_rate = 1.00e-02, training loss = 2.94e-01\n",
      "  validation accuracy: 82.66 (4243 / 5133), f1 (weighted): 82.50, loss: 8.90e-01\n",
      "  CPU time: 45054s, wall time: 21811s, perf_time_load: 0.22s, perf_time: 0.22s\n",
      "step 88200 / 147018 (epoch 30.00 / 50):\n",
      "  learning_rate = 1.00e-02, training loss = 3.78e-01\n",
      "  validation accuracy: 82.10 (4214 / 5133), f1 (weighted): 81.47, loss: 9.25e-01\n",
      "  CPU time: 45491s, wall time: 22020s, perf_time_load: 0.20s, perf_time: 0.20s\n",
      "step 88935 / 147018 (epoch 30.25 / 50):\n",
      "  learning_rate = 1.00e-02, training loss = 3.38e-01\n",
      "  validation accuracy: 82.91 (4256 / 5133), f1 (weighted): 82.28, loss: 9.09e-01\n",
      "  CPU time: 45857s, wall time: 22221s, perf_time_load: 0.20s, perf_time: 0.20s\n",
      "step 89670 / 147018 (epoch 30.50 / 50):\n",
      "  learning_rate = 1.00e-02, training loss = 5.88e-01\n",
      "  validation accuracy: 82.25 (4222 / 5133), f1 (weighted): 81.69, loss: 8.99e-01\n",
      "  CPU time: 46217s, wall time: 22410s, perf_time_load: 0.19s, perf_time: 0.19s\n",
      "step 90405 / 147018 (epoch 30.75 / 50):\n",
      "  learning_rate = 1.00e-02, training loss = 4.32e-01\n",
      "  validation accuracy: 82.91 (4256 / 5133), f1 (weighted): 82.39, loss: 9.43e-01\n",
      "  CPU time: 46551s, wall time: 22589s, perf_time_load: 0.19s, perf_time: 0.19s\n",
      "step 91140 / 147018 (epoch 31.00 / 50):\n",
      "  learning_rate = 1.00e-02, training loss = 4.10e-01\n",
      "  validation accuracy: 81.75 (4196 / 5133), f1 (weighted): 80.99, loss: 9.58e-01\n",
      "  CPU time: 46854s, wall time: 22767s, perf_time_load: 0.19s, perf_time: 0.19s\n",
      "step 91875 / 147018 (epoch 31.25 / 50):\n",
      "  learning_rate = 1.00e-02, training loss = 2.55e-01\n",
      "  validation accuracy: 82.43 (4231 / 5133), f1 (weighted): 81.90, loss: 8.91e-01\n",
      "  CPU time: 47201s, wall time: 22942s, perf_time_load: 0.19s, perf_time: 0.19s\n",
      "step 92610 / 147018 (epoch 31.50 / 50):\n",
      "  learning_rate = 1.00e-02, training loss = 2.39e-01\n",
      "  validation accuracy: 82.78 (4249 / 5133), f1 (weighted): 82.02, loss: 9.00e-01\n",
      "  CPU time: 47553s, wall time: 23121s, perf_time_load: 0.19s, perf_time: 0.19s\n",
      "step 93345 / 147018 (epoch 31.75 / 50):\n",
      "  learning_rate = 1.00e-02, training loss = 7.00e-01\n",
      "  validation accuracy: 82.51 (4235 / 5133), f1 (weighted): 81.87, loss: 9.05e-01\n",
      "  CPU time: 47916s, wall time: 23331s, perf_time_load: 0.19s, perf_time: 0.19s\n",
      "step 94080 / 147018 (epoch 32.00 / 50):\n",
      "  learning_rate = 1.00e-02, training loss = 3.81e-01\n",
      "  validation accuracy: 81.80 (4199 / 5133), f1 (weighted): 81.34, loss: 9.18e-01\n",
      "  CPU time: 48348s, wall time: 23558s, perf_time_load: 0.20s, perf_time: 0.20s\n",
      "step 94815 / 147018 (epoch 32.25 / 50):\n",
      "  learning_rate = 1.00e-02, training loss = 4.67e-01\n",
      "  validation accuracy: 81.98 (4208 / 5133), f1 (weighted): 81.70, loss: 9.27e-01\n",
      "  CPU time: 48792s, wall time: 23788s, perf_time_load: 0.21s, perf_time: 0.21s\n",
      "step 95550 / 147018 (epoch 32.50 / 50):\n",
      "  learning_rate = 1.00e-02, training loss = 4.73e-01\n",
      "  validation accuracy: 82.27 (4223 / 5133), f1 (weighted): 81.84, loss: 9.09e-01\n",
      "  CPU time: 49287s, wall time: 23992s, perf_time_load: 0.21s, perf_time: 0.21s\n",
      "step 96285 / 147018 (epoch 32.75 / 50):\n",
      "  learning_rate = 1.00e-02, training loss = 6.58e-01\n",
      "  validation accuracy: 83.07 (4264 / 5133), f1 (weighted): 82.33, loss: 9.08e-01\n",
      "  CPU time: 49633s, wall time: 24171s, perf_time_load: 0.19s, perf_time: 0.19s\n",
      "step 97020 / 147018 (epoch 33.00 / 50):\n",
      "  learning_rate = 1.00e-02, training loss = 3.18e-01\n",
      "  validation accuracy: 82.80 (4250 / 5133), f1 (weighted): 82.21, loss: 8.95e-01\n",
      "  CPU time: 49977s, wall time: 24351s, perf_time_load: 0.19s, perf_time: 0.19s\n"
     ]
    },
    {
     "name": "stdout",
     "output_type": "stream",
     "text": [
      "step 97755 / 147018 (epoch 33.25 / 50):\n",
      "  learning_rate = 1.00e-02, training loss = 3.27e-01\n",
      "  validation accuracy: 82.00 (4209 / 5133), f1 (weighted): 81.20, loss: 9.46e-01\n",
      "  CPU time: 50318s, wall time: 24531s, perf_time_load: 0.19s, perf_time: 0.19s\n",
      "step 98490 / 147018 (epoch 33.50 / 50):\n",
      "  learning_rate = 1.00e-02, training loss = 4.61e-01\n",
      "  validation accuracy: 81.14 (4165 / 5133), f1 (weighted): 80.21, loss: 9.68e-01\n",
      "  CPU time: 50632s, wall time: 24712s, perf_time_load: 0.19s, perf_time: 0.19s\n",
      "step 99225 / 147018 (epoch 33.75 / 50):\n",
      "  learning_rate = 1.00e-02, training loss = 4.23e-01\n",
      "  validation accuracy: 81.82 (4200 / 5133), f1 (weighted): 81.31, loss: 9.33e-01\n",
      "  CPU time: 50979s, wall time: 24895s, perf_time_load: 0.19s, perf_time: 0.19s\n",
      "step 99960 / 147018 (epoch 34.00 / 50):\n",
      "  learning_rate = 1.00e-02, training loss = 2.93e-01\n"
     ]
    },
    {
     "ename": "KeyboardInterrupt",
     "evalue": "",
     "output_type": "error",
     "traceback": [
      "\u001b[0;31m---------------------------------------------------------------------------\u001b[0m",
      "\u001b[0;31mKeyboardInterrupt\u001b[0m                         Traceback (most recent call last)",
      "\u001b[0;32m<ipython-input-16-9416646c45b5>\u001b[0m in \u001b[0;36m<module>\u001b[0;34m()\u001b[0m\n\u001b[0;32m----> 1\u001b[0;31m \u001b[0maccuracy_validation\u001b[0m\u001b[0;34m,\u001b[0m \u001b[0mloss_validation\u001b[0m\u001b[0;34m,\u001b[0m \u001b[0mloss_training\u001b[0m\u001b[0;34m,\u001b[0m \u001b[0mt_step\u001b[0m \u001b[0;34m=\u001b[0m \u001b[0mmodel\u001b[0m\u001b[0;34m.\u001b[0m\u001b[0mfit\u001b[0m\u001b[0;34m(\u001b[0m\u001b[0mtrain_TFDataset\u001b[0m\u001b[0;34m,\u001b[0m \u001b[0mval_dataset\u001b[0m\u001b[0;34m,\u001b[0m \u001b[0muse_tf_dataset\u001b[0m\u001b[0;34m=\u001b[0m\u001b[0;32mTrue\u001b[0m\u001b[0;34m,\u001b[0m \u001b[0mcache\u001b[0m\u001b[0;34m=\u001b[0m\u001b[0;32mTrue\u001b[0m\u001b[0;34m)\u001b[0m\u001b[0;34m\u001b[0m\u001b[0;34m\u001b[0m\u001b[0m\n\u001b[0m",
      "\u001b[0;32m/mnt/scratch/students/gusset/DeepSphere/deepsphere/models.py\u001b[0m in \u001b[0;36mfit\u001b[0;34m(self, train_dataset, val_dataset, use_tf_dataset, verbose, cache)\u001b[0m\n\u001b[1;32m    286\u001b[0m                 \u001b[0mlosses_training\u001b[0m\u001b[0;34m.\u001b[0m\u001b[0mappend\u001b[0m\u001b[0;34m(\u001b[0m\u001b[0mloss\u001b[0m\u001b[0;34m)\u001b[0m\u001b[0;34m\u001b[0m\u001b[0;34m\u001b[0m\u001b[0m\n\u001b[1;32m    287\u001b[0m                 \u001b[0;32mif\u001b[0m \u001b[0mcache\u001b[0m\u001b[0;34m:\u001b[0m\u001b[0;34m\u001b[0m\u001b[0;34m\u001b[0m\u001b[0m\n\u001b[0;32m--> 288\u001b[0;31m                     \u001b[0mstring\u001b[0m\u001b[0;34m,\u001b[0m \u001b[0maccuracy\u001b[0m\u001b[0;34m,\u001b[0m \u001b[0mf1\u001b[0m\u001b[0;34m,\u001b[0m \u001b[0mloss\u001b[0m \u001b[0;34m=\u001b[0m \u001b[0mself\u001b[0m\u001b[0;34m.\u001b[0m\u001b[0mevaluate\u001b[0m\u001b[0;34m(\u001b[0m\u001b[0mval_dataset\u001b[0m\u001b[0;34m,\u001b[0m \u001b[0;32mNone\u001b[0m\u001b[0;34m,\u001b[0m \u001b[0msess\u001b[0m\u001b[0;34m,\u001b[0m \u001b[0mcache\u001b[0m\u001b[0;34m=\u001b[0m\u001b[0mcache\u001b[0m\u001b[0;34m)\u001b[0m\u001b[0;34m\u001b[0m\u001b[0;34m\u001b[0m\u001b[0m\n\u001b[0m\u001b[1;32m    289\u001b[0m                 \u001b[0;32melse\u001b[0m\u001b[0;34m:\u001b[0m\u001b[0;34m\u001b[0m\u001b[0;34m\u001b[0m\u001b[0m\n\u001b[1;32m    290\u001b[0m                     \u001b[0mstring\u001b[0m\u001b[0;34m,\u001b[0m \u001b[0maccuracy\u001b[0m\u001b[0;34m,\u001b[0m \u001b[0mf1\u001b[0m\u001b[0;34m,\u001b[0m \u001b[0mloss\u001b[0m \u001b[0;34m=\u001b[0m \u001b[0mself\u001b[0m\u001b[0;34m.\u001b[0m\u001b[0mevaluate\u001b[0m\u001b[0;34m(\u001b[0m\u001b[0mval_data\u001b[0m\u001b[0;34m,\u001b[0m \u001b[0mval_labels\u001b[0m\u001b[0;34m,\u001b[0m \u001b[0msess\u001b[0m\u001b[0;34m)\u001b[0m\u001b[0;34m\u001b[0m\u001b[0;34m\u001b[0m\u001b[0m\n",
      "\u001b[0;32m/mnt/scratch/students/gusset/DeepSphere/deepsphere/models.py\u001b[0m in \u001b[0;36mevaluate\u001b[0;34m(self, data, labels, sess, cache)\u001b[0m\n\u001b[1;32m    201\u001b[0m             \u001b[0mpredictions\u001b[0m\u001b[0;34m,\u001b[0m \u001b[0mlabels\u001b[0m\u001b[0;34m,\u001b[0m \u001b[0mloss\u001b[0m \u001b[0;34m=\u001b[0m \u001b[0mself\u001b[0m\u001b[0;34m.\u001b[0m\u001b[0mpredict\u001b[0m\u001b[0;34m(\u001b[0m\u001b[0mdata\u001b[0m\u001b[0;34m,\u001b[0m \u001b[0mlabels\u001b[0m\u001b[0;34m,\u001b[0m \u001b[0msess\u001b[0m\u001b[0;34m,\u001b[0m \u001b[0mcache\u001b[0m\u001b[0;34m=\u001b[0m\u001b[0mcache\u001b[0m\u001b[0;34m)\u001b[0m\u001b[0;34m\u001b[0m\u001b[0;34m\u001b[0m\u001b[0m\n\u001b[1;32m    202\u001b[0m         \u001b[0;32melse\u001b[0m\u001b[0;34m:\u001b[0m\u001b[0;34m\u001b[0m\u001b[0;34m\u001b[0m\u001b[0m\n\u001b[0;32m--> 203\u001b[0;31m             \u001b[0mpredictions\u001b[0m\u001b[0;34m,\u001b[0m \u001b[0mloss\u001b[0m \u001b[0;34m=\u001b[0m \u001b[0mself\u001b[0m\u001b[0;34m.\u001b[0m\u001b[0mpredict\u001b[0m\u001b[0;34m(\u001b[0m\u001b[0mdata\u001b[0m\u001b[0;34m,\u001b[0m \u001b[0mlabels\u001b[0m\u001b[0;34m,\u001b[0m \u001b[0msess\u001b[0m\u001b[0;34m,\u001b[0m \u001b[0mcache\u001b[0m\u001b[0;34m=\u001b[0m\u001b[0mcache\u001b[0m\u001b[0;34m)\u001b[0m\u001b[0;34m\u001b[0m\u001b[0;34m\u001b[0m\u001b[0m\n\u001b[0m\u001b[1;32m    204\u001b[0m             \u001b[0;32mif\u001b[0m \u001b[0mcache\u001b[0m\u001b[0;34m:\u001b[0m\u001b[0;34m\u001b[0m\u001b[0;34m\u001b[0m\u001b[0m\n\u001b[1;32m    205\u001b[0m                 \u001b[0mlabels\u001b[0m \u001b[0;34m=\u001b[0m \u001b[0mdata\u001b[0m\u001b[0;34m.\u001b[0m\u001b[0mget_labels\u001b[0m\u001b[0;34m(\u001b[0m\u001b[0;34m)\u001b[0m\u001b[0;34m\u001b[0m\u001b[0;34m\u001b[0m\u001b[0m\n",
      "\u001b[0;32m/mnt/scratch/students/gusset/DeepSphere/deepsphere/models.py\u001b[0m in \u001b[0;36mpredict\u001b[0;34m(self, data, labels, sess, cache)\u001b[0m\n\u001b[1;32m     94\u001b[0m                     \u001b[0mlabel\u001b[0m\u001b[0;34m[\u001b[0m\u001b[0mbegin\u001b[0m\u001b[0;34m:\u001b[0m\u001b[0mend\u001b[0m\u001b[0;34m]\u001b[0m \u001b[0;34m=\u001b[0m \u001b[0mnp\u001b[0m\u001b[0;34m.\u001b[0m\u001b[0masarray\u001b[0m\u001b[0;34m(\u001b[0m\u001b[0mbatch_labels\u001b[0m\u001b[0;34m)\u001b[0m\u001b[0;34m\u001b[0m\u001b[0;34m\u001b[0m\u001b[0m\n\u001b[1;32m     95\u001b[0m                 \u001b[0;32melse\u001b[0m\u001b[0;34m:\u001b[0m\u001b[0;34m\u001b[0m\u001b[0;34m\u001b[0m\u001b[0m\n\u001b[0;32m---> 96\u001b[0;31m                     \u001b[0mbatch_data\u001b[0m\u001b[0;34m,\u001b[0m \u001b[0mbatch_labels\u001b[0m \u001b[0;34m=\u001b[0m \u001b[0mnext\u001b[0m\u001b[0;34m(\u001b[0m\u001b[0mdata_iter\u001b[0m\u001b[0;34m)\u001b[0m\u001b[0;34m\u001b[0m\u001b[0;34m\u001b[0m\u001b[0m\n\u001b[0m\u001b[1;32m     97\u001b[0m                 \u001b[0;32mif\u001b[0m \u001b[0mtype\u001b[0m\u001b[0;34m(\u001b[0m\u001b[0mbatch_data\u001b[0m\u001b[0;34m)\u001b[0m \u001b[0;32mis\u001b[0m \u001b[0;32mnot\u001b[0m \u001b[0mnp\u001b[0m\u001b[0;34m.\u001b[0m\u001b[0mndarray\u001b[0m\u001b[0;34m:\u001b[0m\u001b[0;34m\u001b[0m\u001b[0;34m\u001b[0m\u001b[0m\n\u001b[1;32m     98\u001b[0m                     \u001b[0mbatch_data\u001b[0m \u001b[0;34m=\u001b[0m \u001b[0mbatch_data\u001b[0m\u001b[0;34m.\u001b[0m\u001b[0mtoarray\u001b[0m\u001b[0;34m(\u001b[0m\u001b[0;34m)\u001b[0m  \u001b[0;31m# convert sparse matrices\u001b[0m\u001b[0;34m\u001b[0m\u001b[0;34m\u001b[0m\u001b[0m\n",
      "\u001b[0;32m/mnt/scratch/students/gusset/DeepSphere/SHREC17/load_shrec.py\u001b[0m in \u001b[0;36m__iter__\u001b[0;34m(self, batch_size)\u001b[0m\n\u001b[1;32m    726\u001b[0m \u001b[0;34m\u001b[0m\u001b[0m\n\u001b[1;32m    727\u001b[0m     \u001b[0;32mdef\u001b[0m \u001b[0m__iter__\u001b[0m\u001b[0;34m(\u001b[0m\u001b[0mself\u001b[0m\u001b[0;34m,\u001b[0m \u001b[0mbatch_size\u001b[0m\u001b[0;34m)\u001b[0m\u001b[0;34m:\u001b[0m\u001b[0;34m\u001b[0m\u001b[0;34m\u001b[0m\u001b[0m\n\u001b[0;32m--> 728\u001b[0;31m         \u001b[0;31m#np.random.seed(42)\u001b[0m\u001b[0;34m\u001b[0m\u001b[0;34m\u001b[0m\u001b[0;34m\u001b[0m\u001b[0m\n\u001b[0m\u001b[1;32m    729\u001b[0m         \u001b[0;32mif\u001b[0m \u001b[0mself\u001b[0m\u001b[0;34m.\u001b[0m\u001b[0mdataset\u001b[0m \u001b[0;32mis\u001b[0m \u001b[0;34m'train'\u001b[0m\u001b[0;34m:\u001b[0m\u001b[0;34m\u001b[0m\u001b[0;34m\u001b[0m\u001b[0m\n\u001b[1;32m    730\u001b[0m             \u001b[0mself\u001b[0m\u001b[0;34m.\u001b[0m\u001b[0m_p\u001b[0m \u001b[0;34m=\u001b[0m \u001b[0mnp\u001b[0m\u001b[0;34m.\u001b[0m\u001b[0mrandom\u001b[0m\u001b[0;34m.\u001b[0m\u001b[0mpermutation\u001b[0m\u001b[0;34m(\u001b[0m\u001b[0mself\u001b[0m\u001b[0;34m.\u001b[0m\u001b[0mN\u001b[0m\u001b[0;34m)\u001b[0m\u001b[0;34m\u001b[0m\u001b[0;34m\u001b[0m\u001b[0m\n",
      "\u001b[0;32m/mnt/scratch/students/gusset/DeepSphere/SHREC17/load_shrec.py\u001b[0m in \u001b[0;36mget_item\u001b[0;34m(self, p)\u001b[0m\n\u001b[1;32m    744\u001b[0m             \u001b[0mdata\u001b[0m\u001b[0;34m,\u001b[0m \u001b[0mlabel\u001b[0m \u001b[0;34m=\u001b[0m \u001b[0mself\u001b[0m\u001b[0;34m.\u001b[0m\u001b[0mget_item\u001b[0m\u001b[0;34m(\u001b[0m\u001b[0mp\u001b[0m\u001b[0;34m)\u001b[0m\u001b[0;34m\u001b[0m\u001b[0;34m\u001b[0m\u001b[0m\n\u001b[1;32m    745\u001b[0m             \u001b[0mdata\u001b[0m\u001b[0;34m,\u001b[0m \u001b[0mlabel\u001b[0m \u001b[0;34m=\u001b[0m \u001b[0mnp\u001b[0m\u001b[0;34m.\u001b[0m\u001b[0marray\u001b[0m\u001b[0;34m(\u001b[0m\u001b[0mdata\u001b[0m\u001b[0;34m)\u001b[0m\u001b[0;34m,\u001b[0m \u001b[0mnp\u001b[0m\u001b[0;34m.\u001b[0m\u001b[0marray\u001b[0m\u001b[0;34m(\u001b[0m\u001b[0mlabel\u001b[0m\u001b[0;34m)\u001b[0m\u001b[0;34m\u001b[0m\u001b[0;34m\u001b[0m\u001b[0m\n\u001b[0;32m--> 746\u001b[0;31m             \u001b[0;32mif\u001b[0m \u001b[0;32mnot\u001b[0m \u001b[0mself\u001b[0m\u001b[0;34m.\u001b[0m\u001b[0mloaded\u001b[0m\u001b[0;34m:\u001b[0m\u001b[0;34m\u001b[0m\u001b[0;34m\u001b[0m\u001b[0m\n\u001b[0m\u001b[1;32m    747\u001b[0m                 \u001b[0mself\u001b[0m\u001b[0;34m.\u001b[0m\u001b[0mstd\u001b[0m \u001b[0;34m=\u001b[0m \u001b[0mnp\u001b[0m\u001b[0;34m.\u001b[0m\u001b[0mstd\u001b[0m\u001b[0;34m(\u001b[0m\u001b[0mdata\u001b[0m\u001b[0;34m[\u001b[0m\u001b[0;34m:\u001b[0m\u001b[0;34m:\u001b[0m\u001b[0;36m1\u001b[0m\u001b[0;34m,\u001b[0m\u001b[0;34m:\u001b[0m\u001b[0;34m,\u001b[0m\u001b[0;34m:\u001b[0m\u001b[0;34m]\u001b[0m\u001b[0;34m,\u001b[0m \u001b[0maxis\u001b[0m\u001b[0;34m=\u001b[0m\u001b[0;34m(\u001b[0m\u001b[0;36m0\u001b[0m\u001b[0;34m,\u001b[0m \u001b[0;36m1\u001b[0m\u001b[0;34m)\u001b[0m\u001b[0;34m)\u001b[0m\u001b[0;34m\u001b[0m\u001b[0;34m\u001b[0m\u001b[0m\n\u001b[1;32m    748\u001b[0m                 \u001b[0mself\u001b[0m\u001b[0;34m.\u001b[0m\u001b[0mmean\u001b[0m \u001b[0;34m=\u001b[0m \u001b[0mnp\u001b[0m\u001b[0;34m.\u001b[0m\u001b[0mmean\u001b[0m\u001b[0;34m(\u001b[0m\u001b[0mdata\u001b[0m\u001b[0;34m[\u001b[0m\u001b[0;34m:\u001b[0m\u001b[0;34m:\u001b[0m\u001b[0;36m1\u001b[0m\u001b[0;34m,\u001b[0m\u001b[0;34m:\u001b[0m\u001b[0;34m,\u001b[0m\u001b[0;34m:\u001b[0m\u001b[0;34m]\u001b[0m\u001b[0;34m,\u001b[0m \u001b[0maxis\u001b[0m\u001b[0;34m=\u001b[0m\u001b[0;34m(\u001b[0m\u001b[0;36m0\u001b[0m\u001b[0;34m,\u001b[0m \u001b[0;36m1\u001b[0m\u001b[0;34m)\u001b[0m\u001b[0;34m)\u001b[0m\u001b[0;34m\u001b[0m\u001b[0;34m\u001b[0m\u001b[0m\n",
      "\u001b[0;32m/mnt/scratch/students/gusset/DeepSphere/SHREC17/load_shrec.py\u001b[0m in \u001b[0;36mcache_npy\u001b[0;34m(self, file_path, pick_randomly, repeat, experiment)\u001b[0m\n\u001b[1;32m    786\u001b[0m             \u001b[0mnpy_path\u001b[0m \u001b[0;34m=\u001b[0m \u001b[0mos\u001b[0m\u001b[0;34m.\u001b[0m\u001b[0mpath\u001b[0m\u001b[0;34m.\u001b[0m\u001b[0mjoin\u001b[0m\u001b[0;34m(\u001b[0m\u001b[0mhead\u001b[0m\u001b[0;34m,\u001b[0m \u001b[0mprefix\u001b[0m \u001b[0;34m+\u001b[0m \u001b[0mroot\u001b[0m \u001b[0;34m+\u001b[0m \u001b[0;34m'_{0}.npy'\u001b[0m\u001b[0;34m)\u001b[0m\u001b[0;34m\u001b[0m\u001b[0;34m\u001b[0m\u001b[0m\n\u001b[1;32m    787\u001b[0m \u001b[0;34m\u001b[0m\u001b[0m\n\u001b[0;32m--> 788\u001b[0;31m         \u001b[0mexists\u001b[0m \u001b[0;34m=\u001b[0m \u001b[0;34m[\u001b[0m\u001b[0mos\u001b[0m\u001b[0;34m.\u001b[0m\u001b[0mpath\u001b[0m\u001b[0;34m.\u001b[0m\u001b[0mexists\u001b[0m\u001b[0;34m(\u001b[0m\u001b[0mnpy_path\u001b[0m\u001b[0;34m.\u001b[0m\u001b[0mformat\u001b[0m\u001b[0;34m(\u001b[0m\u001b[0mi\u001b[0m\u001b[0;34m)\u001b[0m\u001b[0;34m)\u001b[0m \u001b[0;32mfor\u001b[0m \u001b[0mi\u001b[0m \u001b[0;32min\u001b[0m \u001b[0mrange\u001b[0m\u001b[0;34m(\u001b[0m\u001b[0mrepeat\u001b[0m\u001b[0;34m)\u001b[0m\u001b[0;34m]\u001b[0m\u001b[0;34m\u001b[0m\u001b[0;34m\u001b[0m\u001b[0m\n\u001b[0m\u001b[1;32m    789\u001b[0m \u001b[0;34m\u001b[0m\u001b[0m\n\u001b[1;32m    790\u001b[0m         \u001b[0;32mif\u001b[0m \u001b[0mpick_randomly\u001b[0m \u001b[0;32mand\u001b[0m \u001b[0mall\u001b[0m\u001b[0;34m(\u001b[0m\u001b[0mexists\u001b[0m\u001b[0;34m)\u001b[0m\u001b[0;34m:\u001b[0m\u001b[0;34m\u001b[0m\u001b[0;34m\u001b[0m\u001b[0m\n",
      "\u001b[0;32m~/miniconda3/envs/PDMsphere/lib/python3.6/site-packages/numpy/lib/npyio.py\u001b[0m in \u001b[0;36mload\u001b[0;34m(file, mmap_mode, allow_pickle, fix_imports, encoding)\u001b[0m\n\u001b[1;32m    432\u001b[0m     \u001b[0;32mfinally\u001b[0m\u001b[0;34m:\u001b[0m\u001b[0;34m\u001b[0m\u001b[0;34m\u001b[0m\u001b[0m\n\u001b[1;32m    433\u001b[0m         \u001b[0;32mif\u001b[0m \u001b[0mown_fid\u001b[0m\u001b[0;34m:\u001b[0m\u001b[0;34m\u001b[0m\u001b[0;34m\u001b[0m\u001b[0m\n\u001b[0;32m--> 434\u001b[0;31m             \u001b[0mfid\u001b[0m\u001b[0;34m.\u001b[0m\u001b[0mclose\u001b[0m\u001b[0;34m(\u001b[0m\u001b[0;34m)\u001b[0m\u001b[0;34m\u001b[0m\u001b[0;34m\u001b[0m\u001b[0m\n\u001b[0m\u001b[1;32m    435\u001b[0m \u001b[0;34m\u001b[0m\u001b[0m\n\u001b[1;32m    436\u001b[0m \u001b[0;34m\u001b[0m\u001b[0m\n",
      "\u001b[0;31mKeyboardInterrupt\u001b[0m: "
     ]
    }
   ],
   "source": [
    "accuracy_validation, loss_validation, loss_training, t_step = model.fit(train_TFDataset, val_dataset, use_tf_dataset=True, cache=True)"
   ]
  },
  {
   "cell_type": "code",
   "execution_count": 22,
   "metadata": {},
   "outputs": [
    {
     "data": {
      "image/png": "[encoded data removed]",
      "text/plain": [
       "<Figure size 432x288 with 2 Axes>"
      ]
     },
     "metadata": {},
     "output_type": "display_data"
    }
   ],
   "source": [
    "plot.plot_loss(loss_training, loss_validation, t_step, params['eval_frequency'])"
   ]
  },
  {
   "cell_type": "markdown",
   "metadata": {},
   "source": [
    "Remarks"
   ]
  },
  {
   "cell_type": "code",
   "execution_count": 16,
   "metadata": {},
   "outputs": [
    {
     "name": "stdout",
     "output_type": "stream",
     "text": [
      "/mnt/scratch/students/gusset/DeepSphere/deepsphere/../checkpoints/shrec17_Cohen_simple_SGD_max_nsides_300epoch_reg_32sides_CNN\n",
      "INFO:tensorflow:Restoring parameters from /mnt/scratch/students/gusset/DeepSphere/deepsphere/../checkpoints/shrec17_Cohen_simple_SGD_max_nsides_300epoch_reg_32sides_CNN/model-294037\n"
     ]
    },
    {
     "data": {
      "text/plain": [
       "('accuracy: 96.53 (30277 / 31364), f1 (weighted): 96.54, loss: 1.16e-01\\nCPU time: 275s, wall time: 257s',\n",
       " 96.53424308123964,\n",
       " 96.54157073077505,\n",
       " 0.115866209483545)"
      ]
     },
     "execution_count": 16,
     "metadata": {},
     "output_type": "execute_result"
    }
   ],
   "source": [
    "model.evaluate(x_train, labels_train)"
   ]
  },
  {
   "cell_type": "code",
   "execution_count": null,
   "metadata": {},
   "outputs": [],
   "source": [
    "#predictions, loss = model.predict(x_val, labels_val)"
   ]
  },
  {
   "cell_type": "code",
   "execution_count": 14,
   "metadata": {},
   "outputs": [
    {
     "name": "stdout",
     "output_type": "stream",
     "text": [
      "/mnt/scratch/students/gusset/DeepSphere/deepsphere/../checkpoints/shrec17_best_5K_cache_1aug_64sides_CNN\n",
      "INFO:tensorflow:Restoring parameters from /mnt/scratch/students/gusset/DeepSphere/deepsphere/../checkpoints/shrec17_best_5K_cache_1aug_64sides_CNN/model-98012\n"
     ]
    },
    {
     "name": "stderr",
     "output_type": "stream",
     "text": [
      "/home/gusset/miniconda3/envs/PDMsphere/lib/python3.6/site-packages/sklearn/metrics/classification.py:1135: UndefinedMetricWarning: F-score is ill-defined and being set to 0.0 in labels with no predicted samples.\n",
      "  'precision', 'predicted', average, warn_for)\n"
     ]
    },
    {
     "data": {
      "text/plain": [
       "('accuracy: 80.69 (4142 / 5133), f1 (weighted): 80.12, loss: 1.07e+00\\nCPU time: 55s, wall time: 52s',\n",
       " 80.69355152932009,\n",
       " 80.11855984053359,\n",
       " 1.071748793717367)"
      ]
     },
     "execution_count": 14,
     "metadata": {},
     "output_type": "execute_result"
    }
   ],
   "source": [
    "# model.evaluate(x_val, labels_val)\n",
    "model.evaluate(val_dataset, None, cache=True)"
   ]
  },
  {
   "cell_type": "code",
   "execution_count": 15,
   "metadata": {
    "scrolled": true
   },
   "outputs": [
    {
     "name": "stdout",
     "output_type": "stream",
     "text": [
      "/mnt/scratch/students/gusset/DeepSphere/deepsphere/../checkpoints/shrec17_best_5K_cache_1aug_64sides_CNN\n",
      "INFO:tensorflow:Restoring parameters from /mnt/scratch/students/gusset/DeepSphere/deepsphere/../checkpoints/shrec17_best_5K_cache_1aug_64sides_CNN/model-98012\n"
     ]
    }
   ],
   "source": [
    "# probabilities = model.probs(x_val, nclass)\n",
    "probabilities, _ = model.probs(val_dataset, nclass, cache=True)\n",
    "if augmentation>1:\n",
    "    probabilities = probabilities.reshape((-1,augmentation,nclass))\n",
    "    probabilities = probabilities.mean(axis=1)\n",
    "    #ids_val = ids_val[::repeat]\n",
    "predictions = np.argmax(probabilities, axis=1)"
   ]
  },
  {
   "cell_type": "code",
   "execution_count": 16,
   "metadata": {},
   "outputs": [],
   "source": [
    "ids_val = val_dataset.get_ids()"
   ]
  },
  {
   "cell_type": "code",
   "execution_count": null,
   "metadata": {},
   "outputs": [],
   "source": [
    "#predictions = predictions.astype(np.int)"
   ]
  },
  {
   "cell_type": "code",
   "execution_count": 20,
   "metadata": {},
   "outputs": [],
   "source": [
    "from SHREC17.load_shrec import shrec_output"
   ]
  },
  {
   "cell_type": "code",
   "execution_count": 24,
   "metadata": {},
   "outputs": [],
   "source": [
    "shrec_output(probabilities, ids_val, datapath, 'results/val_perturbed')"
   ]
  },
  {
   "cell_type": "code",
   "execution_count": 25,
   "metadata": {},
   "outputs": [],
   "source": [
    "# for every file, find every object with the same class, sorted by most relevance\n",
    "os.makedirs(os.path.join(datapath,'results_aug/val_perturbed'), exist_ok=True)\n",
    "for i,_id in enumerate(ids_val):\n",
    "    idfile = os.path.join(datapath,'results_aug/val_perturbed',_id)\n",
    "    # predictions batchxclass\n",
    "    # pred_class batch == predictions\n",
    "    retrieved = [(probabilities[j, predictions[j]], ids_val[j]) for j in range(len(ids_val)) if predictions[j] == predictions[i]]\n",
    "    retrieved = sorted(retrieved, reverse=True)\n",
    "    retrieved = [i for _, i in retrieved]\n",
    "    with open(idfile, \"w\") as f:\n",
    "        f.write(\"\\n\".join(retrieved))"
   ]
  },
  {
   "cell_type": "markdown",
   "metadata": {},
   "source": [
    "NaN appears if remove i==j case"
   ]
  },
  {
   "cell_type": "markdown",
   "metadata": {},
   "source": [
    "## test network"
   ]
  },
  {
   "cell_type": "code",
   "execution_count": 18,
   "metadata": {},
   "outputs": [
    {
     "name": "stderr",
     "output_type": "stream",
     "text": [
      "10265it [00:59, 172.19it/s]\n"
     ]
    }
   ],
   "source": [
    "test_dataset = Shrec17Dataset(datapath, 'test', perturbed=noise_dataset, download=download, nside=Nside, augmentation=1, nfile=None)"
   ]
  },
  {
   "cell_type": "code",
   "execution_count": 19,
   "metadata": {},
   "outputs": [
    {
     "data": {
      "image/png": "[encoded data removed]",
      "text/plain": [
       "<Figure size 432x288 with 1 Axes>"
      ]
     },
     "metadata": {},
     "output_type": "display_data"
    }
   ],
   "source": [
    "x_test, labels_test, ids_test = test_dataset.return_data(train=False)"
   ]
  },
  {
   "cell_type": "code",
   "execution_count": 28,
   "metadata": {},
   "outputs": [
    {
     "name": "stdout",
     "output_type": "stream",
     "text": [
      "/mnt/scratch/students/gusset/DeepSphere/deepsphere/../checkpoints/shrec17_best_5K_cache_1aug_64sides_CNN\n",
      "INFO:tensorflow:Restoring parameters from /mnt/scratch/students/gusset/DeepSphere/deepsphere/../checkpoints/shrec17_best_5K_cache_1aug_64sides_CNN/model-98012\n"
     ]
    },
    {
     "data": {
      "text/plain": [
       "('accuracy: 75.99 (7800 / 10265), f1 (weighted): 76.07, loss: 1.24e+00\\nCPU time: 102s, wall time: 96s',\n",
       " 75.98636142230882,\n",
       " 76.07329845432768,\n",
       " 1.2386591787287158)"
      ]
     },
     "execution_count": 28,
     "metadata": {},
     "output_type": "execute_result"
    }
   ],
   "source": [
    "model.evaluate(x_test, labels_test)"
   ]
  },
  {
   "cell_type": "code",
   "execution_count": null,
   "metadata": {},
   "outputs": [],
   "source": [
    "#predictions = model.predict(x_test)"
   ]
  },
  {
   "cell_type": "code",
   "execution_count": 22,
   "metadata": {},
   "outputs": [
    {
     "name": "stdout",
     "output_type": "stream",
     "text": [
      "/mnt/scratch/students/gusset/DeepSphere/deepsphere/../checkpoints/shrec17_best_5K_cache_1aug_64sides_CNN\n",
      "INFO:tensorflow:Restoring parameters from /mnt/scratch/students/gusset/DeepSphere/deepsphere/../checkpoints/shrec17_best_5K_cache_1aug_64sides_CNN/model-98012\n"
     ]
    }
   ],
   "source": [
    "probabilities = model.probs(x_test, nclass)\n",
    "if augmentation>1:\n",
    "    probabilities = probabilities.reshape((-1,augmentation,nclass))\n",
    "    probabilities = probabilities.mean(axis=1)\n",
    "#probabilities = np.log(probabilities)\n",
    "predictions = np.argmax(probabilities, axis=1)"
   ]
  },
  {
   "cell_type": "code",
   "execution_count": null,
   "metadata": {},
   "outputs": [],
   "source": [
    "#predictions = predictions.astype(np.int)"
   ]
  },
  {
   "cell_type": "markdown",
   "metadata": {},
   "source": [
    "write to file"
   ]
  },
  {
   "cell_type": "code",
   "execution_count": 30,
   "metadata": {},
   "outputs": [],
   "source": [
    "# for every file, find every object with the same class, sorted by most relevance\n",
    "os.makedirs(os.path.join(datapath,'results_aug/test_perturbed'), exist_ok=True)\n",
    "for i, _id in enumerate(ids_test):\n",
    "    idfile = os.path.join(datapath,'results_aug/test_perturbed',_id)\n",
    "    # predictions batchxclass\n",
    "    # pred_class batch == predictions\n",
    "    retrieved = [(probabilities[j, predictions[j]], ids_test[j]) for j in range(len(ids_test)) if predictions[j] == predictions[i]]\n",
    "    retrieved = sorted(retrieved, reverse=True)\n",
    "    retrieved = [i for _, i in retrieved]\n",
    "    with open(idfile, \"w\") as f:\n",
    "        f.write(\"\\n\".join(retrieved))"
   ]
  },
  {
   "cell_type": "code",
   "execution_count": 31,
   "metadata": {},
   "outputs": [],
   "source": [
    "shrec_output(probabilities, ids_test, datapath, 'results/test_perturbed')"
   ]
  },
  {
   "cell_type": "markdown",
   "metadata": {},
   "source": [
    "Why not working?"
   ]
  },
  {
   "cell_type": "code",
   "execution_count": 23,
   "metadata": {},
   "outputs": [],
   "source": [
    "def _print_histogram(nclass, labels_train, labels_val=None):\n",
    "    if labels_train is None:\n",
    "        return\n",
    "    import matplotlib.pyplot as plt\n",
    "    from collections import Counter\n",
    "    hist_train=Counter(labels_train)\n",
    "#         for i in range(self.nclass):\n",
    "#             hist_train.append(np.sum(labels_train == i))\n",
    "    labels, values = zip(*hist_train.items())\n",
    "    indexes = np.asarray(labels)\n",
    "#     miss = set(indexes) - set(labels)\n",
    "#     if len(miss) is not 0:\n",
    "#         hist_train.update({elem:0 for elem in miss})\n",
    "#     labels, values = zip(*hist_train.items())\n",
    "    width = 1\n",
    "    plt.bar(labels, values, width)\n",
    "    plt.title(\"labels distribution\")\n",
    "    #plt.xticks(indexes + width * 0.5, labels)\n",
    "    if labels_val is not None:\n",
    "        hist_val=Counter(labels_val)\n",
    "        plt.figure()\n",
    "        labels, values = zip(*hist_val.items())\n",
    "        indexes = np.asarray(labels)\n",
    "        width = 1\n",
    "        plt.bar(indexes, values, width)\n",
    "        plt.title(\"validation labels distribution\")\n",
    "    plt.show()"
   ]
  },
  {
   "cell_type": "code",
   "execution_count": 24,
   "metadata": {},
   "outputs": [
    {
     "data": {
      "image/png": "[encoded data removed]",
      "text/plain": [
       "<Figure size 432x288 with 1 Axes>"
      ]
     },
     "metadata": {},
     "output_type": "display_data"
    },
    {
     "data": {
      "image/png": "[encoded data removed]",
      "text/plain": [
       "<Figure size 432x288 with 1 Axes>"
      ]
     },
     "metadata": {},
     "output_type": "display_data"
    }
   ],
   "source": [
    "_print_histogram(55, labels_test)\n",
    "_print_histogram(55, predictions)"
   ]
  },
  {
   "cell_type": "code",
   "execution_count": 25,
   "metadata": {},
   "outputs": [],
   "source": [
    "from sklearn.metrics import confusion_matrix"
   ]
  },
  {
   "cell_type": "code",
   "execution_count": 26,
   "metadata": {},
   "outputs": [
    {
     "data": {
      "text/plain": [
       "<matplotlib.image.AxesImage at 0x7fae7ec4b438>"
      ]
     },
     "execution_count": 26,
     "metadata": {},
     "output_type": "execute_result"
    },
    {
     "data": {
      "image/png": "[encoded data removed]",
      "text/plain": [
       "<Figure size 432x288 with 1 Axes>"
      ]
     },
     "metadata": {},
     "output_type": "display_data"
    }
   ],
   "source": [
    "plt.spy(confusion_matrix(labels_test, predictions, range(55)))"
   ]
  }
 ],
 "metadata": {
  "kernelspec": {
   "display_name": "Python 3",
   "language": "python",
   "name": "python3"
  },
  "language_info": {
   "codemirror_mode": {
    "name": "ipython",
    "version": 3
   },
   "file_extension": ".py",
   "mimetype": "text/x-python",
   "name": "python",
   "nbconvert_exporter": "python",
   "pygments_lexer": "ipython3",
   "version": "3.6.7"
  }
 },
 "nbformat": 4,
 "nbformat_minor": 2
}
