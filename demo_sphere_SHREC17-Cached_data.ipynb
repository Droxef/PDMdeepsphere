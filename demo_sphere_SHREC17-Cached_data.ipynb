{
 "cells": [
  {
   "cell_type": "markdown",
   "metadata": {},
   "source": [
    "# DeepSphere using SHREC17 dataset\n",
    "### Benchmark with Cohen method S2CNN[[1]](http://arxiv.org/abs/1801.10130) and Esteves method[[2]](http://arxiv.org/abs/1711.06721)\n",
    "Multi-class classification of 3D objects, using the interesting property of rotation equivariance.\n",
    "\n",
    "The 3D objects are projected on a unit sphere.\n",
    "Cohen and Esteves use equiangular sampling, while our method use a HEAlpix sampling\n",
    "\n",
    "Several features are collected:\n",
    "* projection ray length (from sphere border to intersection [0, 2])\n",
    "* cos/sin with surface normal\n",
    "* same features using the convex hull of the 3D object"
   ]
  },
  {
   "cell_type": "markdown",
   "metadata": {},
   "source": [
    "## 0.1 Load libs"
   ]
  },
  {
   "cell_type": "code",
   "execution_count": 1,
   "metadata": {},
   "outputs": [],
   "source": [
    "%load_ext autoreload\n",
    "%autoreload 2\n",
    "%matplotlib inline"
   ]
  },
  {
   "cell_type": "code",
   "execution_count": 2,
   "metadata": {},
   "outputs": [],
   "source": [
    "import os\n",
    "import shutil\n",
    "import sys\n",
    "\n",
    "os.environ[\"CUDA_VISIBLE_DEVICES\"] = \"1\"  # change to chosen GPU to use, nothing if work on CPU\n",
    "\n",
    "import numpy as np\n",
    "import time\n",
    "import matplotlib.pyplot as plt\n",
    "import healpy as hp"
   ]
  },
  {
   "cell_type": "code",
   "execution_count": 3,
   "metadata": {},
   "outputs": [],
   "source": [
    "from deepsphere import models, experiment_helper, plot, utils\n",
    "from deepsphere.data import LabeledDatasetWithNoise, LabeledDataset\n",
    "import hyperparameters\n",
    "\n",
    "from SHREC17.load_shrec import fix_dataset, Shrec17Dataset, Shrec17DatasetCache, Shrec17DatasetTF"
   ]
  },
  {
   "cell_type": "markdown",
   "metadata": {},
   "source": [
    "## 0.2 Define parameters"
   ]
  },
  {
   "cell_type": "code",
   "execution_count": 4,
   "metadata": {},
   "outputs": [],
   "source": [
    "Nside = 64\n",
    "experiment_type = 'CNN' # 'FCN'\n",
    "ename = '_'+experiment_type\n",
    "datapath = '../data/shrec17/' # localisation of the .obj files"
   ]
  },
  {
   "cell_type": "code",
   "execution_count": 5,
   "metadata": {},
   "outputs": [],
   "source": [
    "noise_dataset = True    # use perturbed dataset (Cohen and Esteves do the same)\n",
    "augmentation = 1        # number of element per file (1 = no augmentation of dataset)"
   ]
  },
  {
   "cell_type": "markdown",
   "metadata": {},
   "source": [
    "## 1 Load dataset"
   ]
  },
  {
   "cell_type": "code",
   "execution_count": 6,
   "metadata": {},
   "outputs": [],
   "source": [
    "# if datasets are already downloaded but not preprocessed\n",
    "fix = False\n",
    "download = False\n",
    "if fix:\n",
    "    fix_dataset(datapath+'val_perturbed')\n",
    "    fix_dataset(datapath+'test_perturbed')"
   ]
  },
  {
   "cell_type": "markdown",
   "metadata": {},
   "source": [
    "download dataset if True, preprocess data and store it in npy files, and load it in a dataset object"
   ]
  },
  {
   "cell_type": "code",
   "execution_count": 7,
   "metadata": {},
   "outputs": [],
   "source": [
    "#train_dataset = Shrec17DatasetCache(datapath, 'train', perturbed=noise_dataset, download=download, nside=Nside, augmentation=augmentation, nfile=None)\n"
   ]
  },
  {
   "cell_type": "markdown",
   "metadata": {},
   "source": [
    "Better to keep validation and testing set in RAM, but not always possible"
   ]
  },
  {
   "cell_type": "code",
   "execution_count": 7,
   "metadata": {},
   "outputs": [],
   "source": [
    "val_dataset = Shrec17DatasetCache(datapath, 'val', perturbed=noise_dataset, download=download, nside=Nside, augmentation=1, nfile=None)"
   ]
  },
  {
   "cell_type": "markdown",
   "metadata": {},
   "source": [
    "Try do make a tensorflow dataset object"
   ]
  },
  {
   "cell_type": "code",
   "execution_count": 8,
   "metadata": {},
   "outputs": [],
   "source": [
    "train_TFDataset = Shrec17DatasetTF(datapath, 'train', perturbed=noise_dataset, download=download, nside=Nside, augmentation=augmentation, nfile=None)"
   ]
  },
  {
   "cell_type": "code",
   "execution_count": 9,
   "metadata": {},
   "outputs": [],
   "source": [
    "#dataset = train_TFDataset.get_tf_dataset(32)"
   ]
  },
  {
   "cell_type": "code",
   "execution_count": 12,
   "metadata": {},
   "outputs": [
    {
     "name": "stdout",
     "output_type": "stream",
     "text": [
      "23.56311297416687 s\n"
     ]
    }
   ],
   "source": [
    "# import time\n",
    "# import tensorflow as tf\n",
    "\n",
    "# #dataset = tf_dataset_file(datapath, dataset, file_pattern, 32, Nside, augmentation)\n",
    "# t_start = time.time()\n",
    "# data_next = dataset.make_one_shot_iterator().get_next()\n",
    "# config = tf.ConfigProto()\n",
    "# config.gpu_options.allow_growth = True\n",
    "# steps = train_TFDataset.N // 32 + 1\n",
    "# with tf.Session(config=config) as sess:\n",
    "#     sess.run(tf.global_variables_initializer())\n",
    "#     try:\n",
    "#         for i in range(steps):\n",
    "#             out = sess.run(data_next)\n",
    "#     except tf.errors.OutOfRangeError:\n",
    "#         print(\"Done\") # Never reach this as will iterate on infinite sets\n",
    "# t_end = time.time()\n",
    "# print(str(t_end-t_start)+\" s\")\n",
    "\n",
    "# # t_start = time.time()\n",
    "# # data_iter = train_dataset.iter(32)\n",
    "# # steps = int(train_dataset.N / 32)\n",
    "# # for i in range(steps):\n",
    "# #     next(data_iter)\n",
    "# #     #feed_dict = {self.ph_data: batch_data, self.ph_labels: batch_labels, self.ph_training: True}\n",
    "# # t_end = time.time()\n",
    "# # print(str(t_end-t_start)+\" s\")"
   ]
  },
  {
   "cell_type": "markdown",
   "metadata": {},
   "source": [
    "## 1.1 Preprocess the dataset"
   ]
  },
  {
   "cell_type": "markdown",
   "metadata": {},
   "source": [
    "Shuffle the training dataset and print the classes distribution"
   ]
  },
  {
   "cell_type": "code",
   "execution_count": 9,
   "metadata": {},
   "outputs": [
    {
     "name": "stdout",
     "output_type": "stream",
     "text": [
      "number of class: 55 \n",
      "number of elements: 31364\n"
     ]
    }
   ],
   "source": [
    "nclass = train_TFDataset.nclass\n",
    "num_elem = train_TFDataset.N\n",
    "#ids_train = train_dataset.ids\n",
    "print('number of class:',nclass,'\\nnumber of elements:',num_elem)#,'\\nfirst id:',ids_train[0])"
   ]
  },
  {
   "cell_type": "code",
   "execution_count": 10,
   "metadata": {},
   "outputs": [
    {
     "data": {
      "image/png": "[encoded data removed]",
      "text/plain": [
       "<Figure size 432x288 with 1 Axes>"
      ]
     },
     "metadata": {},
     "output_type": "display_data"
    }
   ],
   "source": [
    "# x_val, labels_val, ids_val = val_dataset.return_data(train=False)"
   ]
  },
  {
   "cell_type": "code",
   "execution_count": 10,
   "metadata": {},
   "outputs": [],
   "source": [
    "nfeat = 6#x_val.shape[-1]"
   ]
  },
  {
   "cell_type": "markdown",
   "metadata": {},
   "source": [
    "## 2 Classification using DeepSphere"
   ]
  },
  {
   "cell_type": "markdown",
   "metadata": {},
   "source": [
    "Use of the Dataset object used for other DeepSphere experiments"
   ]
  },
  {
   "cell_type": "code",
   "execution_count": 12,
   "metadata": {},
   "outputs": [],
   "source": [
    "# #training = LabeledDatasetWithNoise(x_train, labels_train, end_level=sigma_noise)\n",
    "# #training = LabeledDataset(x_train, labels_train)\n",
    "# validation = LabeledDataset(x_val, labels_val)"
   ]
  },
  {
   "cell_type": "code",
   "execution_count": 11,
   "metadata": {},
   "outputs": [],
   "source": [
    "EXP_NAME = 'shrec17_best_5K_cache_{}aug_{}sides{}'.format(augmentation, Nside, ename)\n",
    "#EXP_NAME = 'shrec17_Cohen_simple_SGD_max_nsides_300epoch_{}sides{}'.format(Nside, ename)\n",
    "#EXP_NAME = \"shrec17_best_5K_cache_3aug_32sides_CNN\"\n",
    "#EXP_NAME = 'essai_TFDataset'"
   ]
  },
  {
   "cell_type": "markdown",
   "metadata": {},
   "source": [
    "Load model with hyperparameters chosen.\n",
    "For each experiment, a new EXP_NAME is chosen, and new hyperparameters are store.\n",
    "All informations are present 'DeepSphere/Shrec17/experiments.md'\n",
    "The fastest way to reproduce an experiment is to revert to the commit of the experiment to load the correct files and notebook"
   ]
  },
  {
   "cell_type": "markdown",
   "metadata": {},
   "source": [
    "Adding a layer in the fully connected can be beneficial"
   ]
  },
  {
   "cell_type": "code",
   "execution_count": 12,
   "metadata": {},
   "outputs": [
    {
     "name": "stdout",
     "output_type": "stream",
     "text": [
      "#sides: [64, 32, 16, 8, 4, 2, 2]\n",
      "#pixels: [49152, 12288, 3072, 768, 192, 48, 48]\n",
      "#samples per batch: 32\n",
      "=> #pixels per batch (input): 1,572,864\n",
      "=> #pixels for training (input): 154,160,332,800\n",
      "Learning rate will start at 1.0e-02 and finish at 1.0e-02.\n",
      "NN architecture\n",
      "  input: M_0 = 49152\n",
      "  layer 1: cgconv1\n",
      "    representation: M_0 * F_1 / p_1 = 49152 * 16 / 4 = 196608\n",
      "    weights: F_0 * F_1 * K_1 = 6 * 16 * 5 = 480\n",
      "    biases: F_1 = 16\n",
      "    batch normalization\n",
      "  layer 2: cgconv2\n",
      "    representation: M_1 * F_2 / p_2 = 12288 * 32 / 4 = 98304\n",
      "    weights: F_1 * F_2 * K_2 = 16 * 32 * 5 = 2560\n",
      "    biases: F_2 = 32\n",
      "    batch normalization\n",
      "  layer 3: cgconv3\n",
      "    representation: M_2 * F_3 / p_3 = 3072 * 64 / 4 = 49152\n",
      "    weights: F_2 * F_3 * K_3 = 32 * 64 * 5 = 10240\n",
      "    biases: F_3 = 64\n",
      "    batch normalization\n",
      "  layer 4: cgconv4\n",
      "    representation: M_3 * F_4 / p_4 = 768 * 128 / 4 = 24576\n",
      "    weights: F_3 * F_4 * K_4 = 64 * 128 * 5 = 40960\n",
      "    biases: F_4 = 128\n",
      "    batch normalization\n",
      "  layer 5: cgconv5\n",
      "    representation: M_4 * F_5 / p_5 = 192 * 256 / 4 = 12288\n",
      "    weights: F_4 * F_5 * K_5 = 128 * 256 * 5 = 163840\n",
      "    biases: F_5 = 256\n",
      "    batch normalization\n",
      "  Statistical layer: mean\n",
      "    representation: 1 * 256 = 256\n",
      "  layer 6: logits (softmax)\n",
      "    representation: M_6 = 55\n",
      "    weights: M_5 * M_6 = 256 * 55 = 14080\n"
     ]
    }
   ],
   "source": [
    "params = hyperparameters.get_params_shrec17_optim(num_elem, EXP_NAME, Nside, nclass, nfeat_in=nfeat, architecture=experiment_type)\n",
    "params[\"tf_dataset\"] = train_TFDataset.get_tf_dataset(params[\"batch_size\"])\n",
    "model = models.deepsphere(**params)"
   ]
  },
  {
   "cell_type": "code",
   "execution_count": 19,
   "metadata": {},
   "outputs": [],
   "source": [
    "shutil.rmtree('summaries/{}/'.format(EXP_NAME), ignore_errors=True)\n",
    "shutil.rmtree('checkpoints/{}/'.format(EXP_NAME), ignore_errors=True)"
   ]
  },
  {
   "cell_type": "markdown",
   "metadata": {},
   "source": [
    "Find a correct learning rate"
   ]
  },
  {
   "cell_type": "code",
   "execution_count": null,
   "metadata": {
    "scrolled": true
   },
   "outputs": [
    {
     "name": "stdout",
     "output_type": "stream",
     "text": [
      "NN architecture\n",
      "  input: M_0 = 196608\n",
      "  layer 1: cgconv1\n",
      "    representation: M_0 * F_1 / p_1 = 196608 * 16 / 4 = 786432\n",
      "    weights: F_0 * F_1 * K_1 = 6 * 16 * 5 = 480\n",
      "    biases: F_1 = 16\n",
      "    batch normalization\n",
      "  layer 2: cgconv2\n",
      "    representation: M_1 * F_2 / p_2 = 49152 * 32 / 4 = 393216\n",
      "    weights: F_1 * F_2 * K_2 = 16 * 32 * 5 = 2560\n",
      "    biases: F_2 = 32\n",
      "    batch normalization\n",
      "  layer 3: cgconv3\n",
      "    representation: M_2 * F_3 / p_3 = 12288 * 64 / 4 = 196608\n",
      "    weights: F_2 * F_3 * K_3 = 32 * 64 * 5 = 10240\n",
      "    biases: F_3 = 64\n",
      "    batch normalization\n",
      "  layer 4: cgconv4\n",
      "    representation: M_3 * F_4 / p_4 = 3072 * 128 / 4 = 98304\n",
      "    weights: F_3 * F_4 * K_4 = 64 * 128 * 5 = 40960\n",
      "    biases: F_4 = 128\n",
      "    batch normalization\n",
      "  layer 5: cgconv5\n",
      "    representation: M_4 * F_5 / p_5 = 768 * 256 / 4 = 49152\n",
      "    weights: F_4 * F_5 * K_5 = 128 * 256 * 5 = 163840\n",
      "    biases: F_5 = 256\n",
      "    batch normalization\n",
      "  Statistical layer: mean\n",
      "    representation: 1 * 256 = 256\n",
      "  layer 6: logits (softmax)\n",
      "    representation: M_6 = 55\n",
      "    weights: M_5 * M_6 = 256 * 55 = 14080\n",
      "step 490 / 19602 (epoch 0.50 / 20):\n",
      "  learning_rate = 1.78e-06, training loss = 4.24e+00\n"
     ]
    },
    {
     "name": "stderr",
     "output_type": "stream",
     "text": [
      "/home/gusset/miniconda3/envs/PDMsphere/lib/python3.6/site-packages/sklearn/metrics/classification.py:1135: UndefinedMetricWarning: F-score is ill-defined and being set to 0.0 in labels with no predicted samples.\n",
      "  'precision', 'predicted', average, warn_for)\n"
     ]
    },
    {
     "name": "stdout",
     "output_type": "stream",
     "text": [
      "  validation accuracy: 0.76 (39 / 5133), f1 (weighted): 0.80, loss: 4.29e+00\n",
      "  CPU time: 1477s, wall time: 797s, perf_time_load: 1.16s, perf_time: 1.16s\n",
      "step 980 / 19602 (epoch 1.00 / 20):\n",
      "  learning_rate = 3.16e-06, training loss = 4.13e+00\n",
      "  validation accuracy: 3.78 (194 / 5133), f1 (weighted): 2.88, loss: 4.19e+00\n",
      "  CPU time: 2964s, wall time: 1587s, perf_time_load: 1.13s, perf_time: 1.13s\n",
      "step 1470 / 19602 (epoch 1.50 / 20):\n",
      "  learning_rate = 5.62e-06, training loss = 4.08e+00\n",
      "  validation accuracy: 10.29 (528 / 5133), f1 (weighted): 4.54, loss: 4.00e+00\n",
      "  CPU time: 4446s, wall time: 2374s, perf_time_load: 1.16s, perf_time: 1.16s\n",
      "step 1960 / 19602 (epoch 2.00 / 20):\n",
      "  learning_rate = 9.99e-06, training loss = 3.78e+00\n",
      "  validation accuracy: 26.57 (1364 / 5133), f1 (weighted): 15.49, loss: 3.70e+00\n",
      "  CPU time: 5924s, wall time: 3166s, perf_time_load: 1.15s, perf_time: 1.15s\n",
      "step 2450 / 19602 (epoch 2.50 / 20):\n",
      "  learning_rate = 1.78e-05, training loss = 3.08e+00\n",
      "  validation accuracy: 35.52 (1823 / 5133), f1 (weighted): 23.55, loss: 3.37e+00\n",
      "  CPU time: 7409s, wall time: 3951s, perf_time_load: 1.15s, perf_time: 1.15s\n",
      "step 2940 / 19602 (epoch 3.00 / 20):\n",
      "  learning_rate = 3.16e-05, training loss = 2.92e+00\n",
      "  validation accuracy: 41.22 (2116 / 5133), f1 (weighted): 27.08, loss: 3.05e+00\n",
      "  CPU time: 8890s, wall time: 4737s, perf_time_load: 1.17s, perf_time: 1.17s\n",
      "step 3430 / 19602 (epoch 3.50 / 20):\n",
      "  learning_rate = 5.62e-05, training loss = 2.43e+00\n",
      "  validation accuracy: 43.13 (2214 / 5133), f1 (weighted): 29.75, loss: 2.78e+00\n",
      "  CPU time: 10385s, wall time: 5525s, perf_time_load: 1.14s, perf_time: 1.14s\n",
      "step 3920 / 19602 (epoch 4.00 / 20):\n",
      "  learning_rate = 9.99e-05, training loss = 2.51e+00\n",
      "  validation accuracy: 46.13 (2368 / 5133), f1 (weighted): 34.35, loss: 2.55e+00\n",
      "  CPU time: 11895s, wall time: 6315s, perf_time_load: 1.14s, perf_time: 1.14s\n",
      "step 4410 / 19602 (epoch 4.50 / 20):\n",
      "  learning_rate = 1.78e-04, training loss = 2.13e+00\n",
      "  validation accuracy: 48.61 (2495 / 5133), f1 (weighted): 38.04, loss: 2.32e+00\n",
      "  CPU time: 13355s, wall time: 7094s, perf_time_load: 1.17s, perf_time: 1.17s\n",
      "step 4900 / 19602 (epoch 5.00 / 20):\n",
      "  learning_rate = 3.16e-04, training loss = 2.27e+00\n",
      "  validation accuracy: 52.41 (2690 / 5133), f1 (weighted): 43.24, loss: 2.12e+00\n",
      "  CPU time: 14828s, wall time: 7876s, perf_time_load: 1.17s, perf_time: 1.17s\n",
      "step 5390 / 19602 (epoch 5.50 / 20):\n",
      "  learning_rate = 5.61e-04, training loss = 1.93e+00\n",
      "  validation accuracy: 56.91 (2921 / 5133), f1 (weighted): 49.32, loss: 1.93e+00\n",
      "  CPU time: 16301s, wall time: 8660s, perf_time_load: 1.17s, perf_time: 1.17s\n",
      "step 5880 / 19602 (epoch 6.00 / 20):\n",
      "  learning_rate = 9.98e-04, training loss = 1.77e+00\n",
      "  validation accuracy: 61.33 (3148 / 5133), f1 (weighted): 55.17, loss: 1.75e+00\n",
      "  CPU time: 17783s, wall time: 9427s, perf_time_load: 1.11s, perf_time: 1.11s\n",
      "step 6370 / 19602 (epoch 6.50 / 20):\n",
      "  learning_rate = 1.77e-03, training loss = 1.69e+00\n",
      "  validation accuracy: 64.50 (3311 / 5133), f1 (weighted): 59.56, loss: 1.60e+00\n",
      "  CPU time: 19248s, wall time: 10200s, perf_time_load: 1.13s, perf_time: 1.13s\n"
     ]
    }
   ],
   "source": [
    "backup = params.copy()\n",
    "\n",
    "params, learning_rate = utils.test_learning_rates(params, train_TFDataset.N, 1e-6, 1e-1, num_epochs=20)\n",
    "\n",
    "shutil.rmtree('summaries/{}/'.format(params['dir_name']), ignore_errors=True)\n",
    "shutil.rmtree('checkpoints/{}/'.format(params['dir_name']), ignore_errors=True)\n",
    "\n",
    "model = models.deepsphere(**params)\n",
    "_, loss_validation, _, _ = model.fit(train_TFDataset, val_dataset, use_tf_dataset=True, cache=True)\n",
    "\n",
    "params.update(backup)\n",
    "\n",
    "plt.semilogx(learning_rate, loss_validation, '.-')"
   ]
  },
  {
   "cell_type": "code",
   "execution_count": null,
   "metadata": {},
   "outputs": [],
   "source": [
    "shutil.rmtree('summaries/lr_finder/', ignore_errors=True)\n",
    "shutil.rmtree('checkpoints/lr_finder/', ignore_errors=True)"
   ]
  },
  {
   "cell_type": "markdown",
   "metadata": {},
   "source": [
    "0.9 seems to be a good learning rate for SGD with current parameters"
   ]
  },
  {
   "cell_type": "markdown",
   "metadata": {},
   "source": [
    "## 2.2 Train Network"
   ]
  },
  {
   "cell_type": "code",
   "execution_count": 13,
   "metadata": {},
   "outputs": [
    {
     "name": "stdout",
     "output_type": "stream",
     "text": [
      "conv1/weights:0\n",
      "conv1/bias:0\n",
      "conv2/weights:0\n",
      "conv2/bias:0\n",
      "conv3/weights:0\n",
      "conv3/bias:0\n",
      "conv4/weights:0\n",
      "conv4/bias:0\n",
      "conv5/weights:0\n",
      "conv5/bias:0\n",
      "logits/weights:0\n",
      "the number of parameters in the model is: 232,656\n"
     ]
    }
   ],
   "source": [
    "print(\"the number of parameters in the model is: {:,}\".format(model.get_nbr_var()))"
   ]
  },
  {
   "cell_type": "code",
   "execution_count": 21,
   "metadata": {
    "scrolled": true
   },
   "outputs": [
    {
     "name": "stdout",
     "output_type": "stream",
     "text": [
      "step 490 / 98012 (epoch 0.50 / 100):\n",
      "  learning_rate = 1.00e-02, training loss = 1.76e+00\n"
     ]
    },
    {
     "name": "stderr",
     "output_type": "stream",
     "text": [
      "/home/gusset/miniconda3/envs/PDMsphere/lib/python3.6/site-packages/sklearn/metrics/classification.py:1135: UndefinedMetricWarning: F-score is ill-defined and being set to 0.0 in labels with no predicted samples.\n",
      "  'precision', 'predicted', average, warn_for)\n"
     ]
    },
    {
     "name": "stdout",
     "output_type": "stream",
     "text": [
      "  validation accuracy: 68.19 (3500 / 5133), f1 (weighted): 64.42, loss: 1.38e+00\n",
      "  CPU time: 275s, wall time: 174s, perf_time_load: 0.26s, perf_time: 0.26s\n",
      "step 980 / 98012 (epoch 1.00 / 100):\n",
      "  learning_rate = 1.00e-02, training loss = 1.68e+00\n",
      "  validation accuracy: 70.39 (3613 / 5133), f1 (weighted): 67.63, loss: 1.31e+00\n",
      "  CPU time: 550s, wall time: 346s, perf_time_load: 0.26s, perf_time: 0.26s\n",
      "step 1470 / 98012 (epoch 1.50 / 100):\n",
      "  learning_rate = 1.00e-02, training loss = 8.28e-01\n",
      "  validation accuracy: 74.21 (3809 / 5133), f1 (weighted): 71.91, loss: 1.16e+00\n",
      "  CPU time: 829s, wall time: 517s, perf_time_load: 0.26s, perf_time: 0.26s\n",
      "step 1960 / 98012 (epoch 2.00 / 100):\n",
      "  learning_rate = 1.00e-02, training loss = 9.76e-01\n",
      "  validation accuracy: 74.01 (3799 / 5133), f1 (weighted): 71.86, loss: 1.10e+00\n",
      "  CPU time: 1112s, wall time: 688s, perf_time_load: 0.26s, perf_time: 0.26s\n",
      "step 2450 / 98012 (epoch 2.50 / 100):\n",
      "  learning_rate = 1.00e-02, training loss = 6.09e-01\n",
      "  validation accuracy: 73.25 (3760 / 5133), f1 (weighted): 70.62, loss: 1.16e+00\n",
      "  CPU time: 1393s, wall time: 858s, perf_time_load: 0.26s, perf_time: 0.26s\n",
      "step 2940 / 98012 (epoch 3.00 / 100):\n",
      "  learning_rate = 1.00e-02, training loss = 8.96e-01\n",
      "  validation accuracy: 77.15 (3960 / 5133), f1 (weighted): 75.68, loss: 1.04e+00\n",
      "  CPU time: 1673s, wall time: 1028s, perf_time_load: 0.26s, perf_time: 0.26s\n",
      "step 3430 / 98012 (epoch 3.50 / 100):\n",
      "  learning_rate = 1.00e-02, training loss = 1.01e+00\n",
      "  validation accuracy: 75.65 (3883 / 5133), f1 (weighted): 74.45, loss: 1.10e+00\n",
      "  CPU time: 1948s, wall time: 1199s, perf_time_load: 0.26s, perf_time: 0.26s\n",
      "step 3920 / 98012 (epoch 4.00 / 100):\n",
      "  learning_rate = 1.00e-02, training loss = 1.27e+00\n",
      "  validation accuracy: 76.52 (3928 / 5133), f1 (weighted): 74.32, loss: 1.03e+00\n",
      "  CPU time: 2232s, wall time: 1370s, perf_time_load: 0.26s, perf_time: 0.26s\n",
      "step 4410 / 98012 (epoch 4.50 / 100):\n",
      "  learning_rate = 1.00e-02, training loss = 6.63e-01\n",
      "  validation accuracy: 77.83 (3995 / 5133), f1 (weighted): 76.48, loss: 9.94e-01\n",
      "  CPU time: 2518s, wall time: 1543s, perf_time_load: 0.26s, perf_time: 0.26s\n",
      "step 4900 / 98012 (epoch 5.00 / 100):\n",
      "  learning_rate = 1.00e-02, training loss = 5.48e-01\n",
      "  validation accuracy: 77.54 (3980 / 5133), f1 (weighted): 76.03, loss: 9.76e-01\n",
      "  CPU time: 2805s, wall time: 1716s, perf_time_load: 0.27s, perf_time: 0.27s\n",
      "step 5390 / 98012 (epoch 5.50 / 100):\n",
      "  learning_rate = 1.00e-02, training loss = 6.96e-01\n",
      "  validation accuracy: 78.57 (4033 / 5133), f1 (weighted): 77.20, loss: 9.43e-01\n",
      "  CPU time: 3083s, wall time: 1887s, perf_time_load: 0.26s, perf_time: 0.26s\n",
      "step 5880 / 98012 (epoch 6.00 / 100):\n",
      "  learning_rate = 1.00e-02, training loss = 7.22e-01\n",
      "  validation accuracy: 78.16 (4012 / 5133), f1 (weighted): 76.63, loss: 9.15e-01\n",
      "  CPU time: 3349s, wall time: 2057s, perf_time_load: 0.26s, perf_time: 0.26s\n",
      "step 6370 / 98012 (epoch 6.50 / 100):\n",
      "  learning_rate = 1.00e-02, training loss = 5.90e-01\n",
      "  validation accuracy: 79.64 (4088 / 5133), f1 (weighted): 78.63, loss: 9.13e-01\n",
      "  CPU time: 3622s, wall time: 2226s, perf_time_load: 0.26s, perf_time: 0.26s\n",
      "step 6860 / 98012 (epoch 7.00 / 100):\n",
      "  learning_rate = 1.00e-02, training loss = 4.01e-01\n",
      "  validation accuracy: 79.33 (4072 / 5133), f1 (weighted): 78.10, loss: 9.15e-01\n",
      "  CPU time: 3907s, wall time: 2399s, perf_time_load: 0.26s, perf_time: 0.26s\n",
      "step 7350 / 98012 (epoch 7.50 / 100):\n",
      "  learning_rate = 1.00e-02, training loss = 9.66e-01\n",
      "  validation accuracy: 79.64 (4088 / 5133), f1 (weighted): 78.79, loss: 9.04e-01\n",
      "  CPU time: 4181s, wall time: 2571s, perf_time_load: 0.26s, perf_time: 0.26s\n",
      "step 7840 / 98012 (epoch 8.00 / 100):\n",
      "  learning_rate = 1.00e-02, training loss = 7.04e-01\n",
      "  validation accuracy: 79.84 (4098 / 5133), f1 (weighted): 78.81, loss: 9.05e-01\n",
      "  CPU time: 4455s, wall time: 2744s, perf_time_load: 0.26s, perf_time: 0.26s\n",
      "step 8330 / 98012 (epoch 8.50 / 100):\n",
      "  learning_rate = 1.00e-02, training loss = 5.70e-01\n",
      "  validation accuracy: 80.48 (4131 / 5133), f1 (weighted): 79.39, loss: 8.74e-01\n",
      "  CPU time: 4729s, wall time: 2916s, perf_time_load: 0.26s, perf_time: 0.26s\n",
      "step 8820 / 98012 (epoch 9.00 / 100):\n",
      "  learning_rate = 1.00e-02, training loss = 9.02e-01\n",
      "  validation accuracy: 80.85 (4150 / 5133), f1 (weighted): 80.35, loss: 8.75e-01\n",
      "  CPU time: 5003s, wall time: 3088s, perf_time_load: 0.26s, perf_time: 0.26s\n",
      "step 9310 / 98012 (epoch 9.50 / 100):\n",
      "  learning_rate = 1.00e-02, training loss = 5.04e-01\n",
      "  validation accuracy: 80.48 (4131 / 5133), f1 (weighted): 79.38, loss: 8.65e-01\n",
      "  CPU time: 5277s, wall time: 3261s, perf_time_load: 0.26s, perf_time: 0.26s\n",
      "step 9800 / 98012 (epoch 10.00 / 100):\n",
      "  learning_rate = 1.00e-02, training loss = 3.67e-01\n",
      "  validation accuracy: 81.01 (4158 / 5133), f1 (weighted): 79.92, loss: 8.79e-01\n",
      "  CPU time: 5556s, wall time: 3433s, perf_time_load: 0.26s, perf_time: 0.26s\n",
      "step 10290 / 98012 (epoch 10.50 / 100):\n",
      "  learning_rate = 1.00e-02, training loss = 5.03e-01\n",
      "  validation accuracy: 80.60 (4137 / 5133), f1 (weighted): 79.64, loss: 8.52e-01\n",
      "  CPU time: 5832s, wall time: 3605s, perf_time_load: 0.26s, perf_time: 0.26s\n",
      "step 10780 / 98012 (epoch 11.00 / 100):\n",
      "  learning_rate = 1.00e-02, training loss = 6.83e-01\n",
      "  validation accuracy: 80.26 (4120 / 5133), f1 (weighted): 79.28, loss: 8.73e-01\n",
      "  CPU time: 6106s, wall time: 3778s, perf_time_load: 0.26s, perf_time: 0.26s\n",
      "step 11270 / 98012 (epoch 11.50 / 100):\n",
      "  learning_rate = 1.00e-02, training loss = 7.07e-01\n",
      "  validation accuracy: 80.38 (4126 / 5133), f1 (weighted): 79.86, loss: 8.88e-01\n",
      "  CPU time: 6378s, wall time: 3950s, perf_time_load: 0.26s, perf_time: 0.26s\n",
      "step 11760 / 98012 (epoch 12.00 / 100):\n",
      "  learning_rate = 1.00e-02, training loss = 4.40e-01\n",
      "  validation accuracy: 79.33 (4072 / 5133), f1 (weighted): 78.85, loss: 9.00e-01\n",
      "  CPU time: 6650s, wall time: 4122s, perf_time_load: 0.26s, perf_time: 0.26s\n",
      "step 12250 / 98012 (epoch 12.50 / 100):\n",
      "  learning_rate = 1.00e-02, training loss = 4.56e-01\n",
      "  validation accuracy: 80.73 (4144 / 5133), f1 (weighted): 79.87, loss: 8.87e-01\n",
      "  CPU time: 6922s, wall time: 4293s, perf_time_load: 0.26s, perf_time: 0.26s\n",
      "step 12740 / 98012 (epoch 13.00 / 100):\n",
      "  learning_rate = 1.00e-02, training loss = 4.77e-01\n",
      "  validation accuracy: 80.62 (4138 / 5133), f1 (weighted): 79.50, loss: 8.76e-01\n",
      "  CPU time: 7193s, wall time: 4464s, perf_time_load: 0.26s, perf_time: 0.26s\n",
      "step 13230 / 98012 (epoch 13.50 / 100):\n",
      "  learning_rate = 1.00e-02, training loss = 3.99e-01\n",
      "  validation accuracy: 80.26 (4120 / 5133), f1 (weighted): 79.20, loss: 9.11e-01\n",
      "  CPU time: 7451s, wall time: 4634s, perf_time_load: 0.26s, perf_time: 0.26s\n",
      "step 13720 / 98012 (epoch 14.00 / 100):\n",
      "  learning_rate = 1.00e-02, training loss = 5.21e-01\n",
      "  validation accuracy: 81.47 (4182 / 5133), f1 (weighted): 80.56, loss: 8.66e-01\n",
      "  CPU time: 7714s, wall time: 4805s, perf_time_load: 0.26s, perf_time: 0.26s\n",
      "step 14210 / 98012 (epoch 14.50 / 100):\n",
      "  learning_rate = 1.00e-02, training loss = 6.01e-01\n",
      "  validation accuracy: 80.91 (4153 / 5133), f1 (weighted): 80.34, loss: 8.53e-01\n",
      "  CPU time: 7972s, wall time: 4977s, perf_time_load: 0.26s, perf_time: 0.26s\n",
      "step 14700 / 98012 (epoch 15.00 / 100):\n",
      "  learning_rate = 1.00e-02, training loss = 5.96e-01\n",
      "  validation accuracy: 80.50 (4132 / 5133), f1 (weighted): 79.78, loss: 8.64e-01\n",
      "  CPU time: 8235s, wall time: 5150s, perf_time_load: 0.26s, perf_time: 0.26s\n",
      "step 15190 / 98012 (epoch 15.50 / 100):\n",
      "  learning_rate = 1.00e-02, training loss = 3.17e-01\n",
      "  validation accuracy: 80.89 (4152 / 5133), f1 (weighted): 80.18, loss: 8.75e-01\n",
      "  CPU time: 8500s, wall time: 5322s, perf_time_load: 0.26s, perf_time: 0.26s\n",
      "step 15680 / 98012 (epoch 16.00 / 100):\n",
      "  learning_rate = 1.00e-02, training loss = 5.79e-01\n",
      "  validation accuracy: 80.32 (4123 / 5133), f1 (weighted): 79.47, loss: 8.78e-01\n",
      "  CPU time: 8765s, wall time: 5492s, perf_time_load: 0.26s, perf_time: 0.26s\n",
      "step 16170 / 98012 (epoch 16.50 / 100):\n",
      "  learning_rate = 1.00e-02, training loss = 3.98e-01\n",
      "  validation accuracy: 80.97 (4156 / 5133), f1 (weighted): 80.22, loss: 8.81e-01\n",
      "  CPU time: 9027s, wall time: 5663s, perf_time_load: 0.26s, perf_time: 0.26s\n",
      "step 16660 / 98012 (epoch 17.00 / 100):\n",
      "  learning_rate = 1.00e-02, training loss = 2.15e-01\n"
     ]
    },
    {
     "name": "stdout",
     "output_type": "stream",
     "text": [
      "  validation accuracy: 80.56 (4135 / 5133), f1 (weighted): 79.22, loss: 9.22e-01\n",
      "  CPU time: 9300s, wall time: 5834s, perf_time_load: 0.26s, perf_time: 0.26s\n",
      "step 17150 / 98012 (epoch 17.50 / 100):\n",
      "  learning_rate = 1.00e-02, training loss = 4.41e-01\n",
      "  validation accuracy: 82.02 (4210 / 5133), f1 (weighted): 81.17, loss: 8.52e-01\n",
      "  CPU time: 9558s, wall time: 6004s, perf_time_load: 0.26s, perf_time: 0.26s\n",
      "step 17640 / 98012 (epoch 18.00 / 100):\n",
      "  learning_rate = 1.00e-02, training loss = 4.98e-01\n",
      "  validation accuracy: 81.28 (4172 / 5133), f1 (weighted): 80.45, loss: 8.81e-01\n",
      "  CPU time: 9818s, wall time: 6175s, perf_time_load: 0.26s, perf_time: 0.26s\n",
      "step 18130 / 98012 (epoch 18.50 / 100):\n",
      "  learning_rate = 1.00e-02, training loss = 3.67e-01\n",
      "  validation accuracy: 81.96 (4207 / 5133), f1 (weighted): 81.24, loss: 8.49e-01\n",
      "  CPU time: 10092s, wall time: 6347s, perf_time_load: 0.26s, perf_time: 0.26s\n",
      "step 18620 / 98012 (epoch 19.00 / 100):\n",
      "  learning_rate = 1.00e-02, training loss = 4.72e-01\n",
      "  validation accuracy: 82.10 (4214 / 5133), f1 (weighted): 81.13, loss: 8.59e-01\n",
      "  CPU time: 10364s, wall time: 6518s, perf_time_load: 0.26s, perf_time: 0.26s\n",
      "step 19110 / 98012 (epoch 19.50 / 100):\n",
      "  learning_rate = 1.00e-02, training loss = 3.26e-01\n",
      "  validation accuracy: 81.73 (4195 / 5133), f1 (weighted): 80.91, loss: 8.74e-01\n",
      "  CPU time: 10639s, wall time: 6690s, perf_time_load: 0.26s, perf_time: 0.26s\n",
      "step 19600 / 98012 (epoch 20.00 / 100):\n",
      "  learning_rate = 1.00e-02, training loss = 5.46e-01\n",
      "  validation accuracy: 80.93 (4154 / 5133), f1 (weighted): 80.34, loss: 9.08e-01\n",
      "  CPU time: 10912s, wall time: 6862s, perf_time_load: 0.26s, perf_time: 0.26s\n",
      "step 20090 / 98012 (epoch 20.50 / 100):\n",
      "  learning_rate = 1.00e-02, training loss = 3.75e-01\n",
      "  validation accuracy: 81.34 (4175 / 5133), f1 (weighted): 80.20, loss: 8.78e-01\n",
      "  CPU time: 11185s, wall time: 7034s, perf_time_load: 0.26s, perf_time: 0.26s\n",
      "step 20580 / 98012 (epoch 21.00 / 100):\n",
      "  learning_rate = 1.00e-02, training loss = 5.80e-01\n",
      "  validation accuracy: 81.75 (4196 / 5133), f1 (weighted): 81.03, loss: 8.71e-01\n",
      "  CPU time: 11459s, wall time: 7206s, perf_time_load: 0.26s, perf_time: 0.26s\n",
      "step 21070 / 98012 (epoch 21.50 / 100):\n",
      "  learning_rate = 1.00e-02, training loss = 3.36e-01\n",
      "  validation accuracy: 81.77 (4197 / 5133), f1 (weighted): 81.01, loss: 8.70e-01\n",
      "  CPU time: 11733s, wall time: 7378s, perf_time_load: 0.26s, perf_time: 0.26s\n",
      "step 21560 / 98012 (epoch 22.00 / 100):\n",
      "  learning_rate = 1.00e-02, training loss = 3.18e-01\n",
      "  validation accuracy: 80.52 (4133 / 5133), f1 (weighted): 80.25, loss: 9.09e-01\n",
      "  CPU time: 12007s, wall time: 7550s, perf_time_load: 0.26s, perf_time: 0.26s\n",
      "step 22050 / 98012 (epoch 22.50 / 100):\n",
      "  learning_rate = 1.00e-02, training loss = 3.63e-01\n",
      "  validation accuracy: 81.06 (4161 / 5133), f1 (weighted): 80.22, loss: 9.29e-01\n",
      "  CPU time: 12280s, wall time: 7721s, perf_time_load: 0.26s, perf_time: 0.26s\n",
      "step 22540 / 98012 (epoch 23.00 / 100):\n",
      "  learning_rate = 1.00e-02, training loss = 4.96e-01\n",
      "  validation accuracy: 81.75 (4196 / 5133), f1 (weighted): 80.93, loss: 8.79e-01\n",
      "  CPU time: 12554s, wall time: 7893s, perf_time_load: 0.26s, perf_time: 0.26s\n",
      "step 23030 / 98012 (epoch 23.50 / 100):\n",
      "  learning_rate = 1.00e-02, training loss = 4.89e-01\n",
      "  validation accuracy: 81.69 (4193 / 5133), f1 (weighted): 81.05, loss: 8.65e-01\n",
      "  CPU time: 12825s, wall time: 8065s, perf_time_load: 0.26s, perf_time: 0.26s\n",
      "step 23520 / 98012 (epoch 24.00 / 100):\n",
      "  learning_rate = 1.00e-02, training loss = 4.59e-01\n",
      "  validation accuracy: 81.78 (4198 / 5133), f1 (weighted): 80.77, loss: 8.82e-01\n",
      "  CPU time: 13100s, wall time: 8237s, perf_time_load: 0.26s, perf_time: 0.26s\n",
      "step 24010 / 98012 (epoch 24.50 / 100):\n",
      "  learning_rate = 1.00e-02, training loss = 5.01e-01\n",
      "  validation accuracy: 81.94 (4206 / 5133), f1 (weighted): 81.00, loss: 8.81e-01\n",
      "  CPU time: 13374s, wall time: 8410s, perf_time_load: 0.26s, perf_time: 0.26s\n",
      "step 24500 / 98012 (epoch 25.00 / 100):\n",
      "  learning_rate = 1.00e-02, training loss = 5.11e-01\n",
      "  validation accuracy: 81.69 (4193 / 5133), f1 (weighted): 80.94, loss: 8.71e-01\n",
      "  CPU time: 13648s, wall time: 8582s, perf_time_load: 0.26s, perf_time: 0.26s\n",
      "step 24990 / 98012 (epoch 25.50 / 100):\n",
      "  learning_rate = 1.00e-02, training loss = 5.88e-01\n",
      "  validation accuracy: 80.54 (4134 / 5133), f1 (weighted): 79.90, loss: 9.10e-01\n",
      "  CPU time: 13922s, wall time: 8754s, perf_time_load: 0.26s, perf_time: 0.26s\n",
      "step 25480 / 98012 (epoch 26.00 / 100):\n",
      "  learning_rate = 1.00e-02, training loss = 4.72e-01\n",
      "  validation accuracy: 81.73 (4195 / 5133), f1 (weighted): 80.88, loss: 8.85e-01\n",
      "  CPU time: 14198s, wall time: 8925s, perf_time_load: 0.26s, perf_time: 0.26s\n",
      "step 25970 / 98012 (epoch 26.50 / 100):\n",
      "  learning_rate = 1.00e-02, training loss = 4.35e-01\n",
      "  validation accuracy: 81.38 (4177 / 5133), f1 (weighted): 80.41, loss: 9.06e-01\n",
      "  CPU time: 14474s, wall time: 9097s, perf_time_load: 0.26s, perf_time: 0.26s\n",
      "step 26460 / 98012 (epoch 27.00 / 100):\n",
      "  learning_rate = 1.00e-02, training loss = 5.02e-01\n",
      "  validation accuracy: 80.60 (4137 / 5133), f1 (weighted): 80.20, loss: 9.40e-01\n",
      "  CPU time: 14749s, wall time: 9269s, perf_time_load: 0.26s, perf_time: 0.26s\n",
      "step 26950 / 98012 (epoch 27.50 / 100):\n",
      "  learning_rate = 1.00e-02, training loss = 4.93e-01\n",
      "  validation accuracy: 82.19 (4219 / 5133), f1 (weighted): 81.70, loss: 8.69e-01\n",
      "  CPU time: 15023s, wall time: 9441s, perf_time_load: 0.26s, perf_time: 0.26s\n",
      "step 27440 / 98012 (epoch 28.00 / 100):\n",
      "  learning_rate = 1.00e-02, training loss = 3.66e-01\n",
      "  validation accuracy: 81.39 (4178 / 5133), f1 (weighted): 80.72, loss: 8.84e-01\n",
      "  CPU time: 15297s, wall time: 9614s, perf_time_load: 0.26s, perf_time: 0.26s\n",
      "step 27930 / 98012 (epoch 28.50 / 100):\n",
      "  learning_rate = 1.00e-02, training loss = 4.26e-01\n",
      "  validation accuracy: 81.38 (4177 / 5133), f1 (weighted): 80.71, loss: 8.79e-01\n",
      "  CPU time: 15568s, wall time: 9785s, perf_time_load: 0.26s, perf_time: 0.26s\n",
      "step 28420 / 98012 (epoch 29.00 / 100):\n",
      "  learning_rate = 1.00e-02, training loss = 4.77e-01\n",
      "  validation accuracy: 81.47 (4182 / 5133), f1 (weighted): 80.81, loss: 8.90e-01\n",
      "  CPU time: 15842s, wall time: 9957s, perf_time_load: 0.26s, perf_time: 0.26s\n",
      "step 28910 / 98012 (epoch 29.50 / 100):\n",
      "  learning_rate = 1.00e-02, training loss = 6.25e-01\n",
      "  validation accuracy: 81.16 (4166 / 5133), f1 (weighted): 80.25, loss: 8.83e-01\n",
      "  CPU time: 16118s, wall time: 10130s, perf_time_load: 0.26s, perf_time: 0.26s\n",
      "step 29400 / 98012 (epoch 30.00 / 100):\n",
      "  learning_rate = 1.00e-02, training loss = 5.14e-01\n",
      "  validation accuracy: 81.41 (4179 / 5133), f1 (weighted): 80.39, loss: 9.04e-01\n",
      "  CPU time: 16395s, wall time: 10302s, perf_time_load: 0.26s, perf_time: 0.26s\n",
      "step 29890 / 98012 (epoch 30.50 / 100):\n",
      "  learning_rate = 1.00e-02, training loss = 3.26e-01\n",
      "  validation accuracy: 80.62 (4138 / 5133), f1 (weighted): 79.91, loss: 9.30e-01\n",
      "  CPU time: 16672s, wall time: 10475s, perf_time_load: 0.26s, perf_time: 0.26s\n",
      "step 30380 / 98012 (epoch 31.00 / 100):\n",
      "  learning_rate = 1.00e-02, training loss = 3.60e-01\n",
      "  validation accuracy: 82.35 (4227 / 5133), f1 (weighted): 82.02, loss: 8.74e-01\n",
      "  CPU time: 16945s, wall time: 10647s, perf_time_load: 0.26s, perf_time: 0.26s\n",
      "step 30870 / 98012 (epoch 31.50 / 100):\n",
      "  learning_rate = 1.00e-02, training loss = 4.22e-01\n",
      "  validation accuracy: 82.00 (4209 / 5133), f1 (weighted): 81.31, loss: 8.83e-01\n",
      "  CPU time: 17220s, wall time: 10819s, perf_time_load: 0.26s, perf_time: 0.26s\n",
      "step 31360 / 98012 (epoch 32.00 / 100):\n",
      "  learning_rate = 1.00e-02, training loss = 4.06e-01\n",
      "  validation accuracy: 81.96 (4207 / 5133), f1 (weighted): 81.30, loss: 8.88e-01\n",
      "  CPU time: 17493s, wall time: 10991s, perf_time_load: 0.26s, perf_time: 0.26s\n",
      "step 31850 / 98012 (epoch 32.50 / 100):\n",
      "  learning_rate = 1.00e-02, training loss = 3.86e-01\n",
      "  validation accuracy: 80.34 (4124 / 5133), f1 (weighted): 79.54, loss: 9.40e-01\n",
      "  CPU time: 17766s, wall time: 11163s, perf_time_load: 0.26s, perf_time: 0.26s\n",
      "step 32340 / 98012 (epoch 33.00 / 100):\n",
      "  learning_rate = 1.00e-02, training loss = 4.44e-01\n",
      "  validation accuracy: 81.98 (4208 / 5133), f1 (weighted): 81.24, loss: 9.03e-01\n",
      "  CPU time: 18040s, wall time: 11335s, perf_time_load: 0.26s, perf_time: 0.26s\n"
     ]
    },
    {
     "name": "stdout",
     "output_type": "stream",
     "text": [
      "step 32830 / 98012 (epoch 33.50 / 100):\n",
      "  learning_rate = 1.00e-02, training loss = 3.39e-01\n",
      "  validation accuracy: 81.36 (4176 / 5133), f1 (weighted): 80.39, loss: 9.12e-01\n",
      "  CPU time: 18317s, wall time: 11507s, perf_time_load: 0.26s, perf_time: 0.26s\n",
      "step 33320 / 98012 (epoch 34.00 / 100):\n",
      "  learning_rate = 1.00e-02, training loss = 2.83e-01\n",
      "  validation accuracy: 81.88 (4203 / 5133), f1 (weighted): 81.03, loss: 9.32e-01\n",
      "  CPU time: 18589s, wall time: 11679s, perf_time_load: 0.26s, perf_time: 0.26s\n",
      "step 33810 / 98012 (epoch 34.50 / 100):\n",
      "  learning_rate = 1.00e-02, training loss = 2.54e-01\n",
      "  validation accuracy: 81.38 (4177 / 5133), f1 (weighted): 80.63, loss: 9.46e-01\n",
      "  CPU time: 18862s, wall time: 11851s, perf_time_load: 0.26s, perf_time: 0.26s\n",
      "step 34300 / 98012 (epoch 35.00 / 100):\n",
      "  learning_rate = 1.00e-02, training loss = 2.84e-01\n",
      "  validation accuracy: 81.82 (4200 / 5133), f1 (weighted): 81.48, loss: 9.12e-01\n",
      "  CPU time: 19136s, wall time: 12023s, perf_time_load: 0.26s, perf_time: 0.26s\n",
      "step 34790 / 98012 (epoch 35.50 / 100):\n",
      "  learning_rate = 1.00e-02, training loss = 2.15e-01\n",
      "  validation accuracy: 82.19 (4219 / 5133), f1 (weighted): 81.57, loss: 9.08e-01\n",
      "  CPU time: 19407s, wall time: 12195s, perf_time_load: 0.26s, perf_time: 0.26s\n",
      "step 35280 / 98012 (epoch 36.00 / 100):\n",
      "  learning_rate = 1.00e-02, training loss = 4.04e-01\n",
      "  validation accuracy: 81.45 (4181 / 5133), f1 (weighted): 80.51, loss: 9.09e-01\n",
      "  CPU time: 19681s, wall time: 12367s, perf_time_load: 0.26s, perf_time: 0.26s\n",
      "step 35770 / 98012 (epoch 36.50 / 100):\n",
      "  learning_rate = 1.00e-02, training loss = 3.14e-01\n",
      "  validation accuracy: 82.27 (4223 / 5133), f1 (weighted): 81.55, loss: 8.86e-01\n",
      "  CPU time: 19951s, wall time: 12539s, perf_time_load: 0.26s, perf_time: 0.26s\n",
      "step 36260 / 98012 (epoch 37.00 / 100):\n",
      "  learning_rate = 1.00e-02, training loss = 3.64e-01\n",
      "  validation accuracy: 81.51 (4184 / 5133), f1 (weighted): 81.17, loss: 9.34e-01\n",
      "  CPU time: 20226s, wall time: 12711s, perf_time_load: 0.26s, perf_time: 0.26s\n",
      "step 36750 / 98012 (epoch 37.50 / 100):\n",
      "  learning_rate = 1.00e-02, training loss = 3.59e-01\n",
      "  validation accuracy: 81.77 (4197 / 5133), f1 (weighted): 80.97, loss: 9.43e-01\n",
      "  CPU time: 20502s, wall time: 12883s, perf_time_load: 0.26s, perf_time: 0.26s\n",
      "step 37240 / 98012 (epoch 38.00 / 100):\n",
      "  learning_rate = 1.00e-02, training loss = 2.57e-01\n",
      "  validation accuracy: 82.51 (4235 / 5133), f1 (weighted): 81.79, loss: 9.12e-01\n",
      "  CPU time: 20776s, wall time: 13055s, perf_time_load: 0.26s, perf_time: 0.26s\n",
      "step 37730 / 98012 (epoch 38.50 / 100):\n",
      "  learning_rate = 1.00e-02, training loss = 4.56e-01\n",
      "  validation accuracy: 82.04 (4211 / 5133), f1 (weighted): 81.55, loss: 9.21e-01\n",
      "  CPU time: 21050s, wall time: 13227s, perf_time_load: 0.26s, perf_time: 0.26s\n",
      "step 38220 / 98012 (epoch 39.00 / 100):\n",
      "  learning_rate = 1.00e-02, training loss = 4.66e-01\n",
      "  validation accuracy: 81.49 (4183 / 5133), f1 (weighted): 80.46, loss: 9.60e-01\n",
      "  CPU time: 21323s, wall time: 13399s, perf_time_load: 0.26s, perf_time: 0.26s\n",
      "step 38710 / 98012 (epoch 39.49 / 100):\n",
      "  learning_rate = 1.00e-02, training loss = 3.31e-01\n",
      "  validation accuracy: 81.39 (4178 / 5133), f1 (weighted): 80.59, loss: 9.40e-01\n",
      "  CPU time: 21599s, wall time: 13571s, perf_time_load: 0.26s, perf_time: 0.26s\n",
      "step 39200 / 98012 (epoch 39.99 / 100):\n",
      "  learning_rate = 1.00e-02, training loss = 4.26e-01\n",
      "  validation accuracy: 80.71 (4143 / 5133), f1 (weighted): 80.19, loss: 9.40e-01\n",
      "  CPU time: 21873s, wall time: 13744s, perf_time_load: 0.26s, perf_time: 0.26s\n",
      "step 39690 / 98012 (epoch 40.49 / 100):\n",
      "  learning_rate = 1.00e-02, training loss = 5.27e-01\n",
      "  validation accuracy: 81.73 (4195 / 5133), f1 (weighted): 81.16, loss: 9.15e-01\n",
      "  CPU time: 22145s, wall time: 13916s, perf_time_load: 0.26s, perf_time: 0.26s\n",
      "step 40180 / 98012 (epoch 40.99 / 100):\n",
      "  learning_rate = 1.00e-02, training loss = 3.61e-01\n",
      "  validation accuracy: 81.32 (4174 / 5133), f1 (weighted): 80.80, loss: 9.57e-01\n",
      "  CPU time: 22420s, wall time: 14088s, perf_time_load: 0.26s, perf_time: 0.26s\n",
      "step 40670 / 98012 (epoch 41.49 / 100):\n",
      "  learning_rate = 1.00e-02, training loss = 4.34e-01\n",
      "  validation accuracy: 82.47 (4233 / 5133), f1 (weighted): 81.64, loss: 9.10e-01\n",
      "  CPU time: 22690s, wall time: 14260s, perf_time_load: 0.26s, perf_time: 0.26s\n",
      "step 41160 / 98012 (epoch 41.99 / 100):\n",
      "  learning_rate = 1.00e-02, training loss = 5.22e-01\n",
      "  validation accuracy: 82.06 (4212 / 5133), f1 (weighted): 81.43, loss: 9.23e-01\n",
      "  CPU time: 22962s, wall time: 14431s, perf_time_load: 0.26s, perf_time: 0.26s\n",
      "step 41650 / 98012 (epoch 42.49 / 100):\n",
      "  learning_rate = 1.00e-02, training loss = 2.77e-01\n",
      "  validation accuracy: 81.59 (4188 / 5133), f1 (weighted): 80.90, loss: 9.47e-01\n",
      "  CPU time: 23237s, wall time: 14604s, perf_time_load: 0.26s, perf_time: 0.26s\n",
      "step 42140 / 98012 (epoch 42.99 / 100):\n",
      "  learning_rate = 1.00e-02, training loss = 2.95e-01\n",
      "  validation accuracy: 80.91 (4153 / 5133), f1 (weighted): 80.39, loss: 9.49e-01\n",
      "  CPU time: 23509s, wall time: 14776s, perf_time_load: 0.26s, perf_time: 0.26s\n",
      "step 42630 / 98012 (epoch 43.49 / 100):\n",
      "  learning_rate = 1.00e-02, training loss = 2.99e-01\n",
      "  validation accuracy: 81.57 (4187 / 5133), f1 (weighted): 80.85, loss: 9.62e-01\n",
      "  CPU time: 23782s, wall time: 14948s, perf_time_load: 0.26s, perf_time: 0.26s\n",
      "step 43120 / 98012 (epoch 43.99 / 100):\n",
      "  learning_rate = 1.00e-02, training loss = 2.63e-01\n",
      "  validation accuracy: 81.53 (4185 / 5133), f1 (weighted): 81.13, loss: 9.48e-01\n",
      "  CPU time: 24055s, wall time: 15120s, perf_time_load: 0.26s, perf_time: 0.26s\n",
      "step 43610 / 98012 (epoch 44.49 / 100):\n",
      "  learning_rate = 1.00e-02, training loss = 3.73e-01\n",
      "  validation accuracy: 82.37 (4228 / 5133), f1 (weighted): 81.83, loss: 9.22e-01\n",
      "  CPU time: 24328s, wall time: 15292s, perf_time_load: 0.26s, perf_time: 0.26s\n",
      "step 44100 / 98012 (epoch 44.99 / 100):\n",
      "  learning_rate = 1.00e-02, training loss = 4.73e-01\n",
      "  validation accuracy: 81.75 (4196 / 5133), f1 (weighted): 80.78, loss: 9.54e-01\n",
      "  CPU time: 24600s, wall time: 15464s, perf_time_load: 0.26s, perf_time: 0.26s\n",
      "step 44590 / 98012 (epoch 45.49 / 100):\n",
      "  learning_rate = 1.00e-02, training loss = 3.22e-01\n",
      "  validation accuracy: 81.59 (4188 / 5133), f1 (weighted): 80.68, loss: 9.26e-01\n",
      "  CPU time: 24871s, wall time: 15636s, perf_time_load: 0.26s, perf_time: 0.26s\n",
      "step 45080 / 98012 (epoch 45.99 / 100):\n",
      "  learning_rate = 1.00e-02, training loss = 3.68e-01\n",
      "  validation accuracy: 81.41 (4179 / 5133), f1 (weighted): 80.79, loss: 9.55e-01\n",
      "  CPU time: 25145s, wall time: 15808s, perf_time_load: 0.26s, perf_time: 0.26s\n",
      "step 45570 / 98012 (epoch 46.49 / 100):\n",
      "  learning_rate = 1.00e-02, training loss = 4.68e-01\n",
      "  validation accuracy: 81.28 (4172 / 5133), f1 (weighted): 80.90, loss: 9.35e-01\n",
      "  CPU time: 25418s, wall time: 15980s, perf_time_load: 0.26s, perf_time: 0.26s\n",
      "step 46060 / 98012 (epoch 46.99 / 100):\n",
      "  learning_rate = 1.00e-02, training loss = 2.71e-01\n",
      "  validation accuracy: 80.77 (4146 / 5133), f1 (weighted): 80.09, loss: 9.90e-01\n",
      "  CPU time: 25691s, wall time: 16152s, perf_time_load: 0.26s, perf_time: 0.26s\n",
      "step 46550 / 98012 (epoch 47.49 / 100):\n",
      "  learning_rate = 1.00e-02, training loss = 4.21e-01\n",
      "  validation accuracy: 82.45 (4232 / 5133), f1 (weighted): 81.76, loss: 9.46e-01\n",
      "  CPU time: 25963s, wall time: 16324s, perf_time_load: 0.26s, perf_time: 0.26s\n",
      "step 47040 / 98012 (epoch 47.99 / 100):\n",
      "  learning_rate = 1.00e-02, training loss = 4.23e-01\n",
      "  validation accuracy: 82.54 (4237 / 5133), f1 (weighted): 81.76, loss: 9.52e-01\n",
      "  CPU time: 26236s, wall time: 16496s, perf_time_load: 0.26s, perf_time: 0.26s\n",
      "step 47530 / 98012 (epoch 48.49 / 100):\n",
      "  learning_rate = 1.00e-02, training loss = 4.17e-01\n",
      "  validation accuracy: 81.63 (4190 / 5133), f1 (weighted): 81.14, loss: 9.28e-01\n",
      "  CPU time: 26509s, wall time: 16668s, perf_time_load: 0.26s, perf_time: 0.26s\n",
      "step 48020 / 98012 (epoch 48.99 / 100):\n",
      "  learning_rate = 1.00e-02, training loss = 4.19e-01\n",
      "  validation accuracy: 81.14 (4165 / 5133), f1 (weighted): 80.54, loss: 9.57e-01\n",
      "  CPU time: 26783s, wall time: 16840s, perf_time_load: 0.26s, perf_time: 0.26s\n",
      "step 48510 / 98012 (epoch 49.49 / 100):\n",
      "  learning_rate = 1.00e-02, training loss = 2.51e-01\n",
      "  validation accuracy: 81.63 (4190 / 5133), f1 (weighted): 81.04, loss: 9.42e-01\n",
      "  CPU time: 27057s, wall time: 17013s, perf_time_load: 0.26s, perf_time: 0.26s\n"
     ]
    },
    {
     "name": "stdout",
     "output_type": "stream",
     "text": [
      "step 49000 / 98012 (epoch 49.99 / 100):\n",
      "  learning_rate = 1.00e-02, training loss = 4.51e-01\n",
      "  validation accuracy: 81.57 (4187 / 5133), f1 (weighted): 81.25, loss: 9.72e-01\n",
      "  CPU time: 27330s, wall time: 17185s, perf_time_load: 0.26s, perf_time: 0.26s\n",
      "step 49490 / 98012 (epoch 50.49 / 100):\n",
      "  learning_rate = 1.00e-02, training loss = 3.41e-01\n",
      "  validation accuracy: 81.14 (4165 / 5133), f1 (weighted): 80.46, loss: 9.91e-01\n",
      "  CPU time: 27600s, wall time: 17357s, perf_time_load: 0.26s, perf_time: 0.26s\n",
      "step 49980 / 98012 (epoch 50.99 / 100):\n",
      "  learning_rate = 1.00e-02, training loss = 3.71e-01\n",
      "  validation accuracy: 80.85 (4150 / 5133), f1 (weighted): 80.76, loss: 9.66e-01\n",
      "  CPU time: 27873s, wall time: 17529s, perf_time_load: 0.26s, perf_time: 0.26s\n",
      "step 50470 / 98012 (epoch 51.49 / 100):\n",
      "  learning_rate = 1.00e-02, training loss = 3.46e-01\n",
      "  validation accuracy: 81.10 (4163 / 5133), f1 (weighted): 80.71, loss: 9.67e-01\n",
      "  CPU time: 28144s, wall time: 17701s, perf_time_load: 0.26s, perf_time: 0.26s\n",
      "step 50960 / 98012 (epoch 51.99 / 100):\n",
      "  learning_rate = 1.00e-02, training loss = 2.93e-01\n",
      "  validation accuracy: 81.53 (4185 / 5133), f1 (weighted): 81.25, loss: 9.52e-01\n",
      "  CPU time: 28417s, wall time: 17873s, perf_time_load: 0.26s, perf_time: 0.26s\n",
      "step 51450 / 98012 (epoch 52.49 / 100):\n",
      "  learning_rate = 1.00e-02, training loss = 3.19e-01\n",
      "  validation accuracy: 81.61 (4189 / 5133), f1 (weighted): 80.95, loss: 1.00e+00\n",
      "  CPU time: 28694s, wall time: 18045s, perf_time_load: 0.26s, perf_time: 0.26s\n",
      "step 51940 / 98012 (epoch 52.99 / 100):\n",
      "  learning_rate = 1.00e-02, training loss = 4.79e-01\n",
      "  validation accuracy: 80.58 (4136 / 5133), f1 (weighted): 79.99, loss: 1.00e+00\n",
      "  CPU time: 28967s, wall time: 18217s, perf_time_load: 0.26s, perf_time: 0.26s\n",
      "step 52430 / 98012 (epoch 53.49 / 100):\n",
      "  learning_rate = 1.00e-02, training loss = 3.05e-01\n",
      "  validation accuracy: 81.39 (4178 / 5133), f1 (weighted): 80.79, loss: 9.56e-01\n",
      "  CPU time: 29241s, wall time: 18389s, perf_time_load: 0.26s, perf_time: 0.26s\n",
      "step 52920 / 98012 (epoch 53.99 / 100):\n",
      "  learning_rate = 1.00e-02, training loss = 2.60e-01\n",
      "  validation accuracy: 80.85 (4150 / 5133), f1 (weighted): 80.37, loss: 9.96e-01\n",
      "  CPU time: 29514s, wall time: 18562s, perf_time_load: 0.26s, perf_time: 0.26s\n",
      "step 53410 / 98012 (epoch 54.49 / 100):\n",
      "  learning_rate = 1.00e-02, training loss = 3.25e-01\n",
      "  validation accuracy: 81.04 (4160 / 5133), f1 (weighted): 80.06, loss: 1.01e+00\n",
      "  CPU time: 29789s, wall time: 18734s, perf_time_load: 0.26s, perf_time: 0.26s\n",
      "step 53900 / 98012 (epoch 54.99 / 100):\n",
      "  learning_rate = 1.00e-02, training loss = 3.47e-01\n",
      "  validation accuracy: 80.79 (4147 / 5133), f1 (weighted): 80.11, loss: 9.73e-01\n",
      "  CPU time: 30083s, wall time: 18908s, perf_time_load: 0.26s, perf_time: 0.26s\n",
      "step 54390 / 98012 (epoch 55.49 / 100):\n",
      "  learning_rate = 1.00e-02, training loss = 3.96e-01\n",
      "  validation accuracy: 81.01 (4158 / 5133), f1 (weighted): 80.60, loss: 9.98e-01\n",
      "  CPU time: 30382s, wall time: 19082s, perf_time_load: 0.26s, perf_time: 0.26s\n",
      "step 54880 / 98012 (epoch 55.99 / 100):\n",
      "  learning_rate = 1.00e-02, training loss = 4.38e-01\n",
      "  validation accuracy: 80.34 (4124 / 5133), f1 (weighted): 79.76, loss: 9.87e-01\n",
      "  CPU time: 30683s, wall time: 19257s, perf_time_load: 0.26s, perf_time: 0.26s\n",
      "step 55370 / 98012 (epoch 56.49 / 100):\n",
      "  learning_rate = 1.00e-02, training loss = 3.59e-01\n",
      "  validation accuracy: 80.44 (4129 / 5133), f1 (weighted): 79.52, loss: 1.02e+00\n",
      "  CPU time: 30984s, wall time: 19431s, perf_time_load: 0.26s, perf_time: 0.26s\n",
      "step 55860 / 98012 (epoch 56.99 / 100):\n",
      "  learning_rate = 1.00e-02, training loss = 3.22e-01\n",
      "  validation accuracy: 82.06 (4212 / 5133), f1 (weighted): 81.29, loss: 9.80e-01\n",
      "  CPU time: 31285s, wall time: 19606s, perf_time_load: 0.26s, perf_time: 0.26s\n",
      "step 56350 / 98012 (epoch 57.49 / 100):\n",
      "  learning_rate = 1.00e-02, training loss = 3.67e-01\n",
      "  validation accuracy: 80.46 (4130 / 5133), f1 (weighted): 79.94, loss: 9.84e-01\n",
      "  CPU time: 31583s, wall time: 19780s, perf_time_load: 0.26s, perf_time: 0.26s\n",
      "step 56840 / 98012 (epoch 57.99 / 100):\n",
      "  learning_rate = 1.00e-02, training loss = 2.60e-01\n",
      "  validation accuracy: 81.01 (4158 / 5133), f1 (weighted): 80.28, loss: 9.90e-01\n",
      "  CPU time: 31884s, wall time: 19954s, perf_time_load: 0.26s, perf_time: 0.26s\n",
      "step 57330 / 98012 (epoch 58.49 / 100):\n",
      "  learning_rate = 1.00e-02, training loss = 5.78e-01\n",
      "  validation accuracy: 81.22 (4169 / 5133), f1 (weighted): 80.62, loss: 9.90e-01\n",
      "  CPU time: 32183s, wall time: 20129s, perf_time_load: 0.26s, perf_time: 0.26s\n",
      "step 57820 / 98012 (epoch 58.99 / 100):\n",
      "  learning_rate = 1.00e-02, training loss = 3.73e-01\n",
      "  validation accuracy: 80.09 (4111 / 5133), f1 (weighted): 78.95, loss: 1.06e+00\n",
      "  CPU time: 32483s, wall time: 20303s, perf_time_load: 0.26s, perf_time: 0.26s\n",
      "step 58310 / 98012 (epoch 59.49 / 100):\n",
      "  learning_rate = 1.00e-02, training loss = 2.63e-01\n",
      "  validation accuracy: 81.36 (4176 / 5133), f1 (weighted): 80.67, loss: 9.79e-01\n",
      "  CPU time: 32784s, wall time: 20477s, perf_time_load: 0.26s, perf_time: 0.26s\n",
      "step 58800 / 98012 (epoch 59.99 / 100):\n",
      "  learning_rate = 1.00e-02, training loss = 3.57e-01\n",
      "  validation accuracy: 81.41 (4179 / 5133), f1 (weighted): 80.93, loss: 1.01e+00\n",
      "  CPU time: 33085s, wall time: 20652s, perf_time_load: 0.26s, perf_time: 0.26s\n",
      "step 59290 / 98012 (epoch 60.49 / 100):\n",
      "  learning_rate = 1.00e-02, training loss = 5.73e-01\n",
      "  validation accuracy: 82.56 (4238 / 5133), f1 (weighted): 81.74, loss: 9.58e-01\n",
      "  CPU time: 33386s, wall time: 20826s, perf_time_load: 0.26s, perf_time: 0.26s\n",
      "step 59780 / 98012 (epoch 60.99 / 100):\n",
      "  learning_rate = 1.00e-02, training loss = 3.79e-01\n",
      "  validation accuracy: 81.02 (4159 / 5133), f1 (weighted): 80.60, loss: 9.89e-01\n",
      "  CPU time: 33686s, wall time: 21001s, perf_time_load: 0.26s, perf_time: 0.26s\n",
      "step 60270 / 98012 (epoch 61.49 / 100):\n",
      "  learning_rate = 1.00e-02, training loss = 4.48e-01\n",
      "  validation accuracy: 80.26 (4120 / 5133), f1 (weighted): 79.62, loss: 9.94e-01\n",
      "  CPU time: 33986s, wall time: 21175s, perf_time_load: 0.26s, perf_time: 0.26s\n",
      "step 60760 / 98012 (epoch 61.99 / 100):\n",
      "  learning_rate = 1.00e-02, training loss = 2.91e-01\n",
      "  validation accuracy: 81.51 (4184 / 5133), f1 (weighted): 81.18, loss: 9.70e-01\n",
      "  CPU time: 34287s, wall time: 21350s, perf_time_load: 0.26s, perf_time: 0.26s\n",
      "step 61250 / 98012 (epoch 62.49 / 100):\n",
      "  learning_rate = 1.00e-02, training loss = 3.78e-01\n",
      "  validation accuracy: 81.18 (4167 / 5133), f1 (weighted): 80.58, loss: 1.01e+00\n",
      "  CPU time: 34585s, wall time: 21524s, perf_time_load: 0.27s, perf_time: 0.27s\n",
      "step 61740 / 98012 (epoch 62.99 / 100):\n",
      "  learning_rate = 1.00e-02, training loss = 4.39e-01\n",
      "  validation accuracy: 81.14 (4165 / 5133), f1 (weighted): 80.59, loss: 9.91e-01\n",
      "  CPU time: 34886s, wall time: 21699s, perf_time_load: 0.26s, perf_time: 0.26s\n",
      "step 62230 / 98012 (epoch 63.49 / 100):\n",
      "  learning_rate = 1.00e-02, training loss = 2.27e-01\n",
      "  validation accuracy: 81.53 (4185 / 5133), f1 (weighted): 80.88, loss: 9.84e-01\n",
      "  CPU time: 35187s, wall time: 21873s, perf_time_load: 0.26s, perf_time: 0.26s\n",
      "step 62720 / 98012 (epoch 63.99 / 100):\n",
      "  learning_rate = 1.00e-02, training loss = 4.41e-01\n",
      "  validation accuracy: 81.12 (4164 / 5133), f1 (weighted): 80.58, loss: 9.95e-01\n",
      "  CPU time: 35489s, wall time: 22048s, perf_time_load: 0.26s, perf_time: 0.26s\n",
      "step 63210 / 98012 (epoch 64.49 / 100):\n",
      "  learning_rate = 1.00e-02, training loss = 2.52e-01\n",
      "  validation accuracy: 81.32 (4174 / 5133), f1 (weighted): 80.84, loss: 9.89e-01\n",
      "  CPU time: 35784s, wall time: 22223s, perf_time_load: 0.26s, perf_time: 0.26s\n",
      "step 63700 / 98012 (epoch 64.99 / 100):\n",
      "  learning_rate = 1.00e-02, training loss = 2.75e-01\n",
      "  validation accuracy: 81.63 (4190 / 5133), f1 (weighted): 80.98, loss: 9.80e-01\n",
      "  CPU time: 36083s, wall time: 22397s, perf_time_load: 0.26s, perf_time: 0.26s\n",
      "step 64190 / 98012 (epoch 65.49 / 100):\n",
      "  learning_rate = 1.00e-02, training loss = 2.59e-01\n",
      "  validation accuracy: 80.97 (4156 / 5133), f1 (weighted): 79.76, loss: 1.04e+00\n",
      "  CPU time: 36384s, wall time: 22572s, perf_time_load: 0.26s, perf_time: 0.26s\n",
      "step 64680 / 98012 (epoch 65.99 / 100):\n",
      "  learning_rate = 1.00e-02, training loss = 4.01e-01\n",
      "  validation accuracy: 80.67 (4141 / 5133), f1 (weighted): 80.01, loss: 1.02e+00\n",
      "  CPU time: 36685s, wall time: 22746s, perf_time_load: 0.26s, perf_time: 0.26s\n"
     ]
    },
    {
     "name": "stdout",
     "output_type": "stream",
     "text": [
      "step 65170 / 98012 (epoch 66.49 / 100):\n",
      "  learning_rate = 1.00e-02, training loss = 2.74e-01\n",
      "  validation accuracy: 80.81 (4148 / 5133), f1 (weighted): 80.45, loss: 1.01e+00\n",
      "  CPU time: 36987s, wall time: 22921s, perf_time_load: 0.26s, perf_time: 0.26s\n",
      "step 65660 / 98012 (epoch 66.99 / 100):\n",
      "  learning_rate = 1.00e-02, training loss = 3.91e-01\n",
      "  validation accuracy: 81.06 (4161 / 5133), f1 (weighted): 80.46, loss: 1.04e+00\n",
      "  CPU time: 37288s, wall time: 23095s, perf_time_load: 0.26s, perf_time: 0.26s\n",
      "step 66150 / 98012 (epoch 67.49 / 100):\n",
      "  learning_rate = 1.00e-02, training loss = 4.31e-01\n",
      "  validation accuracy: 80.77 (4146 / 5133), f1 (weighted): 80.05, loss: 1.01e+00\n",
      "  CPU time: 37586s, wall time: 23270s, perf_time_load: 0.26s, perf_time: 0.26s\n",
      "step 66640 / 98012 (epoch 67.99 / 100):\n",
      "  learning_rate = 1.00e-02, training loss = 2.40e-01\n",
      "  validation accuracy: 80.46 (4130 / 5133), f1 (weighted): 80.16, loss: 1.00e+00\n",
      "  CPU time: 37884s, wall time: 23444s, perf_time_load: 0.26s, perf_time: 0.26s\n",
      "step 67130 / 98012 (epoch 68.49 / 100):\n",
      "  learning_rate = 1.00e-02, training loss = 2.85e-01\n",
      "  validation accuracy: 81.36 (4176 / 5133), f1 (weighted): 80.71, loss: 1.00e+00\n",
      "  CPU time: 38184s, wall time: 23619s, perf_time_load: 0.26s, perf_time: 0.26s\n",
      "step 67620 / 98012 (epoch 68.99 / 100):\n",
      "  learning_rate = 1.00e-02, training loss = 3.29e-01\n",
      "  validation accuracy: 80.81 (4148 / 5133), f1 (weighted): 80.25, loss: 9.80e-01\n",
      "  CPU time: 38486s, wall time: 23793s, perf_time_load: 0.26s, perf_time: 0.26s\n",
      "step 68110 / 98012 (epoch 69.49 / 100):\n",
      "  learning_rate = 1.00e-02, training loss = 3.73e-01\n",
      "  validation accuracy: 81.34 (4175 / 5133), f1 (weighted): 80.87, loss: 1.00e+00\n",
      "  CPU time: 38785s, wall time: 23968s, perf_time_load: 0.26s, perf_time: 0.26s\n",
      "step 68600 / 98012 (epoch 69.99 / 100):\n",
      "  learning_rate = 1.00e-02, training loss = 2.63e-01\n",
      "  validation accuracy: 79.52 (4082 / 5133), f1 (weighted): 79.37, loss: 1.05e+00\n",
      "  CPU time: 39087s, wall time: 24142s, perf_time_load: 0.26s, perf_time: 0.26s\n",
      "step 69090 / 98012 (epoch 70.49 / 100):\n",
      "  learning_rate = 1.00e-02, training loss = 3.02e-01\n",
      "  validation accuracy: 80.71 (4143 / 5133), f1 (weighted): 79.98, loss: 1.02e+00\n",
      "  CPU time: 39387s, wall time: 24317s, perf_time_load: 0.26s, perf_time: 0.26s\n",
      "step 69580 / 98012 (epoch 70.99 / 100):\n",
      "  learning_rate = 1.00e-02, training loss = 3.79e-01\n",
      "  validation accuracy: 80.79 (4147 / 5133), f1 (weighted): 80.18, loss: 1.03e+00\n",
      "  CPU time: 39688s, wall time: 24491s, perf_time_load: 0.26s, perf_time: 0.26s\n",
      "step 70070 / 98012 (epoch 71.49 / 100):\n",
      "  learning_rate = 1.00e-02, training loss = 3.70e-01\n",
      "  validation accuracy: 80.65 (4140 / 5133), f1 (weighted): 80.38, loss: 1.00e+00\n",
      "  CPU time: 39987s, wall time: 24666s, perf_time_load: 0.26s, perf_time: 0.26s\n",
      "step 70560 / 98012 (epoch 71.99 / 100):\n",
      "  learning_rate = 1.00e-02, training loss = 2.88e-01\n",
      "  validation accuracy: 81.55 (4186 / 5133), f1 (weighted): 80.90, loss: 9.87e-01\n",
      "  CPU time: 40288s, wall time: 24840s, perf_time_load: 0.26s, perf_time: 0.26s\n",
      "step 71050 / 98012 (epoch 72.49 / 100):\n",
      "  learning_rate = 1.00e-02, training loss = 3.41e-01\n",
      "  validation accuracy: 80.42 (4128 / 5133), f1 (weighted): 79.92, loss: 1.05e+00\n",
      "  CPU time: 40591s, wall time: 25015s, perf_time_load: 0.26s, perf_time: 0.26s\n",
      "step 71540 / 98012 (epoch 72.99 / 100):\n",
      "  learning_rate = 1.00e-02, training loss = 4.69e-01\n",
      "  validation accuracy: 81.38 (4177 / 5133), f1 (weighted): 80.83, loss: 9.87e-01\n",
      "  CPU time: 40891s, wall time: 25189s, perf_time_load: 0.26s, perf_time: 0.26s\n",
      "step 72030 / 98012 (epoch 73.49 / 100):\n",
      "  learning_rate = 1.00e-02, training loss = 3.01e-01\n",
      "  validation accuracy: 81.49 (4183 / 5133), f1 (weighted): 80.89, loss: 9.88e-01\n",
      "  CPU time: 41193s, wall time: 25364s, perf_time_load: 0.27s, perf_time: 0.27s\n",
      "step 72520 / 98012 (epoch 73.99 / 100):\n",
      "  learning_rate = 1.00e-02, training loss = 3.56e-01\n",
      "  validation accuracy: 80.48 (4131 / 5133), f1 (weighted): 79.84, loss: 1.05e+00\n",
      "  CPU time: 41493s, wall time: 25539s, perf_time_load: 0.26s, perf_time: 0.26s\n",
      "step 73010 / 98012 (epoch 74.49 / 100):\n",
      "  learning_rate = 1.00e-02, training loss = 3.00e-01\n",
      "  validation accuracy: 80.75 (4145 / 5133), f1 (weighted): 80.18, loss: 1.05e+00\n",
      "  CPU time: 41794s, wall time: 25713s, perf_time_load: 0.26s, perf_time: 0.26s\n",
      "step 73500 / 98012 (epoch 74.99 / 100):\n",
      "  learning_rate = 1.00e-02, training loss = 4.01e-01\n",
      "  validation accuracy: 80.07 (4110 / 5133), f1 (weighted): 79.66, loss: 1.04e+00\n",
      "  CPU time: 42094s, wall time: 25888s, perf_time_load: 0.26s, perf_time: 0.26s\n",
      "step 73990 / 98012 (epoch 75.49 / 100):\n",
      "  learning_rate = 1.00e-02, training loss = 3.34e-01\n",
      "  validation accuracy: 80.99 (4157 / 5133), f1 (weighted): 80.16, loss: 1.00e+00\n",
      "  CPU time: 42395s, wall time: 26063s, perf_time_load: 0.27s, perf_time: 0.27s\n",
      "step 74480 / 98012 (epoch 75.99 / 100):\n",
      "  learning_rate = 1.00e-02, training loss = 2.83e-01\n",
      "  validation accuracy: 81.51 (4184 / 5133), f1 (weighted): 81.06, loss: 9.67e-01\n",
      "  CPU time: 42695s, wall time: 26237s, perf_time_load: 0.26s, perf_time: 0.26s\n",
      "step 74970 / 98012 (epoch 76.49 / 100):\n",
      "  learning_rate = 1.00e-02, training loss = 3.09e-01\n",
      "  validation accuracy: 81.24 (4170 / 5133), f1 (weighted): 80.75, loss: 1.00e+00\n",
      "  CPU time: 42995s, wall time: 26412s, perf_time_load: 0.26s, perf_time: 0.26s\n",
      "step 75460 / 98012 (epoch 76.99 / 100):\n",
      "  learning_rate = 1.00e-02, training loss = 4.64e-01\n",
      "  validation accuracy: 80.89 (4152 / 5133), f1 (weighted): 80.07, loss: 1.05e+00\n",
      "  CPU time: 43296s, wall time: 26586s, perf_time_load: 0.26s, perf_time: 0.26s\n",
      "step 75950 / 98012 (epoch 77.49 / 100):\n",
      "  learning_rate = 1.00e-02, training loss = 2.51e-01\n",
      "  validation accuracy: 80.99 (4157 / 5133), f1 (weighted): 80.27, loss: 1.01e+00\n",
      "  CPU time: 43594s, wall time: 26761s, perf_time_load: 0.26s, perf_time: 0.26s\n",
      "step 76440 / 98012 (epoch 77.99 / 100):\n",
      "  learning_rate = 1.00e-02, training loss = 5.42e-01\n",
      "  validation accuracy: 80.97 (4156 / 5133), f1 (weighted): 80.53, loss: 9.92e-01\n",
      "  CPU time: 43894s, wall time: 26935s, perf_time_load: 0.26s, perf_time: 0.26s\n",
      "step 76930 / 98012 (epoch 78.49 / 100):\n",
      "  learning_rate = 1.00e-02, training loss = 3.45e-01\n",
      "  validation accuracy: 80.75 (4145 / 5133), f1 (weighted): 80.38, loss: 9.92e-01\n",
      "  CPU time: 44194s, wall time: 27110s, perf_time_load: 0.26s, perf_time: 0.26s\n",
      "step 77420 / 98012 (epoch 78.99 / 100):\n",
      "  learning_rate = 1.00e-02, training loss = 2.40e-01\n",
      "  validation accuracy: 81.43 (4180 / 5133), f1 (weighted): 80.82, loss: 1.00e+00\n",
      "  CPU time: 44495s, wall time: 27285s, perf_time_load: 0.26s, perf_time: 0.26s\n",
      "step 77910 / 98012 (epoch 79.49 / 100):\n",
      "  learning_rate = 1.00e-02, training loss = 3.57e-01\n",
      "  validation accuracy: 80.56 (4135 / 5133), f1 (weighted): 79.94, loss: 1.06e+00\n",
      "  CPU time: 44797s, wall time: 27459s, perf_time_load: 0.26s, perf_time: 0.26s\n",
      "step 78400 / 98012 (epoch 79.99 / 100):\n",
      "  learning_rate = 1.00e-02, training loss = 3.90e-01\n",
      "  validation accuracy: 81.51 (4184 / 5133), f1 (weighted): 81.07, loss: 9.81e-01\n",
      "  CPU time: 45098s, wall time: 27634s, perf_time_load: 0.26s, perf_time: 0.26s\n",
      "step 78890 / 98012 (epoch 80.49 / 100):\n",
      "  learning_rate = 1.00e-02, training loss = 3.70e-01\n",
      "  validation accuracy: 81.24 (4170 / 5133), f1 (weighted): 80.15, loss: 1.05e+00\n",
      "  CPU time: 45395s, wall time: 27808s, perf_time_load: 0.26s, perf_time: 0.26s\n",
      "step 79380 / 98012 (epoch 80.99 / 100):\n",
      "  learning_rate = 1.00e-02, training loss = 3.25e-01\n",
      "  validation accuracy: 80.48 (4131 / 5133), f1 (weighted): 79.73, loss: 1.06e+00\n",
      "  CPU time: 45696s, wall time: 27983s, perf_time_load: 0.26s, perf_time: 0.26s\n",
      "step 79870 / 98012 (epoch 81.49 / 100):\n",
      "  learning_rate = 1.00e-02, training loss = 3.95e-01\n",
      "  validation accuracy: 80.46 (4130 / 5133), f1 (weighted): 80.18, loss: 1.04e+00\n",
      "  CPU time: 45998s, wall time: 28158s, perf_time_load: 0.26s, perf_time: 0.26s\n",
      "step 80360 / 98012 (epoch 81.99 / 100):\n",
      "  learning_rate = 1.00e-02, training loss = 3.36e-01\n",
      "  validation accuracy: 80.25 (4119 / 5133), f1 (weighted): 79.61, loss: 1.04e+00\n",
      "  CPU time: 46299s, wall time: 28333s, perf_time_load: 0.26s, perf_time: 0.26s\n",
      "step 80850 / 98012 (epoch 82.49 / 100):\n",
      "  learning_rate = 1.00e-02, training loss = 3.03e-01\n",
      "  validation accuracy: 80.25 (4119 / 5133), f1 (weighted): 79.87, loss: 1.05e+00\n",
      "  CPU time: 46600s, wall time: 28507s, perf_time_load: 0.26s, perf_time: 0.26s\n"
     ]
    },
    {
     "name": "stdout",
     "output_type": "stream",
     "text": [
      "step 81340 / 98012 (epoch 82.99 / 100):\n",
      "  learning_rate = 1.00e-02, training loss = 4.93e-01\n",
      "  validation accuracy: 81.28 (4172 / 5133), f1 (weighted): 80.74, loss: 9.99e-01\n",
      "  CPU time: 46901s, wall time: 28682s, perf_time_load: 0.26s, perf_time: 0.26s\n",
      "step 81830 / 98012 (epoch 83.49 / 100):\n",
      "  learning_rate = 1.00e-02, training loss = 3.94e-01\n",
      "  validation accuracy: 79.60 (4086 / 5133), f1 (weighted): 78.83, loss: 1.11e+00\n",
      "  CPU time: 47201s, wall time: 28856s, perf_time_load: 0.26s, perf_time: 0.26s\n",
      "step 82320 / 98012 (epoch 83.99 / 100):\n",
      "  learning_rate = 1.00e-02, training loss = 3.11e-01\n",
      "  validation accuracy: 80.85 (4150 / 5133), f1 (weighted): 79.96, loss: 1.03e+00\n",
      "  CPU time: 47500s, wall time: 29031s, perf_time_load: 0.26s, perf_time: 0.26s\n",
      "step 82810 / 98012 (epoch 84.49 / 100):\n",
      "  learning_rate = 1.00e-02, training loss = 5.05e-01\n",
      "  validation accuracy: 80.89 (4152 / 5133), f1 (weighted): 80.55, loss: 1.02e+00\n",
      "  CPU time: 47801s, wall time: 29206s, perf_time_load: 0.26s, perf_time: 0.26s\n",
      "step 83300 / 98012 (epoch 84.99 / 100):\n",
      "  learning_rate = 1.00e-02, training loss = 2.84e-01\n",
      "  validation accuracy: 80.81 (4148 / 5133), f1 (weighted): 80.17, loss: 1.02e+00\n",
      "  CPU time: 48104s, wall time: 29380s, perf_time_load: 0.26s, perf_time: 0.26s\n",
      "step 83790 / 98012 (epoch 85.49 / 100):\n",
      "  learning_rate = 1.00e-02, training loss = 3.27e-01\n",
      "  validation accuracy: 80.52 (4133 / 5133), f1 (weighted): 79.98, loss: 1.04e+00\n",
      "  CPU time: 48407s, wall time: 29555s, perf_time_load: 0.26s, perf_time: 0.26s\n",
      "step 84280 / 98012 (epoch 85.99 / 100):\n",
      "  learning_rate = 1.00e-02, training loss = 2.93e-01\n",
      "  validation accuracy: 80.56 (4135 / 5133), f1 (weighted): 79.92, loss: 1.04e+00\n",
      "  CPU time: 48708s, wall time: 29730s, perf_time_load: 0.26s, perf_time: 0.26s\n",
      "step 84770 / 98012 (epoch 86.49 / 100):\n",
      "  learning_rate = 1.00e-02, training loss = 4.44e-01\n",
      "  validation accuracy: 81.26 (4171 / 5133), f1 (weighted): 80.37, loss: 1.02e+00\n",
      "  CPU time: 49008s, wall time: 29905s, perf_time_load: 0.26s, perf_time: 0.26s\n",
      "step 85260 / 98012 (epoch 86.99 / 100):\n",
      "  learning_rate = 1.00e-02, training loss = 2.76e-01\n",
      "  validation accuracy: 80.75 (4145 / 5133), f1 (weighted): 80.05, loss: 1.05e+00\n",
      "  CPU time: 49309s, wall time: 30079s, perf_time_load: 0.26s, perf_time: 0.26s\n",
      "step 85750 / 98012 (epoch 87.49 / 100):\n",
      "  learning_rate = 1.00e-02, training loss = 3.74e-01\n",
      "  validation accuracy: 81.22 (4169 / 5133), f1 (weighted): 80.61, loss: 1.04e+00\n",
      "  CPU time: 49607s, wall time: 30254s, perf_time_load: 0.26s, perf_time: 0.26s\n",
      "step 86240 / 98012 (epoch 87.99 / 100):\n",
      "  learning_rate = 1.00e-02, training loss = 3.34e-01\n",
      "  validation accuracy: 80.93 (4154 / 5133), f1 (weighted): 80.19, loss: 1.05e+00\n",
      "  CPU time: 49907s, wall time: 30428s, perf_time_load: 0.26s, perf_time: 0.26s\n",
      "step 86730 / 98012 (epoch 88.49 / 100):\n",
      "  learning_rate = 1.00e-02, training loss = 3.80e-01\n",
      "  validation accuracy: 79.72 (4092 / 5133), f1 (weighted): 79.60, loss: 1.07e+00\n",
      "  CPU time: 50208s, wall time: 30603s, perf_time_load: 0.26s, perf_time: 0.26s\n",
      "step 87220 / 98012 (epoch 88.99 / 100):\n",
      "  learning_rate = 1.00e-02, training loss = 3.31e-01\n",
      "  validation accuracy: 81.61 (4189 / 5133), f1 (weighted): 81.16, loss: 1.03e+00\n",
      "  CPU time: 50509s, wall time: 30778s, perf_time_load: 0.26s, perf_time: 0.26s\n",
      "step 87710 / 98012 (epoch 89.49 / 100):\n",
      "  learning_rate = 1.00e-02, training loss = 2.56e-01\n",
      "  validation accuracy: 81.22 (4169 / 5133), f1 (weighted): 80.75, loss: 1.04e+00\n",
      "  CPU time: 50809s, wall time: 30953s, perf_time_load: 0.26s, perf_time: 0.26s\n",
      "step 88200 / 98012 (epoch 89.99 / 100):\n",
      "  learning_rate = 1.00e-02, training loss = 2.34e-01\n",
      "  validation accuracy: 81.12 (4164 / 5133), f1 (weighted): 80.25, loss: 1.04e+00\n",
      "  CPU time: 51109s, wall time: 31127s, perf_time_load: 0.26s, perf_time: 0.26s\n",
      "step 88690 / 98012 (epoch 90.49 / 100):\n",
      "  learning_rate = 1.00e-02, training loss = 2.47e-01\n",
      "  validation accuracy: 80.26 (4120 / 5133), f1 (weighted): 79.68, loss: 1.04e+00\n",
      "  CPU time: 51411s, wall time: 31302s, perf_time_load: 0.26s, perf_time: 0.26s\n",
      "step 89180 / 98012 (epoch 90.99 / 100):\n",
      "  learning_rate = 1.00e-02, training loss = 3.38e-01\n",
      "  validation accuracy: 81.06 (4161 / 5133), f1 (weighted): 80.40, loss: 1.00e+00\n",
      "  CPU time: 51712s, wall time: 31477s, perf_time_load: 0.26s, perf_time: 0.26s\n",
      "step 89670 / 98012 (epoch 91.49 / 100):\n",
      "  learning_rate = 1.00e-02, training loss = 3.72e-01\n",
      "  validation accuracy: 80.48 (4131 / 5133), f1 (weighted): 80.24, loss: 1.03e+00\n",
      "  CPU time: 52013s, wall time: 31652s, perf_time_load: 0.26s, perf_time: 0.26s\n",
      "step 90160 / 98012 (epoch 91.99 / 100):\n",
      "  learning_rate = 1.00e-02, training loss = 2.65e-01\n",
      "  validation accuracy: 80.79 (4147 / 5133), f1 (weighted): 80.16, loss: 1.05e+00\n",
      "  CPU time: 52313s, wall time: 31826s, perf_time_load: 0.26s, perf_time: 0.26s\n",
      "step 90650 / 98012 (epoch 92.49 / 100):\n",
      "  learning_rate = 1.00e-02, training loss = 5.16e-01\n",
      "  validation accuracy: 80.23 (4118 / 5133), f1 (weighted): 79.80, loss: 1.02e+00\n",
      "  CPU time: 52608s, wall time: 32001s, perf_time_load: 0.26s, perf_time: 0.26s\n",
      "step 91140 / 98012 (epoch 92.99 / 100):\n",
      "  learning_rate = 1.00e-02, training loss = 2.48e-01\n",
      "  validation accuracy: 81.39 (4178 / 5133), f1 (weighted): 80.70, loss: 9.99e-01\n",
      "  CPU time: 52909s, wall time: 32175s, perf_time_load: 0.26s, perf_time: 0.26s\n",
      "step 91630 / 98012 (epoch 93.49 / 100):\n",
      "  learning_rate = 1.00e-02, training loss = 4.39e-01\n",
      "  validation accuracy: 80.73 (4144 / 5133), f1 (weighted): 80.09, loss: 1.05e+00\n",
      "  CPU time: 53208s, wall time: 32350s, perf_time_load: 0.26s, perf_time: 0.26s\n",
      "step 92120 / 98012 (epoch 93.99 / 100):\n",
      "  learning_rate = 1.00e-02, training loss = 3.50e-01\n",
      "  validation accuracy: 80.30 (4122 / 5133), f1 (weighted): 79.98, loss: 1.04e+00\n",
      "  CPU time: 53509s, wall time: 32525s, perf_time_load: 0.26s, perf_time: 0.26s\n",
      "step 92610 / 98012 (epoch 94.49 / 100):\n",
      "  learning_rate = 1.00e-02, training loss = 3.55e-01\n",
      "  validation accuracy: 81.22 (4169 / 5133), f1 (weighted): 80.41, loss: 1.02e+00\n",
      "  CPU time: 53810s, wall time: 32699s, perf_time_load: 0.26s, perf_time: 0.26s\n",
      "step 93100 / 98012 (epoch 94.99 / 100):\n",
      "  learning_rate = 1.00e-02, training loss = 3.33e-01\n",
      "  validation accuracy: 80.79 (4147 / 5133), f1 (weighted): 80.19, loss: 1.04e+00\n",
      "  CPU time: 54112s, wall time: 32873s, perf_time_load: 0.26s, perf_time: 0.26s\n",
      "step 93590 / 98012 (epoch 95.49 / 100):\n",
      "  learning_rate = 1.00e-02, training loss = 3.36e-01\n",
      "  validation accuracy: 81.02 (4159 / 5133), f1 (weighted): 80.43, loss: 1.07e+00\n",
      "  CPU time: 54412s, wall time: 33048s, perf_time_load: 0.26s, perf_time: 0.26s\n",
      "step 94080 / 98012 (epoch 95.99 / 100):\n",
      "  learning_rate = 1.00e-02, training loss = 3.46e-01\n",
      "  validation accuracy: 80.23 (4118 / 5133), f1 (weighted): 79.65, loss: 1.07e+00\n",
      "  CPU time: 54714s, wall time: 33223s, perf_time_load: 0.26s, perf_time: 0.26s\n",
      "step 94570 / 98012 (epoch 96.49 / 100):\n",
      "  learning_rate = 1.00e-02, training loss = 3.45e-01\n",
      "  validation accuracy: 79.72 (4092 / 5133), f1 (weighted): 79.02, loss: 1.09e+00\n",
      "  CPU time: 55015s, wall time: 33398s, perf_time_load: 0.26s, perf_time: 0.26s\n",
      "step 95060 / 98012 (epoch 96.99 / 100):\n",
      "  learning_rate = 1.00e-02, training loss = 2.62e-01\n",
      "  validation accuracy: 80.50 (4132 / 5133), f1 (weighted): 80.27, loss: 1.09e+00\n",
      "  CPU time: 55315s, wall time: 33572s, perf_time_load: 0.26s, perf_time: 0.26s\n",
      "step 95550 / 98012 (epoch 97.49 / 100):\n",
      "  learning_rate = 1.00e-02, training loss = 4.21e-01\n",
      "  validation accuracy: 79.60 (4086 / 5133), f1 (weighted): 79.12, loss: 1.10e+00\n",
      "  CPU time: 55616s, wall time: 33747s, perf_time_load: 0.26s, perf_time: 0.26s\n",
      "step 96040 / 98012 (epoch 97.99 / 100):\n",
      "  learning_rate = 1.00e-02, training loss = 2.83e-01\n",
      "  validation accuracy: 81.04 (4160 / 5133), f1 (weighted): 80.31, loss: 1.01e+00\n",
      "  CPU time: 55915s, wall time: 33921s, perf_time_load: 0.26s, perf_time: 0.26s\n",
      "step 96530 / 98012 (epoch 98.49 / 100):\n",
      "  learning_rate = 1.00e-02, training loss = 3.32e-01\n",
      "  validation accuracy: 80.26 (4120 / 5133), f1 (weighted): 79.75, loss: 1.05e+00\n",
      "  CPU time: 56217s, wall time: 34095s, perf_time_load: 0.26s, perf_time: 0.26s\n",
      "step 97020 / 98012 (epoch 98.99 / 100):\n",
      "  learning_rate = 1.00e-02, training loss = 2.62e-01\n",
      "  validation accuracy: 81.06 (4161 / 5133), f1 (weighted): 80.53, loss: 1.02e+00\n",
      "  CPU time: 56518s, wall time: 34270s, perf_time_load: 0.26s, perf_time: 0.26s\n"
     ]
    },
    {
     "name": "stdout",
     "output_type": "stream",
     "text": [
      "step 97510 / 98012 (epoch 99.49 / 100):\n",
      "  learning_rate = 1.00e-02, training loss = 2.71e-01\n",
      "  validation accuracy: 80.99 (4157 / 5133), f1 (weighted): 80.71, loss: 1.03e+00\n",
      "  CPU time: 56818s, wall time: 34444s, perf_time_load: 0.26s, perf_time: 0.26s\n",
      "step 98000 / 98012 (epoch 99.99 / 100):\n",
      "  learning_rate = 1.00e-02, training loss = 3.21e-01\n",
      "  validation accuracy: 80.44 (4129 / 5133), f1 (weighted): 79.51, loss: 1.06e+00\n",
      "  CPU time: 57118s, wall time: 34619s, perf_time_load: 0.26s, perf_time: 0.26s\n",
      "step 98012 / 98012 (epoch 100.00 / 100):\n",
      "  learning_rate = 1.00e-02, training loss = 3.24e-01\n",
      "  validation accuracy: 80.69 (4142 / 5133), f1 (weighted): 80.12, loss: 1.07e+00\n",
      "  CPU time: 57173s, wall time: 34668s, perf_time_load: 0.26s, perf_time: 0.26s\n",
      "validation accuracy: best = 82.56, mean = 80.45\n",
      "time per batch: mean = 0.26, var = 0.00%\n"
     ]
    }
   ],
   "source": [
    "accuracy_validation, loss_validation, loss_training, t_step = model.fit(train_TFDataset, val_dataset, use_tf_dataset=True, cache=True)"
   ]
  },
  {
   "cell_type": "code",
   "execution_count": 22,
   "metadata": {},
   "outputs": [
    {
     "data": {
      "image/png": "[encoded data removed]",
      "text/plain": [
       "<Figure size 432x288 with 2 Axes>"
      ]
     },
     "metadata": {},
     "output_type": "display_data"
    }
   ],
   "source": [
    "plot.plot_loss(loss_training, loss_validation, t_step, params['eval_frequency'])"
   ]
  },
  {
   "cell_type": "markdown",
   "metadata": {},
   "source": [
    "Remarks"
   ]
  },
  {
   "cell_type": "code",
   "execution_count": 16,
   "metadata": {},
   "outputs": [
    {
     "name": "stdout",
     "output_type": "stream",
     "text": [
      "/mnt/scratch/students/gusset/DeepSphere/deepsphere/../checkpoints/shrec17_Cohen_simple_SGD_max_nsides_300epoch_reg_32sides_CNN\n",
      "INFO:tensorflow:Restoring parameters from /mnt/scratch/students/gusset/DeepSphere/deepsphere/../checkpoints/shrec17_Cohen_simple_SGD_max_nsides_300epoch_reg_32sides_CNN/model-294037\n"
     ]
    },
    {
     "data": {
      "text/plain": [
       "('accuracy: 96.53 (30277 / 31364), f1 (weighted): 96.54, loss: 1.16e-01\\nCPU time: 275s, wall time: 257s',\n",
       " 96.53424308123964,\n",
       " 96.54157073077505,\n",
       " 0.115866209483545)"
      ]
     },
     "execution_count": 16,
     "metadata": {},
     "output_type": "execute_result"
    }
   ],
   "source": [
    "model.evaluate(x_train, labels_train)"
   ]
  },
  {
   "cell_type": "code",
   "execution_count": null,
   "metadata": {},
   "outputs": [],
   "source": [
    "#predictions, loss = model.predict(x_val, labels_val)"
   ]
  },
  {
   "cell_type": "code",
   "execution_count": 14,
   "metadata": {},
   "outputs": [
    {
     "name": "stdout",
     "output_type": "stream",
     "text": [
      "/mnt/scratch/students/gusset/DeepSphere/deepsphere/../checkpoints/shrec17_best_5K_cache_1aug_64sides_CNN\n",
      "INFO:tensorflow:Restoring parameters from /mnt/scratch/students/gusset/DeepSphere/deepsphere/../checkpoints/shrec17_best_5K_cache_1aug_64sides_CNN/model-98012\n"
     ]
    },
    {
     "name": "stderr",
     "output_type": "stream",
     "text": [
      "/home/gusset/miniconda3/envs/PDMsphere/lib/python3.6/site-packages/sklearn/metrics/classification.py:1135: UndefinedMetricWarning: F-score is ill-defined and being set to 0.0 in labels with no predicted samples.\n",
      "  'precision', 'predicted', average, warn_for)\n"
     ]
    },
    {
     "data": {
      "text/plain": [
       "('accuracy: 80.69 (4142 / 5133), f1 (weighted): 80.12, loss: 1.07e+00\\nCPU time: 55s, wall time: 52s',\n",
       " 80.69355152932009,\n",
       " 80.11855984053359,\n",
       " 1.071748793717367)"
      ]
     },
     "execution_count": 14,
     "metadata": {},
     "output_type": "execute_result"
    }
   ],
   "source": [
    "# model.evaluate(x_val, labels_val)\n",
    "model.evaluate(val_dataset, None, cache=True)"
   ]
  },
  {
   "cell_type": "code",
   "execution_count": 15,
   "metadata": {
    "scrolled": true
   },
   "outputs": [
    {
     "name": "stdout",
     "output_type": "stream",
     "text": [
      "/mnt/scratch/students/gusset/DeepSphere/deepsphere/../checkpoints/shrec17_best_5K_cache_1aug_64sides_CNN\n",
      "INFO:tensorflow:Restoring parameters from /mnt/scratch/students/gusset/DeepSphere/deepsphere/../checkpoints/shrec17_best_5K_cache_1aug_64sides_CNN/model-98012\n"
     ]
    }
   ],
   "source": [
    "# probabilities = model.probs(x_val, nclass)\n",
    "probabilities, _ = model.probs(val_dataset, nclass, cache=True)\n",
    "if augmentation>1:\n",
    "    probabilities = probabilities.reshape((-1,augmentation,nclass))\n",
    "    probabilities = probabilities.mean(axis=1)\n",
    "    #ids_val = ids_val[::repeat]\n",
    "predictions = np.argmax(probabilities, axis=1)"
   ]
  },
  {
   "cell_type": "code",
   "execution_count": 16,
   "metadata": {},
   "outputs": [],
   "source": [
    "ids_val = val_dataset.get_ids()"
   ]
  },
  {
   "cell_type": "code",
   "execution_count": null,
   "metadata": {},
   "outputs": [],
   "source": [
    "#predictions = predictions.astype(np.int)"
   ]
  },
  {
   "cell_type": "code",
   "execution_count": 20,
   "metadata": {},
   "outputs": [],
   "source": [
    "from SHREC17.load_shrec import shrec_output"
   ]
  },
  {
   "cell_type": "code",
   "execution_count": 24,
   "metadata": {},
   "outputs": [],
   "source": [
    "shrec_output(probabilities, ids_val, datapath, 'results/val_perturbed')"
   ]
  },
  {
   "cell_type": "code",
   "execution_count": 25,
   "metadata": {},
   "outputs": [],
   "source": [
    "# for every file, find every object with the same class, sorted by most relevance\n",
    "os.makedirs(os.path.join(datapath,'results_aug/val_perturbed'), exist_ok=True)\n",
    "for i,_id in enumerate(ids_val):\n",
    "    idfile = os.path.join(datapath,'results_aug/val_perturbed',_id)\n",
    "    # predictions batchxclass\n",
    "    # pred_class batch == predictions\n",
    "    retrieved = [(probabilities[j, predictions[j]], ids_val[j]) for j in range(len(ids_val)) if predictions[j] == predictions[i]]\n",
    "    retrieved = sorted(retrieved, reverse=True)\n",
    "    retrieved = [i for _, i in retrieved]\n",
    "    with open(idfile, \"w\") as f:\n",
    "        f.write(\"\\n\".join(retrieved))"
   ]
  },
  {
   "cell_type": "markdown",
   "metadata": {},
   "source": [
    "NaN appears if remove i==j case"
   ]
  },
  {
   "cell_type": "markdown",
   "metadata": {},
   "source": [
    "## test network"
   ]
  },
  {
   "cell_type": "code",
   "execution_count": 26,
   "metadata": {},
   "outputs": [
    {
     "name": "stderr",
     "output_type": "stream",
     "text": [
      "10265it [00:52, 194.51it/s]\n"
     ]
    }
   ],
   "source": [
    "test_dataset = Shrec17Dataset(datapath, 'test', perturbed=noise_dataset, download=download, nside=Nside, augmentation=augmentation, nfile=None)"
   ]
  },
  {
   "cell_type": "code",
   "execution_count": 27,
   "metadata": {},
   "outputs": [
    {
     "data": {
      "image/png": "[encoded data removed]",
      "text/plain": [
       "<Figure size 432x288 with 1 Axes>"
      ]
     },
     "metadata": {},
     "output_type": "display_data"
    }
   ],
   "source": [
    "x_test, labels_test, ids_test = test_dataset.return_data(train=False)"
   ]
  },
  {
   "cell_type": "code",
   "execution_count": 28,
   "metadata": {},
   "outputs": [
    {
     "name": "stdout",
     "output_type": "stream",
     "text": [
      "/mnt/scratch/students/gusset/DeepSphere/deepsphere/../checkpoints/shrec17_best_5K_cache_1aug_64sides_CNN\n",
      "INFO:tensorflow:Restoring parameters from /mnt/scratch/students/gusset/DeepSphere/deepsphere/../checkpoints/shrec17_best_5K_cache_1aug_64sides_CNN/model-98012\n"
     ]
    },
    {
     "data": {
      "text/plain": [
       "('accuracy: 75.99 (7800 / 10265), f1 (weighted): 76.07, loss: 1.24e+00\\nCPU time: 102s, wall time: 96s',\n",
       " 75.98636142230882,\n",
       " 76.07329845432768,\n",
       " 1.2386591787287158)"
      ]
     },
     "execution_count": 28,
     "metadata": {},
     "output_type": "execute_result"
    }
   ],
   "source": [
    "model.evaluate(x_test, labels_test)"
   ]
  },
  {
   "cell_type": "code",
   "execution_count": null,
   "metadata": {},
   "outputs": [],
   "source": [
    "#predictions = model.predict(x_test)"
   ]
  },
  {
   "cell_type": "code",
   "execution_count": 29,
   "metadata": {},
   "outputs": [
    {
     "name": "stdout",
     "output_type": "stream",
     "text": [
      "/mnt/scratch/students/gusset/DeepSphere/deepsphere/../checkpoints/shrec17_best_5K_cache_1aug_64sides_CNN\n",
      "INFO:tensorflow:Restoring parameters from /mnt/scratch/students/gusset/DeepSphere/deepsphere/../checkpoints/shrec17_best_5K_cache_1aug_64sides_CNN/model-98012\n"
     ]
    }
   ],
   "source": [
    "probabilities = model.probs(x_test, nclass)\n",
    "if augmentation>1:\n",
    "    probabilities = probabilities.reshape((-1,augmentation,nclass))\n",
    "    probabilities = repeat.mean(axis=1)\n",
    "#probabilities = np.log(probabilities)\n",
    "predictions = np.argmax(probabilities, axis=1)"
   ]
  },
  {
   "cell_type": "code",
   "execution_count": null,
   "metadata": {},
   "outputs": [],
   "source": [
    "#predictions = predictions.astype(np.int)"
   ]
  },
  {
   "cell_type": "markdown",
   "metadata": {},
   "source": [
    "write to file"
   ]
  },
  {
   "cell_type": "code",
   "execution_count": 30,
   "metadata": {},
   "outputs": [],
   "source": [
    "# for every file, find every object with the same class, sorted by most relevance\n",
    "os.makedirs(os.path.join(datapath,'results_aug/test_perturbed'), exist_ok=True)\n",
    "for i, _id in enumerate(ids_test):\n",
    "    idfile = os.path.join(datapath,'results_aug/test_perturbed',_id)\n",
    "    # predictions batchxclass\n",
    "    # pred_class batch == predictions\n",
    "    retrieved = [(probabilities[j, predictions[j]], ids_test[j]) for j in range(len(ids_test)) if predictions[j] == predictions[i]]\n",
    "    retrieved = sorted(retrieved, reverse=True)\n",
    "    retrieved = [i for _, i in retrieved]\n",
    "    with open(idfile, \"w\") as f:\n",
    "        f.write(\"\\n\".join(retrieved))"
   ]
  },
  {
   "cell_type": "code",
   "execution_count": 31,
   "metadata": {},
   "outputs": [],
   "source": [
    "shrec_output(probabilities, ids_test, datapath, 'results/test_perturbed')"
   ]
  },
  {
   "cell_type": "markdown",
   "metadata": {},
   "source": [
    "Why not working?"
   ]
  },
  {
   "cell_type": "code",
   "execution_count": 46,
   "metadata": {},
   "outputs": [],
   "source": [
    "def _print_histogram(nclass, labels_train, labels_val=None):\n",
    "    if labels_train is None:\n",
    "        return\n",
    "    import matplotlib.pyplot as plt\n",
    "    from collections import Counter\n",
    "    hist_train=Counter(labels_train)\n",
    "#         for i in range(self.nclass):\n",
    "#             hist_train.append(np.sum(labels_train == i))\n",
    "    labels, values = zip(*hist_train.items())\n",
    "    indexes = np.asarray(labels)\n",
    "#     miss = set(indexes) - set(labels)\n",
    "#     if len(miss) is not 0:\n",
    "#         hist_train.update({elem:0 for elem in miss})\n",
    "#     labels, values = zip(*hist_train.items())\n",
    "    width = 1\n",
    "    plt.bar(labels, values, width)\n",
    "    plt.title(\"labels distribution\")\n",
    "    #plt.xticks(indexes + width * 0.5, labels)\n",
    "    if labels_val is not None:\n",
    "        hist_val=Counter(labels_val)\n",
    "        plt.figure()\n",
    "        labels, values = zip(*hist_val.items())\n",
    "        indexes = np.asarray(labels)\n",
    "        width = 1\n",
    "        plt.bar(indexes, values, width)\n",
    "        plt.title(\"validation labels distribution\")\n",
    "    plt.show()"
   ]
  },
  {
   "cell_type": "code",
   "execution_count": 47,
   "metadata": {},
   "outputs": [
    {
     "data": {
      "image/png": "[encoded data removed]",
      "text/plain": [
       "<Figure size 432x288 with 1 Axes>"
      ]
     },
     "metadata": {},
     "output_type": "display_data"
    },
    {
     "data": {
      "image/png": "[encoded data removed]",
      "text/plain": [
       "<Figure size 432x288 with 1 Axes>"
      ]
     },
     "metadata": {},
     "output_type": "display_data"
    }
   ],
   "source": [
    "_print_histogram(55, labels_test)\n",
    "_print_histogram(55, predictions)"
   ]
  }
 ],
 "metadata": {
  "kernelspec": {
   "display_name": "Python 3",
   "language": "python",
   "name": "python3"
  },
  "language_info": {
   "codemirror_mode": {
    "name": "ipython",
    "version": 3
   },
   "file_extension": ".py",
   "mimetype": "text/x-python",
   "name": "python",
   "nbconvert_exporter": "python",
   "pygments_lexer": "ipython3",
   "version": "3.6.7"
  }
 },
 "nbformat": 4,
 "nbformat_minor": 2
}
