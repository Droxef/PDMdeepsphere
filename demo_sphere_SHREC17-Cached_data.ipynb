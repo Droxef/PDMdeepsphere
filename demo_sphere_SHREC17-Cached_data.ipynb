{
 "cells": [
  {
   "cell_type": "markdown",
   "metadata": {},
   "source": [
    "# DeepSphere using SHREC17 dataset\n",
    "### Benchmark with Cohen method S2CNN[[1]](http://arxiv.org/abs/1801.10130) and Esteves method[[2]](http://arxiv.org/abs/1711.06721)\n",
    "Multi-class classification of 3D objects, using the interesting property of rotation equivariance.\n",
    "\n",
    "The 3D objects are projected on a unit sphere.\n",
    "Cohen and Esteves use equiangular sampling, while our method use a HEAlpix sampling\n",
    "\n",
    "Several features are collected:\n",
    "* projection ray length (from sphere border to intersection [0, 2])\n",
    "* cos/sin with surface normal\n",
    "* same features using the convex hull of the 3D object"
   ]
  },
  {
   "cell_type": "markdown",
   "metadata": {},
   "source": [
    "## 0.1 Load libs"
   ]
  },
  {
   "cell_type": "code",
   "execution_count": 1,
   "metadata": {},
   "outputs": [],
   "source": [
    "%load_ext autoreload\n",
    "%autoreload 2\n",
    "%matplotlib inline"
   ]
  },
  {
   "cell_type": "code",
   "execution_count": 2,
   "metadata": {},
   "outputs": [],
   "source": [
    "import os\n",
    "import shutil\n",
    "import sys\n",
    "\n",
    "os.environ[\"CUDA_VISIBLE_DEVICES\"] = \"0\"  # change to chosen GPU to use, nothing if work on CPU\n",
    "\n",
    "import numpy as np\n",
    "import time\n",
    "import matplotlib.pyplot as plt\n",
    "import healpy as hp"
   ]
  },
  {
   "cell_type": "code",
   "execution_count": 3,
   "metadata": {},
   "outputs": [],
   "source": [
    "from deepsphere import models, experiment_helper, plot, utils\n",
    "from deepsphere.data import LabeledDatasetWithNoise, LabeledDataset\n",
    "import hyperparameters\n",
    "\n",
    "from SHREC17.load_shrec import fix_dataset, Shrec17Dataset, Shrec17DatasetCache, Shrec17DatasetTF"
   ]
  },
  {
   "cell_type": "markdown",
   "metadata": {},
   "source": [
    "## 0.2 Define parameters"
   ]
  },
  {
   "cell_type": "code",
   "execution_count": 4,
   "metadata": {},
   "outputs": [],
   "source": [
    "Nside = 32\n",
    "experiment_type = 'CNN' # 'FCN'\n",
    "ename = '_'+experiment_type\n",
    "datapath = '../data/shrec17/' # localisation of the .obj files"
   ]
  },
  {
   "cell_type": "code",
   "execution_count": 16,
   "metadata": {},
   "outputs": [],
   "source": [
    "noise_dataset = True    # use perturbed dataset (Cohen and Esteves do the same)\n",
    "augmentation = 3        # number of element per file (1 = no augmentation of dataset)\n",
    "nfeat = 6"
   ]
  },
  {
   "cell_type": "markdown",
   "metadata": {},
   "source": [
    "## 1 Load dataset"
   ]
  },
  {
   "cell_type": "code",
   "execution_count": 6,
   "metadata": {},
   "outputs": [],
   "source": [
    "# if datasets are already downloaded but not preprocessed\n",
    "fix = False\n",
    "download = False\n",
    "if fix:\n",
    "    fix_dataset(datapath+'val_perturbed')\n",
    "    fix_dataset(datapath+'test_perturbed')"
   ]
  },
  {
   "cell_type": "markdown",
   "metadata": {},
   "source": [
    "download dataset if True, preprocess data and store it in npy files, and load it in a dataset object"
   ]
  },
  {
   "cell_type": "code",
   "execution_count": 7,
   "metadata": {},
   "outputs": [],
   "source": [
    "#train_dataset = Shrec17DatasetCache(datapath, 'train', perturbed=noise_dataset, download=download, nside=Nside, augmentation=augmentation, nfile=None)\n"
   ]
  },
  {
   "cell_type": "markdown",
   "metadata": {},
   "source": [
    "Better to keep validation and testing set in RAM, but not always possible"
   ]
  },
  {
   "cell_type": "code",
   "execution_count": 7,
   "metadata": {},
   "outputs": [],
   "source": [
    "val_dataset = Shrec17DatasetCache(datapath, 'val', perturbed=noise_dataset, download=download, nside=Nside, nfeat=nfeat, augmentation=1, nfile=None)"
   ]
  },
  {
   "cell_type": "code",
   "execution_count": 97,
   "metadata": {},
   "outputs": [],
   "source": [
    "val_nonrot_dataset = Shrec17DatasetCache(datapath, 'val', perturbed=noise_dataset, download=download, \n",
    "                                         nside=Nside, nfeat=nfeat, experiment='deepsphere_norot', augmentation=1, nfile=None)"
   ]
  },
  {
   "cell_type": "markdown",
   "metadata": {},
   "source": [
    "Try do make a tensorflow dataset object"
   ]
  },
  {
   "cell_type": "code",
   "execution_count": 125,
   "metadata": {},
   "outputs": [],
   "source": [
    "train_TFDataset = Shrec17DatasetTF(datapath, 'train', perturbed=noise_dataset, download=download, nside=Nside, nfeat=nfeat, augmentation=augmentation, nfile=None, experiment='deepsphere_norot')"
   ]
  },
  {
   "cell_type": "code",
   "execution_count": 47,
   "metadata": {},
   "outputs": [],
   "source": [
    "dataset = train_TFDataset.get_tf_dataset(32)"
   ]
  },
  {
   "cell_type": "code",
   "execution_count": 19,
   "metadata": {},
   "outputs": [],
   "source": [
    "# import tensorflow as tf\n",
    "# from tqdm import tqdm\n",
    "\n",
    "# #dataset = tf_dataset_file(datapath, dataset, file_pattern, 32, Nside, augmentation)\n",
    "# data_next = dataset.make_one_shot_iterator().get_next()\n",
    "# config = tf.ConfigProto()\n",
    "# config.gpu_options.allow_growth = True\n",
    "# steps = train_TFDataset.N // 32 + 1\n",
    "# with tf.Session(config=config) as sess:\n",
    "#     sess.run(tf.global_variables_initializer())\n",
    "#     try:\n",
    "#         for i in tqdm(range(steps)):\n",
    "#             out = sess.run(data_next)\n",
    "#     except tf.errors.OutOfRangeError:\n",
    "#         print(\"Done\") "
   ]
  },
  {
   "cell_type": "code",
   "execution_count": 11,
   "metadata": {},
   "outputs": [],
   "source": [
    "# import time\n",
    "# import tensorflow as tf\n",
    "\n",
    "# #dataset = tf_dataset_file(datapath, dataset, file_pattern, 32, Nside, augmentation)\n",
    "# t_start = time.time()\n",
    "# data_next = dataset.make_one_shot_iterator().get_next()\n",
    "# config = tf.ConfigProto()\n",
    "# config.gpu_options.allow_growth = True\n",
    "# steps = train_TFDataset.N // 32 + 1\n",
    "# with tf.Session(config=config) as sess:\n",
    "#     sess.run(tf.global_variables_initializer())\n",
    "#     try:\n",
    "#         for i in range(steps):\n",
    "#             out = sess.run(data_next)\n",
    "#     except tf.errors.OutOfRangeError:\n",
    "#         print(\"Done\") # Never reach this as will iterate on infinite sets\n",
    "# t_end = time.time()\n",
    "# print(str(t_end-t_start)+\" s\")\n",
    "\n",
    "# # t_start = time.time()\n",
    "# # data_iter = train_dataset.iter(32)\n",
    "# # steps = int(train_dataset.N / 32)\n",
    "# # for i in range(steps):\n",
    "# #     next(data_iter)\n",
    "# #     #feed_dict = {self.ph_data: batch_data, self.ph_labels: batch_labels, self.ph_training: True}\n",
    "# # t_end = time.time()\n",
    "# # print(str(t_end-t_start)+\" s\")"
   ]
  },
  {
   "cell_type": "markdown",
   "metadata": {},
   "source": [
    "## 1.1 Preprocess the dataset"
   ]
  },
  {
   "cell_type": "markdown",
   "metadata": {},
   "source": [
    "Shuffle the training dataset and print the classes distribution"
   ]
  },
  {
   "cell_type": "code",
   "execution_count": 126,
   "metadata": {},
   "outputs": [
    {
     "name": "stdout",
     "output_type": "stream",
     "text": [
      "number of class: 55 \n",
      "number of elements: 94092\n"
     ]
    }
   ],
   "source": [
    "nclass = train_TFDataset.nclass\n",
    "num_elem = train_TFDataset.N\n",
    "#ids_train = train_dataset.ids\n",
    "print('number of class:',nclass,'\\nnumber of elements:',num_elem)#,'\\nfirst id:',ids_train[0])"
   ]
  },
  {
   "cell_type": "code",
   "execution_count": 11,
   "metadata": {},
   "outputs": [],
   "source": [
    "# x_val, labels_val, ids_val = val_dataset.return_data(train=False)"
   ]
  },
  {
   "cell_type": "markdown",
   "metadata": {},
   "source": [
    "## 2 Classification using DeepSphere"
   ]
  },
  {
   "cell_type": "markdown",
   "metadata": {},
   "source": [
    "Use of the Dataset object used for other DeepSphere experiments"
   ]
  },
  {
   "cell_type": "code",
   "execution_count": 12,
   "metadata": {},
   "outputs": [],
   "source": [
    "# #training = LabeledDatasetWithNoise(x_train, labels_train, end_level=sigma_noise)\n",
    "# #training = LabeledDataset(x_train, labels_train)\n",
    "# validation = LabeledDataset(x_val, labels_val)"
   ]
  },
  {
   "cell_type": "code",
   "execution_count": 127,
   "metadata": {},
   "outputs": [],
   "source": [
    "EXP_NAME = 'shrec17_newGraph_best_4K_norot_{}aug_{}sides{}'.format(augmentation, Nside, ename)\n",
    "#EXP_NAME = 'shrec17_Cohen_simple_SGD_max_nsides_300epoch_{}sides{}'.format(Nside, ename)\n",
    "#EXP_NAME = \"shrec17_newGraph_best_4K_all_3aug_32sides_CNN\"\n",
    "#EXP_NAME = 'essai_TFDataset'"
   ]
  },
  {
   "cell_type": "markdown",
   "metadata": {},
   "source": [
    "Load model with hyperparameters chosen.\n",
    "For each experiment, a new EXP_NAME is chosen, and new hyperparameters are store.\n",
    "All informations are present 'DeepSphere/Shrec17/experiments.md'\n",
    "The fastest way to reproduce an experiment is to revert to the commit of the experiment to load the correct files and notebook"
   ]
  },
  {
   "cell_type": "markdown",
   "metadata": {},
   "source": [
    "Adding a layer in the fully connected can be beneficial"
   ]
  },
  {
   "cell_type": "code",
   "execution_count": 128,
   "metadata": {},
   "outputs": [
    {
     "name": "stdout",
     "output_type": "stream",
     "text": [
      "#sides: [32, 16, 8, 4, 2, 1, 1]\n",
      "#pixels: [12288, 3072, 768, 192, 48, 12, 12]\n",
      "#samples per batch: 32\n",
      "=> #pixels per batch (input): 393,216\n",
      "=> #pixels for training (input): 57,810,124,800\n",
      "Learning rate will start at 2.0e-02 and finish at 2.0e-02.\n",
      "NN architecture\n",
      "  input: M_0 = 12288\n",
      "  layer 1: cgconv1\n",
      "    representation: M_0 * F_1 / p_1 = 12288 * 16 / 4 = 49152\n",
      "    weights: F_0 * F_1 * K_1 = 6 * 16 * 4 = 384\n",
      "    biases: F_1 = 16\n",
      "    batch normalization\n",
      "  layer 2: cgconv2\n",
      "    representation: M_1 * F_2 / p_2 = 3072 * 32 / 4 = 24576\n",
      "    weights: F_1 * F_2 * K_2 = 16 * 32 * 4 = 2048\n",
      "    biases: F_2 = 32\n",
      "    batch normalization\n",
      "  layer 3: cgconv3\n",
      "    representation: M_2 * F_3 / p_3 = 768 * 64 / 4 = 12288\n",
      "    weights: F_2 * F_3 * K_3 = 32 * 64 * 4 = 8192\n",
      "    biases: F_3 = 64\n",
      "    batch normalization\n",
      "  layer 4: cgconv4\n",
      "    representation: M_3 * F_4 / p_4 = 192 * 128 / 4 = 6144\n",
      "    weights: F_3 * F_4 * K_4 = 64 * 128 * 4 = 32768\n",
      "    biases: F_4 = 128\n",
      "    batch normalization\n",
      "  layer 5: cgconv5\n",
      "    representation: M_4 * F_5 / p_5 = 48 * 256 / 4 = 3072\n",
      "    weights: F_4 * F_5 * K_5 = 128 * 256 * 4 = 131072\n",
      "    biases: F_5 = 256\n",
      "    batch normalization\n",
      "  Statistical layer: mean\n",
      "    representation: 1 * 256 = 256\n",
      "  layer 6: logits (softmax)\n",
      "    representation: M_6 = 55\n",
      "    weights: M_5 * M_6 = 256 * 55 = 14080\n"
     ]
    }
   ],
   "source": [
    "params = hyperparameters.get_params_shrec17_optim(num_elem, EXP_NAME, Nside, nclass, nfeat_in=nfeat, architecture=experiment_type)\n",
    "params[\"tf_dataset\"] = train_TFDataset.get_tf_dataset(params[\"batch_size\"])\n",
    "#params[\"std\"] = [0.001, 0.005, 0.0125, 0.05, 0.15, 0.5]\n",
    "model = models.deepsphere(**params)"
   ]
  },
  {
   "cell_type": "code",
   "execution_count": 13,
   "metadata": {},
   "outputs": [],
   "source": [
    "shutil.rmtree('summaries/{}/'.format(EXP_NAME), ignore_errors=True)\n",
    "shutil.rmtree('checkpoints/{}/'.format(EXP_NAME), ignore_errors=True)"
   ]
  },
  {
   "cell_type": "markdown",
   "metadata": {},
   "source": [
    "Find a correct learning rate"
   ]
  },
  {
   "cell_type": "code",
   "execution_count": null,
   "metadata": {
    "scrolled": true
   },
   "outputs": [
    {
     "name": "stdout",
     "output_type": "stream",
     "text": [
      "NN architecture\n",
      "  input: M_0 = 196608\n",
      "  layer 1: cgconv1\n",
      "    representation: M_0 * F_1 / p_1 = 196608 * 16 / 4 = 786432\n",
      "    weights: F_0 * F_1 * K_1 = 6 * 16 * 5 = 480\n",
      "    biases: F_1 = 16\n",
      "    batch normalization\n",
      "  layer 2: cgconv2\n",
      "    representation: M_1 * F_2 / p_2 = 49152 * 32 / 4 = 393216\n",
      "    weights: F_1 * F_2 * K_2 = 16 * 32 * 5 = 2560\n",
      "    biases: F_2 = 32\n",
      "    batch normalization\n",
      "  layer 3: cgconv3\n",
      "    representation: M_2 * F_3 / p_3 = 12288 * 64 / 4 = 196608\n",
      "    weights: F_2 * F_3 * K_3 = 32 * 64 * 5 = 10240\n",
      "    biases: F_3 = 64\n",
      "    batch normalization\n",
      "  layer 4: cgconv4\n",
      "    representation: M_3 * F_4 / p_4 = 3072 * 128 / 4 = 98304\n",
      "    weights: F_3 * F_4 * K_4 = 64 * 128 * 5 = 40960\n",
      "    biases: F_4 = 128\n",
      "    batch normalization\n",
      "  layer 5: cgconv5\n",
      "    representation: M_4 * F_5 / p_5 = 768 * 256 / 4 = 49152\n",
      "    weights: F_4 * F_5 * K_5 = 128 * 256 * 5 = 163840\n",
      "    biases: F_5 = 256\n",
      "    batch normalization\n",
      "  Statistical layer: mean\n",
      "    representation: 1 * 256 = 256\n",
      "  layer 6: logits (softmax)\n",
      "    representation: M_6 = 55\n",
      "    weights: M_5 * M_6 = 256 * 55 = 14080\n",
      "step 490 / 19602 (epoch 0.50 / 20):\n",
      "  learning_rate = 1.78e-06, training loss = 4.24e+00\n"
     ]
    },
    {
     "name": "stderr",
     "output_type": "stream",
     "text": [
      "/home/gusset/miniconda3/envs/PDMsphere/lib/python3.6/site-packages/sklearn/metrics/classification.py:1135: UndefinedMetricWarning: F-score is ill-defined and being set to 0.0 in labels with no predicted samples.\n",
      "  'precision', 'predicted', average, warn_for)\n"
     ]
    },
    {
     "name": "stdout",
     "output_type": "stream",
     "text": [
      "  validation accuracy: 0.76 (39 / 5133), f1 (weighted): 0.80, loss: 4.29e+00\n",
      "  CPU time: 1477s, wall time: 797s, perf_time_load: 1.16s, perf_time: 1.16s\n",
      "step 980 / 19602 (epoch 1.00 / 20):\n",
      "  learning_rate = 3.16e-06, training loss = 4.13e+00\n",
      "  validation accuracy: 3.78 (194 / 5133), f1 (weighted): 2.88, loss: 4.19e+00\n",
      "  CPU time: 2964s, wall time: 1587s, perf_time_load: 1.13s, perf_time: 1.13s\n",
      "step 1470 / 19602 (epoch 1.50 / 20):\n",
      "  learning_rate = 5.62e-06, training loss = 4.08e+00\n",
      "  validation accuracy: 10.29 (528 / 5133), f1 (weighted): 4.54, loss: 4.00e+00\n",
      "  CPU time: 4446s, wall time: 2374s, perf_time_load: 1.16s, perf_time: 1.16s\n",
      "step 1960 / 19602 (epoch 2.00 / 20):\n",
      "  learning_rate = 9.99e-06, training loss = 3.78e+00\n",
      "  validation accuracy: 26.57 (1364 / 5133), f1 (weighted): 15.49, loss: 3.70e+00\n",
      "  CPU time: 5924s, wall time: 3166s, perf_time_load: 1.15s, perf_time: 1.15s\n",
      "step 2450 / 19602 (epoch 2.50 / 20):\n",
      "  learning_rate = 1.78e-05, training loss = 3.08e+00\n",
      "  validation accuracy: 35.52 (1823 / 5133), f1 (weighted): 23.55, loss: 3.37e+00\n",
      "  CPU time: 7409s, wall time: 3951s, perf_time_load: 1.15s, perf_time: 1.15s\n",
      "step 2940 / 19602 (epoch 3.00 / 20):\n",
      "  learning_rate = 3.16e-05, training loss = 2.92e+00\n",
      "  validation accuracy: 41.22 (2116 / 5133), f1 (weighted): 27.08, loss: 3.05e+00\n",
      "  CPU time: 8890s, wall time: 4737s, perf_time_load: 1.17s, perf_time: 1.17s\n",
      "step 3430 / 19602 (epoch 3.50 / 20):\n",
      "  learning_rate = 5.62e-05, training loss = 2.43e+00\n",
      "  validation accuracy: 43.13 (2214 / 5133), f1 (weighted): 29.75, loss: 2.78e+00\n",
      "  CPU time: 10385s, wall time: 5525s, perf_time_load: 1.14s, perf_time: 1.14s\n",
      "step 3920 / 19602 (epoch 4.00 / 20):\n",
      "  learning_rate = 9.99e-05, training loss = 2.51e+00\n",
      "  validation accuracy: 46.13 (2368 / 5133), f1 (weighted): 34.35, loss: 2.55e+00\n",
      "  CPU time: 11895s, wall time: 6315s, perf_time_load: 1.14s, perf_time: 1.14s\n",
      "step 4410 / 19602 (epoch 4.50 / 20):\n",
      "  learning_rate = 1.78e-04, training loss = 2.13e+00\n",
      "  validation accuracy: 48.61 (2495 / 5133), f1 (weighted): 38.04, loss: 2.32e+00\n",
      "  CPU time: 13355s, wall time: 7094s, perf_time_load: 1.17s, perf_time: 1.17s\n",
      "step 4900 / 19602 (epoch 5.00 / 20):\n",
      "  learning_rate = 3.16e-04, training loss = 2.27e+00\n",
      "  validation accuracy: 52.41 (2690 / 5133), f1 (weighted): 43.24, loss: 2.12e+00\n",
      "  CPU time: 14828s, wall time: 7876s, perf_time_load: 1.17s, perf_time: 1.17s\n",
      "step 5390 / 19602 (epoch 5.50 / 20):\n",
      "  learning_rate = 5.61e-04, training loss = 1.93e+00\n",
      "  validation accuracy: 56.91 (2921 / 5133), f1 (weighted): 49.32, loss: 1.93e+00\n",
      "  CPU time: 16301s, wall time: 8660s, perf_time_load: 1.17s, perf_time: 1.17s\n",
      "step 5880 / 19602 (epoch 6.00 / 20):\n",
      "  learning_rate = 9.98e-04, training loss = 1.77e+00\n",
      "  validation accuracy: 61.33 (3148 / 5133), f1 (weighted): 55.17, loss: 1.75e+00\n",
      "  CPU time: 17783s, wall time: 9427s, perf_time_load: 1.11s, perf_time: 1.11s\n",
      "step 6370 / 19602 (epoch 6.50 / 20):\n",
      "  learning_rate = 1.77e-03, training loss = 1.69e+00\n",
      "  validation accuracy: 64.50 (3311 / 5133), f1 (weighted): 59.56, loss: 1.60e+00\n",
      "  CPU time: 19248s, wall time: 10200s, perf_time_load: 1.13s, perf_time: 1.13s\n"
     ]
    }
   ],
   "source": [
    "backup = params.copy()\n",
    "\n",
    "params, learning_rate = utils.test_learning_rates(params, train_TFDataset.N, 1e-6, 1e-1, num_epochs=20)\n",
    "\n",
    "shutil.rmtree('summaries/{}/'.format(params['dir_name']), ignore_errors=True)\n",
    "shutil.rmtree('checkpoints/{}/'.format(params['dir_name']), ignore_errors=True)\n",
    "\n",
    "model = models.deepsphere(**params)\n",
    "_, loss_validation, _, _ = model.fit(train_TFDataset, val_dataset, use_tf_dataset=True, cache=True)\n",
    "\n",
    "params.update(backup)\n",
    "\n",
    "plt.semilogx(learning_rate, loss_validation, '.-')"
   ]
  },
  {
   "cell_type": "code",
   "execution_count": null,
   "metadata": {},
   "outputs": [],
   "source": [
    "shutil.rmtree('summaries/lr_finder/', ignore_errors=True)\n",
    "shutil.rmtree('checkpoints/lr_finder/', ignore_errors=True)"
   ]
  },
  {
   "cell_type": "markdown",
   "metadata": {},
   "source": [
    "0.9 seems to be a good learning rate for SGD with current parameters"
   ]
  },
  {
   "cell_type": "markdown",
   "metadata": {},
   "source": [
    "## 2.2 Train Network"
   ]
  },
  {
   "cell_type": "code",
   "execution_count": 71,
   "metadata": {},
   "outputs": [
    {
     "name": "stdout",
     "output_type": "stream",
     "text": [
      "conv1/weights:0\n",
      "conv1/bias:0\n",
      "conv2/weights:0\n",
      "conv2/bias:0\n",
      "conv3/weights:0\n",
      "conv3/bias:0\n",
      "conv4/weights:0\n",
      "conv4/bias:0\n",
      "conv5/weights:0\n",
      "conv5/bias:0\n",
      "logits/weights:0\n",
      "the number of parameters in the model is: 189,040\n"
     ]
    }
   ],
   "source": [
    "print(\"the number of parameters in the model is: {:,}\".format(model.get_nbr_var()))"
   ]
  },
  {
   "cell_type": "code",
   "execution_count": null,
   "metadata": {
    "scrolled": true
   },
   "outputs": [
    {
     "name": "stdout",
     "output_type": "stream",
     "text": [
      "step 735 / 147018 (epoch 0.25 / 50):\n",
      "  learning_rate = 2.00e-02, training accuracy = 87.50, training loss = 5.81e-01\n"
     ]
    },
    {
     "name": "stderr",
     "output_type": "stream",
     "text": [
      "/home/gusset/miniconda3/envs/PDMsphere/lib/python3.6/site-packages/sklearn/metrics/classification.py:1135: UndefinedMetricWarning: F-score is ill-defined and being set to 0.0 in labels with no predicted samples.\n",
      "  'precision', 'predicted', average, warn_for)\n"
     ]
    },
    {
     "name": "stdout",
     "output_type": "stream",
     "text": [
      "  validation accuracy: 72.61 (3727 / 5133), f1 (weighted): 70.17, loss: 1.05e+00\n",
      "  CPU time: 138s, wall time: 65s, perf_time_load: 0.05s, perf_time: 0.00s\n",
      "step 1470 / 147018 (epoch 0.50 / 50):\n",
      "  learning_rate = 2.00e-02, training accuracy = 84.38, training loss = 5.60e-01\n",
      "  validation accuracy: 77.30 (3968 / 5133), f1 (weighted): 75.19, loss: 8.59e-01\n",
      "  CPU time: 272s, wall time: 124s, perf_time_load: 0.05s, perf_time: 0.00s\n",
      "step 2205 / 147018 (epoch 0.75 / 50):\n",
      "  learning_rate = 2.00e-02, training accuracy = 84.38, training loss = 4.12e-01\n",
      "  validation accuracy: 78.49 (4029 / 5133), f1 (weighted): 77.16, loss: 8.29e-01\n",
      "  CPU time: 398s, wall time: 180s, perf_time_load: 0.05s, perf_time: 0.00s\n",
      "step 2940 / 147018 (epoch 1.00 / 50):\n",
      "  learning_rate = 2.00e-02, training accuracy = 81.25, training loss = 7.54e-01\n",
      "  validation accuracy: 79.76 (4094 / 5133), f1 (weighted): 78.22, loss: 7.70e-01\n",
      "  CPU time: 526s, wall time: 236s, perf_time_load: 0.06s, perf_time: 0.00s\n",
      "step 3675 / 147018 (epoch 1.25 / 50):\n",
      "  learning_rate = 2.00e-02, training accuracy = 68.75, training loss = 1.08e+00\n",
      "  validation accuracy: 79.78 (4095 / 5133), f1 (weighted): 78.50, loss: 7.53e-01\n",
      "  CPU time: 653s, wall time: 292s, perf_time_load: 0.05s, perf_time: 0.00s\n",
      "step 4410 / 147018 (epoch 1.50 / 50):\n",
      "  learning_rate = 2.00e-02, training accuracy = 84.38, training loss = 4.25e-01\n",
      "  validation accuracy: 80.81 (4148 / 5133), f1 (weighted): 79.96, loss: 7.21e-01\n",
      "  CPU time: 780s, wall time: 349s, perf_time_load: 0.05s, perf_time: 0.00s\n",
      "step 5145 / 147018 (epoch 1.75 / 50):\n",
      "  learning_rate = 2.00e-02, training accuracy = 93.75, training loss = 1.86e-01\n",
      "  validation accuracy: 80.83 (4149 / 5133), f1 (weighted): 79.89, loss: 7.38e-01\n",
      "  CPU time: 910s, wall time: 407s, perf_time_load: 0.07s, perf_time: 0.01s\n",
      "step 5880 / 147018 (epoch 2.00 / 50):\n",
      "  learning_rate = 2.00e-02, training accuracy = 84.38, training loss = 3.86e-01\n",
      "  validation accuracy: 81.08 (4162 / 5133), f1 (weighted): 79.86, loss: 7.01e-01\n",
      "  CPU time: 1040s, wall time: 463s, perf_time_load: 0.05s, perf_time: 0.00s\n",
      "step 6615 / 147018 (epoch 2.25 / 50):\n",
      "  learning_rate = 2.00e-02, training accuracy = 96.88, training loss = 1.30e-01\n",
      "  validation accuracy: 82.60 (4240 / 5133), f1 (weighted): 81.91, loss: 6.62e-01\n",
      "  CPU time: 1169s, wall time: 520s, perf_time_load: 0.05s, perf_time: 0.00s\n",
      "step 7350 / 147018 (epoch 2.50 / 50):\n",
      "  learning_rate = 2.00e-02, training accuracy = 84.38, training loss = 7.79e-01\n",
      "  validation accuracy: 81.73 (4195 / 5133), f1 (weighted): 81.26, loss: 6.79e-01\n",
      "  CPU time: 1301s, wall time: 579s, perf_time_load: 0.05s, perf_time: 0.00s\n",
      "step 8085 / 147018 (epoch 2.75 / 50):\n",
      "  learning_rate = 2.00e-02, training accuracy = 90.62, training loss = 2.48e-01\n",
      "  validation accuracy: 82.27 (4223 / 5133), f1 (weighted): 81.58, loss: 6.74e-01\n",
      "  CPU time: 1424s, wall time: 634s, perf_time_load: 0.11s, perf_time: 0.00s\n",
      "step 8820 / 147018 (epoch 3.00 / 50):\n",
      "  learning_rate = 2.00e-02, training accuracy = 90.62, training loss = 5.23e-01\n",
      "  validation accuracy: 82.19 (4219 / 5133), f1 (weighted): 81.54, loss: 6.69e-01\n",
      "  CPU time: 1548s, wall time: 691s, perf_time_load: 0.07s, perf_time: 0.00s\n",
      "step 9555 / 147018 (epoch 3.25 / 50):\n",
      "  learning_rate = 2.00e-02, training accuracy = 93.75, training loss = 1.54e-01\n",
      "  validation accuracy: 82.21 (4220 / 5133), f1 (weighted): 81.23, loss: 6.99e-01\n",
      "  CPU time: 1669s, wall time: 747s, perf_time_load: 0.07s, perf_time: 0.00s\n",
      "step 10290 / 147018 (epoch 3.50 / 50):\n",
      "  learning_rate = 2.00e-02, training accuracy = 93.75, training loss = 3.14e-01\n",
      "  validation accuracy: 82.60 (4240 / 5133), f1 (weighted): 81.73, loss: 6.85e-01\n",
      "  CPU time: 1794s, wall time: 804s, perf_time_load: 0.05s, perf_time: 0.00s\n",
      "step 11025 / 147018 (epoch 3.75 / 50):\n",
      "  learning_rate = 2.00e-02, training accuracy = 84.38, training loss = 3.76e-01\n",
      "  validation accuracy: 82.66 (4243 / 5133), f1 (weighted): 81.98, loss: 6.71e-01\n",
      "  CPU time: 1912s, wall time: 858s, perf_time_load: 0.05s, perf_time: 0.00s\n",
      "step 11760 / 147018 (epoch 4.00 / 50):\n",
      "  learning_rate = 2.00e-02, training accuracy = 100.00, training loss = 7.51e-02\n",
      "  validation accuracy: 82.15 (4217 / 5133), f1 (weighted): 81.68, loss: 6.78e-01\n",
      "  CPU time: 2032s, wall time: 913s, perf_time_load: 0.05s, perf_time: 0.00s\n",
      "step 12495 / 147018 (epoch 4.25 / 50):\n",
      "  learning_rate = 2.00e-02, training accuracy = 96.88, training loss = 1.52e-01\n",
      "  validation accuracy: 82.99 (4260 / 5133), f1 (weighted): 82.06, loss: 6.84e-01\n",
      "  CPU time: 2155s, wall time: 970s, perf_time_load: 0.10s, perf_time: 0.00s\n",
      "step 13230 / 147018 (epoch 4.50 / 50):\n",
      "  learning_rate = 2.00e-02, training accuracy = 87.50, training loss = 3.87e-01\n",
      "  validation accuracy: 82.49 (4234 / 5133), f1 (weighted): 82.02, loss: 6.57e-01\n",
      "  CPU time: 2277s, wall time: 1026s, perf_time_load: 0.05s, perf_time: 0.00s\n",
      "step 13965 / 147018 (epoch 4.75 / 50):\n",
      "  learning_rate = 2.00e-02, training accuracy = 93.75, training loss = 1.96e-01\n",
      "  validation accuracy: 83.32 (4277 / 5133), f1 (weighted): 82.82, loss: 6.44e-01\n",
      "  CPU time: 2397s, wall time: 1082s, perf_time_load: 0.06s, perf_time: 0.00s\n",
      "step 14700 / 147018 (epoch 5.00 / 50):\n",
      "  learning_rate = 2.00e-02, training accuracy = 90.62, training loss = 2.42e-01\n",
      "  validation accuracy: 83.75 (4299 / 5133), f1 (weighted): 83.03, loss: 6.60e-01\n",
      "  CPU time: 2518s, wall time: 1137s, perf_time_load: 0.05s, perf_time: 0.00s\n",
      "step 15435 / 147018 (epoch 5.25 / 50):\n",
      "  learning_rate = 2.00e-02, training accuracy = 93.75, training loss = 1.56e-01\n",
      "  validation accuracy: 82.68 (4244 / 5133), f1 (weighted): 82.05, loss: 6.75e-01\n",
      "  CPU time: 2639s, wall time: 1192s, perf_time_load: 0.05s, perf_time: 0.00s\n",
      "step 16170 / 147018 (epoch 5.50 / 50):\n",
      "  learning_rate = 2.00e-02, training accuracy = 93.75, training loss = 2.23e-01\n",
      "  validation accuracy: 83.69 (4296 / 5133), f1 (weighted): 83.22, loss: 6.53e-01\n",
      "  CPU time: 2759s, wall time: 1248s, perf_time_load: 0.05s, perf_time: 0.00s\n",
      "step 16905 / 147018 (epoch 5.75 / 50):\n",
      "  learning_rate = 2.00e-02, training accuracy = 87.50, training loss = 2.84e-01\n",
      "  validation accuracy: 83.42 (4282 / 5133), f1 (weighted): 83.02, loss: 6.64e-01\n",
      "  CPU time: 2886s, wall time: 1308s, perf_time_load: 0.08s, perf_time: 0.00s\n",
      "step 17640 / 147018 (epoch 6.00 / 50):\n",
      "  learning_rate = 2.00e-02, training accuracy = 90.62, training loss = 2.00e-01\n",
      "  validation accuracy: 82.78 (4249 / 5133), f1 (weighted): 81.96, loss: 7.36e-01\n",
      "  CPU time: 3011s, wall time: 1365s, perf_time_load: 0.06s, perf_time: 0.00s\n",
      "step 18375 / 147018 (epoch 6.25 / 50):\n",
      "  learning_rate = 2.00e-02, training accuracy = 87.50, training loss = 3.40e-01\n",
      "  validation accuracy: 82.33 (4226 / 5133), f1 (weighted): 82.13, loss: 7.03e-01\n",
      "  CPU time: 3137s, wall time: 1425s, perf_time_load: 0.07s, perf_time: 0.00s\n",
      "step 19110 / 147018 (epoch 6.50 / 50):\n",
      "  learning_rate = 2.00e-02, training accuracy = 96.88, training loss = 1.29e-01\n",
      "  validation accuracy: 82.56 (4238 / 5133), f1 (weighted): 82.04, loss: 7.04e-01\n",
      "  CPU time: 3270s, wall time: 1497s, perf_time_load: 0.10s, perf_time: 0.00s\n",
      "step 19845 / 147018 (epoch 6.75 / 50):\n",
      "  learning_rate = 2.00e-02, training accuracy = 100.00, training loss = 4.09e-02\n",
      "  validation accuracy: 83.13 (4267 / 5133), f1 (weighted): 82.67, loss: 6.83e-01\n",
      "  CPU time: 3414s, wall time: 1590s, perf_time_load: 0.13s, perf_time: 0.01s\n",
      "step 20580 / 147018 (epoch 7.00 / 50):\n",
      "  learning_rate = 2.00e-02, training accuracy = 96.88, training loss = 1.31e-01\n",
      "  validation accuracy: 83.71 (4297 / 5133), f1 (weighted): 83.45, loss: 6.87e-01\n",
      "  CPU time: 3549s, wall time: 1663s, perf_time_load: 0.05s, perf_time: 0.00s\n",
      "step 21315 / 147018 (epoch 7.25 / 50):\n",
      "  learning_rate = 2.00e-02, training accuracy = 90.62, training loss = 3.54e-01\n",
      "  validation accuracy: 82.86 (4253 / 5133), f1 (weighted): 82.39, loss: 7.05e-01\n",
      "  CPU time: 3669s, wall time: 1718s, perf_time_load: 0.06s, perf_time: 0.00s\n",
      "step 22050 / 147018 (epoch 7.50 / 50):\n",
      "  learning_rate = 2.00e-02, training accuracy = 100.00, training loss = 3.82e-02\n",
      "  validation accuracy: 82.62 (4241 / 5133), f1 (weighted): 82.09, loss: 7.15e-01\n",
      "  CPU time: 3789s, wall time: 1774s, perf_time_load: 0.05s, perf_time: 0.00s\n",
      "step 22785 / 147018 (epoch 7.75 / 50):\n",
      "  learning_rate = 2.00e-02, training accuracy = 96.88, training loss = 4.86e-02\n"
     ]
    },
    {
     "name": "stdout",
     "output_type": "stream",
     "text": [
      "  validation accuracy: 83.13 (4267 / 5133), f1 (weighted): 82.79, loss: 7.11e-01\n",
      "  CPU time: 3909s, wall time: 1830s, perf_time_load: 0.05s, perf_time: 0.00s\n",
      "step 23520 / 147018 (epoch 8.00 / 50):\n",
      "  learning_rate = 2.00e-02, training accuracy = 100.00, training loss = 6.44e-02\n",
      "  validation accuracy: 83.77 (4300 / 5133), f1 (weighted): 83.20, loss: 7.04e-01\n",
      "  CPU time: 4031s, wall time: 1886s, perf_time_load: 0.05s, perf_time: 0.00s\n",
      "step 24255 / 147018 (epoch 8.25 / 50):\n",
      "  learning_rate = 2.00e-02, training accuracy = 96.88, training loss = 1.05e-01\n",
      "  validation accuracy: 81.94 (4206 / 5133), f1 (weighted): 81.39, loss: 7.59e-01\n",
      "  CPU time: 4151s, wall time: 1942s, perf_time_load: 0.05s, perf_time: 0.00s\n",
      "step 24990 / 147018 (epoch 8.50 / 50):\n",
      "  learning_rate = 2.00e-02, training accuracy = 93.75, training loss = 1.62e-01\n",
      "  validation accuracy: 82.93 (4257 / 5133), f1 (weighted): 82.35, loss: 7.19e-01\n",
      "  CPU time: 4273s, wall time: 1999s, perf_time_load: 0.05s, perf_time: 0.00s\n",
      "step 25725 / 147018 (epoch 8.75 / 50):\n",
      "  learning_rate = 2.00e-02, training accuracy = 96.88, training loss = 1.20e-01\n",
      "  validation accuracy: 82.88 (4254 / 5133), f1 (weighted): 82.49, loss: 7.54e-01\n",
      "  CPU time: 4392s, wall time: 2055s, perf_time_load: 0.05s, perf_time: 0.00s\n",
      "step 26460 / 147018 (epoch 9.00 / 50):\n",
      "  learning_rate = 2.00e-02, training accuracy = 93.75, training loss = 1.80e-01\n",
      "  validation accuracy: 82.70 (4245 / 5133), f1 (weighted): 82.31, loss: 7.48e-01\n",
      "  CPU time: 4523s, wall time: 2117s, perf_time_load: 0.06s, perf_time: 0.00s\n",
      "step 27195 / 147018 (epoch 9.25 / 50):\n",
      "  learning_rate = 2.00e-02, training accuracy = 100.00, training loss = 7.16e-02\n",
      "  validation accuracy: 83.17 (4269 / 5133), f1 (weighted): 82.77, loss: 7.15e-01\n",
      "  CPU time: 4644s, wall time: 2173s, perf_time_load: 0.05s, perf_time: 0.00s\n",
      "step 27930 / 147018 (epoch 9.50 / 50):\n",
      "  learning_rate = 2.00e-02, training accuracy = 96.88, training loss = 1.18e-01\n",
      "  validation accuracy: 83.01 (4261 / 5133), f1 (weighted): 82.39, loss: 7.55e-01\n",
      "  CPU time: 4769s, wall time: 2231s, perf_time_load: 0.06s, perf_time: 0.00s\n",
      "step 28665 / 147018 (epoch 9.75 / 50):\n",
      "  learning_rate = 2.00e-02, training accuracy = 100.00, training loss = 5.97e-02\n",
      "  validation accuracy: 83.19 (4270 / 5133), f1 (weighted): 82.61, loss: 7.30e-01\n",
      "  CPU time: 4893s, wall time: 2289s, perf_time_load: 0.05s, perf_time: 0.00s\n",
      "step 29400 / 147018 (epoch 10.00 / 50):\n",
      "  learning_rate = 2.00e-02, training accuracy = 93.75, training loss = 7.64e-02\n",
      "  validation accuracy: 83.30 (4276 / 5133), f1 (weighted): 82.73, loss: 7.65e-01\n",
      "  CPU time: 5015s, wall time: 2345s, perf_time_load: 0.07s, perf_time: 0.01s\n",
      "step 30135 / 147018 (epoch 10.25 / 50):\n",
      "  learning_rate = 2.00e-02, training accuracy = 96.88, training loss = 1.43e-01\n",
      "  validation accuracy: 82.21 (4220 / 5133), f1 (weighted): 81.73, loss: 7.75e-01\n",
      "  CPU time: 5141s, wall time: 2403s, perf_time_load: 0.05s, perf_time: 0.00s\n",
      "step 30870 / 147018 (epoch 10.50 / 50):\n",
      "  learning_rate = 2.00e-02, training accuracy = 100.00, training loss = 3.15e-02\n",
      "  validation accuracy: 83.34 (4278 / 5133), f1 (weighted): 82.75, loss: 7.57e-01\n",
      "  CPU time: 5268s, wall time: 2463s, perf_time_load: 0.05s, perf_time: 0.00s\n",
      "step 31605 / 147018 (epoch 10.75 / 50):\n",
      "  learning_rate = 2.00e-02, training accuracy = 93.75, training loss = 1.85e-01\n",
      "  validation accuracy: 83.13 (4267 / 5133), f1 (weighted): 82.60, loss: 7.68e-01\n",
      "  CPU time: 5390s, wall time: 2520s, perf_time_load: 0.05s, perf_time: 0.00s\n",
      "step 32340 / 147018 (epoch 11.00 / 50):\n",
      "  learning_rate = 2.00e-02, training accuracy = 96.88, training loss = 5.97e-02\n",
      "  validation accuracy: 83.28 (4275 / 5133), f1 (weighted): 82.84, loss: 7.43e-01\n",
      "  CPU time: 5510s, wall time: 2576s, perf_time_load: 0.05s, perf_time: 0.00s\n",
      "step 33075 / 147018 (epoch 11.25 / 50):\n",
      "  learning_rate = 2.00e-02, training accuracy = 100.00, training loss = 1.57e-02\n",
      "  validation accuracy: 82.97 (4259 / 5133), f1 (weighted): 82.57, loss: 7.59e-01\n",
      "  CPU time: 5631s, wall time: 2633s, perf_time_load: 0.05s, perf_time: 0.00s\n",
      "step 33810 / 147018 (epoch 11.50 / 50):\n",
      "  learning_rate = 2.00e-02, training accuracy = 96.88, training loss = 1.62e-01\n",
      "  validation accuracy: 83.36 (4279 / 5133), f1 (weighted): 83.15, loss: 7.53e-01\n",
      "  CPU time: 5754s, wall time: 2688s, perf_time_load: 0.05s, perf_time: 0.00s\n",
      "step 34545 / 147018 (epoch 11.75 / 50):\n",
      "  learning_rate = 2.00e-02, training accuracy = 100.00, training loss = 9.52e-02\n",
      "  validation accuracy: 83.48 (4285 / 5133), f1 (weighted): 83.19, loss: 7.66e-01\n",
      "  CPU time: 5876s, wall time: 2744s, perf_time_load: 0.07s, perf_time: 0.00s\n",
      "step 35280 / 147018 (epoch 12.00 / 50):\n",
      "  learning_rate = 2.00e-02, training accuracy = 100.00, training loss = 4.14e-02\n",
      "  validation accuracy: 82.97 (4259 / 5133), f1 (weighted): 82.80, loss: 7.88e-01\n",
      "  CPU time: 5997s, wall time: 2800s, perf_time_load: 0.06s, perf_time: 0.00s\n",
      "step 36015 / 147018 (epoch 12.25 / 50):\n",
      "  learning_rate = 2.00e-02, training accuracy = 100.00, training loss = 2.42e-02\n",
      "  validation accuracy: 83.03 (4262 / 5133), f1 (weighted): 82.63, loss: 7.49e-01\n",
      "  CPU time: 6118s, wall time: 2855s, perf_time_load: 0.07s, perf_time: 0.01s\n",
      "step 36750 / 147018 (epoch 12.50 / 50):\n",
      "  learning_rate = 2.00e-02, training accuracy = 93.75, training loss = 1.62e-01\n",
      "  validation accuracy: 83.11 (4266 / 5133), f1 (weighted): 82.88, loss: 7.92e-01\n",
      "  CPU time: 6242s, wall time: 2912s, perf_time_load: 0.05s, perf_time: 0.00s\n",
      "step 37485 / 147018 (epoch 12.75 / 50):\n",
      "  learning_rate = 2.00e-02, training accuracy = 100.00, training loss = 4.20e-02\n",
      "  validation accuracy: 83.25 (4273 / 5133), f1 (weighted): 82.97, loss: 7.82e-01\n",
      "  CPU time: 6364s, wall time: 2970s, perf_time_load: 0.05s, perf_time: 0.00s\n",
      "step 38220 / 147018 (epoch 13.00 / 50):\n",
      "  learning_rate = 2.00e-02, training accuracy = 100.00, training loss = 1.85e-02\n",
      "  validation accuracy: 83.32 (4277 / 5133), f1 (weighted): 83.03, loss: 7.91e-01\n",
      "  CPU time: 6490s, wall time: 3028s, perf_time_load: 0.05s, perf_time: 0.00s\n",
      "step 38955 / 147018 (epoch 13.25 / 50):\n",
      "  learning_rate = 2.00e-02, training accuracy = 93.75, training loss = 1.21e-01\n",
      "  validation accuracy: 83.46 (4284 / 5133), f1 (weighted): 83.09, loss: 7.97e-01\n",
      "  CPU time: 6614s, wall time: 3084s, perf_time_load: 0.05s, perf_time: 0.00s\n",
      "step 39690 / 147018 (epoch 13.50 / 50):\n",
      "  learning_rate = 2.00e-02, training accuracy = 96.88, training loss = 7.43e-02\n",
      "  validation accuracy: 83.30 (4276 / 5133), f1 (weighted): 82.81, loss: 7.83e-01\n",
      "  CPU time: 6735s, wall time: 3139s, perf_time_load: 0.05s, perf_time: 0.00s\n",
      "step 40425 / 147018 (epoch 13.75 / 50):\n",
      "  learning_rate = 2.00e-02, training accuracy = 100.00, training loss = 3.55e-02\n",
      "  validation accuracy: 83.42 (4282 / 5133), f1 (weighted): 83.12, loss: 7.90e-01\n",
      "  CPU time: 6857s, wall time: 3196s, perf_time_load: 0.11s, perf_time: 0.01s\n",
      "step 41160 / 147018 (epoch 14.00 / 50):\n",
      "  learning_rate = 2.00e-02, training accuracy = 100.00, training loss = 5.01e-02\n",
      "  validation accuracy: 83.30 (4276 / 5133), f1 (weighted): 82.80, loss: 7.97e-01\n",
      "  CPU time: 6974s, wall time: 3249s, perf_time_load: 0.05s, perf_time: 0.00s\n",
      "step 41895 / 147018 (epoch 14.25 / 50):\n",
      "  learning_rate = 2.00e-02, training accuracy = 96.88, training loss = 5.95e-02\n",
      "  validation accuracy: 83.19 (4270 / 5133), f1 (weighted): 82.64, loss: 8.10e-01\n",
      "  CPU time: 7088s, wall time: 3298s, perf_time_load: 0.05s, perf_time: 0.00s\n",
      "step 42630 / 147018 (epoch 14.50 / 50):\n",
      "  learning_rate = 2.00e-02, training accuracy = 100.00, training loss = 2.02e-02\n",
      "  validation accuracy: 83.32 (4277 / 5133), f1 (weighted): 82.80, loss: 8.17e-01\n",
      "  CPU time: 7205s, wall time: 3351s, perf_time_load: 0.08s, perf_time: 0.01s\n",
      "step 43365 / 147018 (epoch 14.75 / 50):\n",
      "  learning_rate = 2.00e-02, training accuracy = 96.88, training loss = 7.09e-02\n",
      "  validation accuracy: 83.09 (4265 / 5133), f1 (weighted): 82.63, loss: 8.17e-01\n",
      "  CPU time: 7320s, wall time: 3400s, perf_time_load: 0.05s, perf_time: 0.00s\n",
      "step 44100 / 147018 (epoch 15.00 / 50):\n",
      "  learning_rate = 2.00e-02, training accuracy = 100.00, training loss = 5.38e-02\n",
      "  validation accuracy: 84.01 (4312 / 5133), f1 (weighted): 83.77, loss: 7.80e-01\n",
      "  CPU time: 7436s, wall time: 3451s, perf_time_load: 0.05s, perf_time: 0.00s\n"
     ]
    },
    {
     "name": "stdout",
     "output_type": "stream",
     "text": [
      "step 44835 / 147018 (epoch 15.25 / 50):\n",
      "  learning_rate = 2.00e-02, training accuracy = 96.88, training loss = 3.70e-02\n",
      "  validation accuracy: 83.83 (4303 / 5133), f1 (weighted): 83.51, loss: 7.86e-01\n",
      "  CPU time: 7551s, wall time: 3501s, perf_time_load: 0.05s, perf_time: 0.00s\n",
      "step 45570 / 147018 (epoch 15.50 / 50):\n",
      "  learning_rate = 2.00e-02, training accuracy = 96.88, training loss = 8.87e-02\n",
      "  validation accuracy: 83.25 (4273 / 5133), f1 (weighted): 82.72, loss: 8.17e-01\n",
      "  CPU time: 7668s, wall time: 3551s, perf_time_load: 0.05s, perf_time: 0.00s\n",
      "step 46305 / 147018 (epoch 15.75 / 50):\n",
      "  learning_rate = 2.00e-02, training accuracy = 96.88, training loss = 7.03e-02\n",
      "  validation accuracy: 83.75 (4299 / 5133), f1 (weighted): 83.44, loss: 8.22e-01\n",
      "  CPU time: 7783s, wall time: 3602s, perf_time_load: 0.07s, perf_time: 0.00s\n",
      "step 47040 / 147018 (epoch 16.00 / 50):\n",
      "  learning_rate = 2.00e-02, training accuracy = 100.00, training loss = 5.23e-02\n",
      "  validation accuracy: 82.52 (4236 / 5133), f1 (weighted): 82.01, loss: 8.50e-01\n",
      "  CPU time: 7899s, wall time: 3652s, perf_time_load: 0.07s, perf_time: 0.00s\n",
      "step 47775 / 147018 (epoch 16.25 / 50):\n",
      "  learning_rate = 2.00e-02, training accuracy = 100.00, training loss = 5.50e-02\n",
      "  validation accuracy: 83.42 (4282 / 5133), f1 (weighted): 83.09, loss: 8.18e-01\n",
      "  CPU time: 8014s, wall time: 3702s, perf_time_load: 0.05s, perf_time: 0.00s\n",
      "step 48510 / 147018 (epoch 16.50 / 50):\n",
      "  learning_rate = 2.00e-02, training accuracy = 100.00, training loss = 1.24e-02\n",
      "  validation accuracy: 83.56 (4289 / 5133), f1 (weighted): 83.05, loss: 8.40e-01\n",
      "  CPU time: 8131s, wall time: 3757s, perf_time_load: 0.07s, perf_time: 0.00s\n",
      "step 49245 / 147018 (epoch 16.75 / 50):\n",
      "  learning_rate = 2.00e-02, training accuracy = 100.00, training loss = 1.71e-02\n",
      "  validation accuracy: 83.36 (4279 / 5133), f1 (weighted): 82.87, loss: 8.31e-01\n",
      "  CPU time: 8265s, wall time: 3824s, perf_time_load: 0.05s, perf_time: 0.00s\n",
      "step 49980 / 147018 (epoch 17.00 / 50):\n",
      "  learning_rate = 2.00e-02, training accuracy = 100.00, training loss = 3.86e-02\n",
      "  validation accuracy: 83.30 (4276 / 5133), f1 (weighted): 82.90, loss: 8.31e-01\n",
      "  CPU time: 8388s, wall time: 3880s, perf_time_load: 0.05s, perf_time: 0.00s\n",
      "step 50715 / 147018 (epoch 17.25 / 50):\n",
      "  learning_rate = 2.00e-02, training accuracy = 100.00, training loss = 2.60e-02\n",
      "  validation accuracy: 83.17 (4269 / 5133), f1 (weighted): 82.69, loss: 8.59e-01\n",
      "  CPU time: 8505s, wall time: 3931s, perf_time_load: 0.05s, perf_time: 0.00s\n",
      "step 51450 / 147018 (epoch 17.50 / 50):\n",
      "  learning_rate = 2.00e-02, training accuracy = 96.88, training loss = 7.93e-02\n",
      "  validation accuracy: 83.77 (4300 / 5133), f1 (weighted): 83.38, loss: 8.28e-01\n",
      "  CPU time: 8620s, wall time: 3982s, perf_time_load: 0.08s, perf_time: 0.01s\n",
      "step 52185 / 147018 (epoch 17.75 / 50):\n",
      "  learning_rate = 2.00e-02, training accuracy = 100.00, training loss = 3.51e-02\n",
      "  validation accuracy: 83.36 (4279 / 5133), f1 (weighted): 83.03, loss: 8.43e-01\n",
      "  CPU time: 8735s, wall time: 4032s, perf_time_load: 0.05s, perf_time: 0.00s\n",
      "step 52920 / 147018 (epoch 18.00 / 50):\n",
      "  learning_rate = 2.00e-02, training accuracy = 96.88, training loss = 5.57e-02\n",
      "  validation accuracy: 83.87 (4305 / 5133), f1 (weighted): 83.38, loss: 8.55e-01\n",
      "  CPU time: 8850s, wall time: 4082s, perf_time_load: 0.05s, perf_time: 0.00s\n",
      "step 53655 / 147018 (epoch 18.25 / 50):\n",
      "  learning_rate = 2.00e-02, training accuracy = 100.00, training loss = 2.74e-02\n",
      "  validation accuracy: 83.25 (4273 / 5133), f1 (weighted): 82.72, loss: 8.65e-01\n",
      "  CPU time: 8963s, wall time: 4132s, perf_time_load: 0.05s, perf_time: 0.00s\n",
      "step 54390 / 147018 (epoch 18.50 / 50):\n",
      "  learning_rate = 2.00e-02, training accuracy = 100.00, training loss = 1.59e-02\n",
      "  validation accuracy: 83.23 (4272 / 5133), f1 (weighted): 82.72, loss: 8.70e-01\n",
      "  CPU time: 9077s, wall time: 4181s, perf_time_load: 0.05s, perf_time: 0.00s\n",
      "step 55125 / 147018 (epoch 18.75 / 50):\n",
      "  learning_rate = 2.00e-02, training accuracy = 100.00, training loss = 4.37e-02\n",
      "  validation accuracy: 83.19 (4270 / 5133), f1 (weighted): 82.78, loss: 8.46e-01\n",
      "  CPU time: 9192s, wall time: 4230s, perf_time_load: 0.05s, perf_time: 0.00s\n",
      "step 55860 / 147018 (epoch 19.00 / 50):\n",
      "  learning_rate = 2.00e-02, training accuracy = 100.00, training loss = 4.14e-02\n",
      "  validation accuracy: 83.89 (4306 / 5133), f1 (weighted): 83.52, loss: 8.65e-01\n",
      "  CPU time: 9306s, wall time: 4279s, perf_time_load: 0.05s, perf_time: 0.00s\n",
      "step 56595 / 147018 (epoch 19.25 / 50):\n",
      "  learning_rate = 2.00e-02, training accuracy = 100.00, training loss = 2.81e-02\n",
      "  validation accuracy: 83.07 (4264 / 5133), f1 (weighted): 82.60, loss: 8.75e-01\n",
      "  CPU time: 9422s, wall time: 4330s, perf_time_load: 0.05s, perf_time: 0.00s\n",
      "step 57330 / 147018 (epoch 19.50 / 50):\n",
      "  learning_rate = 2.00e-02, training accuracy = 100.00, training loss = 3.73e-02\n",
      "  validation accuracy: 83.25 (4273 / 5133), f1 (weighted): 82.71, loss: 8.68e-01\n",
      "  CPU time: 9536s, wall time: 4379s, perf_time_load: 0.05s, perf_time: 0.00s\n",
      "step 58065 / 147018 (epoch 19.75 / 50):\n",
      "  learning_rate = 2.00e-02, training accuracy = 100.00, training loss = 1.65e-02\n",
      "  validation accuracy: 83.48 (4285 / 5133), f1 (weighted): 83.09, loss: 8.74e-01\n",
      "  CPU time: 9648s, wall time: 4428s, perf_time_load: 0.05s, perf_time: 0.00s\n",
      "step 58800 / 147018 (epoch 20.00 / 50):\n",
      "  learning_rate = 2.00e-02, training accuracy = 96.88, training loss = 6.91e-02\n",
      "  validation accuracy: 83.07 (4264 / 5133), f1 (weighted): 82.59, loss: 8.75e-01\n",
      "  CPU time: 9762s, wall time: 4479s, perf_time_load: 0.05s, perf_time: 0.00s\n",
      "step 59535 / 147018 (epoch 20.25 / 50):\n",
      "  learning_rate = 2.00e-02, training accuracy = 100.00, training loss = 1.83e-02\n",
      "  validation accuracy: 83.81 (4302 / 5133), f1 (weighted): 83.48, loss: 8.83e-01\n",
      "  CPU time: 9875s, wall time: 4528s, perf_time_load: 0.05s, perf_time: 0.00s\n",
      "step 60270 / 147018 (epoch 20.50 / 50):\n",
      "  learning_rate = 2.00e-02, training accuracy = 100.00, training loss = 1.00e-02\n",
      "  validation accuracy: 83.87 (4305 / 5133), f1 (weighted): 83.45, loss: 8.63e-01\n",
      "  CPU time: 9990s, wall time: 4579s, perf_time_load: 0.05s, perf_time: 0.00s\n",
      "step 61005 / 147018 (epoch 20.75 / 50):\n",
      "  learning_rate = 2.00e-02, training accuracy = 100.00, training loss = 1.04e-02\n",
      "  validation accuracy: 83.28 (4275 / 5133), f1 (weighted): 82.92, loss: 8.69e-01\n",
      "  CPU time: 10104s, wall time: 4629s, perf_time_load: 0.05s, perf_time: 0.00s\n",
      "step 61740 / 147018 (epoch 21.00 / 50):\n",
      "  learning_rate = 2.00e-02, training accuracy = 100.00, training loss = 1.47e-02\n",
      "  validation accuracy: 83.19 (4270 / 5133), f1 (weighted): 82.74, loss: 8.83e-01\n",
      "  CPU time: 10219s, wall time: 4678s, perf_time_load: 0.05s, perf_time: 0.00s\n",
      "step 62475 / 147018 (epoch 21.25 / 50):\n",
      "  learning_rate = 2.00e-02, training accuracy = 96.88, training loss = 6.67e-02\n",
      "  validation accuracy: 82.80 (4250 / 5133), f1 (weighted): 82.45, loss: 8.85e-01\n",
      "  CPU time: 10333s, wall time: 4727s, perf_time_load: 0.05s, perf_time: 0.00s\n",
      "step 63210 / 147018 (epoch 21.50 / 50):\n",
      "  learning_rate = 2.00e-02, training accuracy = 100.00, training loss = 7.68e-03\n",
      "  validation accuracy: 83.62 (4292 / 5133), f1 (weighted): 83.20, loss: 8.89e-01\n",
      "  CPU time: 10447s, wall time: 4777s, perf_time_load: 0.05s, perf_time: 0.00s\n",
      "step 63945 / 147018 (epoch 21.75 / 50):\n",
      "  learning_rate = 2.00e-02, training accuracy = 100.00, training loss = 3.53e-02\n",
      "  validation accuracy: 83.34 (4278 / 5133), f1 (weighted): 83.03, loss: 8.90e-01\n",
      "  CPU time: 10563s, wall time: 4828s, perf_time_load: 0.05s, perf_time: 0.00s\n",
      "step 64680 / 147018 (epoch 22.00 / 50):\n",
      "  learning_rate = 2.00e-02, training accuracy = 100.00, training loss = 4.38e-02\n",
      "  validation accuracy: 83.65 (4294 / 5133), f1 (weighted): 83.12, loss: 8.91e-01\n",
      "  CPU time: 10679s, wall time: 4880s, perf_time_load: 0.05s, perf_time: 0.00s\n"
     ]
    }
   ],
   "source": [
    "accuracy_validation, loss_validation, loss_training, t_step, t_batch = model.fit(train_TFDataset, val_dataset, use_tf_dataset=True, cache=True)"
   ]
  },
  {
   "cell_type": "code",
   "execution_count": 70,
   "metadata": {},
   "outputs": [
    {
     "ename": "NameError",
     "evalue": "name 'loss_training' is not defined",
     "output_type": "error",
     "traceback": [
      "\u001b[0;31m---------------------------------------------------------------------------\u001b[0m",
      "\u001b[0;31mNameError\u001b[0m                                 Traceback (most recent call last)",
      "\u001b[0;32m<ipython-input-70-6e3d065454a7>\u001b[0m in \u001b[0;36m<module>\u001b[0;34m()\u001b[0m\n\u001b[0;32m----> 1\u001b[0;31m \u001b[0mplot\u001b[0m\u001b[0;34m.\u001b[0m\u001b[0mplot_loss\u001b[0m\u001b[0;34m(\u001b[0m\u001b[0mloss_training\u001b[0m\u001b[0;34m,\u001b[0m \u001b[0mloss_validation\u001b[0m\u001b[0;34m,\u001b[0m \u001b[0mt_step\u001b[0m\u001b[0;34m,\u001b[0m \u001b[0mparams\u001b[0m\u001b[0;34m[\u001b[0m\u001b[0;34m'eval_frequency'\u001b[0m\u001b[0;34m]\u001b[0m\u001b[0;34m)\u001b[0m\u001b[0;34m\u001b[0m\u001b[0;34m\u001b[0m\u001b[0m\n\u001b[0m",
      "\u001b[0;31mNameError\u001b[0m: name 'loss_training' is not defined"
     ]
    }
   ],
   "source": [
    "plot.plot_loss(loss_training, loss_validation, t_step, params['eval_frequency'])"
   ]
  },
  {
   "cell_type": "markdown",
   "metadata": {},
   "source": [
    "Remarks"
   ]
  },
  {
   "cell_type": "code",
   "execution_count": 16,
   "metadata": {},
   "outputs": [
    {
     "name": "stdout",
     "output_type": "stream",
     "text": [
      "/mnt/scratch/students/gusset/DeepSphere/deepsphere/../checkpoints/shrec17_Cohen_simple_SGD_max_nsides_300epoch_reg_32sides_CNN\n",
      "INFO:tensorflow:Restoring parameters from /mnt/scratch/students/gusset/DeepSphere/deepsphere/../checkpoints/shrec17_Cohen_simple_SGD_max_nsides_300epoch_reg_32sides_CNN/model-294037\n"
     ]
    },
    {
     "data": {
      "text/plain": [
       "('accuracy: 96.53 (30277 / 31364), f1 (weighted): 96.54, loss: 1.16e-01\\nCPU time: 275s, wall time: 257s',\n",
       " 96.53424308123964,\n",
       " 96.54157073077505,\n",
       " 0.115866209483545)"
      ]
     },
     "execution_count": 16,
     "metadata": {},
     "output_type": "execute_result"
    }
   ],
   "source": [
    "model.evaluate(x_train, labels_train)"
   ]
  },
  {
   "cell_type": "code",
   "execution_count": null,
   "metadata": {},
   "outputs": [],
   "source": [
    "#predictions, loss = model.predict(x_val, labels_val)"
   ]
  },
  {
   "cell_type": "code",
   "execution_count": 96,
   "metadata": {},
   "outputs": [
    {
     "name": "stdout",
     "output_type": "stream",
     "text": [
      "/mnt/scratch/students/gusset/DeepSphere/deepsphere/../checkpoints/shrec17_newGraph_best_4K_rot_3aug_32sides_CNN\n",
      "INFO:tensorflow:Restoring parameters from /mnt/scratch/students/gusset/DeepSphere/deepsphere/../checkpoints/shrec17_newGraph_best_4K_rot_3aug_32sides_CNN/model-147018\n"
     ]
    },
    {
     "data": {
      "text/plain": [
       "('accuracy: 83.85 (4304 / 5133), f1 (weighted): 83.35, loss: 1.06e+00\\nCPU time: 19s, wall time: 20s',\n",
       " 83.8496006234171,\n",
       " 83.35228415051333,\n",
       " 1.0588493312099583)"
      ]
     },
     "execution_count": 96,
     "metadata": {},
     "output_type": "execute_result"
    }
   ],
   "source": [
    "# model.evaluate(x_val, labels_val)\n",
    "model.evaluate(val_dataset, None, cache=True)"
   ]
  },
  {
   "cell_type": "code",
   "execution_count": 99,
   "metadata": {},
   "outputs": [
    {
     "name": "stdout",
     "output_type": "stream",
     "text": [
      "/mnt/scratch/students/gusset/DeepSphere/deepsphere/../checkpoints/shrec17_newGraph_best_4K_rot_3aug_32sides_CNN\n",
      "INFO:tensorflow:Restoring parameters from /mnt/scratch/students/gusset/DeepSphere/deepsphere/../checkpoints/shrec17_newGraph_best_4K_rot_3aug_32sides_CNN/model-147018\n"
     ]
    },
    {
     "data": {
      "text/plain": [
       "('accuracy: 83.81 (4302 / 5133), f1 (weighted): 83.39, loss: 1.05e+00\\nCPU time: 19s, wall time: 23s',\n",
       " 83.81063705435417,\n",
       " 83.39483633906217,\n",
       " 1.045497955320036)"
      ]
     },
     "execution_count": 99,
     "metadata": {},
     "output_type": "execute_result"
    }
   ],
   "source": [
    "model.evaluate(val_nonrot_dataset, None, cache=True)"
   ]
  },
  {
   "cell_type": "code",
   "execution_count": 100,
   "metadata": {
    "scrolled": true
   },
   "outputs": [
    {
     "name": "stdout",
     "output_type": "stream",
     "text": [
      "/mnt/scratch/students/gusset/DeepSphere/deepsphere/../checkpoints/shrec17_newGraph_best_4K_rot_3aug_32sides_CNN\n",
      "INFO:tensorflow:Restoring parameters from /mnt/scratch/students/gusset/DeepSphere/deepsphere/../checkpoints/shrec17_newGraph_best_4K_rot_3aug_32sides_CNN/model-147018\n"
     ]
    }
   ],
   "source": [
    "# probabilities = model.probs(x_val, nclass)\n",
    "probabilities, _ = model.probs(val_dataset, nclass, cache=True)\n",
    "# if augmentation>1:\n",
    "#     probabilities = probabilities.reshape((-1,augmentation,nclass))\n",
    "#     probabilities = probabilities.mean(axis=1)\n",
    "    #ids_val = ids_val[::repeat]\n",
    "predictions = np.argmax(probabilities, axis=1)"
   ]
  },
  {
   "cell_type": "code",
   "execution_count": 109,
   "metadata": {
    "scrolled": true
   },
   "outputs": [
    {
     "name": "stdout",
     "output_type": "stream",
     "text": [
      "/mnt/scratch/students/gusset/DeepSphere/deepsphere/../checkpoints/shrec17_newGraph_best_4K_rot_3aug_32sides_CNN\n",
      "INFO:tensorflow:Restoring parameters from /mnt/scratch/students/gusset/DeepSphere/deepsphere/../checkpoints/shrec17_newGraph_best_4K_rot_3aug_32sides_CNN/model-147018\n"
     ]
    }
   ],
   "source": [
    "# probabilities = model.probs(x_val, nclass)\n",
    "probabilities, _ = model.probs(val_nonrot_dataset, nclass, cache=True)\n",
    "# if augmentation>1:\n",
    "#     probabilities = probabilities.reshape((-1,augmentation,nclass))\n",
    "#     probabilities = probabilities.mean(axis=1)\n",
    "    #ids_val = ids_val[::repeat]\n",
    "predictions = np.argmax(probabilities, axis=1)"
   ]
  },
  {
   "cell_type": "code",
   "execution_count": 101,
   "metadata": {},
   "outputs": [],
   "source": [
    "ids_val = val_dataset.get_ids()"
   ]
  },
  {
   "cell_type": "code",
   "execution_count": null,
   "metadata": {},
   "outputs": [],
   "source": [
    "#predictions = predictions.astype(np.int)"
   ]
  },
  {
   "cell_type": "code",
   "execution_count": 75,
   "metadata": {},
   "outputs": [],
   "source": [
    "from SHREC17.load_shrec import shrec_output"
   ]
  },
  {
   "cell_type": "code",
   "execution_count": 91,
   "metadata": {},
   "outputs": [
    {
     "name": "stdout",
     "output_type": "stream",
     "text": [
      "/mnt/scratch/students/gusset/DeepSphere/deepsphere/../checkpoints/shrec17_newGraph_best_4K_all_3aug_32sides_CNN\n",
      "INFO:tensorflow:Restoring parameters from /mnt/scratch/students/gusset/DeepSphere/deepsphere/../checkpoints/shrec17_newGraph_best_4K_all_3aug_32sides_CNN/model-294037\n"
     ]
    }
   ],
   "source": [
    "shrec_output(model.get_descriptor(val_dataset), ids_val, probabilities, datapath, 'results/val_perturbed')"
   ]
  },
  {
   "cell_type": "code",
   "execution_count": 110,
   "metadata": {},
   "outputs": [],
   "source": [
    "# for every file, find every object with the same class, sorted by most relevance\n",
    "os.makedirs(os.path.join(datapath,'results_aug/val_perturbed'), exist_ok=True)\n",
    "for i,_id in enumerate(ids_val):\n",
    "    idfile = os.path.join(datapath,'results_aug/val_perturbed',_id)\n",
    "    # predictions batchxclass\n",
    "    # pred_class batch == predictions\n",
    "    retrieved = [(probabilities[j, predictions[j]], ids_val[j]) for j in range(len(ids_val)) if predictions[j] == predictions[i]]\n",
    "    retrieved = sorted(retrieved, reverse=True)\n",
    "    retrieved = [i for _, i in retrieved]\n",
    "    with open(idfile, \"w\") as f:\n",
    "        f.write(\"\\n\".join(retrieved))"
   ]
  },
  {
   "cell_type": "markdown",
   "metadata": {},
   "source": [
    "NaN appears if remove i==j case"
   ]
  },
  {
   "cell_type": "markdown",
   "metadata": {},
   "source": [
    "## test network"
   ]
  },
  {
   "cell_type": "code",
   "execution_count": 34,
   "metadata": {},
   "outputs": [
    {
     "name": "stderr",
     "output_type": "stream",
     "text": [
      "10265it [00:12, 852.87it/s]\n"
     ]
    }
   ],
   "source": [
    "test_dataset = Shrec17Dataset(datapath, 'test', perturbed=noise_dataset, download=download, nside=Nside, augmentation=1, nfile=None)"
   ]
  },
  {
   "cell_type": "code",
   "execution_count": 120,
   "metadata": {},
   "outputs": [],
   "source": [
    "test_nonrot_dataset = Shrec17DatasetCache(datapath, 'test', perturbed=noise_dataset, download=download, \n",
    "                                          nside=Nside, experiment='deepsphere_norot', augmentation=1, nfile=None)"
   ]
  },
  {
   "cell_type": "code",
   "execution_count": 35,
   "metadata": {},
   "outputs": [
    {
     "data": {
      "image/png": "[encoded data removed]",
      "text/plain": [
       "<Figure size 432x288 with 1 Axes>"
      ]
     },
     "metadata": {},
     "output_type": "display_data"
    }
   ],
   "source": [
    "x_test, labels_test, ids_test = test_dataset.return_data(train=False)"
   ]
  },
  {
   "cell_type": "code",
   "execution_count": 118,
   "metadata": {},
   "outputs": [
    {
     "name": "stdout",
     "output_type": "stream",
     "text": [
      "/mnt/scratch/students/gusset/DeepSphere/deepsphere/../checkpoints/shrec17_newGraph_best_4K_all_3aug_32sides_CNN\n",
      "INFO:tensorflow:Restoring parameters from /mnt/scratch/students/gusset/DeepSphere/deepsphere/../checkpoints/shrec17_newGraph_best_4K_all_3aug_32sides_CNN/model-294037\n"
     ]
    },
    {
     "data": {
      "text/plain": [
       "('accuracy: 79.61 (8172 / 10265), f1 (weighted): 79.91, loss: 1.45e+00\\nCPU time: 16s, wall time: 16s',\n",
       " 79.61032635168047,\n",
       " 79.90818871887177,\n",
       " 1.4510044682507857)"
      ]
     },
     "execution_count": 118,
     "metadata": {},
     "output_type": "execute_result"
    }
   ],
   "source": [
    "model.evaluate(x_test, labels_test)"
   ]
  },
  {
   "cell_type": "code",
   "execution_count": 121,
   "metadata": {},
   "outputs": [
    {
     "name": "stdout",
     "output_type": "stream",
     "text": [
      "/mnt/scratch/students/gusset/DeepSphere/deepsphere/../checkpoints/shrec17_newGraph_best_4K_all_3aug_32sides_CNN\n",
      "INFO:tensorflow:Restoring parameters from /mnt/scratch/students/gusset/DeepSphere/deepsphere/../checkpoints/shrec17_newGraph_best_4K_all_3aug_32sides_CNN/model-294037\n"
     ]
    },
    {
     "data": {
      "text/plain": [
       "('accuracy: 80.42 (8255 / 10265), f1 (weighted): 80.65, loss: 1.40e+00\\nCPU time: 27s, wall time: 27s',\n",
       " 80.4188991719435,\n",
       " 80.65244263465385,\n",
       " 1.404486394451121)"
      ]
     },
     "execution_count": 121,
     "metadata": {},
     "output_type": "execute_result"
    }
   ],
   "source": [
    "model.evaluate(test_nonrot_dataset, None, cache=True)"
   ]
  },
  {
   "cell_type": "code",
   "execution_count": null,
   "metadata": {},
   "outputs": [],
   "source": [
    "#predictions = model.predict(x_test)"
   ]
  },
  {
   "cell_type": "code",
   "execution_count": 107,
   "metadata": {},
   "outputs": [
    {
     "name": "stdout",
     "output_type": "stream",
     "text": [
      "/mnt/scratch/students/gusset/DeepSphere/deepsphere/../checkpoints/shrec17_newGraph_best_4K_rot_3aug_32sides_CNN\n",
      "INFO:tensorflow:Restoring parameters from /mnt/scratch/students/gusset/DeepSphere/deepsphere/../checkpoints/shrec17_newGraph_best_4K_rot_3aug_32sides_CNN/model-147018\n"
     ]
    }
   ],
   "source": [
    "probabilities = model.probs(x_test, nclass)\n",
    "# if augmentation>1:\n",
    "#     probabilities = probabilities.reshape((-1,augmentation,nclass))\n",
    "#     probabilities = probabilities.mean(axis=1)\n",
    "#probabilities = np.log(probabilities)\n",
    "predictions = np.argmax(probabilities, axis=1)"
   ]
  },
  {
   "cell_type": "code",
   "execution_count": 122,
   "metadata": {},
   "outputs": [
    {
     "name": "stdout",
     "output_type": "stream",
     "text": [
      "/mnt/scratch/students/gusset/DeepSphere/deepsphere/../checkpoints/shrec17_newGraph_best_4K_all_3aug_32sides_CNN\n",
      "INFO:tensorflow:Restoring parameters from /mnt/scratch/students/gusset/DeepSphere/deepsphere/../checkpoints/shrec17_newGraph_best_4K_all_3aug_32sides_CNN/model-294037\n"
     ]
    }
   ],
   "source": [
    "probabilities, _ = model.probs(test_nonrot_dataset, nclass, cache=True)\n",
    "# if augmentation>1:\n",
    "#     probabilities = probabilities.reshape((-1,augmentation,nclass))\n",
    "#     probabilities = probabilities.mean(axis=1)\n",
    "#probabilities = np.log(probabilities)\n",
    "predictions = np.argmax(probabilities, axis=1)"
   ]
  },
  {
   "cell_type": "code",
   "execution_count": 123,
   "metadata": {},
   "outputs": [],
   "source": [
    "ids_test = test_nonrot_dataset.get_ids()"
   ]
  },
  {
   "cell_type": "code",
   "execution_count": null,
   "metadata": {},
   "outputs": [],
   "source": [
    "#predictions = predictions.astype(np.int)"
   ]
  },
  {
   "cell_type": "markdown",
   "metadata": {},
   "source": [
    "write to file"
   ]
  },
  {
   "cell_type": "code",
   "execution_count": 124,
   "metadata": {},
   "outputs": [],
   "source": [
    "# for every file, find every object with the same class, sorted by most relevance\n",
    "os.makedirs(os.path.join(datapath,'results_aug/test_perturbed'), exist_ok=True)\n",
    "for i, _id in enumerate(ids_test):\n",
    "    idfile = os.path.join(datapath,'results_aug/test_perturbed',_id)\n",
    "    # predictions batchxclass\n",
    "    # pred_class batch == predictions\n",
    "    retrieved = [(probabilities[j, predictions[j]], ids_test[j]) for j in range(len(ids_test)) if predictions[j] == predictions[i]]\n",
    "    retrieved = sorted(retrieved, reverse=True)\n",
    "    retrieved = [i for _, i in retrieved]\n",
    "    with open(idfile, \"w\") as f:\n",
    "        f.write(\"\\n\".join(retrieved))"
   ]
  },
  {
   "cell_type": "code",
   "execution_count": 89,
   "metadata": {},
   "outputs": [
    {
     "name": "stdout",
     "output_type": "stream",
     "text": [
      "/mnt/scratch/students/gusset/DeepSphere/deepsphere/../checkpoints/shrec17_newGraph_best_4K_all_3aug_32sides_CNN\n",
      "INFO:tensorflow:Restoring parameters from /mnt/scratch/students/gusset/DeepSphere/deepsphere/../checkpoints/shrec17_newGraph_best_4K_all_3aug_32sides_CNN/model-294037\n"
     ]
    }
   ],
   "source": [
    "shrec_output(model.get_descriptor(LabeledDataset(x_test, labels_test)), ids_test, probabilities, datapath, 'results/test_perturbed')"
   ]
  },
  {
   "cell_type": "markdown",
   "metadata": {},
   "source": [
    "Why not working?"
   ]
  },
  {
   "cell_type": "code",
   "execution_count": 86,
   "metadata": {},
   "outputs": [],
   "source": [
    "def _print_histogram(nclass, labels_train, labels_min=None, ylim=1700):\n",
    "    if labels_train is None:\n",
    "        return\n",
    "    import matplotlib.pyplot as plt\n",
    "    from collections import Counter\n",
    "    hist_train=Counter(labels_train)\n",
    "    if labels_min is not None:\n",
    "        hist_min = Counter(labels_min)\n",
    "        hist_temp = hist_train - hist_min\n",
    "        hist_min = hist_min - hist_train\n",
    "        hist_train = hist_temp + hist_min\n",
    "#         for i in range(self.nclass):\n",
    "#             hist_train.append(np.sum(labels_train == i))\n",
    "    labels, values = zip(*hist_train.items())\n",
    "    indexes = np.asarray(labels)\n",
    "#     miss = set(indexes) - set(labels)\n",
    "#     if len(miss) is not 0:\n",
    "#         hist_train.update({elem:0 for elem in miss})\n",
    "#     labels, values = zip(*hist_train.items())\n",
    "    width = 1\n",
    "    plt.bar(labels, values, width)\n",
    "    plt.title(\"labels distribution\")\n",
    "    plt.ylim(0,ylim)\n",
    "    #plt.xticks(indexes + width * 0.5, labels)\n",
    "    plt.show()"
   ]
  },
  {
   "cell_type": "code",
   "execution_count": 88,
   "metadata": {},
   "outputs": [
    {
     "data": {
      "image/png": "[encoded data removed]",
      "text/plain": [
       "<Figure size 432x288 with 1 Axes>"
      ]
     },
     "metadata": {},
     "output_type": "display_data"
    },
    {
     "data": {
      "image/png": "[encoded data removed]",
      "text/plain": [
       "<Figure size 432x288 with 1 Axes>"
      ]
     },
     "metadata": {},
     "output_type": "display_data"
    },
    {
     "data": {
      "image/png": "[encoded data removed]",
      "text/plain": [
       "<Figure size 432x288 with 1 Axes>"
      ]
     },
     "metadata": {},
     "output_type": "display_data"
    }
   ],
   "source": [
    "_print_histogram(55, labels_test)\n",
    "_print_histogram(55, predictions)\n",
    "_print_histogram(55, labels_test, predictions, ylim=120)"
   ]
  },
  {
   "cell_type": "code",
   "execution_count": 84,
   "metadata": {},
   "outputs": [],
   "source": [
    "from sklearn.metrics import confusion_matrix"
   ]
  },
  {
   "cell_type": "code",
   "execution_count": 85,
   "metadata": {},
   "outputs": [
    {
     "data": {
      "text/plain": [
       "<matplotlib.image.AxesImage at 0x7f6fb0206b70>"
      ]
     },
     "execution_count": 85,
     "metadata": {},
     "output_type": "execute_result"
    },
    {
     "data": {
      "image/png": "[encoded data removed]",
      "text/plain": [
       "<Figure size 432x288 with 1 Axes>"
      ]
     },
     "metadata": {},
     "output_type": "display_data"
    }
   ],
   "source": [
    "plt.spy(confusion_matrix(labels_test, predictions, range(55)), cmap = plt.cm.gist_heat_r)"
   ]
  },
  {
   "cell_type": "code",
   "execution_count": null,
   "metadata": {},
   "outputs": [],
   "source": [
    "dict_labels = {0: 'airplane',\n",
    "               1: 'trashcan',\n",
    "               2: 'bag',\n",
    "               3: 'basket',\n",
    "               4: 'bathtub',\n",
    "               5: 'bed',\n",
    "               6: 'bench',\n",
    "               7: 'birdhouse',\n",
    "               8: 'bookshelf',\n",
    "               9: 'bottle',\n",
    "               10: 'bowl',\n",
    "               11: 'bus',\n",
    "               12: 'cabinet',\n",
    "               13: 'camera',\n",
    "               14: 'can',\n",
    "               15: 'cap',\n",
    "               16: 'car',\n",
    "               17: 'cellphone',\n",
    "               18: 'chair',\n",
    "               19: 'clock',\n",
    "               20: 'keyboard',\n",
    "               21: 'dishwasher',\n",
    "               22: 'display',\n",
    "               23: 'earphone',\n",
    "               24: 'faucet',\n",
    "               25: 'file cabinet',\n",
    "               26: 'guitar',\n",
    "               27: 'helmet',\n",
    "               28: 'jar',\n",
    "               29: 'knife',\n",
    "               30: 'lamp',\n",
    "               31: 'laptop',\n",
    "               32: 'speaker',\n",
    "               33: 'mailbox',\n",
    "               34: 'microphone',\n",
    "               35: 'microwave',\n",
    "               36: 'motorcycle',\n",
    "               37: 'mug',\n",
    "               38: 'piano',\n",
    "               39: 'pillow',\n",
    "               40: 'pistol',\n",
    "               41: 'flowerpot',\n",
    "               42: 'printer',\n",
    "               43: 'remote control',\n",
    "               44: 'rifle',\n",
    "               45: 'rocket',\n",
    "               46: 'skateboard',\n",
    "               47: 'sofa',\n",
    "               48: 'stove',\n",
    "               49: 'table',\n",
    "               50: 'telephone',\n",
    "               51: 'tower',\n",
    "               52: 'train',\n",
    "               53: 'vessel',\n",
    "               54: 'washer'}"
   ]
  }
 ],
 "metadata": {
  "kernelspec": {
   "display_name": "Python 3",
   "language": "python",
   "name": "python3"
  },
  "language_info": {
   "codemirror_mode": {
    "name": "ipython",
    "version": 3
   },
   "file_extension": ".py",
   "mimetype": "text/x-python",
   "name": "python",
   "nbconvert_exporter": "python",
   "pygments_lexer": "ipython3",
   "version": "3.6.7"
  }
 },
 "nbformat": 4,
 "nbformat_minor": 2
}
