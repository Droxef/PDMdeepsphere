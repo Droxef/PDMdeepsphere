{
 "cells": [
  {
   "cell_type": "markdown",
   "metadata": {},
   "source": [
    "# [DeepSphere]: a spherical convolutional neural network\n",
    "[DeepSphere]: https://github.com/SwissDataScienceCenter/DeepSphere\n",
    "\n",
    "[Nathanaël Perraudin](https://perraudin.info), [Michaël Defferrard](http://deff.ch), Tomasz Kacprzak, Raphael Sgier\n",
    "\n",
    "# Figure: pooling"
   ]
  },
  {
   "cell_type": "code",
   "execution_count": null,
   "metadata": {},
   "outputs": [],
   "source": [
    "import os; \n",
    "import healpy as hp; import numpy as np; \n",
    "from IPython.core.display import display, HTML; display(HTML(\"<style>.container { width:100% !important; }</style>\"))\n",
    "%pylab inline\n",
    "%load_ext autoreload\n",
    "%autoreload 2"
   ]
  },
  {
   "cell_type": "code",
   "execution_count": null,
   "metadata": {},
   "outputs": [],
   "source": [
    "pl = plt"
   ]
  },
  {
   "cell_type": "code",
   "execution_count": null,
   "metadata": {},
   "outputs": [],
   "source": [
    "pathfig = './figures/'\n",
    "os.makedirs(pathfig, exist_ok=True)"
   ]
  },
  {
   "cell_type": "code",
   "execution_count": null,
   "metadata": {},
   "outputs": [],
   "source": [
    "def make_ball(map_test1, cmap=cm.gray_r, sub=None):\n",
    "    cmap.set_under('w')\n",
    "    cmap.set_bad('lightgray')\n",
    "    dot_size=10\n",
    "    rot = (0,30,345)\n",
    "    vmin, vmax = -0.5, 1.5\n",
    "\n",
    "#     map_test1_bw = map_test1.astype(np.float)/np.max(map_test1);\n",
    "    hp.visufunc.orthview(map=map_test1, half_sky=True, title='', rot=rot, cmap=cmap, cbar=False, hold=True, nest=True, min=vmin, max=vmax, notext=True, sub=sub);\n",
    "    theta, phi = hp.pix2ang(hp.npix2nside(len(map_test1)), range(len(map_test1)), nest=True);\n",
    "    hp.projscatter(theta, phi, c='k', s=dot_size);\n",
    "    hp.graticule();\n",
    "    hp.graticule(dmer=360,dpar=360,alpha=1, rot=(0,0,15), local=True);\n",
    "    hp.graticule(dmer=360,dpar=360,alpha=1, rot=(0,0,195), local=True);       \n",
    "#     pl.savefig('test_fig1.pdf', bbox_inches='tight', transparent=True);"
   ]
  },
  {
   "cell_type": "code",
   "execution_count": null,
   "metadata": {},
   "outputs": [],
   "source": [
    "npix = hp.nside2npix(16)\n",
    "map_data = np.arange(npix)\n",
    "# map_data = hp.read_map('/Users/tomek/notes/160223_advanced_stats_methods/ASM_2017/ASM/Lectures/CMB/COM_CMB_IQU-smica_1024_R2.02_full.fits')\n",
    "# map_data = hp.ud_grade(map_data, nside_out=16).astype(np.float32)\n",
    "# map_data -= np.min(map_data)\n",
    "# map_data /= np.max(map_data)\n",
    "\n",
    "npix = hp.nside2npix(1)\n",
    "map_select_1 = (np.arange(npix)==0).astype(np.float)\n",
    "map_select_1[map_select_1==0] = hp.UNSEEN\n",
    "map_select_2 = hp.ud_grade(map_select_1, nside_out=2, order_in='NESTED', order_out='NESTED')\n",
    "map_select_4 = hp.ud_grade(map_select_1, nside_out=4, order_in='NESTED', order_out='NESTED')\n",
    "# map_select_1[map_select_1!=hp.UNSEEN] = np.arange(np.count_nonzero(map_select_1!=hp.UNSEEN))\n",
    "n_filled = float(np.count_nonzero(map_select_2!=hp.UNSEEN))\n",
    "map_select_2[map_select_2!=hp.UNSEEN] = np.arange(n_filled, dtype=np.float64)/n_filled\n",
    "n_filled = float(np.count_nonzero(map_select_4!=hp.UNSEEN))\n",
    "map_select_4[map_select_4!=hp.UNSEEN] = np.arange(n_filled, dtype=np.float64)/n_filled\n",
    "\n",
    "# map_select_2[map_select_2==hp.UNSEEN] = np.nan\n",
    "# map_select_4[map_select_4==hp.UNSEEN] = np.nan"
   ]
  },
  {
   "cell_type": "code",
   "execution_count": null,
   "metadata": {},
   "outputs": [],
   "source": [
    "nx, ny = 3,1\n",
    "# pl.figure()\n",
    "\n",
    "# fig, ax = plt.subplots(ncols=nx, nrows=ny, figsize=(nx*5, ny*7))\n",
    "\n",
    "# pl.subplot(ny,nx,1)\n",
    "# pl.subplot(ny,nx,2)\n",
    "# pl.axes(ax[1])\n",
    "# make_ball(map_select_2, cmap=pl.cm.RdYlBu)\n",
    "# pl.subplot(ny,nx,3)\n",
    "# pl.axes(ax[2])\n",
    "\n",
    "pl.figure()\n",
    "# newax = pl.gcf().add_axes([0.1, 0.1, 0.8, 0.8],frameon=False)\n",
    "# pl.axes(newax)\n",
    "make_ball(map_select_1, cmap=pl.cm.RdYlBu)\n",
    "filename_plot = os.path.join(pathfig,'figure_pooling1.svg')\n",
    "pl.savefig(filename_plot, bbox_inches='tight', transparent=True); print('saved {}'.format(filename_plot))\n",
    "\n",
    "# pl.axes(ax[1])\n",
    "pl.figure()\n",
    "# newax = pl.gcf().add_axes([0.1, 0.4, 0.8, 0.8],frameon=False)\n",
    "# pl.axes(newax)\n",
    "make_ball(map_select_2, cmap=pl.cm.RdYlBu)\n",
    "filename_plot = os.path.join(pathfig,'figure_pooling2.svg')\n",
    "pl.savefig(filename_plot, bbox_inches='tight', transparent=True); print('saved {}'.format(filename_plot))\n",
    "\n",
    "# pl.axes(ax[0])\n",
    "pl.figure()\n",
    "# newax = pl.gcf().add_axes([0.1, 0.1, 0.8, 0.8],frameon=False)\n",
    "# pl.axes(newax)\n",
    "make_ball(map_select_4, cmap=pl.cm.RdYlBu)\n",
    "filename_plot = os.path.join(pathfig,'figure_pooling3.svg')\n",
    "pl.savefig(filename_plot, bbox_inches='tight', transparent=True); print('saved {}'.format(filename_plot))\n",
    "\n",
    "# , sub=(ny, nx, 3)\n",
    "# pl.subplots_adjust(wspace=0.01, hspace=0.01)\n",
    "\n",
    "# import matplotlib.pyplot as plt\n",
    "\n",
    "# newax = pl.gcf().add_axes([0.1, 0.1, 0.8, 0.8],frameon=False)\n",
    "# print(newax)\n",
    "# newax.plot([22, 50], [70,72], 'k-')\n",
    "# pl.xlim(0,100)\n",
    "# pl.ylim(0,100)\n",
    "# pl.grid()\n",
    "# pl.xticks([])\n",
    "# pl.yticks([])\n",
    "# newax.axis('equal')\n",
    "# plt.show()\n",
    "filename_plot = os.path.join(pathfig,'figure_pooling.pdf')\n",
    "pl.savefig(filename_plot, bbox_inches='tight'); print('saved {}'.format(filename_plot))"
   ]
  },
  {
   "cell_type": "code",
   "execution_count": null,
   "metadata": {},
   "outputs": [],
   "source": [
    "import svgutils.compose as sc\n",
    "from IPython.display import SVG # /!\\ note the 'SVG' function also in svgutils.compose"
   ]
  },
  {
   "cell_type": "code",
   "execution_count": null,
   "metadata": {},
   "outputs": [],
   "source": [
    "lw=3\n",
    "point2=(377,87)\n",
    "point3=(603,72)"
   ]
  },
  {
   "cell_type": "code",
   "execution_count": null,
   "metadata": {},
   "outputs": [],
   "source": [
    "svg_fig = sc.Figure(\"22.5cm\", \"6.75cm\",  \n",
    "#     sc.Panel(sc.SVG(\"./figure_pooling1.svg\").scale(1)).move('1cm', '1cm')\n",
    "                    sc.SVG(os.path.join(pathfig, \"figure_pooling3.svg\")).scale(1).move(0,0),\n",
    "                    sc.SVG(os.path.join(pathfig, \"figure_pooling2.svg\")).scale(1).move(250, 0),\n",
    "                    sc.SVG(os.path.join(pathfig, \"figure_pooling1.svg\")).scale(1).move(500, 0),\n",
    "                    sc.Line( ((122,80), point2), width=lw, color='darkred'),\n",
    "                    sc.Line( ((148,93), point2), width=lw, color='darkred'),\n",
    "                    sc.Line( ((153,71), point2), width=lw, color='darkred'),\n",
    "                    sc.Line( ((124,107), point2), width=lw, color='darkred'),\n",
    "                    \n",
    "                    sc.Line( ((384,87), point3), width=lw, color='darkblue'),\n",
    "                    sc.Line( ((396,44), point3), width=lw, color='darkblue'),\n",
    "                    sc.Line( ((348,55), point3), width=lw, color='darkblue'),\n",
    "                    sc.Line( ((337,105), point3), width=lw, color='darkblue')\n",
    "                   )\n",
    "\n",
    "svg_fig.save(os.path.join(pathfig, \"figure_pooling_svg.svg\"))\n",
    "SVG(os.path.join(pathfig, 'figure_pooling_svg.svg'))"
   ]
  },
  {
   "cell_type": "code",
   "execution_count": null,
   "metadata": {},
   "outputs": [],
   "source": [
    "map_select_8 = hp.ud_grade(map_select_1, nside_out=8, order_in='NESTED', order_out='NESTED')\n",
    "n_filled = float(np.count_nonzero(map_select_8!=hp.UNSEEN))\n",
    "map_select_8[map_select_8!=hp.UNSEEN] = np.arange(n_filled, dtype=np.float64)/n_filled\n",
    "\n",
    "make_ball(map_select_8, cmap=plt.cm.RdYlBu)\n",
    "filename_plot = os.path.join(pathfig,'figure_pooling4.svg')\n",
    "plt.savefig(filename_plot, bbox_inches='tight', transparent=True); print('saved {}'.format(filename_plot))\n",
    "filename_plot = os.path.join(pathfig,'figure_pooling4.pdf')\n",
    "plt.savefig(filename_plot, bbox_inches='tight'); print('saved {}'.format(filename_plot))"
   ]
  }
 ],
 "metadata": {
  "anaconda-cloud": {},
  "kernelspec": {
   "display_name": "Python 3",
   "language": "python",
   "name": "python3"
  },
  "language_info": {
   "codemirror_mode": {
    "name": "ipython",
    "version": 3
   },
   "file_extension": ".py",
   "mimetype": "text/x-python",
   "name": "python",
   "nbconvert_exporter": "python",
   "pygments_lexer": "ipython3",
   "version": "3.6.7"
  }
 },
 "nbformat": 4,
 "nbformat_minor": 2
}
