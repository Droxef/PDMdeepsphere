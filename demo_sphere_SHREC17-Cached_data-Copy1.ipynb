{
 "cells": [
  {
   "cell_type": "markdown",
   "metadata": {},
   "source": [
    "# DeepSphere using SHREC17 dataset\n",
    "### Benchmark with Cohen method S2CNN[[1]](http://arxiv.org/abs/1801.10130) and Esteves method[[2]](http://arxiv.org/abs/1711.06721)\n",
    "Multi-class classification of 3D objects, using the interesting property of rotation equivariance.\n",
    "\n",
    "The 3D objects are projected on a unit sphere.\n",
    "Cohen and Esteves use equiangular sampling, while our method use a HEAlpix sampling\n",
    "\n",
    "Several features are collected:\n",
    "* projection ray length (from sphere border to intersection [0, 2])\n",
    "* cos/sin with surface normal\n",
    "* same features using the convex hull of the 3D object"
   ]
  },
  {
   "cell_type": "markdown",
   "metadata": {},
   "source": [
    "## 0.1 Load libs"
   ]
  },
  {
   "cell_type": "code",
   "execution_count": 1,
   "metadata": {},
   "outputs": [],
   "source": [
    "%load_ext autoreload\n",
    "%autoreload 2\n",
    "%matplotlib inline"
   ]
  },
  {
   "cell_type": "code",
   "execution_count": 2,
   "metadata": {},
   "outputs": [],
   "source": [
    "import os\n",
    "import shutil\n",
    "import sys\n",
    "\n",
    "os.environ[\"CUDA_VISIBLE_DEVICES\"] = \"1\"  # change to chosen GPU to use, nothing if work on CPU\n",
    "\n",
    "import numpy as np\n",
    "import time\n",
    "import matplotlib.pyplot as plt\n",
    "import healpy as hp"
   ]
  },
  {
   "cell_type": "code",
   "execution_count": 3,
   "metadata": {},
   "outputs": [],
   "source": [
    "from deepsphere import models, experiment_helper, plot, utils\n",
    "from deepsphere.data import LabeledDatasetWithNoise, LabeledDataset\n",
    "import hyperparameters\n",
    "\n",
    "from SHREC17.load_shrec import fix_dataset, Shrec17Dataset, Shrec17DatasetCache, Shrec17DatasetTF"
   ]
  },
  {
   "cell_type": "markdown",
   "metadata": {},
   "source": [
    "## 0.2 Define parameters"
   ]
  },
  {
   "cell_type": "code",
   "execution_count": 4,
   "metadata": {},
   "outputs": [],
   "source": [
    "Nside = 32\n",
    "experiment_type = 'CNN' # 'FCN'\n",
    "ename = '_'+experiment_type\n",
    "datapath = '../data/shrec17/' # localisation of the .obj files"
   ]
  },
  {
   "cell_type": "code",
   "execution_count": 5,
   "metadata": {},
   "outputs": [],
   "source": [
    "noise_dataset = True    # use perturbed dataset (Cohen and Esteves do the same)\n",
    "augmentation = 1        # number of element per file (1 = no augmentation of dataset)"
   ]
  },
  {
   "cell_type": "markdown",
   "metadata": {},
   "source": [
    "## 1 Load dataset"
   ]
  },
  {
   "cell_type": "code",
   "execution_count": 6,
   "metadata": {},
   "outputs": [],
   "source": [
    "# if datasets are already downloaded but not preprocessed\n",
    "fix = False\n",
    "download = False\n",
    "if fix:\n",
    "    fix_dataset(datapath+'val_perturbed')\n",
    "    fix_dataset(datapath+'test_perturbed')"
   ]
  },
  {
   "cell_type": "markdown",
   "metadata": {},
   "source": [
    "download dataset if True, preprocess data and store it in npy files, and load it in a dataset object"
   ]
  },
  {
   "cell_type": "code",
   "execution_count": 7,
   "metadata": {},
   "outputs": [],
   "source": [
    "#train_dataset = Shrec17DatasetCache(datapath, 'train', perturbed=noise_dataset, download=download, nside=Nside, augmentation=augmentation, nfile=None)\n"
   ]
  },
  {
   "cell_type": "markdown",
   "metadata": {},
   "source": [
    "Better to keep validation and testing set in RAM, but not always possible"
   ]
  },
  {
   "cell_type": "code",
   "execution_count": 7,
   "metadata": {},
   "outputs": [],
   "source": [
    "val_dataset = Shrec17DatasetCache(datapath, 'val', perturbed=noise_dataset, download=download, nside=Nside, augmentation=1, nfile=None)"
   ]
  },
  {
   "cell_type": "markdown",
   "metadata": {},
   "source": [
    "Try do make a tensorflow dataset object"
   ]
  },
  {
   "cell_type": "code",
   "execution_count": 8,
   "metadata": {},
   "outputs": [],
   "source": [
    "train_TFDataset = Shrec17DatasetTF(datapath, 'train', perturbed=noise_dataset, download=download, nside=Nside, augmentation=augmentation, nfile=None)"
   ]
  },
  {
   "cell_type": "code",
   "execution_count": 9,
   "metadata": {},
   "outputs": [],
   "source": [
    "#dataset = train_TFDataset.get_tf_dataset(32)"
   ]
  },
  {
   "cell_type": "code",
   "execution_count": 12,
   "metadata": {},
   "outputs": [
    {
     "name": "stdout",
     "output_type": "stream",
     "text": [
      "23.56311297416687 s\n"
     ]
    }
   ],
   "source": [
    "# import time\n",
    "# import tensorflow as tf\n",
    "\n",
    "# #dataset = tf_dataset_file(datapath, dataset, file_pattern, 32, Nside, augmentation)\n",
    "# t_start = time.time()\n",
    "# data_next = dataset.make_one_shot_iterator().get_next()\n",
    "# config = tf.ConfigProto()\n",
    "# config.gpu_options.allow_growth = True\n",
    "# steps = train_TFDataset.N // 32 + 1\n",
    "# with tf.Session(config=config) as sess:\n",
    "#     sess.run(tf.global_variables_initializer())\n",
    "#     try:\n",
    "#         for i in range(steps):\n",
    "#             out = sess.run(data_next)\n",
    "#     except tf.errors.OutOfRangeError:\n",
    "#         print(\"Done\") # Never reach this as will iterate on infinite sets\n",
    "# t_end = time.time()\n",
    "# print(str(t_end-t_start)+\" s\")\n",
    "\n",
    "# # t_start = time.time()\n",
    "# # data_iter = train_dataset.iter(32)\n",
    "# # steps = int(train_dataset.N / 32)\n",
    "# # for i in range(steps):\n",
    "# #     next(data_iter)\n",
    "# #     #feed_dict = {self.ph_data: batch_data, self.ph_labels: batch_labels, self.ph_training: True}\n",
    "# # t_end = time.time()\n",
    "# # print(str(t_end-t_start)+\" s\")"
   ]
  },
  {
   "cell_type": "markdown",
   "metadata": {},
   "source": [
    "## 1.1 Preprocess the dataset"
   ]
  },
  {
   "cell_type": "markdown",
   "metadata": {},
   "source": [
    "Shuffle the training dataset and print the classes distribution"
   ]
  },
  {
   "cell_type": "code",
   "execution_count": 9,
   "metadata": {},
   "outputs": [
    {
     "name": "stdout",
     "output_type": "stream",
     "text": [
      "number of class: 55 \n",
      "number of elements: 31364\n"
     ]
    }
   ],
   "source": [
    "nclass = train_TFDataset.nclass\n",
    "num_elem = train_TFDataset.N\n",
    "#ids_train = train_dataset.ids\n",
    "print('number of class:',nclass,'\\nnumber of elements:',num_elem)#,'\\nfirst id:',ids_train[0])"
   ]
  },
  {
   "cell_type": "code",
   "execution_count": 10,
   "metadata": {},
   "outputs": [
    {
     "data": {
      "image/png": "[encoded data removed]",
      "text/plain": [
       "<Figure size 432x288 with 1 Axes>"
      ]
     },
     "metadata": {},
     "output_type": "display_data"
    }
   ],
   "source": [
    "# x_val, labels_val, ids_val = val_dataset.return_data(train=False)"
   ]
  },
  {
   "cell_type": "code",
   "execution_count": 10,
   "metadata": {},
   "outputs": [],
   "source": [
    "nfeat = 6#x_val.shape[-1]"
   ]
  },
  {
   "cell_type": "markdown",
   "metadata": {},
   "source": [
    "## 2 Classification using DeepSphere"
   ]
  },
  {
   "cell_type": "markdown",
   "metadata": {},
   "source": [
    "Use of the Dataset object used for other DeepSphere experiments"
   ]
  },
  {
   "cell_type": "code",
   "execution_count": 11,
   "metadata": {},
   "outputs": [],
   "source": [
    "# #training = LabeledDatasetWithNoise(x_train, labels_train, end_level=sigma_noise)\n",
    "# #training = LabeledDataset(x_train, labels_train)\n",
    "# validation = LabeledDataset(x_val, labels_val)"
   ]
  },
  {
   "cell_type": "code",
   "execution_count": 65,
   "metadata": {},
   "outputs": [],
   "source": [
    "EXP_NAME = 'shrec17_newGraph_best_4K_cache_{}aug_{}sides{}'.format(augmentation, Nside, ename)\n",
    "#EXP_NAME = 'shrec17_Cohen_simple_SGD_max_nsides_300epoch_{}sides{}'.format(Nside, ename)\n",
    "#EXP_NAME = \"shrec17_best_5K_cache_3aug_32sides_CNN\"\n",
    "#EXP_NAME = 'essai_TFDataset'"
   ]
  },
  {
   "cell_type": "markdown",
   "metadata": {},
   "source": [
    "Load model with hyperparameters chosen.\n",
    "For each experiment, a new EXP_NAME is chosen, and new hyperparameters are store.\n",
    "All informations are present 'DeepSphere/Shrec17/experiments.md'\n",
    "The fastest way to reproduce an experiment is to revert to the commit of the experiment to load the correct files and notebook"
   ]
  },
  {
   "cell_type": "markdown",
   "metadata": {},
   "source": [
    "Adding a layer in the fully connected can be beneficial"
   ]
  },
  {
   "cell_type": "code",
   "execution_count": 16,
   "metadata": {},
   "outputs": [
    {
     "name": "stdout",
     "output_type": "stream",
     "text": [
      "#sides: [32, 16, 8, 4, 2, 1, 1]\n",
      "#pixels: [12288, 3072, 768, 192, 48, 12, 12]\n",
      "#samples per batch: 32\n",
      "=> #pixels per batch (input): 393,216\n",
      "=> #pixels for training (input): 19,270,041,600\n",
      "Learning rate will start at 1.0e-02 and finish at 1.0e-02.\n",
      "NN architecture\n",
      "  input: M_0 = 12288\n",
      "  layer 1: cgconv1\n",
      "    representation: M_0 * F_1 / p_1 = 12288 * 16 / 4 = 49152\n",
      "    weights: F_0 * F_1 * K_1 = 6 * 16 * 4 = 384\n",
      "    biases: F_1 = 16\n",
      "    batch normalization\n",
      "  layer 2: cgconv2\n",
      "    representation: M_1 * F_2 / p_2 = 3072 * 32 / 4 = 24576\n",
      "    weights: F_1 * F_2 * K_2 = 16 * 32 * 4 = 2048\n",
      "    biases: F_2 = 32\n",
      "    batch normalization\n",
      "  layer 3: cgconv3\n",
      "    representation: M_2 * F_3 / p_3 = 768 * 64 / 4 = 12288\n",
      "    weights: F_2 * F_3 * K_3 = 32 * 64 * 4 = 8192\n",
      "    biases: F_3 = 64\n",
      "    batch normalization\n",
      "  layer 4: cgconv4\n",
      "    representation: M_3 * F_4 / p_4 = 192 * 128 / 4 = 6144\n",
      "    weights: F_3 * F_4 * K_4 = 64 * 128 * 4 = 32768\n",
      "    biases: F_4 = 128\n",
      "    batch normalization\n",
      "  layer 5: cgconv5\n",
      "    representation: M_4 * F_5 / p_5 = 48 * 256 / 4 = 3072\n",
      "    weights: F_4 * F_5 * K_5 = 128 * 256 * 4 = 131072\n",
      "    biases: F_5 = 256\n",
      "    batch normalization\n",
      "  Statistical layer: mean\n",
      "    representation: 1 * 256 = 256\n",
      "  layer 6: logits (softmax)\n",
      "    representation: M_6 = 55\n",
      "    weights: M_5 * M_6 = 256 * 55 = 14080\n"
     ]
    }
   ],
   "source": [
    "params = hyperparameters.get_params_shrec17_optim(num_elem, EXP_NAME, Nside, nclass, nfeat_in=nfeat, architecture=experiment_type)\n",
    "params[\"tf_dataset\"] = train_TFDataset.get_tf_dataset(params[\"batch_size\"])\n",
    "params[\"std\"] = 0.001\n",
    "model = models.deepsphere(**params)"
   ]
  },
  {
   "cell_type": "code",
   "execution_count": 64,
   "metadata": {},
   "outputs": [],
   "source": [
    "#EXP_NAME = \"shrec17_best_4K_cache_1aug_128sides_CNN\"\n",
    "shutil.rmtree('summaries/{}/'.format(EXP_NAME), ignore_errors=True)\n",
    "shutil.rmtree('checkpoints/{}/'.format(EXP_NAME), ignore_errors=True)"
   ]
  },
  {
   "cell_type": "markdown",
   "metadata": {},
   "source": [
    "Find a correct learning rate"
   ]
  },
  {
   "cell_type": "code",
   "execution_count": null,
   "metadata": {
    "scrolled": true
   },
   "outputs": [
    {
     "name": "stdout",
     "output_type": "stream",
     "text": [
      "NN architecture\n",
      "  input: M_0 = 196608\n",
      "  layer 1: cgconv1\n",
      "    representation: M_0 * F_1 / p_1 = 196608 * 16 / 4 = 786432\n",
      "    weights: F_0 * F_1 * K_1 = 6 * 16 * 5 = 480\n",
      "    biases: F_1 = 16\n",
      "    batch normalization\n",
      "  layer 2: cgconv2\n",
      "    representation: M_1 * F_2 / p_2 = 49152 * 32 / 4 = 393216\n",
      "    weights: F_1 * F_2 * K_2 = 16 * 32 * 5 = 2560\n",
      "    biases: F_2 = 32\n",
      "    batch normalization\n",
      "  layer 3: cgconv3\n",
      "    representation: M_2 * F_3 / p_3 = 12288 * 64 / 4 = 196608\n",
      "    weights: F_2 * F_3 * K_3 = 32 * 64 * 5 = 10240\n",
      "    biases: F_3 = 64\n",
      "    batch normalization\n",
      "  layer 4: cgconv4\n",
      "    representation: M_3 * F_4 / p_4 = 3072 * 128 / 4 = 98304\n",
      "    weights: F_3 * F_4 * K_4 = 64 * 128 * 5 = 40960\n",
      "    biases: F_4 = 128\n",
      "    batch normalization\n",
      "  layer 5: cgconv5\n",
      "    representation: M_4 * F_5 / p_5 = 768 * 256 / 4 = 49152\n",
      "    weights: F_4 * F_5 * K_5 = 128 * 256 * 5 = 163840\n",
      "    biases: F_5 = 256\n",
      "    batch normalization\n",
      "  Statistical layer: mean\n",
      "    representation: 1 * 256 = 256\n",
      "  layer 6: logits (softmax)\n",
      "    representation: M_6 = 55\n",
      "    weights: M_5 * M_6 = 256 * 55 = 14080\n",
      "step 490 / 19602 (epoch 0.50 / 20):\n",
      "  learning_rate = 1.78e-06, training loss = 4.24e+00\n"
     ]
    },
    {
     "name": "stderr",
     "output_type": "stream",
     "text": [
      "/home/gusset/miniconda3/envs/PDMsphere/lib/python3.6/site-packages/sklearn/metrics/classification.py:1135: UndefinedMetricWarning: F-score is ill-defined and being set to 0.0 in labels with no predicted samples.\n",
      "  'precision', 'predicted', average, warn_for)\n"
     ]
    },
    {
     "name": "stdout",
     "output_type": "stream",
     "text": [
      "  validation accuracy: 0.76 (39 / 5133), f1 (weighted): 0.80, loss: 4.29e+00\n",
      "  CPU time: 1477s, wall time: 797s, perf_time_load: 1.16s, perf_time: 1.16s\n",
      "step 980 / 19602 (epoch 1.00 / 20):\n",
      "  learning_rate = 3.16e-06, training loss = 4.13e+00\n",
      "  validation accuracy: 3.78 (194 / 5133), f1 (weighted): 2.88, loss: 4.19e+00\n",
      "  CPU time: 2964s, wall time: 1587s, perf_time_load: 1.13s, perf_time: 1.13s\n",
      "step 1470 / 19602 (epoch 1.50 / 20):\n",
      "  learning_rate = 5.62e-06, training loss = 4.08e+00\n",
      "  validation accuracy: 10.29 (528 / 5133), f1 (weighted): 4.54, loss: 4.00e+00\n",
      "  CPU time: 4446s, wall time: 2374s, perf_time_load: 1.16s, perf_time: 1.16s\n",
      "step 1960 / 19602 (epoch 2.00 / 20):\n",
      "  learning_rate = 9.99e-06, training loss = 3.78e+00\n",
      "  validation accuracy: 26.57 (1364 / 5133), f1 (weighted): 15.49, loss: 3.70e+00\n",
      "  CPU time: 5924s, wall time: 3166s, perf_time_load: 1.15s, perf_time: 1.15s\n",
      "step 2450 / 19602 (epoch 2.50 / 20):\n",
      "  learning_rate = 1.78e-05, training loss = 3.08e+00\n",
      "  validation accuracy: 35.52 (1823 / 5133), f1 (weighted): 23.55, loss: 3.37e+00\n",
      "  CPU time: 7409s, wall time: 3951s, perf_time_load: 1.15s, perf_time: 1.15s\n",
      "step 2940 / 19602 (epoch 3.00 / 20):\n",
      "  learning_rate = 3.16e-05, training loss = 2.92e+00\n",
      "  validation accuracy: 41.22 (2116 / 5133), f1 (weighted): 27.08, loss: 3.05e+00\n",
      "  CPU time: 8890s, wall time: 4737s, perf_time_load: 1.17s, perf_time: 1.17s\n",
      "step 3430 / 19602 (epoch 3.50 / 20):\n",
      "  learning_rate = 5.62e-05, training loss = 2.43e+00\n",
      "  validation accuracy: 43.13 (2214 / 5133), f1 (weighted): 29.75, loss: 2.78e+00\n",
      "  CPU time: 10385s, wall time: 5525s, perf_time_load: 1.14s, perf_time: 1.14s\n",
      "step 3920 / 19602 (epoch 4.00 / 20):\n",
      "  learning_rate = 9.99e-05, training loss = 2.51e+00\n",
      "  validation accuracy: 46.13 (2368 / 5133), f1 (weighted): 34.35, loss: 2.55e+00\n",
      "  CPU time: 11895s, wall time: 6315s, perf_time_load: 1.14s, perf_time: 1.14s\n",
      "step 4410 / 19602 (epoch 4.50 / 20):\n",
      "  learning_rate = 1.78e-04, training loss = 2.13e+00\n",
      "  validation accuracy: 48.61 (2495 / 5133), f1 (weighted): 38.04, loss: 2.32e+00\n",
      "  CPU time: 13355s, wall time: 7094s, perf_time_load: 1.17s, perf_time: 1.17s\n",
      "step 4900 / 19602 (epoch 5.00 / 20):\n",
      "  learning_rate = 3.16e-04, training loss = 2.27e+00\n",
      "  validation accuracy: 52.41 (2690 / 5133), f1 (weighted): 43.24, loss: 2.12e+00\n",
      "  CPU time: 14828s, wall time: 7876s, perf_time_load: 1.17s, perf_time: 1.17s\n",
      "step 5390 / 19602 (epoch 5.50 / 20):\n",
      "  learning_rate = 5.61e-04, training loss = 1.93e+00\n",
      "  validation accuracy: 56.91 (2921 / 5133), f1 (weighted): 49.32, loss: 1.93e+00\n",
      "  CPU time: 16301s, wall time: 8660s, perf_time_load: 1.17s, perf_time: 1.17s\n",
      "step 5880 / 19602 (epoch 6.00 / 20):\n",
      "  learning_rate = 9.98e-04, training loss = 1.77e+00\n",
      "  validation accuracy: 61.33 (3148 / 5133), f1 (weighted): 55.17, loss: 1.75e+00\n",
      "  CPU time: 17783s, wall time: 9427s, perf_time_load: 1.11s, perf_time: 1.11s\n",
      "step 6370 / 19602 (epoch 6.50 / 20):\n",
      "  learning_rate = 1.77e-03, training loss = 1.69e+00\n",
      "  validation accuracy: 64.50 (3311 / 5133), f1 (weighted): 59.56, loss: 1.60e+00\n",
      "  CPU time: 19248s, wall time: 10200s, perf_time_load: 1.13s, perf_time: 1.13s\n"
     ]
    }
   ],
   "source": [
    "backup = params.copy()\n",
    "\n",
    "params, learning_rate = utils.test_learning_rates(params, train_TFDataset.N, 1e-6, 1e-1, num_epochs=20)\n",
    "\n",
    "shutil.rmtree('summaries/{}/'.format(params['dir_name']), ignore_errors=True)\n",
    "shutil.rmtree('checkpoints/{}/'.format(params['dir_name']), ignore_errors=True)\n",
    "\n",
    "model = models.deepsphere(**params)\n",
    "_, loss_validation, _, _ = model.fit(train_TFDataset, val_dataset, use_tf_dataset=True, cache=True)\n",
    "\n",
    "params.update(backup)\n",
    "\n",
    "plt.semilogx(learning_rate, loss_validation, '.-')"
   ]
  },
  {
   "cell_type": "code",
   "execution_count": null,
   "metadata": {},
   "outputs": [],
   "source": [
    "shutil.rmtree('summaries/lr_finder/', ignore_errors=True)\n",
    "shutil.rmtree('checkpoints/lr_finder/', ignore_errors=True)"
   ]
  },
  {
   "cell_type": "markdown",
   "metadata": {},
   "source": [
    "0.9 seems to be a good learning rate for SGD with current parameters"
   ]
  },
  {
   "cell_type": "markdown",
   "metadata": {},
   "source": [
    "## 2.2 Train Network"
   ]
  },
  {
   "cell_type": "code",
   "execution_count": 25,
   "metadata": {},
   "outputs": [
    {
     "name": "stdout",
     "output_type": "stream",
     "text": [
      "conv1/weights:0\n",
      "conv1/bias:0\n",
      "conv2/weights:0\n",
      "conv2/bias:0\n",
      "conv3/weights:0\n",
      "conv3/bias:0\n",
      "conv4/weights:0\n",
      "conv4/bias:0\n",
      "conv5/weights:0\n",
      "conv5/bias:0\n",
      "logits/weights:0\n",
      "the number of parameters in the model is: 189,040\n"
     ]
    }
   ],
   "source": [
    "print(\"the number of parameters in the model is: {:,}\".format(model.get_nbr_var()))"
   ]
  },
  {
   "cell_type": "code",
   "execution_count": 19,
   "metadata": {
    "scrolled": true
   },
   "outputs": [
    {
     "name": "stdout",
     "output_type": "stream",
     "text": [
      "step 245 / 49006 (epoch 0.25 / 50):\n",
      "  learning_rate = 1.00e-02, training loss = 1.18e+00\n"
     ]
    },
    {
     "name": "stderr",
     "output_type": "stream",
     "text": [
      "/home/gusset/miniconda3/envs/PDMsphere/lib/python3.6/site-packages/sklearn/metrics/classification.py:1135: UndefinedMetricWarning: F-score is ill-defined and being set to 0.0 in labels with no predicted samples.\n",
      "  'precision', 'predicted', average, warn_for)\n"
     ]
    },
    {
     "name": "stdout",
     "output_type": "stream",
     "text": [
      "  validation accuracy: 65.54 (3364 / 5133), f1 (weighted): 61.03, loss: 1.35e+00\n",
      "  CPU time: 89s, wall time: 60s, perf_time_load: 0.09s, perf_time: 0.09s\n",
      "step 490 / 49006 (epoch 0.50 / 50):\n",
      "  learning_rate = 1.00e-02, training loss = 1.36e+00\n",
      "  validation accuracy: 65.30 (3352 / 5133), f1 (weighted): 62.12, loss: 1.27e+00\n",
      "  CPU time: 159s, wall time: 106s, perf_time_load: 0.07s, perf_time: 0.07s\n",
      "step 735 / 49006 (epoch 0.75 / 50):\n",
      "  learning_rate = 1.00e-02, training loss = 9.89e-01\n",
      "  validation accuracy: 71.07 (3648 / 5133), f1 (weighted): 68.48, loss: 1.07e+00\n",
      "  CPU time: 243s, wall time: 159s, perf_time_load: 0.13s, perf_time: 0.13s\n",
      "step 980 / 49006 (epoch 1.00 / 50):\n",
      "  learning_rate = 1.00e-02, training loss = 1.18e+00\n",
      "  validation accuracy: 73.91 (3794 / 5133), f1 (weighted): 71.63, loss: 9.72e-01\n",
      "  CPU time: 320s, wall time: 209s, perf_time_load: 0.12s, perf_time: 0.12s\n",
      "step 1225 / 49006 (epoch 1.25 / 50):\n",
      "  learning_rate = 1.00e-02, training loss = 6.14e-01\n",
      "  validation accuracy: 72.34 (3713 / 5133), f1 (weighted): 70.51, loss: 1.02e+00\n",
      "  CPU time: 388s, wall time: 253s, perf_time_load: 0.09s, perf_time: 0.09s\n",
      "step 1470 / 49006 (epoch 1.50 / 50):\n",
      "  learning_rate = 1.00e-02, training loss = 4.44e-01\n",
      "  validation accuracy: 75.06 (3853 / 5133), f1 (weighted): 73.66, loss: 9.38e-01\n",
      "  CPU time: 469s, wall time: 307s, perf_time_load: 0.16s, perf_time: 0.16s\n",
      "step 1715 / 49006 (epoch 1.75 / 50):\n",
      "  learning_rate = 1.00e-02, training loss = 5.65e-01\n",
      "  validation accuracy: 76.84 (3944 / 5133), f1 (weighted): 74.80, loss: 8.70e-01\n",
      "  CPU time: 556s, wall time: 367s, perf_time_load: 0.11s, perf_time: 0.11s\n",
      "step 1960 / 49006 (epoch 2.00 / 50):\n",
      "  learning_rate = 1.00e-02, training loss = 4.34e-01\n",
      "  validation accuracy: 76.86 (3945 / 5133), f1 (weighted): 74.42, loss: 8.70e-01\n",
      "  CPU time: 632s, wall time: 416s, perf_time_load: 0.10s, perf_time: 0.10s\n",
      "step 2205 / 49006 (epoch 2.25 / 50):\n",
      "  learning_rate = 1.00e-02, training loss = 8.40e-01\n",
      "  validation accuracy: 77.28 (3967 / 5133), f1 (weighted): 75.64, loss: 8.44e-01\n",
      "  CPU time: 701s, wall time: 455s, perf_time_load: 0.05s, perf_time: 0.05s\n",
      "step 2450 / 49006 (epoch 2.50 / 50):\n",
      "  learning_rate = 1.00e-02, training loss = 5.96e-01\n",
      "  validation accuracy: 77.23 (3964 / 5133), f1 (weighted): 75.71, loss: 8.37e-01\n",
      "  CPU time: 748s, wall time: 479s, perf_time_load: 0.07s, perf_time: 0.07s\n",
      "step 2695 / 49006 (epoch 2.75 / 50):\n",
      "  learning_rate = 1.00e-02, training loss = 7.08e-01\n",
      "  validation accuracy: 78.71 (4040 / 5133), f1 (weighted): 77.22, loss: 8.14e-01\n",
      "  CPU time: 798s, wall time: 503s, perf_time_load: 0.06s, perf_time: 0.06s\n",
      "step 2940 / 49006 (epoch 3.00 / 50):\n",
      "  learning_rate = 1.00e-02, training loss = 8.56e-01\n",
      "  validation accuracy: 76.80 (3942 / 5133), f1 (weighted): 75.39, loss: 8.55e-01\n",
      "  CPU time: 843s, wall time: 526s, perf_time_load: 0.05s, perf_time: 0.05s\n",
      "step 3185 / 49006 (epoch 3.25 / 50):\n",
      "  learning_rate = 1.00e-02, training loss = 6.66e-01\n",
      "  validation accuracy: 77.26 (3966 / 5133), f1 (weighted): 76.24, loss: 8.58e-01\n",
      "  CPU time: 891s, wall time: 549s, perf_time_load: 0.05s, perf_time: 0.05s\n",
      "step 3430 / 49006 (epoch 3.50 / 50):\n",
      "  learning_rate = 1.00e-02, training loss = 3.66e-01\n",
      "  validation accuracy: 78.32 (4020 / 5133), f1 (weighted): 77.08, loss: 8.02e-01\n",
      "  CPU time: 940s, wall time: 573s, perf_time_load: 0.07s, perf_time: 0.07s\n",
      "step 3675 / 49006 (epoch 3.75 / 50):\n",
      "  learning_rate = 1.00e-02, training loss = 6.58e-01\n",
      "  validation accuracy: 77.17 (3961 / 5133), f1 (weighted): 75.66, loss: 8.45e-01\n",
      "  CPU time: 985s, wall time: 596s, perf_time_load: 0.07s, perf_time: 0.07s\n",
      "step 3920 / 49006 (epoch 4.00 / 50):\n",
      "  learning_rate = 1.00e-02, training loss = 5.17e-01\n",
      "  validation accuracy: 79.64 (4088 / 5133), f1 (weighted): 78.39, loss: 7.67e-01\n",
      "  CPU time: 1035s, wall time: 620s, perf_time_load: 0.05s, perf_time: 0.05s\n",
      "step 4165 / 49006 (epoch 4.25 / 50):\n",
      "  learning_rate = 1.00e-02, training loss = 6.95e-01\n",
      "  validation accuracy: 78.43 (4026 / 5133), f1 (weighted): 77.19, loss: 8.06e-01\n",
      "  CPU time: 1080s, wall time: 643s, perf_time_load: 0.05s, perf_time: 0.05s\n",
      "step 4410 / 49006 (epoch 4.50 / 50):\n",
      "  learning_rate = 1.00e-02, training loss = 6.08e-01\n",
      "  validation accuracy: 79.58 (4085 / 5133), f1 (weighted): 78.51, loss: 7.68e-01\n",
      "  CPU time: 1126s, wall time: 666s, perf_time_load: 0.05s, perf_time: 0.05s\n",
      "step 4655 / 49006 (epoch 4.75 / 50):\n",
      "  learning_rate = 1.00e-02, training loss = 6.48e-01\n",
      "  validation accuracy: 80.19 (4116 / 5133), f1 (weighted): 78.57, loss: 7.54e-01\n",
      "  CPU time: 1173s, wall time: 689s, perf_time_load: 0.05s, perf_time: 0.05s\n",
      "step 4900 / 49006 (epoch 5.00 / 50):\n",
      "  learning_rate = 1.00e-02, training loss = 3.56e-01\n",
      "  validation accuracy: 79.66 (4089 / 5133), f1 (weighted): 79.11, loss: 7.53e-01\n",
      "  CPU time: 1219s, wall time: 712s, perf_time_load: 0.05s, perf_time: 0.05s\n",
      "step 5145 / 49006 (epoch 5.25 / 50):\n",
      "  learning_rate = 1.00e-02, training loss = 3.46e-01\n",
      "  validation accuracy: 79.99 (4106 / 5133), f1 (weighted): 78.87, loss: 7.67e-01\n",
      "  CPU time: 1266s, wall time: 735s, perf_time_load: 0.05s, perf_time: 0.05s\n",
      "step 5390 / 49006 (epoch 5.50 / 50):\n",
      "  learning_rate = 1.00e-02, training loss = 3.76e-01\n",
      "  validation accuracy: 79.89 (4101 / 5133), f1 (weighted): 78.41, loss: 7.46e-01\n",
      "  CPU time: 1313s, wall time: 758s, perf_time_load: 0.05s, perf_time: 0.05s\n",
      "step 5635 / 49006 (epoch 5.75 / 50):\n",
      "  learning_rate = 1.00e-02, training loss = 4.79e-01\n",
      "  validation accuracy: 79.95 (4104 / 5133), f1 (weighted): 78.88, loss: 7.41e-01\n",
      "  CPU time: 1362s, wall time: 782s, perf_time_load: 0.06s, perf_time: 0.06s\n",
      "step 5880 / 49006 (epoch 6.00 / 50):\n",
      "  learning_rate = 1.00e-02, training loss = 3.96e-01\n",
      "  validation accuracy: 80.69 (4142 / 5133), f1 (weighted): 79.31, loss: 7.38e-01\n",
      "  CPU time: 1408s, wall time: 804s, perf_time_load: 0.05s, perf_time: 0.05s\n",
      "step 6125 / 49006 (epoch 6.25 / 50):\n",
      "  learning_rate = 1.00e-02, training loss = 4.44e-01\n",
      "  validation accuracy: 79.91 (4102 / 5133), f1 (weighted): 78.99, loss: 7.57e-01\n",
      "  CPU time: 1452s, wall time: 827s, perf_time_load: 0.05s, perf_time: 0.05s\n",
      "step 6370 / 49006 (epoch 6.50 / 50):\n",
      "  learning_rate = 1.00e-02, training loss = 2.98e-01\n",
      "  validation accuracy: 79.76 (4094 / 5133), f1 (weighted): 78.71, loss: 7.40e-01\n",
      "  CPU time: 1500s, wall time: 850s, perf_time_load: 0.05s, perf_time: 0.05s\n",
      "step 6615 / 49006 (epoch 6.75 / 50):\n",
      "  learning_rate = 1.00e-02, training loss = 2.78e-01\n",
      "  validation accuracy: 79.62 (4087 / 5133), f1 (weighted): 78.76, loss: 7.75e-01\n",
      "  CPU time: 1544s, wall time: 872s, perf_time_load: 0.05s, perf_time: 0.05s\n",
      "step 6860 / 49006 (epoch 7.00 / 50):\n",
      "  learning_rate = 1.00e-02, training loss = 3.42e-01\n",
      "  validation accuracy: 80.85 (4150 / 5133), f1 (weighted): 79.99, loss: 7.11e-01\n",
      "  CPU time: 1589s, wall time: 895s, perf_time_load: 0.05s, perf_time: 0.05s\n",
      "step 7105 / 49006 (epoch 7.25 / 50):\n",
      "  learning_rate = 1.00e-02, training loss = 3.45e-01\n",
      "  validation accuracy: 80.25 (4119 / 5133), f1 (weighted): 79.68, loss: 7.17e-01\n",
      "  CPU time: 1634s, wall time: 919s, perf_time_load: 0.05s, perf_time: 0.05s\n",
      "step 7350 / 49006 (epoch 7.50 / 50):\n",
      "  learning_rate = 1.00e-02, training loss = 1.63e-01\n",
      "  validation accuracy: 81.94 (4206 / 5133), f1 (weighted): 81.04, loss: 6.95e-01\n",
      "  CPU time: 1682s, wall time: 943s, perf_time_load: 0.05s, perf_time: 0.05s\n",
      "step 7595 / 49006 (epoch 7.75 / 50):\n",
      "  learning_rate = 1.00e-02, training loss = 4.67e-01\n",
      "  validation accuracy: 80.75 (4145 / 5133), f1 (weighted): 79.74, loss: 7.45e-01\n",
      "  CPU time: 1732s, wall time: 967s, perf_time_load: 0.05s, perf_time: 0.05s\n",
      "step 7840 / 49006 (epoch 8.00 / 50):\n",
      "  learning_rate = 1.00e-02, training loss = 2.66e-01\n",
      "  validation accuracy: 80.13 (4113 / 5133), f1 (weighted): 79.66, loss: 7.60e-01\n",
      "  CPU time: 1783s, wall time: 992s, perf_time_load: 0.06s, perf_time: 0.06s\n",
      "step 8085 / 49006 (epoch 8.25 / 50):\n",
      "  learning_rate = 1.00e-02, training loss = 2.94e-01\n",
      "  validation accuracy: 81.92 (4205 / 5133), f1 (weighted): 80.99, loss: 7.09e-01\n",
      "  CPU time: 1833s, wall time: 1015s, perf_time_load: 0.05s, perf_time: 0.05s\n",
      "step 8330 / 49006 (epoch 8.50 / 50):\n",
      "  learning_rate = 1.00e-02, training loss = 1.30e-01\n",
      "  validation accuracy: 81.20 (4168 / 5133), f1 (weighted): 80.47, loss: 7.14e-01\n",
      "  CPU time: 1879s, wall time: 1038s, perf_time_load: 0.05s, perf_time: 0.05s\n"
     ]
    },
    {
     "name": "stdout",
     "output_type": "stream",
     "text": [
      "step 8575 / 49006 (epoch 8.75 / 50):\n",
      "  learning_rate = 1.00e-02, training loss = 2.75e-01\n",
      "  validation accuracy: 79.72 (4092 / 5133), f1 (weighted): 79.32, loss: 7.48e-01\n",
      "  CPU time: 1924s, wall time: 1061s, perf_time_load: 0.05s, perf_time: 0.05s\n",
      "step 8820 / 49006 (epoch 9.00 / 50):\n",
      "  learning_rate = 1.00e-02, training loss = 3.55e-01\n",
      "  validation accuracy: 81.02 (4159 / 5133), f1 (weighted): 80.43, loss: 7.11e-01\n",
      "  CPU time: 1969s, wall time: 1083s, perf_time_load: 0.05s, perf_time: 0.05s\n",
      "step 9065 / 49006 (epoch 9.25 / 50):\n",
      "  learning_rate = 1.00e-02, training loss = 4.88e-01\n",
      "  validation accuracy: 80.91 (4153 / 5133), f1 (weighted): 80.13, loss: 7.13e-01\n",
      "  CPU time: 2016s, wall time: 1107s, perf_time_load: 0.05s, perf_time: 0.05s\n",
      "step 9310 / 49006 (epoch 9.50 / 50):\n",
      "  learning_rate = 1.00e-02, training loss = 2.28e-01\n",
      "  validation accuracy: 81.06 (4161 / 5133), f1 (weighted): 80.51, loss: 7.10e-01\n",
      "  CPU time: 2060s, wall time: 1129s, perf_time_load: 0.05s, perf_time: 0.05s\n",
      "step 9555 / 49006 (epoch 9.75 / 50):\n",
      "  learning_rate = 1.00e-02, training loss = 9.91e-02\n",
      "  validation accuracy: 80.26 (4120 / 5133), f1 (weighted): 79.58, loss: 7.36e-01\n",
      "  CPU time: 2106s, wall time: 1152s, perf_time_load: 0.06s, perf_time: 0.06s\n",
      "step 9800 / 49006 (epoch 10.00 / 50):\n",
      "  learning_rate = 1.00e-02, training loss = 2.45e-01\n",
      "  validation accuracy: 80.42 (4128 / 5133), f1 (weighted): 79.39, loss: 7.31e-01\n",
      "  CPU time: 2152s, wall time: 1174s, perf_time_load: 0.06s, perf_time: 0.06s\n",
      "step 10045 / 49006 (epoch 10.25 / 50):\n",
      "  learning_rate = 1.00e-02, training loss = 6.05e-01\n",
      "  validation accuracy: 80.11 (4112 / 5133), f1 (weighted): 79.14, loss: 7.72e-01\n",
      "  CPU time: 2197s, wall time: 1197s, perf_time_load: 0.05s, perf_time: 0.05s\n",
      "step 10290 / 49006 (epoch 10.50 / 50):\n",
      "  learning_rate = 1.00e-02, training loss = 1.73e-01\n",
      "  validation accuracy: 80.32 (4123 / 5133), f1 (weighted): 79.75, loss: 7.29e-01\n",
      "  CPU time: 2241s, wall time: 1219s, perf_time_load: 0.05s, perf_time: 0.05s\n",
      "step 10535 / 49006 (epoch 10.75 / 50):\n",
      "  learning_rate = 1.00e-02, training loss = 9.59e-02\n",
      "  validation accuracy: 81.67 (4192 / 5133), f1 (weighted): 81.02, loss: 7.07e-01\n",
      "  CPU time: 2286s, wall time: 1243s, perf_time_load: 0.06s, perf_time: 0.06s\n",
      "step 10780 / 49006 (epoch 11.00 / 50):\n",
      "  learning_rate = 1.00e-02, training loss = 8.63e-02\n",
      "  validation accuracy: 81.20 (4168 / 5133), f1 (weighted): 80.57, loss: 7.10e-01\n",
      "  CPU time: 2333s, wall time: 1265s, perf_time_load: 0.05s, perf_time: 0.05s\n",
      "step 11025 / 49006 (epoch 11.25 / 50):\n",
      "  learning_rate = 1.00e-02, training loss = 4.28e-01\n",
      "  validation accuracy: 80.93 (4154 / 5133), f1 (weighted): 80.39, loss: 7.23e-01\n",
      "  CPU time: 2378s, wall time: 1288s, perf_time_load: 0.05s, perf_time: 0.05s\n",
      "step 11270 / 49006 (epoch 11.50 / 50):\n",
      "  learning_rate = 1.00e-02, training loss = 1.76e-01\n",
      "  validation accuracy: 81.18 (4167 / 5133), f1 (weighted): 80.51, loss: 7.25e-01\n",
      "  CPU time: 2425s, wall time: 1312s, perf_time_load: 0.05s, perf_time: 0.05s\n",
      "step 11515 / 49006 (epoch 11.75 / 50):\n",
      "  learning_rate = 1.00e-02, training loss = 4.12e-01\n",
      "  validation accuracy: 81.55 (4186 / 5133), f1 (weighted): 80.94, loss: 7.22e-01\n",
      "  CPU time: 2471s, wall time: 1335s, perf_time_load: 0.06s, perf_time: 0.06s\n",
      "step 11760 / 49006 (epoch 12.00 / 50):\n",
      "  learning_rate = 1.00e-02, training loss = 1.58e-01\n",
      "  validation accuracy: 81.22 (4169 / 5133), f1 (weighted): 80.66, loss: 7.13e-01\n",
      "  CPU time: 2516s, wall time: 1357s, perf_time_load: 0.05s, perf_time: 0.05s\n",
      "step 12005 / 49006 (epoch 12.25 / 50):\n",
      "  learning_rate = 1.00e-02, training loss = 8.72e-02\n",
      "  validation accuracy: 81.04 (4160 / 5133), f1 (weighted): 80.48, loss: 7.27e-01\n",
      "  CPU time: 2560s, wall time: 1379s, perf_time_load: 0.05s, perf_time: 0.05s\n",
      "step 12250 / 49006 (epoch 12.50 / 50):\n",
      "  learning_rate = 1.00e-02, training loss = 1.80e-01\n",
      "  validation accuracy: 80.83 (4149 / 5133), f1 (weighted): 80.26, loss: 7.56e-01\n",
      "  CPU time: 2605s, wall time: 1401s, perf_time_load: 0.05s, perf_time: 0.05s\n",
      "step 12495 / 49006 (epoch 12.75 / 50):\n",
      "  learning_rate = 1.00e-02, training loss = 2.59e-01\n",
      "  validation accuracy: 80.32 (4123 / 5133), f1 (weighted): 80.20, loss: 7.53e-01\n",
      "  CPU time: 2649s, wall time: 1423s, perf_time_load: 0.05s, perf_time: 0.05s\n",
      "step 12740 / 49006 (epoch 13.00 / 50):\n",
      "  learning_rate = 1.00e-02, training loss = 5.68e-02\n",
      "  validation accuracy: 81.36 (4176 / 5133), f1 (weighted): 80.60, loss: 7.14e-01\n",
      "  CPU time: 2694s, wall time: 1446s, perf_time_load: 0.05s, perf_time: 0.05s\n",
      "step 12985 / 49006 (epoch 13.25 / 50):\n",
      "  learning_rate = 1.00e-02, training loss = 5.81e-02\n",
      "  validation accuracy: 80.44 (4129 / 5133), f1 (weighted): 79.76, loss: 7.66e-01\n",
      "  CPU time: 2740s, wall time: 1469s, perf_time_load: 0.05s, perf_time: 0.05s\n",
      "step 13230 / 49006 (epoch 13.50 / 50):\n",
      "  learning_rate = 1.00e-02, training loss = 2.32e-01\n",
      "  validation accuracy: 81.22 (4169 / 5133), f1 (weighted): 80.61, loss: 7.46e-01\n",
      "  CPU time: 2785s, wall time: 1491s, perf_time_load: 0.05s, perf_time: 0.05s\n",
      "step 13475 / 49006 (epoch 13.75 / 50):\n",
      "  learning_rate = 1.00e-02, training loss = 1.64e-01\n",
      "  validation accuracy: 81.47 (4182 / 5133), f1 (weighted): 80.81, loss: 7.44e-01\n",
      "  CPU time: 2830s, wall time: 1514s, perf_time_load: 0.05s, perf_time: 0.05s\n",
      "step 13720 / 49006 (epoch 14.00 / 50):\n",
      "  learning_rate = 1.00e-02, training loss = 2.52e-01\n",
      "  validation accuracy: 79.82 (4097 / 5133), f1 (weighted): 79.28, loss: 7.93e-01\n",
      "  CPU time: 2875s, wall time: 1536s, perf_time_load: 0.05s, perf_time: 0.05s\n",
      "step 13965 / 49006 (epoch 14.25 / 50):\n",
      "  learning_rate = 1.00e-02, training loss = 1.19e-01\n",
      "  validation accuracy: 80.93 (4154 / 5133), f1 (weighted): 80.41, loss: 7.61e-01\n",
      "  CPU time: 2921s, wall time: 1559s, perf_time_load: 0.05s, perf_time: 0.05s\n",
      "step 14210 / 49006 (epoch 14.50 / 50):\n",
      "  learning_rate = 1.00e-02, training loss = 1.07e-01\n",
      "  validation accuracy: 81.16 (4166 / 5133), f1 (weighted): 80.59, loss: 7.51e-01\n",
      "  CPU time: 2966s, wall time: 1582s, perf_time_load: 0.05s, perf_time: 0.05s\n",
      "step 14455 / 49006 (epoch 14.75 / 50):\n",
      "  learning_rate = 1.00e-02, training loss = 3.55e-02\n",
      "  validation accuracy: 81.59 (4188 / 5133), f1 (weighted): 80.84, loss: 7.47e-01\n",
      "  CPU time: 3011s, wall time: 1604s, perf_time_load: 0.05s, perf_time: 0.05s\n",
      "step 14700 / 49006 (epoch 15.00 / 50):\n",
      "  learning_rate = 1.00e-02, training loss = 1.76e-01\n",
      "  validation accuracy: 81.67 (4192 / 5133), f1 (weighted): 81.26, loss: 7.42e-01\n",
      "  CPU time: 3057s, wall time: 1627s, perf_time_load: 0.06s, perf_time: 0.06s\n",
      "step 14945 / 49006 (epoch 15.25 / 50):\n",
      "  learning_rate = 1.00e-02, training loss = 2.06e-01\n",
      "  validation accuracy: 81.22 (4169 / 5133), f1 (weighted): 80.84, loss: 7.65e-01\n",
      "  CPU time: 3101s, wall time: 1649s, perf_time_load: 0.05s, perf_time: 0.05s\n",
      "step 15190 / 49006 (epoch 15.50 / 50):\n",
      "  learning_rate = 1.00e-02, training loss = 1.45e-01\n",
      "  validation accuracy: 80.69 (4142 / 5133), f1 (weighted): 80.36, loss: 7.60e-01\n",
      "  CPU time: 3146s, wall time: 1671s, perf_time_load: 0.05s, perf_time: 0.05s\n",
      "step 15435 / 49006 (epoch 15.75 / 50):\n",
      "  learning_rate = 1.00e-02, training loss = 1.05e-01\n",
      "  validation accuracy: 81.32 (4174 / 5133), f1 (weighted): 80.59, loss: 7.98e-01\n",
      "  CPU time: 3192s, wall time: 1694s, perf_time_load: 0.05s, perf_time: 0.05s\n",
      "step 15680 / 49006 (epoch 16.00 / 50):\n",
      "  learning_rate = 1.00e-02, training loss = 1.50e-01\n",
      "  validation accuracy: 81.94 (4206 / 5133), f1 (weighted): 81.23, loss: 7.41e-01\n",
      "  CPU time: 3236s, wall time: 1717s, perf_time_load: 0.05s, perf_time: 0.05s\n",
      "step 15925 / 49006 (epoch 16.25 / 50):\n",
      "  learning_rate = 1.00e-02, training loss = 7.42e-02\n",
      "  validation accuracy: 81.67 (4192 / 5133), f1 (weighted): 81.14, loss: 7.63e-01\n",
      "  CPU time: 3282s, wall time: 1739s, perf_time_load: 0.05s, perf_time: 0.05s\n",
      "step 16170 / 49006 (epoch 16.50 / 50):\n",
      "  learning_rate = 1.00e-02, training loss = 1.60e-01\n",
      "  validation accuracy: 81.22 (4169 / 5133), f1 (weighted): 80.64, loss: 7.60e-01\n",
      "  CPU time: 3327s, wall time: 1761s, perf_time_load: 0.05s, perf_time: 0.05s\n",
      "step 16415 / 49006 (epoch 16.75 / 50):\n",
      "  learning_rate = 1.00e-02, training loss = 3.50e-01\n",
      "  validation accuracy: 81.47 (4182 / 5133), f1 (weighted): 80.72, loss: 7.68e-01\n",
      "  CPU time: 3371s, wall time: 1784s, perf_time_load: 0.05s, perf_time: 0.05s\n"
     ]
    },
    {
     "name": "stdout",
     "output_type": "stream",
     "text": [
      "step 16660 / 49006 (epoch 17.00 / 50):\n",
      "  learning_rate = 1.00e-02, training loss = 2.04e-01\n",
      "  validation accuracy: 81.63 (4190 / 5133), f1 (weighted): 80.98, loss: 7.42e-01\n",
      "  CPU time: 3417s, wall time: 1806s, perf_time_load: 0.05s, perf_time: 0.05s\n",
      "step 16905 / 49006 (epoch 17.25 / 50):\n",
      "  learning_rate = 1.00e-02, training loss = 1.40e-01\n",
      "  validation accuracy: 81.28 (4172 / 5133), f1 (weighted): 80.42, loss: 7.50e-01\n",
      "  CPU time: 3461s, wall time: 1829s, perf_time_load: 0.06s, perf_time: 0.06s\n",
      "step 17150 / 49006 (epoch 17.50 / 50):\n",
      "  learning_rate = 1.00e-02, training loss = 1.00e-01\n",
      "  validation accuracy: 80.32 (4123 / 5133), f1 (weighted): 79.95, loss: 7.94e-01\n",
      "  CPU time: 3506s, wall time: 1851s, perf_time_load: 0.05s, perf_time: 0.05s\n",
      "step 17395 / 49006 (epoch 17.75 / 50):\n",
      "  learning_rate = 1.00e-02, training loss = 4.96e-02\n",
      "  validation accuracy: 81.16 (4166 / 5133), f1 (weighted): 80.45, loss: 7.90e-01\n",
      "  CPU time: 3551s, wall time: 1874s, perf_time_load: 0.05s, perf_time: 0.05s\n",
      "step 17640 / 49006 (epoch 18.00 / 50):\n",
      "  learning_rate = 1.00e-02, training loss = 7.80e-02\n",
      "  validation accuracy: 80.99 (4157 / 5133), f1 (weighted): 80.45, loss: 7.90e-01\n",
      "  CPU time: 3596s, wall time: 1897s, perf_time_load: 0.05s, perf_time: 0.05s\n",
      "step 17885 / 49006 (epoch 18.25 / 50):\n",
      "  learning_rate = 1.00e-02, training loss = 1.23e-01\n",
      "  validation accuracy: 80.75 (4145 / 5133), f1 (weighted): 80.32, loss: 7.91e-01\n",
      "  CPU time: 3643s, wall time: 1920s, perf_time_load: 0.05s, perf_time: 0.05s\n",
      "step 18130 / 49006 (epoch 18.50 / 50):\n",
      "  learning_rate = 1.00e-02, training loss = 7.51e-02\n",
      "  validation accuracy: 81.06 (4161 / 5133), f1 (weighted): 80.31, loss: 8.39e-01\n",
      "  CPU time: 3688s, wall time: 1942s, perf_time_load: 0.05s, perf_time: 0.05s\n",
      "step 18375 / 49006 (epoch 18.75 / 50):\n",
      "  learning_rate = 1.00e-02, training loss = 7.01e-02\n",
      "  validation accuracy: 81.49 (4183 / 5133), f1 (weighted): 81.05, loss: 7.68e-01\n",
      "  CPU time: 3732s, wall time: 1965s, perf_time_load: 0.05s, perf_time: 0.05s\n",
      "step 18620 / 49006 (epoch 19.00 / 50):\n",
      "  learning_rate = 1.00e-02, training loss = 2.02e-01\n",
      "  validation accuracy: 81.59 (4188 / 5133), f1 (weighted): 81.24, loss: 7.75e-01\n",
      "  CPU time: 3777s, wall time: 1987s, perf_time_load: 0.05s, perf_time: 0.05s\n",
      "step 18865 / 49006 (epoch 19.25 / 50):\n",
      "  learning_rate = 1.00e-02, training loss = 7.73e-02\n",
      "  validation accuracy: 80.58 (4136 / 5133), f1 (weighted): 80.18, loss: 7.96e-01\n",
      "  CPU time: 3822s, wall time: 2009s, perf_time_load: 0.05s, perf_time: 0.05s\n",
      "step 19110 / 49006 (epoch 19.50 / 50):\n",
      "  learning_rate = 1.00e-02, training loss = 1.46e-01\n",
      "  validation accuracy: 81.59 (4188 / 5133), f1 (weighted): 81.10, loss: 7.86e-01\n",
      "  CPU time: 3867s, wall time: 2032s, perf_time_load: 0.05s, perf_time: 0.05s\n",
      "step 19355 / 49006 (epoch 19.75 / 50):\n",
      "  learning_rate = 1.00e-02, training loss = 8.07e-02\n",
      "  validation accuracy: 81.39 (4178 / 5133), f1 (weighted): 80.68, loss: 8.01e-01\n",
      "  CPU time: 3912s, wall time: 2054s, perf_time_load: 0.05s, perf_time: 0.05s\n",
      "step 19600 / 49006 (epoch 20.00 / 50):\n",
      "  learning_rate = 1.00e-02, training loss = 7.99e-02\n",
      "  validation accuracy: 81.57 (4187 / 5133), f1 (weighted): 80.98, loss: 7.97e-01\n",
      "  CPU time: 3957s, wall time: 2076s, perf_time_load: 0.05s, perf_time: 0.05s\n",
      "step 19845 / 49006 (epoch 20.25 / 50):\n",
      "  learning_rate = 1.00e-02, training loss = 4.90e-02\n",
      "  validation accuracy: 80.83 (4149 / 5133), f1 (weighted): 80.79, loss: 7.99e-01\n",
      "  CPU time: 4001s, wall time: 2099s, perf_time_load: 0.05s, perf_time: 0.05s\n",
      "step 20090 / 49006 (epoch 20.50 / 50):\n",
      "  learning_rate = 1.00e-02, training loss = 8.55e-02\n",
      "  validation accuracy: 81.20 (4168 / 5133), f1 (weighted): 80.97, loss: 7.92e-01\n",
      "  CPU time: 4049s, wall time: 2122s, perf_time_load: 0.05s, perf_time: 0.05s\n",
      "step 20335 / 49006 (epoch 20.75 / 50):\n",
      "  learning_rate = 1.00e-02, training loss = 1.03e-01\n",
      "  validation accuracy: 80.77 (4146 / 5133), f1 (weighted): 80.34, loss: 8.20e-01\n",
      "  CPU time: 4094s, wall time: 2145s, perf_time_load: 0.05s, perf_time: 0.05s\n",
      "step 20580 / 49006 (epoch 21.00 / 50):\n",
      "  learning_rate = 1.00e-02, training loss = 9.91e-02\n",
      "  validation accuracy: 81.32 (4174 / 5133), f1 (weighted): 80.60, loss: 8.12e-01\n",
      "  CPU time: 4139s, wall time: 2167s, perf_time_load: 0.05s, perf_time: 0.05s\n",
      "step 20825 / 49006 (epoch 21.25 / 50):\n",
      "  learning_rate = 1.00e-02, training loss = 1.51e-01\n",
      "  validation accuracy: 81.92 (4205 / 5133), f1 (weighted): 81.12, loss: 8.02e-01\n",
      "  CPU time: 4186s, wall time: 2190s, perf_time_load: 0.05s, perf_time: 0.05s\n",
      "step 21070 / 49006 (epoch 21.50 / 50):\n",
      "  learning_rate = 1.00e-02, training loss = 3.11e-02\n",
      "  validation accuracy: 81.24 (4170 / 5133), f1 (weighted): 80.78, loss: 8.25e-01\n",
      "  CPU time: 4231s, wall time: 2212s, perf_time_load: 0.05s, perf_time: 0.05s\n",
      "step 21315 / 49006 (epoch 21.75 / 50):\n",
      "  learning_rate = 1.00e-02, training loss = 1.32e-01\n",
      "  validation accuracy: 81.45 (4181 / 5133), f1 (weighted): 80.86, loss: 8.26e-01\n",
      "  CPU time: 4275s, wall time: 2235s, perf_time_load: 0.05s, perf_time: 0.05s\n",
      "step 21560 / 49006 (epoch 22.00 / 50):\n",
      "  learning_rate = 1.00e-02, training loss = 8.63e-03\n",
      "  validation accuracy: 82.02 (4210 / 5133), f1 (weighted): 81.61, loss: 7.94e-01\n",
      "  CPU time: 4320s, wall time: 2257s, perf_time_load: 0.05s, perf_time: 0.05s\n",
      "step 21805 / 49006 (epoch 22.25 / 50):\n",
      "  learning_rate = 1.00e-02, training loss = 1.40e-01\n",
      "  validation accuracy: 82.06 (4212 / 5133), f1 (weighted): 81.40, loss: 7.92e-01\n",
      "  CPU time: 4364s, wall time: 2280s, perf_time_load: 0.05s, perf_time: 0.05s\n",
      "step 22050 / 49006 (epoch 22.50 / 50):\n",
      "  learning_rate = 1.00e-02, training loss = 4.77e-02\n",
      "  validation accuracy: 81.32 (4174 / 5133), f1 (weighted): 80.88, loss: 8.00e-01\n",
      "  CPU time: 4409s, wall time: 2302s, perf_time_load: 0.05s, perf_time: 0.05s\n",
      "step 22295 / 49006 (epoch 22.75 / 50):\n",
      "  learning_rate = 1.00e-02, training loss = 1.54e-01\n",
      "  validation accuracy: 81.51 (4184 / 5133), f1 (weighted): 80.99, loss: 8.12e-01\n",
      "  CPU time: 4454s, wall time: 2326s, perf_time_load: 0.05s, perf_time: 0.05s\n",
      "step 22540 / 49006 (epoch 23.00 / 50):\n",
      "  learning_rate = 1.00e-02, training loss = 2.47e-01\n",
      "  validation accuracy: 81.02 (4159 / 5133), f1 (weighted): 80.62, loss: 8.26e-01\n",
      "  CPU time: 4499s, wall time: 2348s, perf_time_load: 0.05s, perf_time: 0.05s\n",
      "step 22785 / 49006 (epoch 23.25 / 50):\n",
      "  learning_rate = 1.00e-02, training loss = 5.87e-02\n",
      "  validation accuracy: 81.36 (4176 / 5133), f1 (weighted): 80.73, loss: 8.11e-01\n",
      "  CPU time: 4543s, wall time: 2370s, perf_time_load: 0.05s, perf_time: 0.05s\n",
      "step 23030 / 49006 (epoch 23.50 / 50):\n",
      "  learning_rate = 1.00e-02, training loss = 2.11e-01\n",
      "  validation accuracy: 82.27 (4223 / 5133), f1 (weighted): 81.69, loss: 7.99e-01\n",
      "  CPU time: 4588s, wall time: 2393s, perf_time_load: 0.05s, perf_time: 0.05s\n",
      "step 23275 / 49006 (epoch 23.75 / 50):\n",
      "  learning_rate = 1.00e-02, training loss = 6.38e-02\n",
      "  validation accuracy: 81.45 (4181 / 5133), f1 (weighted): 81.01, loss: 8.02e-01\n",
      "  CPU time: 4632s, wall time: 2415s, perf_time_load: 0.08s, perf_time: 0.08s\n",
      "step 23520 / 49006 (epoch 24.00 / 50):\n",
      "  learning_rate = 1.00e-02, training loss = 7.56e-02\n",
      "  validation accuracy: 81.06 (4161 / 5133), f1 (weighted): 80.67, loss: 8.25e-01\n",
      "  CPU time: 4678s, wall time: 2438s, perf_time_load: 0.05s, perf_time: 0.05s\n",
      "step 23765 / 49006 (epoch 24.25 / 50):\n",
      "  learning_rate = 1.00e-02, training loss = 3.52e-02\n",
      "  validation accuracy: 81.34 (4175 / 5133), f1 (weighted): 80.86, loss: 8.65e-01\n",
      "  CPU time: 4722s, wall time: 2461s, perf_time_load: 0.05s, perf_time: 0.05s\n",
      "step 24010 / 49006 (epoch 24.50 / 50):\n",
      "  learning_rate = 1.00e-02, training loss = 8.74e-02\n",
      "  validation accuracy: 82.14 (4216 / 5133), f1 (weighted): 81.48, loss: 8.14e-01\n",
      "  CPU time: 4767s, wall time: 2483s, perf_time_load: 0.05s, perf_time: 0.05s\n",
      "step 24255 / 49006 (epoch 24.75 / 50):\n",
      "  learning_rate = 1.00e-02, training loss = 1.63e-02\n",
      "  validation accuracy: 82.00 (4209 / 5133), f1 (weighted): 81.62, loss: 8.07e-01\n",
      "  CPU time: 4811s, wall time: 2505s, perf_time_load: 0.05s, perf_time: 0.05s\n",
      "step 24500 / 49006 (epoch 25.00 / 50):\n",
      "  learning_rate = 1.00e-02, training loss = 4.68e-02\n",
      "  validation accuracy: 82.14 (4216 / 5133), f1 (weighted): 81.65, loss: 8.03e-01\n",
      "  CPU time: 4857s, wall time: 2528s, perf_time_load: 0.05s, perf_time: 0.05s\n"
     ]
    },
    {
     "name": "stdout",
     "output_type": "stream",
     "text": [
      "step 24745 / 49006 (epoch 25.25 / 50):\n",
      "  learning_rate = 1.00e-02, training loss = 1.72e-01\n",
      "  validation accuracy: 81.73 (4195 / 5133), f1 (weighted): 81.16, loss: 8.32e-01\n",
      "  CPU time: 4902s, wall time: 2550s, perf_time_load: 0.05s, perf_time: 0.05s\n",
      "step 24990 / 49006 (epoch 25.50 / 50):\n",
      "  learning_rate = 1.00e-02, training loss = 6.25e-02\n",
      "  validation accuracy: 81.73 (4195 / 5133), f1 (weighted): 81.15, loss: 8.58e-01\n",
      "  CPU time: 4946s, wall time: 2573s, perf_time_load: 0.05s, perf_time: 0.05s\n",
      "step 25235 / 49006 (epoch 25.75 / 50):\n",
      "  learning_rate = 1.00e-02, training loss = 8.36e-02\n",
      "  validation accuracy: 81.02 (4159 / 5133), f1 (weighted): 80.64, loss: 8.48e-01\n",
      "  CPU time: 4991s, wall time: 2595s, perf_time_load: 0.05s, perf_time: 0.05s\n",
      "step 25480 / 49006 (epoch 26.00 / 50):\n",
      "  learning_rate = 1.00e-02, training loss = 9.06e-02\n",
      "  validation accuracy: 81.84 (4201 / 5133), f1 (weighted): 81.20, loss: 8.40e-01\n",
      "  CPU time: 5038s, wall time: 2619s, perf_time_load: 0.07s, perf_time: 0.07s\n",
      "step 25725 / 49006 (epoch 26.25 / 50):\n",
      "  learning_rate = 1.00e-02, training loss = 6.63e-02\n",
      "  validation accuracy: 81.94 (4206 / 5133), f1 (weighted): 81.52, loss: 8.47e-01\n",
      "  CPU time: 5086s, wall time: 2642s, perf_time_load: 0.05s, perf_time: 0.05s\n",
      "step 25970 / 49006 (epoch 26.50 / 50):\n",
      "  learning_rate = 1.00e-02, training loss = 1.86e-02\n",
      "  validation accuracy: 81.57 (4187 / 5133), f1 (weighted): 81.27, loss: 8.49e-01\n",
      "  CPU time: 5131s, wall time: 2664s, perf_time_load: 0.05s, perf_time: 0.05s\n",
      "step 26215 / 49006 (epoch 26.75 / 50):\n",
      "  learning_rate = 1.00e-02, training loss = 4.93e-02\n",
      "  validation accuracy: 81.57 (4187 / 5133), f1 (weighted): 81.21, loss: 8.42e-01\n",
      "  CPU time: 5177s, wall time: 2687s, perf_time_load: 0.05s, perf_time: 0.05s\n",
      "step 26460 / 49006 (epoch 27.00 / 50):\n",
      "  learning_rate = 1.00e-02, training loss = 1.55e-02\n",
      "  validation accuracy: 81.98 (4208 / 5133), f1 (weighted): 81.50, loss: 8.27e-01\n",
      "  CPU time: 5222s, wall time: 2710s, perf_time_load: 0.05s, perf_time: 0.05s\n",
      "step 26705 / 49006 (epoch 27.25 / 50):\n",
      "  learning_rate = 1.00e-02, training loss = 1.03e-01\n",
      "  validation accuracy: 81.77 (4197 / 5133), f1 (weighted): 81.48, loss: 8.30e-01\n",
      "  CPU time: 5266s, wall time: 2732s, perf_time_load: 0.05s, perf_time: 0.05s\n",
      "step 26950 / 49006 (epoch 27.50 / 50):\n",
      "  learning_rate = 1.00e-02, training loss = 3.24e-02\n",
      "  validation accuracy: 81.43 (4180 / 5133), f1 (weighted): 80.95, loss: 8.70e-01\n",
      "  CPU time: 5312s, wall time: 2754s, perf_time_load: 0.05s, perf_time: 0.05s\n",
      "step 27195 / 49006 (epoch 27.75 / 50):\n",
      "  learning_rate = 1.00e-02, training loss = 1.12e-01\n",
      "  validation accuracy: 81.71 (4194 / 5133), f1 (weighted): 81.20, loss: 8.51e-01\n",
      "  CPU time: 5356s, wall time: 2776s, perf_time_load: 0.05s, perf_time: 0.05s\n",
      "step 27440 / 49006 (epoch 28.00 / 50):\n",
      "  learning_rate = 1.00e-02, training loss = 6.65e-02\n",
      "  validation accuracy: 81.78 (4198 / 5133), f1 (weighted): 81.40, loss: 8.38e-01\n",
      "  CPU time: 5401s, wall time: 2799s, perf_time_load: 0.05s, perf_time: 0.05s\n",
      "step 27685 / 49006 (epoch 28.25 / 50):\n",
      "  learning_rate = 1.00e-02, training loss = 3.78e-02\n",
      "  validation accuracy: 81.92 (4205 / 5133), f1 (weighted): 81.31, loss: 8.65e-01\n",
      "  CPU time: 5447s, wall time: 2822s, perf_time_load: 0.06s, perf_time: 0.06s\n",
      "step 27930 / 49006 (epoch 28.50 / 50):\n",
      "  learning_rate = 1.00e-02, training loss = 2.28e-02\n",
      "  validation accuracy: 81.71 (4194 / 5133), f1 (weighted): 81.26, loss: 8.66e-01\n",
      "  CPU time: 5491s, wall time: 2844s, perf_time_load: 0.05s, perf_time: 0.05s\n",
      "step 28175 / 49006 (epoch 28.75 / 50):\n",
      "  learning_rate = 1.00e-02, training loss = 5.15e-02\n",
      "  validation accuracy: 81.82 (4200 / 5133), f1 (weighted): 81.18, loss: 8.62e-01\n",
      "  CPU time: 5537s, wall time: 2867s, perf_time_load: 0.05s, perf_time: 0.05s\n",
      "step 28420 / 49006 (epoch 29.00 / 50):\n",
      "  learning_rate = 1.00e-02, training loss = 4.10e-02\n",
      "  validation accuracy: 81.77 (4197 / 5133), f1 (weighted): 81.41, loss: 8.48e-01\n",
      "  CPU time: 5582s, wall time: 2889s, perf_time_load: 0.05s, perf_time: 0.05s\n",
      "step 28665 / 49006 (epoch 29.25 / 50):\n",
      "  learning_rate = 1.00e-02, training loss = 6.28e-02\n",
      "  validation accuracy: 81.78 (4198 / 5133), f1 (weighted): 81.32, loss: 8.49e-01\n",
      "  CPU time: 5628s, wall time: 2912s, perf_time_load: 0.05s, perf_time: 0.05s\n",
      "step 28910 / 49006 (epoch 29.50 / 50):\n",
      "  learning_rate = 1.00e-02, training loss = 3.72e-02\n",
      "  validation accuracy: 81.22 (4169 / 5133), f1 (weighted): 80.58, loss: 8.96e-01\n",
      "  CPU time: 5674s, wall time: 2935s, perf_time_load: 0.05s, perf_time: 0.05s\n",
      "step 29155 / 49006 (epoch 29.75 / 50):\n",
      "  learning_rate = 1.00e-02, training loss = 3.48e-02\n",
      "  validation accuracy: 82.17 (4218 / 5133), f1 (weighted): 81.68, loss: 8.39e-01\n",
      "  CPU time: 5719s, wall time: 2958s, perf_time_load: 0.05s, perf_time: 0.05s\n",
      "step 29400 / 49006 (epoch 30.00 / 50):\n",
      "  learning_rate = 1.00e-02, training loss = 5.99e-02\n",
      "  validation accuracy: 81.51 (4184 / 5133), f1 (weighted): 81.31, loss: 8.42e-01\n",
      "  CPU time: 5764s, wall time: 2980s, perf_time_load: 0.05s, perf_time: 0.05s\n",
      "step 29645 / 49006 (epoch 30.25 / 50):\n",
      "  learning_rate = 1.00e-02, training loss = 2.55e-02\n",
      "  validation accuracy: 81.26 (4171 / 5133), f1 (weighted): 81.28, loss: 8.51e-01\n",
      "  CPU time: 5808s, wall time: 3002s, perf_time_load: 0.05s, perf_time: 0.05s\n",
      "step 29890 / 49006 (epoch 30.50 / 50):\n",
      "  learning_rate = 1.00e-02, training loss = 2.36e-02\n",
      "  validation accuracy: 81.59 (4188 / 5133), f1 (weighted): 81.11, loss: 8.56e-01\n",
      "  CPU time: 5854s, wall time: 3025s, perf_time_load: 0.05s, perf_time: 0.05s\n",
      "step 30135 / 49006 (epoch 30.75 / 50):\n",
      "  learning_rate = 1.00e-02, training loss = 8.53e-03\n",
      "  validation accuracy: 81.20 (4168 / 5133), f1 (weighted): 80.74, loss: 8.91e-01\n",
      "  CPU time: 5899s, wall time: 3047s, perf_time_load: 0.05s, perf_time: 0.05s\n",
      "step 30380 / 49006 (epoch 31.00 / 50):\n",
      "  learning_rate = 1.00e-02, training loss = 2.71e-02\n",
      "  validation accuracy: 82.02 (4210 / 5133), f1 (weighted): 81.64, loss: 8.65e-01\n",
      "  CPU time: 5944s, wall time: 3069s, perf_time_load: 0.05s, perf_time: 0.05s\n",
      "step 30625 / 49006 (epoch 31.25 / 50):\n",
      "  learning_rate = 1.00e-02, training loss = 8.43e-02\n",
      "  validation accuracy: 81.34 (4175 / 5133), f1 (weighted): 81.14, loss: 8.82e-01\n",
      "  CPU time: 5988s, wall time: 3092s, perf_time_load: 0.05s, perf_time: 0.05s\n",
      "step 30870 / 49006 (epoch 31.50 / 50):\n",
      "  learning_rate = 1.00e-02, training loss = 6.49e-03\n",
      "  validation accuracy: 81.92 (4205 / 5133), f1 (weighted): 81.66, loss: 8.42e-01\n",
      "  CPU time: 6033s, wall time: 3114s, perf_time_load: 0.05s, perf_time: 0.05s\n",
      "step 31115 / 49006 (epoch 31.75 / 50):\n",
      "  learning_rate = 1.00e-02, training loss = 2.69e-02\n",
      "  validation accuracy: 81.73 (4195 / 5133), f1 (weighted): 81.35, loss: 8.74e-01\n",
      "  CPU time: 6080s, wall time: 3137s, perf_time_load: 0.06s, perf_time: 0.06s\n",
      "step 31360 / 49006 (epoch 32.00 / 50):\n",
      "  learning_rate = 1.00e-02, training loss = 1.27e-02\n",
      "  validation accuracy: 81.41 (4179 / 5133), f1 (weighted): 81.24, loss: 8.80e-01\n",
      "  CPU time: 6127s, wall time: 3160s, perf_time_load: 0.05s, perf_time: 0.05s\n",
      "step 31605 / 49006 (epoch 32.25 / 50):\n",
      "  learning_rate = 1.00e-02, training loss = 1.46e-02\n",
      "  validation accuracy: 81.73 (4195 / 5133), f1 (weighted): 81.36, loss: 8.58e-01\n",
      "  CPU time: 6171s, wall time: 3182s, perf_time_load: 0.05s, perf_time: 0.05s\n",
      "step 31850 / 49006 (epoch 32.50 / 50):\n",
      "  learning_rate = 1.00e-02, training loss = 5.22e-02\n",
      "  validation accuracy: 81.41 (4179 / 5133), f1 (weighted): 80.95, loss: 8.84e-01\n",
      "  CPU time: 6216s, wall time: 3204s, perf_time_load: 0.05s, perf_time: 0.05s\n",
      "step 32095 / 49006 (epoch 32.75 / 50):\n",
      "  learning_rate = 1.00e-02, training loss = 6.12e-02\n",
      "  validation accuracy: 81.43 (4180 / 5133), f1 (weighted): 81.03, loss: 8.88e-01\n",
      "  CPU time: 6261s, wall time: 3227s, perf_time_load: 0.05s, perf_time: 0.05s\n",
      "step 32340 / 49006 (epoch 33.00 / 50):\n",
      "  learning_rate = 1.00e-02, training loss = 3.09e-02\n",
      "  validation accuracy: 81.75 (4196 / 5133), f1 (weighted): 81.39, loss: 8.85e-01\n",
      "  CPU time: 6305s, wall time: 3249s, perf_time_load: 0.05s, perf_time: 0.05s\n",
      "step 32585 / 49006 (epoch 33.25 / 50):\n",
      "  learning_rate = 1.00e-02, training loss = 1.37e-02\n",
      "  validation accuracy: 81.32 (4174 / 5133), f1 (weighted): 80.98, loss: 8.83e-01\n",
      "  CPU time: 6350s, wall time: 3271s, perf_time_load: 0.05s, perf_time: 0.05s\n"
     ]
    },
    {
     "name": "stdout",
     "output_type": "stream",
     "text": [
      "step 32830 / 49006 (epoch 33.50 / 50):\n",
      "  learning_rate = 1.00e-02, training loss = 2.93e-02\n",
      "  validation accuracy: 81.88 (4203 / 5133), f1 (weighted): 81.67, loss: 8.89e-01\n",
      "  CPU time: 6394s, wall time: 3293s, perf_time_load: 0.05s, perf_time: 0.05s\n",
      "step 33075 / 49006 (epoch 33.75 / 50):\n",
      "  learning_rate = 1.00e-02, training loss = 7.48e-03\n",
      "  validation accuracy: 82.00 (4209 / 5133), f1 (weighted): 81.45, loss: 8.80e-01\n",
      "  CPU time: 6439s, wall time: 3315s, perf_time_load: 0.05s, perf_time: 0.05s\n",
      "step 33320 / 49006 (epoch 34.00 / 50):\n",
      "  learning_rate = 1.00e-02, training loss = 4.59e-02\n",
      "  validation accuracy: 82.15 (4217 / 5133), f1 (weighted): 81.66, loss: 8.62e-01\n",
      "  CPU time: 6485s, wall time: 3338s, perf_time_load: 0.05s, perf_time: 0.05s\n",
      "step 33565 / 49006 (epoch 34.25 / 50):\n",
      "  learning_rate = 1.00e-02, training loss = 4.54e-02\n",
      "  validation accuracy: 82.02 (4210 / 5133), f1 (weighted): 81.59, loss: 9.00e-01\n",
      "  CPU time: 6530s, wall time: 3360s, perf_time_load: 0.05s, perf_time: 0.05s\n",
      "step 33810 / 49006 (epoch 34.50 / 50):\n",
      "  learning_rate = 1.00e-02, training loss = 3.20e-02\n",
      "  validation accuracy: 82.10 (4214 / 5133), f1 (weighted): 81.80, loss: 8.76e-01\n",
      "  CPU time: 6575s, wall time: 3382s, perf_time_load: 0.05s, perf_time: 0.05s\n",
      "step 34055 / 49006 (epoch 34.75 / 50):\n",
      "  learning_rate = 1.00e-02, training loss = 3.75e-02\n",
      "  validation accuracy: 82.17 (4218 / 5133), f1 (weighted): 81.57, loss: 8.90e-01\n",
      "  CPU time: 6619s, wall time: 3404s, perf_time_load: 0.05s, perf_time: 0.05s\n",
      "step 34300 / 49006 (epoch 35.00 / 50):\n",
      "  learning_rate = 1.00e-02, training loss = 7.20e-02\n",
      "  validation accuracy: 81.59 (4188 / 5133), f1 (weighted): 81.29, loss: 8.83e-01\n",
      "  CPU time: 6664s, wall time: 3427s, perf_time_load: 0.07s, perf_time: 0.07s\n",
      "step 34545 / 49006 (epoch 35.25 / 50):\n",
      "  learning_rate = 1.00e-02, training loss = 2.90e-02\n",
      "  validation accuracy: 81.39 (4178 / 5133), f1 (weighted): 81.13, loss: 8.96e-01\n",
      "  CPU time: 6711s, wall time: 3450s, perf_time_load: 0.05s, perf_time: 0.05s\n",
      "step 34790 / 49006 (epoch 35.50 / 50):\n",
      "  learning_rate = 1.00e-02, training loss = 3.72e-02\n",
      "  validation accuracy: 81.92 (4205 / 5133), f1 (weighted): 81.51, loss: 8.80e-01\n",
      "  CPU time: 6756s, wall time: 3472s, perf_time_load: 0.05s, perf_time: 0.05s\n",
      "step 35035 / 49006 (epoch 35.75 / 50):\n",
      "  learning_rate = 1.00e-02, training loss = 2.36e-02\n",
      "  validation accuracy: 81.86 (4202 / 5133), f1 (weighted): 81.37, loss: 8.91e-01\n",
      "  CPU time: 6801s, wall time: 3495s, perf_time_load: 0.05s, perf_time: 0.05s\n",
      "step 35280 / 49006 (epoch 36.00 / 50):\n",
      "  learning_rate = 1.00e-02, training loss = 1.18e-02\n",
      "  validation accuracy: 81.22 (4169 / 5133), f1 (weighted): 80.73, loss: 9.19e-01\n",
      "  CPU time: 6845s, wall time: 3517s, perf_time_load: 0.05s, perf_time: 0.05s\n",
      "step 35525 / 49006 (epoch 36.25 / 50):\n",
      "  learning_rate = 1.00e-02, training loss = 1.20e-02\n",
      "  validation accuracy: 80.93 (4154 / 5133), f1 (weighted): 80.70, loss: 9.29e-01\n",
      "  CPU time: 6890s, wall time: 3539s, perf_time_load: 0.05s, perf_time: 0.05s\n",
      "step 35770 / 49006 (epoch 36.50 / 50):\n",
      "  learning_rate = 1.00e-02, training loss = 1.07e-02\n",
      "  validation accuracy: 81.34 (4175 / 5133), f1 (weighted): 80.90, loss: 9.26e-01\n",
      "  CPU time: 6935s, wall time: 3561s, perf_time_load: 0.05s, perf_time: 0.05s\n",
      "step 36015 / 49006 (epoch 36.75 / 50):\n",
      "  learning_rate = 1.00e-02, training loss = 5.02e-02\n",
      "  validation accuracy: 81.63 (4190 / 5133), f1 (weighted): 81.10, loss: 9.04e-01\n",
      "  CPU time: 6979s, wall time: 3583s, perf_time_load: 0.05s, perf_time: 0.05s\n",
      "step 36260 / 49006 (epoch 37.00 / 50):\n",
      "  learning_rate = 1.00e-02, training loss = 3.97e-02\n",
      "  validation accuracy: 81.49 (4183 / 5133), f1 (weighted): 81.10, loss: 9.14e-01\n",
      "  CPU time: 7025s, wall time: 3606s, perf_time_load: 0.05s, perf_time: 0.05s\n",
      "step 36505 / 49006 (epoch 37.25 / 50):\n",
      "  learning_rate = 1.00e-02, training loss = 2.50e-02\n",
      "  validation accuracy: 81.38 (4177 / 5133), f1 (weighted): 81.03, loss: 9.15e-01\n",
      "  CPU time: 7071s, wall time: 3629s, perf_time_load: 0.05s, perf_time: 0.05s\n",
      "step 36750 / 49006 (epoch 37.50 / 50):\n",
      "  learning_rate = 1.00e-02, training loss = 2.29e-02\n",
      "  validation accuracy: 82.15 (4217 / 5133), f1 (weighted): 81.66, loss: 8.98e-01\n",
      "  CPU time: 7115s, wall time: 3651s, perf_time_load: 0.05s, perf_time: 0.05s\n",
      "step 36995 / 49006 (epoch 37.75 / 50):\n",
      "  learning_rate = 1.00e-02, training loss = 9.98e-02\n",
      "  validation accuracy: 82.37 (4228 / 5133), f1 (weighted): 81.85, loss: 8.87e-01\n",
      "  CPU time: 7160s, wall time: 3673s, perf_time_load: 0.05s, perf_time: 0.05s\n",
      "step 37240 / 49006 (epoch 38.00 / 50):\n",
      "  learning_rate = 1.00e-02, training loss = 2.56e-02\n",
      "  validation accuracy: 82.14 (4216 / 5133), f1 (weighted): 81.72, loss: 9.32e-01\n",
      "  CPU time: 7206s, wall time: 3696s, perf_time_load: 0.05s, perf_time: 0.05s\n",
      "step 37485 / 49006 (epoch 38.25 / 50):\n",
      "  learning_rate = 1.00e-02, training loss = 1.82e-03\n",
      "  validation accuracy: 81.45 (4181 / 5133), f1 (weighted): 81.15, loss: 9.47e-01\n",
      "  CPU time: 7251s, wall time: 3718s, perf_time_load: 0.05s, perf_time: 0.05s\n",
      "step 37730 / 49006 (epoch 38.50 / 50):\n",
      "  learning_rate = 1.00e-02, training loss = 7.68e-03\n",
      "  validation accuracy: 81.77 (4197 / 5133), f1 (weighted): 81.33, loss: 9.30e-01\n",
      "  CPU time: 7296s, wall time: 3741s, perf_time_load: 0.06s, perf_time: 0.06s\n",
      "step 37975 / 49006 (epoch 38.75 / 50):\n",
      "  learning_rate = 1.00e-02, training loss = 3.53e-02\n",
      "  validation accuracy: 81.49 (4183 / 5133), f1 (weighted): 81.10, loss: 9.29e-01\n",
      "  CPU time: 7343s, wall time: 3764s, perf_time_load: 0.05s, perf_time: 0.05s\n",
      "step 38220 / 49006 (epoch 39.00 / 50):\n",
      "  learning_rate = 1.00e-02, training loss = 9.66e-03\n",
      "  validation accuracy: 81.86 (4202 / 5133), f1 (weighted): 81.46, loss: 8.98e-01\n",
      "  CPU time: 7387s, wall time: 3786s, perf_time_load: 0.05s, perf_time: 0.05s\n",
      "step 38465 / 49006 (epoch 39.24 / 50):\n",
      "  learning_rate = 1.00e-02, training loss = 8.63e-03\n",
      "  validation accuracy: 81.41 (4179 / 5133), f1 (weighted): 80.94, loss: 9.18e-01\n",
      "  CPU time: 7432s, wall time: 3808s, perf_time_load: 0.05s, perf_time: 0.05s\n",
      "step 38710 / 49006 (epoch 39.49 / 50):\n",
      "  learning_rate = 1.00e-02, training loss = 1.12e-02\n",
      "  validation accuracy: 81.71 (4194 / 5133), f1 (weighted): 81.50, loss: 9.25e-01\n",
      "  CPU time: 7476s, wall time: 3830s, perf_time_load: 0.05s, perf_time: 0.05s\n",
      "step 38955 / 49006 (epoch 39.74 / 50):\n",
      "  learning_rate = 1.00e-02, training loss = 9.15e-03\n",
      "  validation accuracy: 81.88 (4203 / 5133), f1 (weighted): 81.33, loss: 9.38e-01\n",
      "  CPU time: 7521s, wall time: 3852s, perf_time_load: 0.05s, perf_time: 0.05s\n",
      "step 39200 / 49006 (epoch 39.99 / 50):\n",
      "  learning_rate = 1.00e-02, training loss = 6.80e-03\n",
      "  validation accuracy: 82.00 (4209 / 5133), f1 (weighted): 81.50, loss: 9.32e-01\n",
      "  CPU time: 7568s, wall time: 3875s, perf_time_load: 0.05s, perf_time: 0.05s\n",
      "step 39445 / 49006 (epoch 40.24 / 50):\n",
      "  learning_rate = 1.00e-02, training loss = 2.15e-02\n",
      "  validation accuracy: 81.75 (4196 / 5133), f1 (weighted): 81.36, loss: 9.28e-01\n",
      "  CPU time: 7612s, wall time: 3898s, perf_time_load: 0.05s, perf_time: 0.05s\n",
      "step 39690 / 49006 (epoch 40.49 / 50):\n",
      "  learning_rate = 1.00e-02, training loss = 2.78e-02\n",
      "  validation accuracy: 81.82 (4200 / 5133), f1 (weighted): 81.47, loss: 9.32e-01\n",
      "  CPU time: 7657s, wall time: 3920s, perf_time_load: 0.06s, perf_time: 0.06s\n",
      "step 39935 / 49006 (epoch 40.74 / 50):\n",
      "  learning_rate = 1.00e-02, training loss = 6.24e-03\n",
      "  validation accuracy: 81.57 (4187 / 5133), f1 (weighted): 81.30, loss: 9.34e-01\n",
      "  CPU time: 7704s, wall time: 3943s, perf_time_load: 0.05s, perf_time: 0.05s\n",
      "step 40180 / 49006 (epoch 40.99 / 50):\n",
      "  learning_rate = 1.00e-02, training loss = 1.77e-02\n",
      "  validation accuracy: 81.55 (4186 / 5133), f1 (weighted): 81.17, loss: 9.36e-01\n",
      "  CPU time: 7749s, wall time: 3965s, perf_time_load: 0.05s, perf_time: 0.05s\n",
      "step 40425 / 49006 (epoch 41.24 / 50):\n",
      "  learning_rate = 1.00e-02, training loss = 4.93e-02\n",
      "  validation accuracy: 81.49 (4183 / 5133), f1 (weighted): 81.19, loss: 9.53e-01\n",
      "  CPU time: 7793s, wall time: 3988s, perf_time_load: 0.05s, perf_time: 0.05s\n",
      "step 40670 / 49006 (epoch 41.49 / 50):\n",
      "  learning_rate = 1.00e-02, training loss = 3.52e-03\n",
      "  validation accuracy: 81.26 (4171 / 5133), f1 (weighted): 80.92, loss: 9.32e-01\n",
      "  CPU time: 7838s, wall time: 4011s, perf_time_load: 0.05s, perf_time: 0.05s\n"
     ]
    },
    {
     "name": "stdout",
     "output_type": "stream",
     "text": [
      "step 40915 / 49006 (epoch 41.74 / 50):\n",
      "  learning_rate = 1.00e-02, training loss = 4.99e-02\n",
      "  validation accuracy: 81.51 (4184 / 5133), f1 (weighted): 81.12, loss: 9.54e-01\n",
      "  CPU time: 7883s, wall time: 4033s, perf_time_load: 0.05s, perf_time: 0.05s\n",
      "step 41160 / 49006 (epoch 41.99 / 50):\n",
      "  learning_rate = 1.00e-02, training loss = 1.77e-02\n",
      "  validation accuracy: 81.08 (4162 / 5133), f1 (weighted): 80.56, loss: 9.74e-01\n",
      "  CPU time: 7928s, wall time: 4055s, perf_time_load: 0.05s, perf_time: 0.05s\n",
      "step 41405 / 49006 (epoch 42.24 / 50):\n",
      "  learning_rate = 1.00e-02, training loss = 3.00e-02\n",
      "  validation accuracy: 81.80 (4199 / 5133), f1 (weighted): 81.36, loss: 9.31e-01\n",
      "  CPU time: 7973s, wall time: 4077s, perf_time_load: 0.05s, perf_time: 0.05s\n",
      "step 41650 / 49006 (epoch 42.49 / 50):\n",
      "  learning_rate = 1.00e-02, training loss = 1.35e-02\n",
      "  validation accuracy: 81.78 (4198 / 5133), f1 (weighted): 81.31, loss: 9.34e-01\n",
      "  CPU time: 8018s, wall time: 4099s, perf_time_load: 0.05s, perf_time: 0.05s\n",
      "step 41895 / 49006 (epoch 42.74 / 50):\n",
      "  learning_rate = 1.00e-02, training loss = 1.15e-02\n",
      "  validation accuracy: 81.57 (4187 / 5133), f1 (weighted): 81.28, loss: 9.30e-01\n",
      "  CPU time: 8063s, wall time: 4122s, perf_time_load: 0.05s, perf_time: 0.05s\n",
      "step 42140 / 49006 (epoch 42.99 / 50):\n",
      "  learning_rate = 1.00e-02, training loss = 2.29e-02\n",
      "  validation accuracy: 81.67 (4192 / 5133), f1 (weighted): 81.47, loss: 9.43e-01\n",
      "  CPU time: 8110s, wall time: 4145s, perf_time_load: 0.05s, perf_time: 0.05s\n",
      "step 42385 / 49006 (epoch 43.24 / 50):\n",
      "  learning_rate = 1.00e-02, training loss = 2.57e-02\n",
      "  validation accuracy: 81.69 (4193 / 5133), f1 (weighted): 81.24, loss: 9.54e-01\n",
      "  CPU time: 8155s, wall time: 4167s, perf_time_load: 0.05s, perf_time: 0.05s\n",
      "step 42630 / 49006 (epoch 43.49 / 50):\n",
      "  learning_rate = 1.00e-02, training loss = 1.12e-02\n",
      "  validation accuracy: 81.71 (4194 / 5133), f1 (weighted): 81.19, loss: 9.55e-01\n",
      "  CPU time: 8199s, wall time: 4189s, perf_time_load: 0.05s, perf_time: 0.05s\n",
      "step 42875 / 49006 (epoch 43.74 / 50):\n",
      "  learning_rate = 1.00e-02, training loss = 2.24e-02\n",
      "  validation accuracy: 82.00 (4209 / 5133), f1 (weighted): 81.63, loss: 9.59e-01\n",
      "  CPU time: 8244s, wall time: 4212s, perf_time_load: 0.05s, perf_time: 0.05s\n",
      "step 43120 / 49006 (epoch 43.99 / 50):\n",
      "  learning_rate = 1.00e-02, training loss = 2.40e-02\n",
      "  validation accuracy: 82.04 (4211 / 5133), f1 (weighted): 81.72, loss: 9.36e-01\n",
      "  CPU time: 8289s, wall time: 4234s, perf_time_load: 0.05s, perf_time: 0.05s\n",
      "step 43365 / 49006 (epoch 44.24 / 50):\n",
      "  learning_rate = 1.00e-02, training loss = 1.23e-02\n",
      "  validation accuracy: 81.73 (4195 / 5133), f1 (weighted): 81.47, loss: 9.21e-01\n",
      "  CPU time: 8335s, wall time: 4257s, perf_time_load: 0.05s, perf_time: 0.05s\n",
      "step 43610 / 49006 (epoch 44.49 / 50):\n",
      "  learning_rate = 1.00e-02, training loss = 1.22e-02\n",
      "  validation accuracy: 81.51 (4184 / 5133), f1 (weighted): 81.12, loss: 9.57e-01\n",
      "  CPU time: 8379s, wall time: 4279s, perf_time_load: 0.05s, perf_time: 0.05s\n",
      "step 43855 / 49006 (epoch 44.74 / 50):\n",
      "  learning_rate = 1.00e-02, training loss = 2.43e-02\n",
      "  validation accuracy: 81.65 (4191 / 5133), f1 (weighted): 81.27, loss: 9.38e-01\n",
      "  CPU time: 8423s, wall time: 4301s, perf_time_load: 0.05s, perf_time: 0.05s\n",
      "step 44100 / 49006 (epoch 44.99 / 50):\n",
      "  learning_rate = 1.00e-02, training loss = 6.83e-03\n",
      "  validation accuracy: 81.59 (4188 / 5133), f1 (weighted): 81.37, loss: 9.51e-01\n",
      "  CPU time: 8468s, wall time: 4323s, perf_time_load: 0.05s, perf_time: 0.05s\n",
      "step 44345 / 49006 (epoch 45.24 / 50):\n",
      "  learning_rate = 1.00e-02, training loss = 6.39e-03\n",
      "  validation accuracy: 81.73 (4195 / 5133), f1 (weighted): 81.31, loss: 9.43e-01\n",
      "  CPU time: 8511s, wall time: 4345s, perf_time_load: 0.05s, perf_time: 0.05s\n",
      "step 44590 / 49006 (epoch 45.49 / 50):\n",
      "  learning_rate = 1.00e-02, training loss = 7.47e-03\n",
      "  validation accuracy: 81.24 (4170 / 5133), f1 (weighted): 80.96, loss: 9.63e-01\n",
      "  CPU time: 8556s, wall time: 4367s, perf_time_load: 0.05s, perf_time: 0.05s\n",
      "step 44835 / 49006 (epoch 45.74 / 50):\n",
      "  learning_rate = 1.00e-02, training loss = 9.01e-03\n",
      "  validation accuracy: 81.34 (4175 / 5133), f1 (weighted): 80.86, loss: 9.59e-01\n",
      "  CPU time: 8600s, wall time: 4389s, perf_time_load: 0.05s, perf_time: 0.05s\n",
      "step 45080 / 49006 (epoch 45.99 / 50):\n",
      "  learning_rate = 1.00e-02, training loss = 1.27e-02\n",
      "  validation accuracy: 82.00 (4209 / 5133), f1 (weighted): 81.54, loss: 9.51e-01\n",
      "  CPU time: 8645s, wall time: 4412s, perf_time_load: 0.05s, perf_time: 0.05s\n",
      "step 45325 / 49006 (epoch 46.24 / 50):\n",
      "  learning_rate = 1.00e-02, training loss = 1.10e-02\n",
      "  validation accuracy: 82.29 (4224 / 5133), f1 (weighted): 81.85, loss: 9.45e-01\n",
      "  CPU time: 8689s, wall time: 4434s, perf_time_load: 0.05s, perf_time: 0.05s\n",
      "step 45570 / 49006 (epoch 46.49 / 50):\n",
      "  learning_rate = 1.00e-02, training loss = 3.06e-02\n",
      "  validation accuracy: 81.73 (4195 / 5133), f1 (weighted): 81.38, loss: 9.51e-01\n",
      "  CPU time: 8734s, wall time: 4456s, perf_time_load: 0.05s, perf_time: 0.05s\n",
      "step 45815 / 49006 (epoch 46.74 / 50):\n",
      "  learning_rate = 1.00e-02, training loss = 1.95e-02\n",
      "  validation accuracy: 82.14 (4216 / 5133), f1 (weighted): 81.73, loss: 9.35e-01\n",
      "  CPU time: 8779s, wall time: 4479s, perf_time_load: 0.05s, perf_time: 0.05s\n",
      "step 46060 / 49006 (epoch 46.99 / 50):\n",
      "  learning_rate = 1.00e-02, training loss = 3.24e-02\n",
      "  validation accuracy: 81.90 (4204 / 5133), f1 (weighted): 81.48, loss: 9.57e-01\n",
      "  CPU time: 8824s, wall time: 4501s, perf_time_load: 0.05s, perf_time: 0.05s\n",
      "step 46305 / 49006 (epoch 47.24 / 50):\n",
      "  learning_rate = 1.00e-02, training loss = 1.40e-02\n",
      "  validation accuracy: 81.88 (4203 / 5133), f1 (weighted): 81.37, loss: 9.71e-01\n",
      "  CPU time: 8869s, wall time: 4524s, perf_time_load: 0.05s, perf_time: 0.05s\n",
      "step 46550 / 49006 (epoch 47.49 / 50):\n",
      "  learning_rate = 1.00e-02, training loss = 2.82e-03\n",
      "  validation accuracy: 81.80 (4199 / 5133), f1 (weighted): 81.40, loss: 9.75e-01\n",
      "  CPU time: 8913s, wall time: 4546s, perf_time_load: 0.05s, perf_time: 0.05s\n",
      "step 46795 / 49006 (epoch 47.74 / 50):\n",
      "  learning_rate = 1.00e-02, training loss = 1.39e-02\n",
      "  validation accuracy: 81.90 (4204 / 5133), f1 (weighted): 81.53, loss: 9.66e-01\n",
      "  CPU time: 8959s, wall time: 4569s, perf_time_load: 0.05s, perf_time: 0.05s\n",
      "step 47040 / 49006 (epoch 47.99 / 50):\n",
      "  learning_rate = 1.00e-02, training loss = 6.37e-03\n",
      "  validation accuracy: 81.55 (4186 / 5133), f1 (weighted): 81.20, loss: 9.90e-01\n",
      "  CPU time: 9003s, wall time: 4591s, perf_time_load: 0.05s, perf_time: 0.05s\n",
      "step 47285 / 49006 (epoch 48.24 / 50):\n",
      "  learning_rate = 1.00e-02, training loss = 3.15e-02\n",
      "  validation accuracy: 81.57 (4187 / 5133), f1 (weighted): 81.30, loss: 9.84e-01\n",
      "  CPU time: 9049s, wall time: 4614s, perf_time_load: 0.05s, perf_time: 0.05s\n",
      "step 47530 / 49006 (epoch 48.49 / 50):\n",
      "  learning_rate = 1.00e-02, training loss = 7.04e-03\n",
      "  validation accuracy: 82.15 (4217 / 5133), f1 (weighted): 81.78, loss: 9.58e-01\n",
      "  CPU time: 9094s, wall time: 4637s, perf_time_load: 0.05s, perf_time: 0.05s\n",
      "step 47775 / 49006 (epoch 48.74 / 50):\n",
      "  learning_rate = 1.00e-02, training loss = 7.66e-03\n",
      "  validation accuracy: 81.73 (4195 / 5133), f1 (weighted): 81.34, loss: 9.86e-01\n",
      "  CPU time: 9139s, wall time: 4659s, perf_time_load: 0.05s, perf_time: 0.05s\n",
      "step 48020 / 49006 (epoch 48.99 / 50):\n",
      "  learning_rate = 1.00e-02, training loss = 1.35e-02\n",
      "  validation accuracy: 82.33 (4226 / 5133), f1 (weighted): 81.95, loss: 9.59e-01\n",
      "  CPU time: 9183s, wall time: 4681s, perf_time_load: 0.05s, perf_time: 0.05s\n",
      "step 48265 / 49006 (epoch 49.24 / 50):\n",
      "  learning_rate = 1.00e-02, training loss = 1.60e-02\n",
      "  validation accuracy: 81.82 (4200 / 5133), f1 (weighted): 81.40, loss: 9.55e-01\n",
      "  CPU time: 9228s, wall time: 4703s, perf_time_load: 0.05s, perf_time: 0.05s\n",
      "step 48510 / 49006 (epoch 49.49 / 50):\n",
      "  learning_rate = 1.00e-02, training loss = 2.58e-02\n",
      "  validation accuracy: 81.77 (4197 / 5133), f1 (weighted): 81.26, loss: 9.89e-01\n",
      "  CPU time: 9273s, wall time: 4726s, perf_time_load: 0.05s, perf_time: 0.05s\n",
      "step 48755 / 49006 (epoch 49.74 / 50):\n",
      "  learning_rate = 1.00e-02, training loss = 2.39e-02\n",
      "  validation accuracy: 81.80 (4199 / 5133), f1 (weighted): 81.45, loss: 9.67e-01\n",
      "  CPU time: 9317s, wall time: 4748s, perf_time_load: 0.05s, perf_time: 0.05s\n"
     ]
    },
    {
     "name": "stdout",
     "output_type": "stream",
     "text": [
      "step 49000 / 49006 (epoch 49.99 / 50):\n",
      "  learning_rate = 1.00e-02, training loss = 1.17e-02\n",
      "  validation accuracy: 81.82 (4200 / 5133), f1 (weighted): 81.54, loss: 9.63e-01\n",
      "  CPU time: 9362s, wall time: 4770s, perf_time_load: 0.05s, perf_time: 0.05s\n",
      "step 49006 / 49006 (epoch 50.00 / 50):\n",
      "  learning_rate = 1.00e-02, training loss = 9.28e-03\n",
      "  validation accuracy: 81.86 (4202 / 5133), f1 (weighted): 81.47, loss: 9.74e-01\n",
      "  CPU time: 9375s, wall time: 4781s, perf_time_load: 0.05s, perf_time: 0.05s\n",
      "validation accuracy: best = 82.37, mean = 81.84\n",
      "time per batch: mean = 0.05, var = 0.00076\n"
     ]
    },
    {
     "ename": "ValueError",
     "evalue": "too many values to unpack (expected 4)",
     "output_type": "error",
     "traceback": [
      "\u001b[0;31m---------------------------------------------------------------------------\u001b[0m",
      "\u001b[0;31mValueError\u001b[0m                                Traceback (most recent call last)",
      "\u001b[0;32m<ipython-input-19-9416646c45b5>\u001b[0m in \u001b[0;36m<module>\u001b[0;34m()\u001b[0m\n\u001b[0;32m----> 1\u001b[0;31m \u001b[0maccuracy_validation\u001b[0m\u001b[0;34m,\u001b[0m \u001b[0mloss_validation\u001b[0m\u001b[0;34m,\u001b[0m \u001b[0mloss_training\u001b[0m\u001b[0;34m,\u001b[0m \u001b[0mt_step\u001b[0m \u001b[0;34m=\u001b[0m \u001b[0mmodel\u001b[0m\u001b[0;34m.\u001b[0m\u001b[0mfit\u001b[0m\u001b[0;34m(\u001b[0m\u001b[0mtrain_TFDataset\u001b[0m\u001b[0;34m,\u001b[0m \u001b[0mval_dataset\u001b[0m\u001b[0;34m,\u001b[0m \u001b[0muse_tf_dataset\u001b[0m\u001b[0;34m=\u001b[0m\u001b[0;32mTrue\u001b[0m\u001b[0;34m,\u001b[0m \u001b[0mcache\u001b[0m\u001b[0;34m=\u001b[0m\u001b[0;32mTrue\u001b[0m\u001b[0;34m)\u001b[0m\u001b[0;34m\u001b[0m\u001b[0;34m\u001b[0m\u001b[0m\n\u001b[0m",
      "\u001b[0;31mValueError\u001b[0m: too many values to unpack (expected 4)"
     ]
    }
   ],
   "source": [
    "accuracy_validation, loss_validation, loss_training, t_step, t_batch = model.fit(train_TFDataset, val_dataset, use_tf_dataset=True, cache=True)"
   ]
  },
  {
   "cell_type": "code",
   "execution_count": 20,
   "metadata": {},
   "outputs": [
    {
     "ename": "NameError",
     "evalue": "name 'loss_training' is not defined",
     "output_type": "error",
     "traceback": [
      "\u001b[0;31m---------------------------------------------------------------------------\u001b[0m",
      "\u001b[0;31mNameError\u001b[0m                                 Traceback (most recent call last)",
      "\u001b[0;32m<ipython-input-20-6e3d065454a7>\u001b[0m in \u001b[0;36m<module>\u001b[0;34m()\u001b[0m\n\u001b[0;32m----> 1\u001b[0;31m \u001b[0mplot\u001b[0m\u001b[0;34m.\u001b[0m\u001b[0mplot_loss\u001b[0m\u001b[0;34m(\u001b[0m\u001b[0mloss_training\u001b[0m\u001b[0;34m,\u001b[0m \u001b[0mloss_validation\u001b[0m\u001b[0;34m,\u001b[0m \u001b[0mt_step\u001b[0m\u001b[0;34m,\u001b[0m \u001b[0mparams\u001b[0m\u001b[0;34m[\u001b[0m\u001b[0;34m'eval_frequency'\u001b[0m\u001b[0;34m]\u001b[0m\u001b[0;34m)\u001b[0m\u001b[0;34m\u001b[0m\u001b[0;34m\u001b[0m\u001b[0m\n\u001b[0m",
      "\u001b[0;31mNameError\u001b[0m: name 'loss_training' is not defined"
     ]
    }
   ],
   "source": [
    "plot.plot_loss(loss_training, loss_validation, t_step, params['eval_frequency'])"
   ]
  },
  {
   "cell_type": "markdown",
   "metadata": {},
   "source": [
    "Remarks"
   ]
  },
  {
   "cell_type": "code",
   "execution_count": 16,
   "metadata": {},
   "outputs": [
    {
     "name": "stdout",
     "output_type": "stream",
     "text": [
      "/mnt/scratch/students/gusset/DeepSphere/deepsphere/../checkpoints/shrec17_Cohen_simple_SGD_max_nsides_300epoch_reg_32sides_CNN\n",
      "INFO:tensorflow:Restoring parameters from /mnt/scratch/students/gusset/DeepSphere/deepsphere/../checkpoints/shrec17_Cohen_simple_SGD_max_nsides_300epoch_reg_32sides_CNN/model-294037\n"
     ]
    },
    {
     "data": {
      "text/plain": [
       "('accuracy: 96.53 (30277 / 31364), f1 (weighted): 96.54, loss: 1.16e-01\\nCPU time: 275s, wall time: 257s',\n",
       " 96.53424308123964,\n",
       " 96.54157073077505,\n",
       " 0.115866209483545)"
      ]
     },
     "execution_count": 16,
     "metadata": {},
     "output_type": "execute_result"
    }
   ],
   "source": [
    "model.evaluate(x_train, labels_train)"
   ]
  },
  {
   "cell_type": "code",
   "execution_count": null,
   "metadata": {},
   "outputs": [],
   "source": [
    "#predictions, loss = model.predict(x_val, labels_val)"
   ]
  },
  {
   "cell_type": "code",
   "execution_count": 26,
   "metadata": {},
   "outputs": [
    {
     "name": "stdout",
     "output_type": "stream",
     "text": [
      "/mnt/scratch/students/gusset/DeepSphere/deepsphere/../checkpoints/shrec17_newGraph_best_5K_cache_1aug_32sides_CNN\n",
      "INFO:tensorflow:Restoring parameters from /mnt/scratch/students/gusset/DeepSphere/deepsphere/../checkpoints/shrec17_newGraph_best_5K_cache_1aug_32sides_CNN/model-49006\n"
     ]
    },
    {
     "data": {
      "text/plain": [
       "('accuracy: 81.86 (4202 / 5133), f1 (weighted): 81.47, loss: 9.74e-01\\nCPU time: 12s, wall time: 11s',\n",
       " 81.86245860120786,\n",
       " 81.46578216620523,\n",
       " 0.9739741521947174)"
      ]
     },
     "execution_count": 26,
     "metadata": {},
     "output_type": "execute_result"
    }
   ],
   "source": [
    "# model.evaluate(x_val, labels_val)\n",
    "model.evaluate(val_dataset, None, cache=True)"
   ]
  },
  {
   "cell_type": "code",
   "execution_count": 27,
   "metadata": {
    "scrolled": true
   },
   "outputs": [
    {
     "name": "stdout",
     "output_type": "stream",
     "text": [
      "/mnt/scratch/students/gusset/DeepSphere/deepsphere/../checkpoints/shrec17_newGraph_best_5K_cache_1aug_32sides_CNN\n",
      "INFO:tensorflow:Restoring parameters from /mnt/scratch/students/gusset/DeepSphere/deepsphere/../checkpoints/shrec17_newGraph_best_5K_cache_1aug_32sides_CNN/model-49006\n"
     ]
    }
   ],
   "source": [
    "# probabilities = model.probs(x_val, nclass)\n",
    "probabilities, _ = model.probs(val_dataset, nclass, cache=True)\n",
    "if augmentation>1:\n",
    "    probabilities = probabilities.reshape((-1,augmentation,nclass))\n",
    "    probabilities = probabilities.mean(axis=1)\n",
    "    #ids_val = ids_val[::repeat]\n",
    "predictions = np.argmax(probabilities, axis=1)"
   ]
  },
  {
   "cell_type": "code",
   "execution_count": 28,
   "metadata": {},
   "outputs": [],
   "source": [
    "ids_val = val_dataset.get_ids()"
   ]
  },
  {
   "cell_type": "code",
   "execution_count": null,
   "metadata": {},
   "outputs": [],
   "source": [
    "#predictions = predictions.astype(np.int)"
   ]
  },
  {
   "cell_type": "code",
   "execution_count": 32,
   "metadata": {},
   "outputs": [],
   "source": [
    "from SHREC17.load_shrec import shrec_output"
   ]
  },
  {
   "cell_type": "code",
   "execution_count": 33,
   "metadata": {},
   "outputs": [],
   "source": [
    "shrec_output(probabilities, ids_val, datapath, 'results/val_perturbed')"
   ]
  },
  {
   "cell_type": "code",
   "execution_count": 34,
   "metadata": {},
   "outputs": [],
   "source": [
    "# for every file, find every object with the same class, sorted by most relevance\n",
    "os.makedirs(os.path.join(datapath,'results_aug/val_perturbed'), exist_ok=True)\n",
    "for i,_id in enumerate(ids_val):\n",
    "    idfile = os.path.join(datapath,'results_aug/val_perturbed',_id)\n",
    "    # predictions batchxclass\n",
    "    # pred_class batch == predictions\n",
    "    retrieved = [(probabilities[j, predictions[j]], ids_val[j]) for j in range(len(ids_val)) if predictions[j] == predictions[i]]\n",
    "    retrieved = sorted(retrieved, reverse=True)\n",
    "    retrieved = [i for _, i in retrieved]\n",
    "    with open(idfile, \"w\") as f:\n",
    "        f.write(\"\\n\".join(retrieved))"
   ]
  },
  {
   "cell_type": "markdown",
   "metadata": {},
   "source": [
    "NaN appears if remove i==j case"
   ]
  },
  {
   "cell_type": "markdown",
   "metadata": {},
   "source": [
    "## test network"
   ]
  },
  {
   "cell_type": "code",
   "execution_count": 35,
   "metadata": {},
   "outputs": [
    {
     "name": "stderr",
     "output_type": "stream",
     "text": [
      "10265it [00:20, 493.48it/s]\n"
     ]
    }
   ],
   "source": [
    "test_dataset = Shrec17Dataset(datapath, 'test', perturbed=noise_dataset, download=download, nside=Nside, augmentation=augmentation, nfile=None)"
   ]
  },
  {
   "cell_type": "code",
   "execution_count": 36,
   "metadata": {},
   "outputs": [
    {
     "data": {
      "image/png": "[encoded data removed]",
      "text/plain": [
       "<Figure size 432x288 with 1 Axes>"
      ]
     },
     "metadata": {},
     "output_type": "display_data"
    }
   ],
   "source": [
    "x_test, labels_test, ids_test = test_dataset.return_data(train=False)"
   ]
  },
  {
   "cell_type": "code",
   "execution_count": 37,
   "metadata": {},
   "outputs": [
    {
     "name": "stdout",
     "output_type": "stream",
     "text": [
      "/mnt/scratch/students/gusset/DeepSphere/deepsphere/../checkpoints/shrec17_newGraph_best_5K_cache_1aug_32sides_CNN\n",
      "INFO:tensorflow:Restoring parameters from /mnt/scratch/students/gusset/DeepSphere/deepsphere/../checkpoints/shrec17_newGraph_best_5K_cache_1aug_32sides_CNN/model-49006\n"
     ]
    },
    {
     "data": {
      "text/plain": [
       "('accuracy: 78.81 (8090 / 10265), f1 (weighted): 78.83, loss: 1.19e+00\\nCPU time: 14s, wall time: 13s',\n",
       " 78.81149537262543,\n",
       " 78.8281112626363,\n",
       " 1.1859818069283345)"
      ]
     },
     "execution_count": 37,
     "metadata": {},
     "output_type": "execute_result"
    }
   ],
   "source": [
    "model.evaluate(x_test, labels_test)"
   ]
  },
  {
   "cell_type": "code",
   "execution_count": null,
   "metadata": {},
   "outputs": [],
   "source": [
    "#predictions = model.predict(x_test)"
   ]
  },
  {
   "cell_type": "code",
   "execution_count": 38,
   "metadata": {},
   "outputs": [
    {
     "name": "stdout",
     "output_type": "stream",
     "text": [
      "/mnt/scratch/students/gusset/DeepSphere/deepsphere/../checkpoints/shrec17_newGraph_best_5K_cache_1aug_32sides_CNN\n",
      "INFO:tensorflow:Restoring parameters from /mnt/scratch/students/gusset/DeepSphere/deepsphere/../checkpoints/shrec17_newGraph_best_5K_cache_1aug_32sides_CNN/model-49006\n"
     ]
    }
   ],
   "source": [
    "probabilities = model.probs(x_test, nclass)\n",
    "if augmentation>1:\n",
    "    probabilities = probabilities.reshape((-1,augmentation,nclass))\n",
    "    probabilities = repeat.mean(axis=1)\n",
    "#probabilities = np.log(probabilities)\n",
    "predictions = np.argmax(probabilities, axis=1)"
   ]
  },
  {
   "cell_type": "code",
   "execution_count": null,
   "metadata": {},
   "outputs": [],
   "source": [
    "#predictions = predictions.astype(np.int)"
   ]
  },
  {
   "cell_type": "markdown",
   "metadata": {},
   "source": [
    "write to file"
   ]
  },
  {
   "cell_type": "code",
   "execution_count": 39,
   "metadata": {},
   "outputs": [],
   "source": [
    "# for every file, find every object with the same class, sorted by most relevance\n",
    "os.makedirs(os.path.join(datapath,'results_aug/test_perturbed'), exist_ok=True)\n",
    "for i, _id in enumerate(ids_test):\n",
    "    idfile = os.path.join(datapath,'results_aug/test_perturbed',_id)\n",
    "    # predictions batchxclass\n",
    "    # pred_class batch == predictions\n",
    "    retrieved = [(probabilities[j, predictions[j]], ids_test[j]) for j in range(len(ids_test)) if predictions[j] == predictions[i]]\n",
    "    retrieved = sorted(retrieved, reverse=True)\n",
    "    retrieved = [i for _, i in retrieved]\n",
    "    with open(idfile, \"w\") as f:\n",
    "        f.write(\"\\n\".join(retrieved))"
   ]
  },
  {
   "cell_type": "code",
   "execution_count": 40,
   "metadata": {},
   "outputs": [],
   "source": [
    "shrec_output(probabilities, ids_test, datapath, 'results/test_perturbed')"
   ]
  },
  {
   "cell_type": "markdown",
   "metadata": {},
   "source": [
    "Why not working?"
   ]
  },
  {
   "cell_type": "code",
   "execution_count": 62,
   "metadata": {},
   "outputs": [],
   "source": [
    "def _print_histogram(nclass, labels_train, labels_min=None):\n",
    "    if labels_train is None:\n",
    "        return\n",
    "    import matplotlib.pyplot as plt\n",
    "    from collections import Counter\n",
    "    hist_train=Counter(labels_train)\n",
    "    if labels_min is not None:\n",
    "        hist_min = Counter(labels_min)\n",
    "        hist_temp = hist_train - hist_min\n",
    "        hist_min = hist_min - hist_train\n",
    "        hist_train = hist_temp + hist_min\n",
    "#         for i in range(self.nclass):\n",
    "#             hist_train.append(np.sum(labels_train == i))\n",
    "    labels, values = zip(*hist_train.items())\n",
    "    indexes = np.asarray(labels)\n",
    "#     miss = set(indexes) - set(labels)\n",
    "#     if len(miss) is not 0:\n",
    "#         hist_train.update({elem:0 for elem in miss})\n",
    "#     labels, values = zip(*hist_train.items())\n",
    "    width = 1\n",
    "    plt.bar(labels, values, width)\n",
    "    plt.title(\"labels distribution\")\n",
    "    plt.ylim(0,1700)\n",
    "    #plt.xticks(indexes + width * 0.5, labels)\n",
    "    plt.show()"
   ]
  },
  {
   "cell_type": "code",
   "execution_count": 63,
   "metadata": {},
   "outputs": [
    {
     "data": {
      "image/png": "[encoded data removed]",
      "text/plain": [
       "<Figure size 432x288 with 1 Axes>"
      ]
     },
     "metadata": {},
     "output_type": "display_data"
    },
    {
     "data": {
      "image/png": "[encoded data removed]",
      "text/plain": [
       "<Figure size 432x288 with 1 Axes>"
      ]
     },
     "metadata": {},
     "output_type": "display_data"
    },
    {
     "data": {
      "image/png": "[encoded data removed]",
      "text/plain": [
       "<Figure size 432x288 with 1 Axes>"
      ]
     },
     "metadata": {},
     "output_type": "display_data"
    }
   ],
   "source": [
    "_print_histogram(55, labels_test)\n",
    "_print_histogram(55, predictions)\n",
    "_print_histogram(55, labels_test, predictions)"
   ]
  },
  {
   "cell_type": "code",
   "execution_count": 43,
   "metadata": {},
   "outputs": [],
   "source": [
    "from sklearn.metrics import confusion_matrix"
   ]
  },
  {
   "cell_type": "code",
   "execution_count": 44,
   "metadata": {},
   "outputs": [
    {
     "data": {
      "text/plain": [
       "<matplotlib.image.AxesImage at 0x7f1fdaff4a58>"
      ]
     },
     "execution_count": 44,
     "metadata": {},
     "output_type": "execute_result"
    },
    {
     "data": {
      "image/png": "[encoded data removed]",
      "text/plain": [
       "<Figure size 432x288 with 1 Axes>"
      ]
     },
     "metadata": {},
     "output_type": "display_data"
    }
   ],
   "source": [
    "plt.spy(confusion_matrix(labels_test, predictions, range(55)))"
   ]
  },
  {
   "cell_type": "code",
   "execution_count": null,
   "metadata": {},
   "outputs": [],
   "source": []
  }
 ],
 "metadata": {
  "kernelspec": {
   "display_name": "Python 3",
   "language": "python",
   "name": "python3"
  },
  "language_info": {
   "codemirror_mode": {
    "name": "ipython",
    "version": 3
   },
   "file_extension": ".py",
   "mimetype": "text/x-python",
   "name": "python",
   "nbconvert_exporter": "python",
   "pygments_lexer": "ipython3",
   "version": "3.6.7"
  }
 },
 "nbformat": 4,
 "nbformat_minor": 2
}
