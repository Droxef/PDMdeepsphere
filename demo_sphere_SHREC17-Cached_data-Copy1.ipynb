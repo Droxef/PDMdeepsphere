{
 "cells": [
  {
   "cell_type": "markdown",
   "metadata": {},
   "source": [
    "# DeepSphere using SHREC17 dataset\n",
    "### Benchmark with Cohen method S2CNN[[1]](http://arxiv.org/abs/1801.10130) and Esteves method[[2]](http://arxiv.org/abs/1711.06721)\n",
    "Multi-class classification of 3D objects, using the interesting property of rotation equivariance.\n",
    "\n",
    "The 3D objects are projected on a unit sphere.\n",
    "Cohen and Esteves use equiangular sampling, while our method use a HEAlpix sampling\n",
    "\n",
    "Several features are collected:\n",
    "* projection ray length (from sphere border to intersection [0, 2])\n",
    "* cos/sin with surface normal\n",
    "* same features using the convex hull of the 3D object"
   ]
  },
  {
   "cell_type": "markdown",
   "metadata": {},
   "source": [
    "## 0.1 Load libs"
   ]
  },
  {
   "cell_type": "code",
   "execution_count": 1,
   "metadata": {},
   "outputs": [],
   "source": [
    "%load_ext autoreload\n",
    "%autoreload 2\n",
    "%matplotlib inline"
   ]
  },
  {
   "cell_type": "code",
   "execution_count": 2,
   "metadata": {},
   "outputs": [],
   "source": [
    "import os\n",
    "import shutil\n",
    "import sys\n",
    "\n",
    "os.environ[\"CUDA_VISIBLE_DEVICES\"] = \"1\"  # change to chosen GPU to use, nothing if work on CPU\n",
    "\n",
    "import numpy as np\n",
    "import time\n",
    "import matplotlib.pyplot as plt\n",
    "import healpy as hp"
   ]
  },
  {
   "cell_type": "code",
   "execution_count": 4,
   "metadata": {},
   "outputs": [],
   "source": [
    "from deepsphere import models, experiment_helper, plot, utils\n",
    "from deepsphere.data import LabeledDatasetWithNoise, LabeledDataset\n",
    "import hyperparameters\n",
    "\n",
    "from SHREC17.load_shrec import fix_dataset, Shrec17Dataset, Shrec17DatasetCache, Shrec17DatasetTF"
   ]
  },
  {
   "cell_type": "markdown",
   "metadata": {},
   "source": [
    "## 0.2 Define parameters"
   ]
  },
  {
   "cell_type": "code",
   "execution_count": 5,
   "metadata": {},
   "outputs": [],
   "source": [
    "Nside = 32\n",
    "experiment_type = 'CNN' # 'FCN'\n",
    "ename = '_'+experiment_type\n",
    "datapath = '../data/shrec17/' # localisation of the .obj files"
   ]
  },
  {
   "cell_type": "code",
   "execution_count": 15,
   "metadata": {},
   "outputs": [],
   "source": [
    "noise_dataset = True    # use perturbed dataset (Cohen and Esteves do the same)\n",
    "augmentation = 1        # number of element per file (1 = no augmentation of dataset)\n",
    "nfeat = 2"
   ]
  },
  {
   "cell_type": "markdown",
   "metadata": {},
   "source": [
    "## 1 Load dataset"
   ]
  },
  {
   "cell_type": "code",
   "execution_count": 7,
   "metadata": {},
   "outputs": [],
   "source": [
    "# if datasets are already downloaded but not preprocessed\n",
    "fix = False\n",
    "download = False\n",
    "if fix:\n",
    "    fix_dataset(datapath+'val_perturbed')\n",
    "    fix_dataset(datapath+'test_perturbed')"
   ]
  },
  {
   "cell_type": "markdown",
   "metadata": {},
   "source": [
    "download dataset if True, preprocess data and store it in npy files, and load it in a dataset object"
   ]
  },
  {
   "cell_type": "code",
   "execution_count": null,
   "metadata": {},
   "outputs": [],
   "source": [
    "#train_dataset = Shrec17DatasetCache(datapath, 'train', perturbed=noise_dataset, download=download, nside=Nside, augmentation=augmentation, nfile=None)\n"
   ]
  },
  {
   "cell_type": "markdown",
   "metadata": {},
   "source": [
    "Better to keep validation and testing set in RAM, but not always possible"
   ]
  },
  {
   "cell_type": "code",
   "execution_count": 8,
   "metadata": {},
   "outputs": [],
   "source": [
    "val_dataset = Shrec17DatasetCache(datapath, 'val', perturbed=noise_dataset, download=download, nside=Nside, nfeat=nfeat, augmentation=1, nfile=None)"
   ]
  },
  {
   "cell_type": "markdown",
   "metadata": {},
   "source": [
    "Try do make a tensorflow dataset object"
   ]
  },
  {
   "cell_type": "code",
   "execution_count": 9,
   "metadata": {},
   "outputs": [],
   "source": [
    "train_TFDataset = Shrec17DatasetTF(datapath, 'train', perturbed=noise_dataset, download=download, nside=Nside, nfeat=nfeat, augmentation=augmentation, nfile=None)"
   ]
  },
  {
   "cell_type": "code",
   "execution_count": 10,
   "metadata": {},
   "outputs": [],
   "source": [
    "#dataset = train_TFDataset.get_tf_dataset(32)"
   ]
  },
  {
   "cell_type": "code",
   "execution_count": 11,
   "metadata": {},
   "outputs": [],
   "source": [
    "# import time\n",
    "# import tensorflow as tf\n",
    "\n",
    "# #dataset = tf_dataset_file(datapath, dataset, file_pattern, 32, Nside, augmentation)\n",
    "# t_start = time.time()\n",
    "# data_next = dataset.make_one_shot_iterator().get_next()\n",
    "# config = tf.ConfigProto()\n",
    "# config.gpu_options.allow_growth = True\n",
    "# steps = train_TFDataset.N // 32 + 1\n",
    "# with tf.Session(config=config) as sess:\n",
    "#     sess.run(tf.global_variables_initializer())\n",
    "#     try:\n",
    "#         for i in range(steps):\n",
    "#             out = sess.run(data_next)\n",
    "#     except tf.errors.OutOfRangeError:\n",
    "#         print(\"Done\") # Never reach this as will iterate on infinite sets\n",
    "# t_end = time.time()\n",
    "# print(str(t_end-t_start)+\" s\")\n",
    "\n",
    "# # t_start = time.time()\n",
    "# # data_iter = train_dataset.iter(32)\n",
    "# # steps = int(train_dataset.N / 32)\n",
    "# # for i in range(steps):\n",
    "# #     next(data_iter)\n",
    "# #     #feed_dict = {self.ph_data: batch_data, self.ph_labels: batch_labels, self.ph_training: True}\n",
    "# # t_end = time.time()\n",
    "# # print(str(t_end-t_start)+\" s\")"
   ]
  },
  {
   "cell_type": "markdown",
   "metadata": {},
   "source": [
    "## 1.1 Preprocess the dataset"
   ]
  },
  {
   "cell_type": "markdown",
   "metadata": {},
   "source": [
    "Shuffle the training dataset and print the classes distribution"
   ]
  },
  {
   "cell_type": "code",
   "execution_count": 10,
   "metadata": {},
   "outputs": [
    {
     "name": "stdout",
     "output_type": "stream",
     "text": [
      "number of class: 55 \n",
      "number of elements: 31364\n"
     ]
    }
   ],
   "source": [
    "nclass = train_TFDataset.nclass\n",
    "num_elem = train_TFDataset.N\n",
    "#ids_train = train_dataset.ids\n",
    "print('number of class:',nclass,'\\nnumber of elements:',num_elem)#,'\\nfirst id:',ids_train[0])"
   ]
  },
  {
   "cell_type": "code",
   "execution_count": 13,
   "metadata": {},
   "outputs": [],
   "source": [
    "# x_val, labels_val, ids_val = val_dataset.return_data(train=False)"
   ]
  },
  {
   "cell_type": "markdown",
   "metadata": {},
   "source": [
    "## 2 Classification using DeepSphere"
   ]
  },
  {
   "cell_type": "markdown",
   "metadata": {},
   "source": [
    "Use of the Dataset object used for other DeepSphere experiments"
   ]
  },
  {
   "cell_type": "code",
   "execution_count": 15,
   "metadata": {},
   "outputs": [],
   "source": [
    "# #training = LabeledDatasetWithNoise(x_train, labels_train, end_level=sigma_noise)\n",
    "# #training = LabeledDataset(x_train, labels_train)\n",
    "# validation = LabeledDataset(x_val, labels_val)"
   ]
  },
  {
   "cell_type": "code",
   "execution_count": 11,
   "metadata": {},
   "outputs": [],
   "source": [
    "EXP_NAME = 'shrec17_newGraph_best_4K_triplet_{}feat_{}aug_{}sides{}'.format(nfeat, augmentation, Nside, ename)\n",
    "#EXP_NAME = 'shrec17_Cohen_simple_SGD_max_nsides_300epoch_{}sides{}'.format(Nside, ename)\n",
    "#EXP_NAME = \"shrec17_newGraph_best_4K_7dropout_1aug_32sides_CNN\"\n",
    "#EXP_NAME = 'essai_0loss'"
   ]
  },
  {
   "cell_type": "markdown",
   "metadata": {},
   "source": [
    "Load model with hyperparameters chosen.\n",
    "For each experiment, a new EXP_NAME is chosen, and new hyperparameters are store.\n",
    "All informations are present 'DeepSphere/Shrec17/experiments.md'\n",
    "The fastest way to reproduce an experiment is to revert to the commit of the experiment to load the correct files and notebook"
   ]
  },
  {
   "cell_type": "markdown",
   "metadata": {},
   "source": [
    "Adding a layer in the fully connected can be beneficial"
   ]
  },
  {
   "cell_type": "code",
   "execution_count": 12,
   "metadata": {},
   "outputs": [
    {
     "name": "stdout",
     "output_type": "stream",
     "text": [
      "#sides: [32, 16, 8, 4, 2, 1, 1]\n",
      "#pixels: [12288, 3072, 768, 192, 48, 12, 12]\n",
      "#samples per batch: 32\n",
      "=> #pixels per batch (input): 393,216\n",
      "=> #pixels for training (input): 19,270,041,600\n",
      "Learning rate will start at 2.0e-02 and finish at 2.0e-02.\n",
      "NN architecture\n",
      "  input: M_0 = 12288\n",
      "  layer 1: cgconv1\n",
      "    representation: M_0 * F_1 / p_1 = 12288 * 16 / 4 = 49152\n",
      "    weights: F_0 * F_1 * K_1 = 6 * 16 * 4 = 384\n",
      "    biases: F_1 = 16\n",
      "    batch normalization\n",
      "  layer 2: cgconv2\n",
      "    representation: M_1 * F_2 / p_2 = 3072 * 32 / 4 = 24576\n",
      "    weights: F_1 * F_2 * K_2 = 16 * 32 * 4 = 2048\n",
      "    biases: F_2 = 32\n",
      "    batch normalization\n",
      "  layer 3: cgconv3\n",
      "    representation: M_2 * F_3 / p_3 = 768 * 64 / 4 = 12288\n",
      "    weights: F_2 * F_3 * K_3 = 32 * 64 * 4 = 8192\n",
      "    biases: F_3 = 64\n",
      "    batch normalization\n",
      "  layer 4: cgconv4\n",
      "    representation: M_3 * F_4 / p_4 = 192 * 128 / 4 = 6144\n",
      "    weights: F_3 * F_4 * K_4 = 64 * 128 * 4 = 32768\n",
      "    biases: F_4 = 128\n",
      "    batch normalization\n",
      "  layer 5: cgconv5\n",
      "    representation: M_4 * F_5 / p_5 = 48 * 256 / 4 = 3072\n",
      "    weights: F_4 * F_5 * K_5 = 128 * 256 * 4 = 131072\n",
      "    biases: F_5 = 256\n",
      "    batch normalization\n",
      "  Statistical layer: mean\n",
      "    representation: 1 * 256 = 256\n",
      "  layer 6: logits (softmax)\n",
      "    representation: M_6 = 55\n",
      "    weights: M_5 * M_6 = 256 * 55 = 14080\n"
     ]
    }
   ],
   "source": [
    "params = hyperparameters.get_params_shrec17_optim(num_elem, EXP_NAME, Nside, nclass, nfeat_in=nfeat, architecture=experiment_type)\n",
    "params[\"tf_dataset\"] = train_TFDataset.get_tf_dataset(params[\"batch_size\"])\n",
    "params[\"std\"] = 0.001\n",
    "params[\"extra_loss\"]=True\n",
    "model = models.deepsphere(**params)"
   ]
  },
  {
   "cell_type": "code",
   "execution_count": 52,
   "metadata": {},
   "outputs": [],
   "source": [
    "#EXP_NAME = \"shrec17_best_4K_cache_1aug_128sides_CNN\"\n",
    "shutil.rmtree('summaries/{}/'.format(EXP_NAME), ignore_errors=True)\n",
    "shutil.rmtree('checkpoints/{}/'.format(EXP_NAME), ignore_errors=True)"
   ]
  },
  {
   "cell_type": "markdown",
   "metadata": {},
   "source": [
    "Find a correct learning rate"
   ]
  },
  {
   "cell_type": "code",
   "execution_count": null,
   "metadata": {
    "scrolled": true
   },
   "outputs": [
    {
     "name": "stdout",
     "output_type": "stream",
     "text": [
      "NN architecture\n",
      "  input: M_0 = 196608\n",
      "  layer 1: cgconv1\n",
      "    representation: M_0 * F_1 / p_1 = 196608 * 16 / 4 = 786432\n",
      "    weights: F_0 * F_1 * K_1 = 6 * 16 * 5 = 480\n",
      "    biases: F_1 = 16\n",
      "    batch normalization\n",
      "  layer 2: cgconv2\n",
      "    representation: M_1 * F_2 / p_2 = 49152 * 32 / 4 = 393216\n",
      "    weights: F_1 * F_2 * K_2 = 16 * 32 * 5 = 2560\n",
      "    biases: F_2 = 32\n",
      "    batch normalization\n",
      "  layer 3: cgconv3\n",
      "    representation: M_2 * F_3 / p_3 = 12288 * 64 / 4 = 196608\n",
      "    weights: F_2 * F_3 * K_3 = 32 * 64 * 5 = 10240\n",
      "    biases: F_3 = 64\n",
      "    batch normalization\n",
      "  layer 4: cgconv4\n",
      "    representation: M_3 * F_4 / p_4 = 3072 * 128 / 4 = 98304\n",
      "    weights: F_3 * F_4 * K_4 = 64 * 128 * 5 = 40960\n",
      "    biases: F_4 = 128\n",
      "    batch normalization\n",
      "  layer 5: cgconv5\n",
      "    representation: M_4 * F_5 / p_5 = 768 * 256 / 4 = 49152\n",
      "    weights: F_4 * F_5 * K_5 = 128 * 256 * 5 = 163840\n",
      "    biases: F_5 = 256\n",
      "    batch normalization\n",
      "  Statistical layer: mean\n",
      "    representation: 1 * 256 = 256\n",
      "  layer 6: logits (softmax)\n",
      "    representation: M_6 = 55\n",
      "    weights: M_5 * M_6 = 256 * 55 = 14080\n",
      "step 490 / 19602 (epoch 0.50 / 20):\n",
      "  learning_rate = 1.78e-06, training loss = 4.24e+00\n"
     ]
    },
    {
     "name": "stderr",
     "output_type": "stream",
     "text": [
      "/home/gusset/miniconda3/envs/PDMsphere/lib/python3.6/site-packages/sklearn/metrics/classification.py:1135: UndefinedMetricWarning: F-score is ill-defined and being set to 0.0 in labels with no predicted samples.\n",
      "  'precision', 'predicted', average, warn_for)\n"
     ]
    },
    {
     "name": "stdout",
     "output_type": "stream",
     "text": [
      "  validation accuracy: 0.76 (39 / 5133), f1 (weighted): 0.80, loss: 4.29e+00\n",
      "  CPU time: 1477s, wall time: 797s, perf_time_load: 1.16s, perf_time: 1.16s\n",
      "step 980 / 19602 (epoch 1.00 / 20):\n",
      "  learning_rate = 3.16e-06, training loss = 4.13e+00\n",
      "  validation accuracy: 3.78 (194 / 5133), f1 (weighted): 2.88, loss: 4.19e+00\n",
      "  CPU time: 2964s, wall time: 1587s, perf_time_load: 1.13s, perf_time: 1.13s\n",
      "step 1470 / 19602 (epoch 1.50 / 20):\n",
      "  learning_rate = 5.62e-06, training loss = 4.08e+00\n",
      "  validation accuracy: 10.29 (528 / 5133), f1 (weighted): 4.54, loss: 4.00e+00\n",
      "  CPU time: 4446s, wall time: 2374s, perf_time_load: 1.16s, perf_time: 1.16s\n",
      "step 1960 / 19602 (epoch 2.00 / 20):\n",
      "  learning_rate = 9.99e-06, training loss = 3.78e+00\n",
      "  validation accuracy: 26.57 (1364 / 5133), f1 (weighted): 15.49, loss: 3.70e+00\n",
      "  CPU time: 5924s, wall time: 3166s, perf_time_load: 1.15s, perf_time: 1.15s\n",
      "step 2450 / 19602 (epoch 2.50 / 20):\n",
      "  learning_rate = 1.78e-05, training loss = 3.08e+00\n",
      "  validation accuracy: 35.52 (1823 / 5133), f1 (weighted): 23.55, loss: 3.37e+00\n",
      "  CPU time: 7409s, wall time: 3951s, perf_time_load: 1.15s, perf_time: 1.15s\n",
      "step 2940 / 19602 (epoch 3.00 / 20):\n",
      "  learning_rate = 3.16e-05, training loss = 2.92e+00\n",
      "  validation accuracy: 41.22 (2116 / 5133), f1 (weighted): 27.08, loss: 3.05e+00\n",
      "  CPU time: 8890s, wall time: 4737s, perf_time_load: 1.17s, perf_time: 1.17s\n",
      "step 3430 / 19602 (epoch 3.50 / 20):\n",
      "  learning_rate = 5.62e-05, training loss = 2.43e+00\n",
      "  validation accuracy: 43.13 (2214 / 5133), f1 (weighted): 29.75, loss: 2.78e+00\n",
      "  CPU time: 10385s, wall time: 5525s, perf_time_load: 1.14s, perf_time: 1.14s\n",
      "step 3920 / 19602 (epoch 4.00 / 20):\n",
      "  learning_rate = 9.99e-05, training loss = 2.51e+00\n",
      "  validation accuracy: 46.13 (2368 / 5133), f1 (weighted): 34.35, loss: 2.55e+00\n",
      "  CPU time: 11895s, wall time: 6315s, perf_time_load: 1.14s, perf_time: 1.14s\n",
      "step 4410 / 19602 (epoch 4.50 / 20):\n",
      "  learning_rate = 1.78e-04, training loss = 2.13e+00\n",
      "  validation accuracy: 48.61 (2495 / 5133), f1 (weighted): 38.04, loss: 2.32e+00\n",
      "  CPU time: 13355s, wall time: 7094s, perf_time_load: 1.17s, perf_time: 1.17s\n",
      "step 4900 / 19602 (epoch 5.00 / 20):\n",
      "  learning_rate = 3.16e-04, training loss = 2.27e+00\n",
      "  validation accuracy: 52.41 (2690 / 5133), f1 (weighted): 43.24, loss: 2.12e+00\n",
      "  CPU time: 14828s, wall time: 7876s, perf_time_load: 1.17s, perf_time: 1.17s\n",
      "step 5390 / 19602 (epoch 5.50 / 20):\n",
      "  learning_rate = 5.61e-04, training loss = 1.93e+00\n",
      "  validation accuracy: 56.91 (2921 / 5133), f1 (weighted): 49.32, loss: 1.93e+00\n",
      "  CPU time: 16301s, wall time: 8660s, perf_time_load: 1.17s, perf_time: 1.17s\n",
      "step 5880 / 19602 (epoch 6.00 / 20):\n",
      "  learning_rate = 9.98e-04, training loss = 1.77e+00\n",
      "  validation accuracy: 61.33 (3148 / 5133), f1 (weighted): 55.17, loss: 1.75e+00\n",
      "  CPU time: 17783s, wall time: 9427s, perf_time_load: 1.11s, perf_time: 1.11s\n",
      "step 6370 / 19602 (epoch 6.50 / 20):\n",
      "  learning_rate = 1.77e-03, training loss = 1.69e+00\n",
      "  validation accuracy: 64.50 (3311 / 5133), f1 (weighted): 59.56, loss: 1.60e+00\n",
      "  CPU time: 19248s, wall time: 10200s, perf_time_load: 1.13s, perf_time: 1.13s\n"
     ]
    }
   ],
   "source": [
    "backup = params.copy()\n",
    "\n",
    "params, learning_rate = utils.test_learning_rates(params, train_TFDataset.N, 1e-6, 1e-1, num_epochs=20)\n",
    "\n",
    "shutil.rmtree('summaries/{}/'.format(params['dir_name']), ignore_errors=True)\n",
    "shutil.rmtree('checkpoints/{}/'.format(params['dir_name']), ignore_errors=True)\n",
    "\n",
    "model = models.deepsphere(**params)\n",
    "_, loss_validation, _, _ = model.fit(train_TFDataset, val_dataset, use_tf_dataset=True, cache=True)\n",
    "\n",
    "params.update(backup)\n",
    "\n",
    "plt.semilogx(learning_rate, loss_validation, '.-')"
   ]
  },
  {
   "cell_type": "code",
   "execution_count": null,
   "metadata": {},
   "outputs": [],
   "source": [
    "shutil.rmtree('summaries/lr_finder/', ignore_errors=True)\n",
    "shutil.rmtree('checkpoints/lr_finder/', ignore_errors=True)"
   ]
  },
  {
   "cell_type": "markdown",
   "metadata": {},
   "source": [
    "0.9 seems to be a good learning rate for SGD with current parameters"
   ]
  },
  {
   "cell_type": "markdown",
   "metadata": {},
   "source": [
    "## 2.2 Train Network"
   ]
  },
  {
   "cell_type": "code",
   "execution_count": 13,
   "metadata": {},
   "outputs": [
    {
     "name": "stdout",
     "output_type": "stream",
     "text": [
      "conv1/weights:0\n",
      "conv1/bias:0\n",
      "conv2/weights:0\n",
      "conv2/bias:0\n",
      "conv3/weights:0\n",
      "conv3/bias:0\n",
      "conv4/weights:0\n",
      "conv4/bias:0\n",
      "conv5/weights:0\n",
      "conv5/bias:0\n",
      "logits/weights:0\n",
      "the number of parameters in the model is: 189,040\n"
     ]
    }
   ],
   "source": [
    "print(\"the number of parameters in the model is: {:,}\".format(model.get_nbr_var()))"
   ]
  },
  {
   "cell_type": "code",
   "execution_count": 14,
   "metadata": {
    "scrolled": true
   },
   "outputs": [
    {
     "name": "stdout",
     "output_type": "stream",
     "text": [
      "step 245 / 49006 (epoch 0.25 / 50):\n",
      "  learning_rate = 2.00e-02, training accuracy = 71.88, training loss = 1.96e+00\n"
     ]
    },
    {
     "name": "stderr",
     "output_type": "stream",
     "text": [
      "/home/gusset/miniconda3/envs/PDMsphere/lib/python3.6/site-packages/sklearn/metrics/classification.py:1135: UndefinedMetricWarning: F-score is ill-defined and being set to 0.0 in labels with no predicted samples.\n",
      "  'precision', 'predicted', average, warn_for)\n"
     ]
    },
    {
     "name": "stdout",
     "output_type": "stream",
     "text": [
      "  validation accuracy: 66.67 (3422 / 5133), f1 (weighted): 62.76, loss: 2.16e+00\n",
      "  CPU time: 62s, wall time: 34s, perf_time_load: 0.05s, perf_time: 0.00s\n",
      "step 490 / 49006 (epoch 0.50 / 50):\n",
      "  learning_rate = 2.00e-02, training accuracy = 75.00, training loss = 1.63e+00\n",
      "  validation accuracy: 69.69 (3577 / 5133), f1 (weighted): 67.41, loss: 1.91e+00\n",
      "  CPU time: 121s, wall time: 62s, perf_time_load: 0.05s, perf_time: 0.00s\n",
      "step 735 / 49006 (epoch 0.75 / 50):\n",
      "  learning_rate = 2.00e-02, training accuracy = 68.75, training loss = 1.98e+00\n",
      "  validation accuracy: 71.99 (3695 / 5133), f1 (weighted): 70.52, loss: 1.80e+00\n",
      "  CPU time: 185s, wall time: 92s, perf_time_load: 0.07s, perf_time: 0.00s\n",
      "step 980 / 49006 (epoch 1.00 / 50):\n",
      "  learning_rate = 2.00e-02, training accuracy = 68.75, training loss = 1.72e+00\n",
      "  validation accuracy: 72.65 (3729 / 5133), f1 (weighted): 70.39, loss: 1.69e+00\n",
      "  CPU time: 238s, wall time: 118s, perf_time_load: 0.06s, perf_time: 0.00s\n",
      "step 1225 / 49006 (epoch 1.25 / 50):\n",
      "  learning_rate = 2.00e-02, training accuracy = 81.25, training loss = 9.54e-01\n",
      "  validation accuracy: 72.20 (3706 / 5133), f1 (weighted): 70.02, loss: 1.70e+00\n",
      "  CPU time: 300s, wall time: 147s, perf_time_load: 0.08s, perf_time: 0.00s\n",
      "step 1470 / 49006 (epoch 1.50 / 50):\n",
      "  learning_rate = 2.00e-02, training accuracy = 75.00, training loss = 1.13e+00\n",
      "  validation accuracy: 76.72 (3938 / 5133), f1 (weighted): 74.76, loss: 1.46e+00\n",
      "  CPU time: 350s, wall time: 173s, perf_time_load: 0.05s, perf_time: 0.00s\n",
      "step 1715 / 49006 (epoch 1.75 / 50):\n",
      "  learning_rate = 2.00e-02, training accuracy = 75.00, training loss = 1.66e+00\n",
      "  validation accuracy: 76.91 (3948 / 5133), f1 (weighted): 74.97, loss: 1.41e+00\n",
      "  CPU time: 397s, wall time: 197s, perf_time_load: 0.05s, perf_time: 0.00s\n",
      "step 1960 / 49006 (epoch 2.00 / 50):\n",
      "  learning_rate = 2.00e-02, training accuracy = 71.88, training loss = 1.42e+00\n",
      "  validation accuracy: 77.36 (3971 / 5133), f1 (weighted): 75.95, loss: 1.34e+00\n",
      "  CPU time: 445s, wall time: 222s, perf_time_load: 0.06s, perf_time: 0.00s\n",
      "step 2205 / 49006 (epoch 2.25 / 50):\n",
      "  learning_rate = 2.00e-02, training accuracy = 84.38, training loss = 9.46e-01\n",
      "  validation accuracy: 78.06 (4007 / 5133), f1 (weighted): 75.78, loss: 1.31e+00\n",
      "  CPU time: 498s, wall time: 248s, perf_time_load: 0.06s, perf_time: 0.00s\n",
      "step 2450 / 49006 (epoch 2.50 / 50):\n",
      "  learning_rate = 2.00e-02, training accuracy = 87.50, training loss = 6.68e-01\n",
      "  validation accuracy: 77.85 (3996 / 5133), f1 (weighted): 76.72, loss: 1.26e+00\n",
      "  CPU time: 546s, wall time: 272s, perf_time_load: 0.05s, perf_time: 0.00s\n",
      "step 2695 / 49006 (epoch 2.75 / 50):\n",
      "  learning_rate = 2.00e-02, training accuracy = 93.75, training loss = 7.12e-01\n",
      "  validation accuracy: 77.81 (3994 / 5133), f1 (weighted): 76.53, loss: 1.25e+00\n",
      "  CPU time: 595s, wall time: 298s, perf_time_load: 0.05s, perf_time: 0.00s\n",
      "step 2940 / 49006 (epoch 3.00 / 50):\n",
      "  learning_rate = 2.00e-02, training accuracy = 84.38, training loss = 9.49e-01\n",
      "  validation accuracy: 78.49 (4029 / 5133), f1 (weighted): 77.57, loss: 1.21e+00\n",
      "  CPU time: 642s, wall time: 322s, perf_time_load: 0.05s, perf_time: 0.00s\n",
      "step 3185 / 49006 (epoch 3.25 / 50):\n",
      "  learning_rate = 2.00e-02, training accuracy = 84.38, training loss = 7.19e-01\n",
      "  validation accuracy: 79.60 (4086 / 5133), f1 (weighted): 78.10, loss: 1.19e+00\n",
      "  CPU time: 689s, wall time: 347s, perf_time_load: 0.05s, perf_time: 0.00s\n",
      "step 3430 / 49006 (epoch 3.50 / 50):\n",
      "  learning_rate = 2.00e-02, training accuracy = 84.38, training loss = 1.39e+00\n",
      "  validation accuracy: 79.35 (4073 / 5133), f1 (weighted): 77.95, loss: 1.18e+00\n",
      "  CPU time: 736s, wall time: 371s, perf_time_load: 0.06s, perf_time: 0.00s\n",
      "step 3675 / 49006 (epoch 3.75 / 50):\n",
      "  learning_rate = 2.00e-02, training accuracy = 78.12, training loss = 1.29e+00\n",
      "  validation accuracy: 80.03 (4108 / 5133), f1 (weighted): 78.48, loss: 1.17e+00\n",
      "  CPU time: 782s, wall time: 396s, perf_time_load: 0.05s, perf_time: 0.00s\n",
      "step 3920 / 49006 (epoch 4.00 / 50):\n",
      "  learning_rate = 2.00e-02, training accuracy = 84.38, training loss = 6.50e-01\n",
      "  validation accuracy: 79.33 (4072 / 5133), f1 (weighted): 78.42, loss: 1.13e+00\n",
      "  CPU time: 828s, wall time: 419s, perf_time_load: 0.05s, perf_time: 0.00s\n",
      "step 4165 / 49006 (epoch 4.25 / 50):\n",
      "  learning_rate = 2.00e-02, training accuracy = 90.62, training loss = 1.09e+00\n",
      "  validation accuracy: 79.95 (4104 / 5133), f1 (weighted): 78.73, loss: 1.16e+00\n",
      "  CPU time: 875s, wall time: 444s, perf_time_load: 0.05s, perf_time: 0.00s\n",
      "step 4410 / 49006 (epoch 4.50 / 50):\n",
      "  learning_rate = 2.00e-02, training accuracy = 75.00, training loss = 1.02e+00\n",
      "  validation accuracy: 79.74 (4093 / 5133), f1 (weighted): 79.06, loss: 1.15e+00\n",
      "  CPU time: 922s, wall time: 468s, perf_time_load: 0.05s, perf_time: 0.00s\n",
      "step 4655 / 49006 (epoch 4.75 / 50):\n",
      "  learning_rate = 2.00e-02, training accuracy = 87.50, training loss = 6.97e-01\n",
      "  validation accuracy: 80.64 (4139 / 5133), f1 (weighted): 79.33, loss: 1.11e+00\n",
      "  CPU time: 970s, wall time: 493s, perf_time_load: 0.05s, perf_time: 0.00s\n",
      "step 4900 / 49006 (epoch 5.00 / 50):\n",
      "  learning_rate = 2.00e-02, training accuracy = 90.62, training loss = 5.99e-01\n",
      "  validation accuracy: 80.17 (4115 / 5133), f1 (weighted): 79.19, loss: 1.09e+00\n",
      "  CPU time: 1017s, wall time: 517s, perf_time_load: 0.06s, perf_time: 0.00s\n",
      "step 5145 / 49006 (epoch 5.25 / 50):\n",
      "  learning_rate = 2.00e-02, training accuracy = 90.62, training loss = 5.75e-01\n",
      "  validation accuracy: 80.87 (4151 / 5133), f1 (weighted): 80.03, loss: 1.08e+00\n",
      "  CPU time: 1064s, wall time: 541s, perf_time_load: 0.05s, perf_time: 0.00s\n",
      "step 5390 / 49006 (epoch 5.50 / 50):\n",
      "  learning_rate = 2.00e-02, training accuracy = 78.12, training loss = 8.65e-01\n",
      "  validation accuracy: 80.11 (4112 / 5133), f1 (weighted): 79.16, loss: 1.09e+00\n",
      "  CPU time: 1118s, wall time: 567s, perf_time_load: 0.05s, perf_time: 0.00s\n",
      "step 5635 / 49006 (epoch 5.75 / 50):\n",
      "  learning_rate = 2.00e-02, training accuracy = 87.50, training loss = 5.43e-01\n",
      "  validation accuracy: 80.05 (4109 / 5133), f1 (weighted): 79.37, loss: 1.11e+00\n",
      "  CPU time: 1165s, wall time: 592s, perf_time_load: 0.07s, perf_time: 0.01s\n",
      "step 5880 / 49006 (epoch 6.00 / 50):\n",
      "  learning_rate = 2.00e-02, training accuracy = 90.62, training loss = 6.17e-01\n",
      "  validation accuracy: 81.39 (4178 / 5133), f1 (weighted): 80.57, loss: 1.06e+00\n",
      "  CPU time: 1212s, wall time: 616s, perf_time_load: 0.05s, perf_time: 0.00s\n",
      "step 6125 / 49006 (epoch 6.25 / 50):\n",
      "  learning_rate = 2.00e-02, training accuracy = 81.25, training loss = 8.33e-01\n",
      "  validation accuracy: 80.46 (4130 / 5133), f1 (weighted): 79.62, loss: 1.09e+00\n",
      "  CPU time: 1259s, wall time: 640s, perf_time_load: 0.05s, perf_time: 0.00s\n",
      "step 6370 / 49006 (epoch 6.50 / 50):\n",
      "  learning_rate = 2.00e-02, training accuracy = 87.50, training loss = 7.74e-01\n",
      "  validation accuracy: 81.55 (4186 / 5133), f1 (weighted): 80.64, loss: 1.04e+00\n",
      "  CPU time: 1307s, wall time: 665s, perf_time_load: 0.05s, perf_time: 0.00s\n",
      "step 6615 / 49006 (epoch 6.75 / 50):\n",
      "  learning_rate = 2.00e-02, training accuracy = 78.12, training loss = 9.62e-01\n",
      "  validation accuracy: 80.75 (4145 / 5133), f1 (weighted): 79.80, loss: 1.09e+00\n",
      "  CPU time: 1360s, wall time: 691s, perf_time_load: 0.05s, perf_time: 0.00s\n",
      "step 6860 / 49006 (epoch 7.00 / 50):\n",
      "  learning_rate = 2.00e-02, training accuracy = 93.75, training loss = 5.70e-01\n",
      "  validation accuracy: 81.92 (4205 / 5133), f1 (weighted): 81.19, loss: 1.03e+00\n",
      "  CPU time: 1408s, wall time: 716s, perf_time_load: 0.05s, perf_time: 0.00s\n",
      "step 7105 / 49006 (epoch 7.25 / 50):\n",
      "  learning_rate = 2.00e-02, training accuracy = 84.38, training loss = 6.31e-01\n",
      "  validation accuracy: 81.67 (4192 / 5133), f1 (weighted): 81.03, loss: 1.05e+00\n",
      "  CPU time: 1456s, wall time: 741s, perf_time_load: 0.05s, perf_time: 0.00s\n",
      "step 7350 / 49006 (epoch 7.50 / 50):\n",
      "  learning_rate = 2.00e-02, training accuracy = 87.50, training loss = 6.63e-01\n",
      "  validation accuracy: 81.77 (4197 / 5133), f1 (weighted): 81.01, loss: 1.04e+00\n",
      "  CPU time: 1502s, wall time: 765s, perf_time_load: 0.05s, perf_time: 0.00s\n",
      "step 7595 / 49006 (epoch 7.75 / 50):\n",
      "  learning_rate = 2.00e-02, training accuracy = 90.62, training loss = 5.00e-01\n"
     ]
    },
    {
     "name": "stdout",
     "output_type": "stream",
     "text": [
      "  validation accuracy: 81.84 (4201 / 5133), f1 (weighted): 81.09, loss: 1.05e+00\n",
      "  CPU time: 1550s, wall time: 790s, perf_time_load: 0.05s, perf_time: 0.00s\n",
      "step 7840 / 49006 (epoch 8.00 / 50):\n",
      "  learning_rate = 2.00e-02, training accuracy = 87.50, training loss = 4.66e-01\n",
      "  validation accuracy: 81.38 (4177 / 5133), f1 (weighted): 80.40, loss: 1.07e+00\n",
      "  CPU time: 1597s, wall time: 815s, perf_time_load: 0.05s, perf_time: 0.00s\n",
      "step 8085 / 49006 (epoch 8.25 / 50):\n",
      "  learning_rate = 2.00e-02, training accuracy = 87.50, training loss = 8.70e-01\n",
      "  validation accuracy: 82.12 (4215 / 5133), f1 (weighted): 81.43, loss: 1.02e+00\n",
      "  CPU time: 1644s, wall time: 839s, perf_time_load: 0.05s, perf_time: 0.00s\n",
      "step 8330 / 49006 (epoch 8.50 / 50):\n",
      "  learning_rate = 2.00e-02, training accuracy = 78.12, training loss = 8.16e-01\n",
      "  validation accuracy: 81.18 (4167 / 5133), f1 (weighted): 80.47, loss: 1.05e+00\n",
      "  CPU time: 1691s, wall time: 863s, perf_time_load: 0.05s, perf_time: 0.00s\n",
      "step 8575 / 49006 (epoch 8.75 / 50):\n",
      "  learning_rate = 2.00e-02, training accuracy = 93.75, training loss = 3.55e-01\n",
      "  validation accuracy: 81.36 (4176 / 5133), f1 (weighted): 80.77, loss: 1.06e+00\n",
      "  CPU time: 1738s, wall time: 888s, perf_time_load: 0.05s, perf_time: 0.00s\n",
      "step 8820 / 49006 (epoch 9.00 / 50):\n",
      "  learning_rate = 2.00e-02, training accuracy = 87.50, training loss = 3.78e-01\n",
      "  validation accuracy: 81.92 (4205 / 5133), f1 (weighted): 81.35, loss: 1.02e+00\n",
      "  CPU time: 1785s, wall time: 912s, perf_time_load: 0.05s, perf_time: 0.00s\n",
      "step 9065 / 49006 (epoch 9.25 / 50):\n",
      "  learning_rate = 2.00e-02, training accuracy = 81.25, training loss = 1.01e+00\n",
      "  validation accuracy: 81.63 (4190 / 5133), f1 (weighted): 80.81, loss: 1.03e+00\n",
      "  CPU time: 1832s, wall time: 936s, perf_time_load: 0.05s, perf_time: 0.00s\n",
      "step 9310 / 49006 (epoch 9.50 / 50):\n",
      "  learning_rate = 2.00e-02, training accuracy = 93.75, training loss = 4.25e-01\n",
      "  validation accuracy: 81.69 (4193 / 5133), f1 (weighted): 81.07, loss: 1.00e+00\n",
      "  CPU time: 1879s, wall time: 960s, perf_time_load: 0.05s, perf_time: 0.00s\n",
      "step 9555 / 49006 (epoch 9.75 / 50):\n",
      "  learning_rate = 2.00e-02, training accuracy = 81.25, training loss = 7.05e-01\n",
      "  validation accuracy: 81.61 (4189 / 5133), f1 (weighted): 81.09, loss: 1.03e+00\n",
      "  CPU time: 1926s, wall time: 984s, perf_time_load: 0.05s, perf_time: 0.00s\n",
      "step 9800 / 49006 (epoch 10.00 / 50):\n",
      "  learning_rate = 2.00e-02, training accuracy = 96.88, training loss = 3.16e-01\n",
      "  validation accuracy: 81.73 (4195 / 5133), f1 (weighted): 81.04, loss: 1.02e+00\n",
      "  CPU time: 1973s, wall time: 1008s, perf_time_load: 0.05s, perf_time: 0.00s\n",
      "step 10045 / 49006 (epoch 10.25 / 50):\n",
      "  learning_rate = 2.00e-02, training accuracy = 96.88, training loss = 6.72e-01\n",
      "  validation accuracy: 82.58 (4239 / 5133), f1 (weighted): 81.91, loss: 1.01e+00\n",
      "  CPU time: 2020s, wall time: 1033s, perf_time_load: 0.05s, perf_time: 0.00s\n",
      "step 10290 / 49006 (epoch 10.50 / 50):\n",
      "  learning_rate = 2.00e-02, training accuracy = 96.88, training loss = 6.87e-01\n",
      "  validation accuracy: 81.77 (4197 / 5133), f1 (weighted): 81.27, loss: 1.00e+00\n",
      "  CPU time: 2066s, wall time: 1057s, perf_time_load: 0.05s, perf_time: 0.00s\n",
      "step 10535 / 49006 (epoch 10.75 / 50):\n",
      "  learning_rate = 2.00e-02, training accuracy = 87.50, training loss = 1.04e+00\n",
      "  validation accuracy: 81.71 (4194 / 5133), f1 (weighted): 81.09, loss: 1.06e+00\n",
      "  CPU time: 2113s, wall time: 1081s, perf_time_load: 0.05s, perf_time: 0.00s\n",
      "step 10780 / 49006 (epoch 11.00 / 50):\n",
      "  learning_rate = 2.00e-02, training accuracy = 78.12, training loss = 8.84e-01\n",
      "  validation accuracy: 82.58 (4239 / 5133), f1 (weighted): 81.91, loss: 1.00e+00\n",
      "  CPU time: 2160s, wall time: 1105s, perf_time_load: 0.05s, perf_time: 0.00s\n",
      "step 11025 / 49006 (epoch 11.25 / 50):\n",
      "  learning_rate = 2.00e-02, training accuracy = 96.88, training loss = 2.30e-01\n",
      "  validation accuracy: 82.29 (4224 / 5133), f1 (weighted): 81.97, loss: 9.98e-01\n",
      "  CPU time: 2208s, wall time: 1130s, perf_time_load: 0.05s, perf_time: 0.00s\n",
      "step 11270 / 49006 (epoch 11.50 / 50):\n",
      "  learning_rate = 2.00e-02, training accuracy = 93.75, training loss = 3.12e-01\n",
      "  validation accuracy: 82.66 (4243 / 5133), f1 (weighted): 81.89, loss: 9.93e-01\n",
      "  CPU time: 2256s, wall time: 1154s, perf_time_load: 0.05s, perf_time: 0.00s\n",
      "step 11515 / 49006 (epoch 11.75 / 50):\n",
      "  learning_rate = 2.00e-02, training accuracy = 90.62, training loss = 5.31e-01\n",
      "  validation accuracy: 82.14 (4216 / 5133), f1 (weighted): 81.46, loss: 1.01e+00\n",
      "  CPU time: 2303s, wall time: 1179s, perf_time_load: 0.05s, perf_time: 0.00s\n",
      "step 11760 / 49006 (epoch 12.00 / 50):\n",
      "  learning_rate = 2.00e-02, training accuracy = 96.88, training loss = 3.34e-01\n",
      "  validation accuracy: 81.57 (4187 / 5133), f1 (weighted): 80.97, loss: 1.01e+00\n",
      "  CPU time: 2351s, wall time: 1204s, perf_time_load: 0.05s, perf_time: 0.00s\n",
      "step 12005 / 49006 (epoch 12.25 / 50):\n",
      "  learning_rate = 2.00e-02, training accuracy = 93.75, training loss = 6.66e-01\n",
      "  validation accuracy: 83.01 (4261 / 5133), f1 (weighted): 82.16, loss: 1.03e+00\n",
      "  CPU time: 2398s, wall time: 1228s, perf_time_load: 0.05s, perf_time: 0.00s\n",
      "step 12250 / 49006 (epoch 12.50 / 50):\n",
      "  learning_rate = 2.00e-02, training accuracy = 90.62, training loss = 8.13e-01\n",
      "  validation accuracy: 82.70 (4245 / 5133), f1 (weighted): 82.08, loss: 1.00e+00\n",
      "  CPU time: 2443s, wall time: 1252s, perf_time_load: 0.06s, perf_time: 0.00s\n",
      "step 12495 / 49006 (epoch 12.75 / 50):\n",
      "  learning_rate = 2.00e-02, training accuracy = 90.62, training loss = 6.32e-01\n",
      "  validation accuracy: 82.15 (4217 / 5133), f1 (weighted): 81.77, loss: 1.04e+00\n",
      "  CPU time: 2492s, wall time: 1276s, perf_time_load: 0.05s, perf_time: 0.00s\n",
      "step 12740 / 49006 (epoch 13.00 / 50):\n",
      "  learning_rate = 2.00e-02, training accuracy = 90.62, training loss = 5.67e-01\n",
      "  validation accuracy: 82.00 (4209 / 5133), f1 (weighted): 81.42, loss: 1.06e+00\n",
      "  CPU time: 2539s, wall time: 1300s, perf_time_load: 0.05s, perf_time: 0.00s\n",
      "step 12985 / 49006 (epoch 13.25 / 50):\n",
      "  learning_rate = 2.00e-02, training accuracy = 90.62, training loss = 6.64e-01\n",
      "  validation accuracy: 82.56 (4238 / 5133), f1 (weighted): 82.05, loss: 9.90e-01\n",
      "  CPU time: 2586s, wall time: 1324s, perf_time_load: 0.05s, perf_time: 0.00s\n",
      "step 13230 / 49006 (epoch 13.50 / 50):\n",
      "  learning_rate = 2.00e-02, training accuracy = 93.75, training loss = 1.81e-01\n",
      "  validation accuracy: 81.53 (4185 / 5133), f1 (weighted): 81.21, loss: 1.05e+00\n",
      "  CPU time: 2632s, wall time: 1348s, perf_time_load: 0.05s, perf_time: 0.00s\n",
      "step 13475 / 49006 (epoch 13.75 / 50):\n",
      "  learning_rate = 2.00e-02, training accuracy = 87.50, training loss = 7.28e-01\n",
      "  validation accuracy: 81.71 (4194 / 5133), f1 (weighted): 81.22, loss: 1.05e+00\n",
      "  CPU time: 2679s, wall time: 1372s, perf_time_load: 0.05s, perf_time: 0.00s\n",
      "step 13720 / 49006 (epoch 14.00 / 50):\n",
      "  learning_rate = 2.00e-02, training accuracy = 96.88, training loss = 2.59e-01\n",
      "  validation accuracy: 82.35 (4227 / 5133), f1 (weighted): 81.89, loss: 1.01e+00\n",
      "  CPU time: 2726s, wall time: 1396s, perf_time_load: 0.05s, perf_time: 0.00s\n",
      "step 13965 / 49006 (epoch 14.25 / 50):\n",
      "  learning_rate = 2.00e-02, training accuracy = 93.75, training loss = 3.09e-01\n",
      "  validation accuracy: 82.62 (4241 / 5133), f1 (weighted): 82.01, loss: 1.01e+00\n",
      "  CPU time: 2773s, wall time: 1420s, perf_time_load: 0.05s, perf_time: 0.00s\n",
      "step 14210 / 49006 (epoch 14.50 / 50):\n",
      "  learning_rate = 2.00e-02, training accuracy = 100.00, training loss = 2.30e-01\n",
      "  validation accuracy: 82.15 (4217 / 5133), f1 (weighted): 81.60, loss: 1.04e+00\n",
      "  CPU time: 2820s, wall time: 1444s, perf_time_load: 0.05s, perf_time: 0.00s\n",
      "step 14455 / 49006 (epoch 14.75 / 50):\n",
      "  learning_rate = 2.00e-02, training accuracy = 93.75, training loss = 6.33e-01\n",
      "  validation accuracy: 81.96 (4207 / 5133), f1 (weighted): 81.56, loss: 1.02e+00\n",
      "  CPU time: 2868s, wall time: 1469s, perf_time_load: 0.05s, perf_time: 0.00s\n",
      "step 14700 / 49006 (epoch 15.00 / 50):\n",
      "  learning_rate = 2.00e-02, training accuracy = 96.88, training loss = 1.95e-01\n",
      "  validation accuracy: 82.49 (4234 / 5133), f1 (weighted): 82.01, loss: 1.03e+00\n",
      "  CPU time: 2916s, wall time: 1494s, perf_time_load: 0.05s, perf_time: 0.00s\n",
      "step 14945 / 49006 (epoch 15.25 / 50):\n",
      "  learning_rate = 2.00e-02, training accuracy = 100.00, training loss = 1.58e-01\n"
     ]
    },
    {
     "name": "stdout",
     "output_type": "stream",
     "text": [
      "  validation accuracy: 82.51 (4235 / 5133), f1 (weighted): 82.08, loss: 1.03e+00\n",
      "  CPU time: 2963s, wall time: 1519s, perf_time_load: 0.05s, perf_time: 0.00s\n",
      "step 15190 / 49006 (epoch 15.50 / 50):\n",
      "  learning_rate = 2.00e-02, training accuracy = 100.00, training loss = 1.30e-01\n",
      "  validation accuracy: 82.49 (4234 / 5133), f1 (weighted): 82.10, loss: 1.02e+00\n",
      "  CPU time: 3010s, wall time: 1543s, perf_time_load: 0.05s, perf_time: 0.00s\n",
      "step 15435 / 49006 (epoch 15.75 / 50):\n",
      "  learning_rate = 2.00e-02, training accuracy = 93.75, training loss = 1.33e-01\n",
      "  validation accuracy: 82.33 (4226 / 5133), f1 (weighted): 81.89, loss: 1.02e+00\n",
      "  CPU time: 3058s, wall time: 1568s, perf_time_load: 0.05s, perf_time: 0.00s\n",
      "step 15680 / 49006 (epoch 16.00 / 50):\n",
      "  learning_rate = 2.00e-02, training accuracy = 93.75, training loss = 4.55e-01\n",
      "  validation accuracy: 82.49 (4234 / 5133), f1 (weighted): 81.93, loss: 9.96e-01\n",
      "  CPU time: 3105s, wall time: 1593s, perf_time_load: 0.05s, perf_time: 0.00s\n",
      "step 15925 / 49006 (epoch 16.25 / 50):\n",
      "  learning_rate = 2.00e-02, training accuracy = 93.75, training loss = 2.71e-01\n",
      "  validation accuracy: 81.57 (4187 / 5133), f1 (weighted): 81.10, loss: 1.04e+00\n",
      "  CPU time: 3152s, wall time: 1617s, perf_time_load: 0.05s, perf_time: 0.00s\n",
      "step 16170 / 49006 (epoch 16.50 / 50):\n",
      "  learning_rate = 2.00e-02, training accuracy = 93.75, training loss = 5.64e-01\n",
      "  validation accuracy: 82.54 (4237 / 5133), f1 (weighted): 81.91, loss: 1.02e+00\n",
      "  CPU time: 3200s, wall time: 1643s, perf_time_load: 0.05s, perf_time: 0.00s\n",
      "step 16415 / 49006 (epoch 16.75 / 50):\n",
      "  learning_rate = 2.00e-02, training accuracy = 93.75, training loss = 3.97e-01\n",
      "  validation accuracy: 81.90 (4204 / 5133), f1 (weighted): 81.36, loss: 1.01e+00\n",
      "  CPU time: 3249s, wall time: 1669s, perf_time_load: 0.05s, perf_time: 0.00s\n",
      "step 16660 / 49006 (epoch 17.00 / 50):\n",
      "  learning_rate = 2.00e-02, training accuracy = 93.75, training loss = 6.26e-01\n",
      "  validation accuracy: 82.31 (4225 / 5133), f1 (weighted): 81.84, loss: 1.03e+00\n",
      "  CPU time: 3296s, wall time: 1694s, perf_time_load: 0.06s, perf_time: 0.01s\n",
      "step 16905 / 49006 (epoch 17.25 / 50):\n",
      "  learning_rate = 2.00e-02, training accuracy = 93.75, training loss = 4.01e-01\n",
      "  validation accuracy: 81.22 (4169 / 5133), f1 (weighted): 80.76, loss: 1.05e+00\n",
      "  CPU time: 3344s, wall time: 1720s, perf_time_load: 0.06s, perf_time: 0.00s\n",
      "step 17150 / 49006 (epoch 17.50 / 50):\n",
      "  learning_rate = 2.00e-02, training accuracy = 96.88, training loss = 2.97e-01\n",
      "  validation accuracy: 82.31 (4225 / 5133), f1 (weighted): 82.01, loss: 1.03e+00\n",
      "  CPU time: 3393s, wall time: 1745s, perf_time_load: 0.05s, perf_time: 0.00s\n",
      "step 17395 / 49006 (epoch 17.75 / 50):\n",
      "  learning_rate = 2.00e-02, training accuracy = 100.00, training loss = 9.55e-02\n",
      "  validation accuracy: 82.00 (4209 / 5133), f1 (weighted): 81.52, loss: 1.03e+00\n",
      "  CPU time: 3441s, wall time: 1771s, perf_time_load: 0.05s, perf_time: 0.00s\n",
      "step 17640 / 49006 (epoch 18.00 / 50):\n",
      "  learning_rate = 2.00e-02, training accuracy = 93.75, training loss = 4.96e-01\n",
      "  validation accuracy: 82.04 (4211 / 5133), f1 (weighted): 81.55, loss: 1.04e+00\n",
      "  CPU time: 3489s, wall time: 1797s, perf_time_load: 0.07s, perf_time: 0.00s\n",
      "step 17885 / 49006 (epoch 18.25 / 50):\n",
      "  learning_rate = 2.00e-02, training accuracy = 96.88, training loss = 4.07e-01\n",
      "  validation accuracy: 82.84 (4252 / 5133), f1 (weighted): 82.34, loss: 1.03e+00\n",
      "  CPU time: 3538s, wall time: 1822s, perf_time_load: 0.05s, perf_time: 0.00s\n",
      "step 18130 / 49006 (epoch 18.50 / 50):\n",
      "  learning_rate = 2.00e-02, training accuracy = 100.00, training loss = 2.65e-01\n",
      "  validation accuracy: 82.17 (4218 / 5133), f1 (weighted): 81.59, loss: 1.03e+00\n",
      "  CPU time: 3585s, wall time: 1846s, perf_time_load: 0.05s, perf_time: 0.00s\n",
      "step 18375 / 49006 (epoch 18.75 / 50):\n",
      "  learning_rate = 2.00e-02, training accuracy = 90.62, training loss = 5.07e-01\n",
      "  validation accuracy: 82.56 (4238 / 5133), f1 (weighted): 82.05, loss: 1.03e+00\n",
      "  CPU time: 3632s, wall time: 1871s, perf_time_load: 0.05s, perf_time: 0.00s\n",
      "step 18620 / 49006 (epoch 19.00 / 50):\n",
      "  learning_rate = 2.00e-02, training accuracy = 96.88, training loss = 1.81e-01\n",
      "  validation accuracy: 81.80 (4199 / 5133), f1 (weighted): 81.31, loss: 1.06e+00\n",
      "  CPU time: 3679s, wall time: 1895s, perf_time_load: 0.05s, perf_time: 0.00s\n",
      "step 18865 / 49006 (epoch 19.25 / 50):\n",
      "  learning_rate = 2.00e-02, training accuracy = 96.88, training loss = 3.51e-01\n",
      "  validation accuracy: 81.77 (4197 / 5133), f1 (weighted): 81.64, loss: 1.04e+00\n",
      "  CPU time: 3726s, wall time: 1919s, perf_time_load: 0.05s, perf_time: 0.00s\n",
      "step 19110 / 49006 (epoch 19.50 / 50):\n",
      "  learning_rate = 2.00e-02, training accuracy = 96.88, training loss = 4.44e-01\n",
      "  validation accuracy: 82.41 (4230 / 5133), f1 (weighted): 81.95, loss: 1.03e+00\n",
      "  CPU time: 3772s, wall time: 1944s, perf_time_load: 0.05s, perf_time: 0.00s\n",
      "step 19355 / 49006 (epoch 19.75 / 50):\n",
      "  learning_rate = 2.00e-02, training accuracy = 93.75, training loss = 6.23e-01\n",
      "  validation accuracy: 82.76 (4248 / 5133), f1 (weighted): 82.28, loss: 1.02e+00\n",
      "  CPU time: 3820s, wall time: 1968s, perf_time_load: 0.05s, perf_time: 0.00s\n",
      "step 19600 / 49006 (epoch 20.00 / 50):\n",
      "  learning_rate = 2.00e-02, training accuracy = 90.62, training loss = 6.24e-01\n",
      "  validation accuracy: 82.27 (4223 / 5133), f1 (weighted): 81.96, loss: 1.04e+00\n",
      "  CPU time: 3867s, wall time: 1992s, perf_time_load: 0.05s, perf_time: 0.00s\n",
      "step 19845 / 49006 (epoch 20.25 / 50):\n",
      "  learning_rate = 2.00e-02, training accuracy = 90.62, training loss = 6.24e-01\n",
      "  validation accuracy: 82.23 (4221 / 5133), f1 (weighted): 81.77, loss: 1.03e+00\n",
      "  CPU time: 3914s, wall time: 2016s, perf_time_load: 0.05s, perf_time: 0.00s\n",
      "step 20090 / 49006 (epoch 20.50 / 50):\n",
      "  learning_rate = 2.00e-02, training accuracy = 93.75, training loss = 2.98e-01\n",
      "  validation accuracy: 81.88 (4203 / 5133), f1 (weighted): 81.76, loss: 1.04e+00\n",
      "  CPU time: 3960s, wall time: 2040s, perf_time_load: 0.05s, perf_time: 0.00s\n",
      "step 20335 / 49006 (epoch 20.75 / 50):\n",
      "  learning_rate = 2.00e-02, training accuracy = 96.88, training loss = 5.46e-01\n",
      "  validation accuracy: 82.62 (4241 / 5133), f1 (weighted): 82.16, loss: 1.05e+00\n",
      "  CPU time: 4007s, wall time: 2064s, perf_time_load: 0.05s, perf_time: 0.00s\n",
      "step 20580 / 49006 (epoch 21.00 / 50):\n",
      "  learning_rate = 2.00e-02, training accuracy = 96.88, training loss = 2.54e-01\n",
      "  validation accuracy: 82.95 (4258 / 5133), f1 (weighted): 82.38, loss: 1.01e+00\n",
      "  CPU time: 4054s, wall time: 2089s, perf_time_load: 0.06s, perf_time: 0.00s\n",
      "step 20825 / 49006 (epoch 21.25 / 50):\n",
      "  learning_rate = 2.00e-02, training accuracy = 96.88, training loss = 4.31e-01\n",
      "  validation accuracy: 82.62 (4241 / 5133), f1 (weighted): 82.07, loss: 1.06e+00\n",
      "  CPU time: 4101s, wall time: 2114s, perf_time_load: 0.05s, perf_time: 0.00s\n",
      "step 21070 / 49006 (epoch 21.50 / 50):\n",
      "  learning_rate = 2.00e-02, training accuracy = 100.00, training loss = 8.34e-02\n",
      "  validation accuracy: 82.39 (4229 / 5133), f1 (weighted): 82.11, loss: 1.05e+00\n",
      "  CPU time: 4148s, wall time: 2138s, perf_time_load: 0.06s, perf_time: 0.00s\n",
      "step 21315 / 49006 (epoch 21.75 / 50):\n",
      "  learning_rate = 2.00e-02, training accuracy = 93.75, training loss = 3.03e-01\n",
      "  validation accuracy: 82.54 (4237 / 5133), f1 (weighted): 81.96, loss: 1.05e+00\n",
      "  CPU time: 4195s, wall time: 2163s, perf_time_load: 0.05s, perf_time: 0.00s\n",
      "step 21560 / 49006 (epoch 22.00 / 50):\n",
      "  learning_rate = 2.00e-02, training accuracy = 100.00, training loss = 2.59e-01\n",
      "  validation accuracy: 82.25 (4222 / 5133), f1 (weighted): 81.91, loss: 1.03e+00\n",
      "  CPU time: 4242s, wall time: 2187s, perf_time_load: 0.05s, perf_time: 0.00s\n",
      "step 21805 / 49006 (epoch 22.25 / 50):\n",
      "  learning_rate = 2.00e-02, training accuracy = 81.25, training loss = 6.65e-01\n",
      "  validation accuracy: 82.58 (4239 / 5133), f1 (weighted): 82.45, loss: 1.05e+00\n",
      "  CPU time: 4290s, wall time: 2212s, perf_time_load: 0.05s, perf_time: 0.00s\n",
      "step 22050 / 49006 (epoch 22.50 / 50):\n",
      "  learning_rate = 2.00e-02, training accuracy = 96.88, training loss = 4.28e-01\n",
      "  validation accuracy: 82.56 (4238 / 5133), f1 (weighted): 82.20, loss: 1.05e+00\n",
      "  CPU time: 4338s, wall time: 2237s, perf_time_load: 0.05s, perf_time: 0.00s\n"
     ]
    },
    {
     "name": "stdout",
     "output_type": "stream",
     "text": [
      "step 22295 / 49006 (epoch 22.75 / 50):\n",
      "  learning_rate = 2.00e-02, training accuracy = 90.62, training loss = 3.83e-01\n",
      "  validation accuracy: 82.58 (4239 / 5133), f1 (weighted): 82.10, loss: 1.02e+00\n",
      "  CPU time: 4384s, wall time: 2261s, perf_time_load: 0.05s, perf_time: 0.00s\n",
      "step 22540 / 49006 (epoch 23.00 / 50):\n",
      "  learning_rate = 2.00e-02, training accuracy = 96.88, training loss = 3.65e-01\n",
      "  validation accuracy: 82.54 (4237 / 5133), f1 (weighted): 82.00, loss: 1.05e+00\n",
      "  CPU time: 4431s, wall time: 2285s, perf_time_load: 0.05s, perf_time: 0.00s\n",
      "step 22785 / 49006 (epoch 23.25 / 50):\n",
      "  learning_rate = 2.00e-02, training accuracy = 96.88, training loss = 1.83e-01\n",
      "  validation accuracy: 82.58 (4239 / 5133), f1 (weighted): 82.07, loss: 1.05e+00\n",
      "  CPU time: 4480s, wall time: 2310s, perf_time_load: 0.05s, perf_time: 0.00s\n",
      "step 23030 / 49006 (epoch 23.50 / 50):\n",
      "  learning_rate = 2.00e-02, training accuracy = 100.00, training loss = 2.89e-02\n",
      "  validation accuracy: 82.52 (4236 / 5133), f1 (weighted): 82.43, loss: 1.03e+00\n",
      "  CPU time: 4527s, wall time: 2334s, perf_time_load: 0.05s, perf_time: 0.00s\n",
      "step 23275 / 49006 (epoch 23.75 / 50):\n",
      "  learning_rate = 2.00e-02, training accuracy = 100.00, training loss = 1.46e-01\n",
      "  validation accuracy: 83.19 (4270 / 5133), f1 (weighted): 82.64, loss: 1.03e+00\n",
      "  CPU time: 4574s, wall time: 2359s, perf_time_load: 0.05s, perf_time: 0.00s\n",
      "step 23520 / 49006 (epoch 24.00 / 50):\n",
      "  learning_rate = 2.00e-02, training accuracy = 96.88, training loss = 1.97e-01\n",
      "  validation accuracy: 82.47 (4233 / 5133), f1 (weighted): 81.86, loss: 1.06e+00\n",
      "  CPU time: 4622s, wall time: 2384s, perf_time_load: 0.05s, perf_time: 0.00s\n",
      "step 23765 / 49006 (epoch 24.25 / 50):\n",
      "  learning_rate = 2.00e-02, training accuracy = 93.75, training loss = 3.61e-01\n",
      "  validation accuracy: 82.76 (4248 / 5133), f1 (weighted): 82.33, loss: 1.05e+00\n",
      "  CPU time: 4668s, wall time: 2408s, perf_time_load: 0.05s, perf_time: 0.00s\n",
      "step 24010 / 49006 (epoch 24.50 / 50):\n",
      "  learning_rate = 2.00e-02, training accuracy = 100.00, training loss = 2.36e-01\n",
      "  validation accuracy: 82.17 (4218 / 5133), f1 (weighted): 81.51, loss: 1.08e+00\n",
      "  CPU time: 4716s, wall time: 2433s, perf_time_load: 0.05s, perf_time: 0.00s\n",
      "step 24255 / 49006 (epoch 24.75 / 50):\n",
      "  learning_rate = 2.00e-02, training accuracy = 93.75, training loss = 4.80e-01\n",
      "  validation accuracy: 82.54 (4237 / 5133), f1 (weighted): 82.24, loss: 1.03e+00\n",
      "  CPU time: 4763s, wall time: 2458s, perf_time_load: 0.05s, perf_time: 0.00s\n",
      "step 24500 / 49006 (epoch 25.00 / 50):\n",
      "  learning_rate = 2.00e-02, training accuracy = 96.88, training loss = 1.79e-01\n",
      "  validation accuracy: 82.49 (4234 / 5133), f1 (weighted): 82.00, loss: 1.08e+00\n",
      "  CPU time: 4811s, wall time: 2482s, perf_time_load: 0.05s, perf_time: 0.00s\n",
      "step 24745 / 49006 (epoch 25.25 / 50):\n",
      "  learning_rate = 2.00e-02, training accuracy = 90.62, training loss = 3.13e-01\n",
      "  validation accuracy: 81.90 (4204 / 5133), f1 (weighted): 81.51, loss: 1.08e+00\n",
      "  CPU time: 4858s, wall time: 2506s, perf_time_load: 0.05s, perf_time: 0.00s\n",
      "step 24990 / 49006 (epoch 25.50 / 50):\n",
      "  learning_rate = 2.00e-02, training accuracy = 96.88, training loss = 2.50e-01\n",
      "  validation accuracy: 82.80 (4250 / 5133), f1 (weighted): 82.39, loss: 1.07e+00\n",
      "  CPU time: 4905s, wall time: 2530s, perf_time_load: 0.05s, perf_time: 0.00s\n",
      "step 25235 / 49006 (epoch 25.75 / 50):\n",
      "  learning_rate = 2.00e-02, training accuracy = 93.75, training loss = 1.85e-01\n",
      "  validation accuracy: 82.21 (4220 / 5133), f1 (weighted): 81.79, loss: 1.07e+00\n",
      "  CPU time: 4952s, wall time: 2554s, perf_time_load: 0.06s, perf_time: 0.00s\n",
      "step 25480 / 49006 (epoch 26.00 / 50):\n",
      "  learning_rate = 2.00e-02, training accuracy = 90.62, training loss = 4.09e-01\n",
      "  validation accuracy: 82.15 (4217 / 5133), f1 (weighted): 81.89, loss: 1.06e+00\n",
      "  CPU time: 4999s, wall time: 2578s, perf_time_load: 0.05s, perf_time: 0.00s\n",
      "step 25725 / 49006 (epoch 26.25 / 50):\n",
      "  learning_rate = 2.00e-02, training accuracy = 96.88, training loss = 4.16e-01\n",
      "  validation accuracy: 82.89 (4255 / 5133), f1 (weighted): 82.42, loss: 1.07e+00\n",
      "  CPU time: 5046s, wall time: 2602s, perf_time_load: 0.05s, perf_time: 0.00s\n",
      "step 25970 / 49006 (epoch 26.50 / 50):\n",
      "  learning_rate = 2.00e-02, training accuracy = 90.62, training loss = 3.87e-01\n",
      "  validation accuracy: 82.06 (4212 / 5133), f1 (weighted): 81.30, loss: 1.13e+00\n",
      "  CPU time: 5093s, wall time: 2626s, perf_time_load: 0.05s, perf_time: 0.00s\n",
      "step 26215 / 49006 (epoch 26.75 / 50):\n",
      "  learning_rate = 2.00e-02, training accuracy = 96.88, training loss = 9.30e-02\n",
      "  validation accuracy: 82.47 (4233 / 5133), f1 (weighted): 82.13, loss: 1.05e+00\n",
      "  CPU time: 5140s, wall time: 2650s, perf_time_load: 0.05s, perf_time: 0.00s\n",
      "step 26460 / 49006 (epoch 27.00 / 50):\n",
      "  learning_rate = 2.00e-02, training accuracy = 100.00, training loss = 5.17e-02\n",
      "  validation accuracy: 82.68 (4244 / 5133), f1 (weighted): 82.23, loss: 1.06e+00\n",
      "  CPU time: 5187s, wall time: 2675s, perf_time_load: 0.05s, perf_time: 0.00s\n",
      "step 26705 / 49006 (epoch 27.25 / 50):\n",
      "  learning_rate = 2.00e-02, training accuracy = 100.00, training loss = 1.25e-01\n",
      "  validation accuracy: 82.47 (4233 / 5133), f1 (weighted): 82.17, loss: 1.07e+00\n",
      "  CPU time: 5234s, wall time: 2699s, perf_time_load: 0.05s, perf_time: 0.00s\n",
      "step 26950 / 49006 (epoch 27.50 / 50):\n",
      "  learning_rate = 2.00e-02, training accuracy = 100.00, training loss = 1.27e-01\n",
      "  validation accuracy: 83.01 (4261 / 5133), f1 (weighted): 82.57, loss: 1.05e+00\n",
      "  CPU time: 5281s, wall time: 2723s, perf_time_load: 0.05s, perf_time: 0.00s\n",
      "step 27195 / 49006 (epoch 27.75 / 50):\n",
      "  learning_rate = 2.00e-02, training accuracy = 96.88, training loss = 2.09e-01\n",
      "  validation accuracy: 82.43 (4231 / 5133), f1 (weighted): 82.05, loss: 1.07e+00\n",
      "  CPU time: 5329s, wall time: 2748s, perf_time_load: 0.05s, perf_time: 0.00s\n",
      "step 27440 / 49006 (epoch 28.00 / 50):\n",
      "  learning_rate = 2.00e-02, training accuracy = 100.00, training loss = 1.71e-01\n",
      "  validation accuracy: 81.98 (4208 / 5133), f1 (weighted): 81.41, loss: 1.12e+00\n",
      "  CPU time: 5376s, wall time: 2772s, perf_time_load: 0.05s, perf_time: 0.00s\n",
      "step 27685 / 49006 (epoch 28.25 / 50):\n",
      "  learning_rate = 2.00e-02, training accuracy = 100.00, training loss = 8.82e-02\n",
      "  validation accuracy: 82.64 (4242 / 5133), f1 (weighted): 82.37, loss: 1.08e+00\n",
      "  CPU time: 5423s, wall time: 2796s, perf_time_load: 0.05s, perf_time: 0.00s\n",
      "step 27930 / 49006 (epoch 28.50 / 50):\n",
      "  learning_rate = 2.00e-02, training accuracy = 96.88, training loss = 1.81e-01\n",
      "  validation accuracy: 83.13 (4267 / 5133), f1 (weighted): 82.60, loss: 1.05e+00\n",
      "  CPU time: 5470s, wall time: 2821s, perf_time_load: 0.05s, perf_time: 0.00s\n",
      "step 28175 / 49006 (epoch 28.75 / 50):\n",
      "  learning_rate = 2.00e-02, training accuracy = 100.00, training loss = 2.12e-01\n",
      "  validation accuracy: 82.43 (4231 / 5133), f1 (weighted): 82.01, loss: 1.08e+00\n",
      "  CPU time: 5518s, wall time: 2845s, perf_time_load: 0.06s, perf_time: 0.00s\n",
      "step 28420 / 49006 (epoch 29.00 / 50):\n",
      "  learning_rate = 2.00e-02, training accuracy = 100.00, training loss = 7.02e-02\n",
      "  validation accuracy: 82.35 (4227 / 5133), f1 (weighted): 82.14, loss: 1.07e+00\n",
      "  CPU time: 5567s, wall time: 2870s, perf_time_load: 0.05s, perf_time: 0.00s\n",
      "step 28665 / 49006 (epoch 29.25 / 50):\n",
      "  learning_rate = 2.00e-02, training accuracy = 100.00, training loss = 9.94e-02\n",
      "  validation accuracy: 82.70 (4245 / 5133), f1 (weighted): 82.32, loss: 1.08e+00\n",
      "  CPU time: 5614s, wall time: 2894s, perf_time_load: 0.05s, perf_time: 0.00s\n",
      "step 28910 / 49006 (epoch 29.50 / 50):\n",
      "  learning_rate = 2.00e-02, training accuracy = 100.00, training loss = 1.87e-01\n",
      "  validation accuracy: 82.39 (4229 / 5133), f1 (weighted): 81.95, loss: 1.08e+00\n",
      "  CPU time: 5661s, wall time: 2918s, perf_time_load: 0.05s, perf_time: 0.00s\n",
      "step 29155 / 49006 (epoch 29.75 / 50):\n",
      "  learning_rate = 2.00e-02, training accuracy = 100.00, training loss = 2.60e-01\n",
      "  validation accuracy: 82.51 (4235 / 5133), f1 (weighted): 81.96, loss: 1.12e+00\n",
      "  CPU time: 5708s, wall time: 2942s, perf_time_load: 0.05s, perf_time: 0.00s\n",
      "step 29400 / 49006 (epoch 30.00 / 50):\n",
      "  learning_rate = 2.00e-02, training accuracy = 96.88, training loss = 2.29e-01\n",
      "  validation accuracy: 82.25 (4222 / 5133), f1 (weighted): 81.94, loss: 1.09e+00\n",
      "  CPU time: 5754s, wall time: 2966s, perf_time_load: 0.05s, perf_time: 0.00s\n"
     ]
    },
    {
     "name": "stdout",
     "output_type": "stream",
     "text": [
      "step 29645 / 49006 (epoch 30.25 / 50):\n",
      "  learning_rate = 2.00e-02, training accuracy = 96.88, training loss = 1.88e-01\n",
      "  validation accuracy: 82.72 (4246 / 5133), f1 (weighted): 82.55, loss: 1.07e+00\n",
      "  CPU time: 5801s, wall time: 2990s, perf_time_load: 0.05s, perf_time: 0.00s\n",
      "step 29890 / 49006 (epoch 30.50 / 50):\n",
      "  learning_rate = 2.00e-02, training accuracy = 96.88, training loss = 2.13e-01\n",
      "  validation accuracy: 82.43 (4231 / 5133), f1 (weighted): 82.15, loss: 1.11e+00\n",
      "  CPU time: 5848s, wall time: 3015s, perf_time_load: 0.05s, perf_time: 0.00s\n",
      "step 30135 / 49006 (epoch 30.75 / 50):\n",
      "  learning_rate = 2.00e-02, training accuracy = 100.00, training loss = 8.93e-02\n",
      "  validation accuracy: 82.76 (4248 / 5133), f1 (weighted): 82.30, loss: 1.10e+00\n",
      "  CPU time: 5895s, wall time: 3040s, perf_time_load: 0.05s, perf_time: 0.00s\n",
      "step 30380 / 49006 (epoch 31.00 / 50):\n",
      "  learning_rate = 2.00e-02, training accuracy = 96.88, training loss = 3.50e-01\n",
      "  validation accuracy: 82.80 (4250 / 5133), f1 (weighted): 82.51, loss: 1.03e+00\n",
      "  CPU time: 5942s, wall time: 3064s, perf_time_load: 0.05s, perf_time: 0.00s\n",
      "step 30625 / 49006 (epoch 31.25 / 50):\n",
      "  learning_rate = 2.00e-02, training accuracy = 96.88, training loss = 3.57e-01\n",
      "  validation accuracy: 83.01 (4261 / 5133), f1 (weighted): 82.57, loss: 1.09e+00\n",
      "  CPU time: 5989s, wall time: 3089s, perf_time_load: 0.05s, perf_time: 0.00s\n",
      "step 30870 / 49006 (epoch 31.50 / 50):\n",
      "  learning_rate = 2.00e-02, training accuracy = 100.00, training loss = 1.28e-01\n",
      "  validation accuracy: 82.29 (4224 / 5133), f1 (weighted): 81.94, loss: 1.13e+00\n",
      "  CPU time: 6037s, wall time: 3113s, perf_time_load: 0.05s, perf_time: 0.00s\n",
      "step 31115 / 49006 (epoch 31.75 / 50):\n",
      "  learning_rate = 2.00e-02, training accuracy = 90.62, training loss = 2.37e-01\n",
      "  validation accuracy: 82.27 (4223 / 5133), f1 (weighted): 82.04, loss: 1.08e+00\n",
      "  CPU time: 6084s, wall time: 3138s, perf_time_load: 0.05s, perf_time: 0.00s\n",
      "step 31360 / 49006 (epoch 32.00 / 50):\n",
      "  learning_rate = 2.00e-02, training accuracy = 100.00, training loss = 1.00e-01\n",
      "  validation accuracy: 82.25 (4222 / 5133), f1 (weighted): 81.84, loss: 1.10e+00\n",
      "  CPU time: 6132s, wall time: 3163s, perf_time_load: 0.05s, perf_time: 0.00s\n",
      "step 31605 / 49006 (epoch 32.25 / 50):\n",
      "  learning_rate = 2.00e-02, training accuracy = 96.88, training loss = 3.89e-01\n",
      "  validation accuracy: 82.35 (4227 / 5133), f1 (weighted): 82.13, loss: 1.08e+00\n",
      "  CPU time: 6179s, wall time: 3188s, perf_time_load: 0.05s, perf_time: 0.00s\n",
      "step 31850 / 49006 (epoch 32.50 / 50):\n",
      "  learning_rate = 2.00e-02, training accuracy = 100.00, training loss = 3.06e-01\n",
      "  validation accuracy: 82.17 (4218 / 5133), f1 (weighted): 82.08, loss: 1.11e+00\n",
      "  CPU time: 6226s, wall time: 3212s, perf_time_load: 0.05s, perf_time: 0.00s\n",
      "step 32095 / 49006 (epoch 32.75 / 50):\n",
      "  learning_rate = 2.00e-02, training accuracy = 100.00, training loss = 4.48e-02\n",
      "  validation accuracy: 82.52 (4236 / 5133), f1 (weighted): 81.96, loss: 1.10e+00\n",
      "  CPU time: 6274s, wall time: 3237s, perf_time_load: 0.05s, perf_time: 0.00s\n",
      "step 32340 / 49006 (epoch 33.00 / 50):\n",
      "  learning_rate = 2.00e-02, training accuracy = 100.00, training loss = 1.15e-01\n",
      "  validation accuracy: 82.25 (4222 / 5133), f1 (weighted): 81.88, loss: 1.10e+00\n",
      "  CPU time: 6321s, wall time: 3261s, perf_time_load: 0.05s, perf_time: 0.00s\n",
      "step 32585 / 49006 (epoch 33.25 / 50):\n",
      "  learning_rate = 2.00e-02, training accuracy = 90.62, training loss = 7.33e-01\n",
      "  validation accuracy: 82.10 (4214 / 5133), f1 (weighted): 81.69, loss: 1.14e+00\n",
      "  CPU time: 6368s, wall time: 3286s, perf_time_load: 0.05s, perf_time: 0.00s\n",
      "step 32830 / 49006 (epoch 33.50 / 50):\n",
      "  learning_rate = 2.00e-02, training accuracy = 90.62, training loss = 4.14e-01\n",
      "  validation accuracy: 82.64 (4242 / 5133), f1 (weighted): 82.36, loss: 1.11e+00\n",
      "  CPU time: 6415s, wall time: 3310s, perf_time_load: 0.05s, perf_time: 0.00s\n",
      "step 33075 / 49006 (epoch 33.75 / 50):\n",
      "  learning_rate = 2.00e-02, training accuracy = 100.00, training loss = 2.08e-01\n",
      "  validation accuracy: 82.02 (4210 / 5133), f1 (weighted): 81.67, loss: 1.14e+00\n",
      "  CPU time: 6462s, wall time: 3334s, perf_time_load: 0.05s, perf_time: 0.00s\n",
      "step 33320 / 49006 (epoch 34.00 / 50):\n",
      "  learning_rate = 2.00e-02, training accuracy = 93.75, training loss = 2.23e-01\n",
      "  validation accuracy: 82.33 (4226 / 5133), f1 (weighted): 81.95, loss: 1.12e+00\n",
      "  CPU time: 6510s, wall time: 3358s, perf_time_load: 0.05s, perf_time: 0.00s\n",
      "step 33565 / 49006 (epoch 34.25 / 50):\n",
      "  learning_rate = 2.00e-02, training accuracy = 93.75, training loss = 2.38e-01\n",
      "  validation accuracy: 82.52 (4236 / 5133), f1 (weighted): 82.35, loss: 1.09e+00\n",
      "  CPU time: 6557s, wall time: 3383s, perf_time_load: 0.05s, perf_time: 0.00s\n",
      "step 33810 / 49006 (epoch 34.50 / 50):\n",
      "  learning_rate = 2.00e-02, training accuracy = 96.88, training loss = 2.70e-01\n",
      "  validation accuracy: 82.45 (4232 / 5133), f1 (weighted): 82.11, loss: 1.12e+00\n",
      "  CPU time: 6604s, wall time: 3408s, perf_time_load: 0.05s, perf_time: 0.00s\n",
      "step 34055 / 49006 (epoch 34.75 / 50):\n",
      "  learning_rate = 2.00e-02, training accuracy = 96.88, training loss = 2.01e-01\n",
      "  validation accuracy: 82.45 (4232 / 5133), f1 (weighted): 81.94, loss: 1.10e+00\n",
      "  CPU time: 6652s, wall time: 3432s, perf_time_load: 0.05s, perf_time: 0.00s\n",
      "step 34300 / 49006 (epoch 35.00 / 50):\n",
      "  learning_rate = 2.00e-02, training accuracy = 100.00, training loss = 1.51e-01\n",
      "  validation accuracy: 82.31 (4225 / 5133), f1 (weighted): 81.87, loss: 1.13e+00\n",
      "  CPU time: 6699s, wall time: 3456s, perf_time_load: 0.05s, perf_time: 0.00s\n",
      "step 34545 / 49006 (epoch 35.25 / 50):\n",
      "  learning_rate = 2.00e-02, training accuracy = 100.00, training loss = 3.51e-01\n",
      "  validation accuracy: 82.25 (4222 / 5133), f1 (weighted): 81.93, loss: 1.12e+00\n",
      "  CPU time: 6747s, wall time: 3481s, perf_time_load: 0.05s, perf_time: 0.00s\n",
      "step 34790 / 49006 (epoch 35.50 / 50):\n",
      "  learning_rate = 2.00e-02, training accuracy = 96.88, training loss = 2.17e-01\n",
      "  validation accuracy: 82.64 (4242 / 5133), f1 (weighted): 82.27, loss: 1.08e+00\n",
      "  CPU time: 6794s, wall time: 3505s, perf_time_load: 0.05s, perf_time: 0.00s\n",
      "step 35035 / 49006 (epoch 35.75 / 50):\n",
      "  learning_rate = 2.00e-02, training accuracy = 100.00, training loss = 5.52e-01\n",
      "  validation accuracy: 82.37 (4228 / 5133), f1 (weighted): 82.15, loss: 1.10e+00\n",
      "  CPU time: 6840s, wall time: 3529s, perf_time_load: 0.05s, perf_time: 0.00s\n",
      "step 35280 / 49006 (epoch 36.00 / 50):\n",
      "  learning_rate = 2.00e-02, training accuracy = 96.88, training loss = 3.19e-01\n",
      "  validation accuracy: 82.45 (4232 / 5133), f1 (weighted): 82.10, loss: 1.14e+00\n",
      "  CPU time: 6887s, wall time: 3554s, perf_time_load: 0.05s, perf_time: 0.00s\n",
      "step 35525 / 49006 (epoch 36.25 / 50):\n",
      "  learning_rate = 2.00e-02, training accuracy = 93.75, training loss = 2.19e-01\n",
      "  validation accuracy: 82.86 (4253 / 5133), f1 (weighted): 82.46, loss: 1.11e+00\n",
      "  CPU time: 6934s, wall time: 3578s, perf_time_load: 0.05s, perf_time: 0.00s\n",
      "step 35770 / 49006 (epoch 36.50 / 50):\n",
      "  learning_rate = 2.00e-02, training accuracy = 100.00, training loss = 1.38e-01\n",
      "  validation accuracy: 82.58 (4239 / 5133), f1 (weighted): 82.22, loss: 1.08e+00\n",
      "  CPU time: 6981s, wall time: 3602s, perf_time_load: 0.05s, perf_time: 0.00s\n",
      "step 36015 / 49006 (epoch 36.75 / 50):\n",
      "  learning_rate = 2.00e-02, training accuracy = 100.00, training loss = 3.27e-02\n",
      "  validation accuracy: 82.27 (4223 / 5133), f1 (weighted): 81.91, loss: 1.15e+00\n",
      "  CPU time: 7028s, wall time: 3627s, perf_time_load: 0.05s, perf_time: 0.00s\n",
      "step 36260 / 49006 (epoch 37.00 / 50):\n",
      "  learning_rate = 2.00e-02, training accuracy = 100.00, training loss = 3.18e-01\n",
      "  validation accuracy: 82.66 (4243 / 5133), f1 (weighted): 82.27, loss: 1.13e+00\n",
      "  CPU time: 7075s, wall time: 3652s, perf_time_load: 0.05s, perf_time: 0.00s\n",
      "step 36505 / 49006 (epoch 37.25 / 50):\n",
      "  learning_rate = 2.00e-02, training accuracy = 100.00, training loss = 1.09e-01\n",
      "  validation accuracy: 82.62 (4241 / 5133), f1 (weighted): 82.05, loss: 1.15e+00\n",
      "  CPU time: 7123s, wall time: 3676s, perf_time_load: 0.05s, perf_time: 0.00s\n",
      "step 36750 / 49006 (epoch 37.50 / 50):\n",
      "  learning_rate = 2.00e-02, training accuracy = 100.00, training loss = 1.43e-01\n",
      "  validation accuracy: 82.17 (4218 / 5133), f1 (weighted): 81.51, loss: 1.15e+00\n",
      "  CPU time: 7170s, wall time: 3700s, perf_time_load: 0.05s, perf_time: 0.00s\n"
     ]
    },
    {
     "name": "stdout",
     "output_type": "stream",
     "text": [
      "step 36995 / 49006 (epoch 37.75 / 50):\n",
      "  learning_rate = 2.00e-02, training accuracy = 93.75, training loss = 3.74e-01\n",
      "  validation accuracy: 82.04 (4211 / 5133), f1 (weighted): 81.49, loss: 1.18e+00\n",
      "  CPU time: 7218s, wall time: 3725s, perf_time_load: 0.05s, perf_time: 0.00s\n",
      "step 37240 / 49006 (epoch 38.00 / 50):\n",
      "  learning_rate = 2.00e-02, training accuracy = 96.88, training loss = 3.07e-01\n",
      "  validation accuracy: 82.25 (4222 / 5133), f1 (weighted): 81.71, loss: 1.15e+00\n",
      "  CPU time: 7265s, wall time: 3749s, perf_time_load: 0.05s, perf_time: 0.00s\n",
      "step 37485 / 49006 (epoch 38.25 / 50):\n",
      "  learning_rate = 2.00e-02, training accuracy = 100.00, training loss = 1.37e-01\n",
      "  validation accuracy: 82.78 (4249 / 5133), f1 (weighted): 82.33, loss: 1.11e+00\n",
      "  CPU time: 7313s, wall time: 3774s, perf_time_load: 0.05s, perf_time: 0.00s\n",
      "step 37730 / 49006 (epoch 38.50 / 50):\n",
      "  learning_rate = 2.00e-02, training accuracy = 96.88, training loss = 1.69e-01\n",
      "  validation accuracy: 82.45 (4232 / 5133), f1 (weighted): 82.15, loss: 1.11e+00\n",
      "  CPU time: 7361s, wall time: 3799s, perf_time_load: 0.05s, perf_time: 0.00s\n",
      "step 37975 / 49006 (epoch 38.75 / 50):\n",
      "  learning_rate = 2.00e-02, training accuracy = 100.00, training loss = 1.51e-01\n",
      "  validation accuracy: 82.35 (4227 / 5133), f1 (weighted): 82.04, loss: 1.13e+00\n",
      "  CPU time: 7409s, wall time: 3824s, perf_time_load: 0.05s, perf_time: 0.00s\n",
      "step 38220 / 49006 (epoch 39.00 / 50):\n",
      "  learning_rate = 2.00e-02, training accuracy = 93.75, training loss = 2.05e-01\n",
      "  validation accuracy: 82.72 (4246 / 5133), f1 (weighted): 82.53, loss: 1.11e+00\n",
      "  CPU time: 7457s, wall time: 3849s, perf_time_load: 0.05s, perf_time: 0.00s\n",
      "step 38465 / 49006 (epoch 39.24 / 50):\n",
      "  learning_rate = 2.00e-02, training accuracy = 96.88, training loss = 1.80e-01\n",
      "  validation accuracy: 82.23 (4221 / 5133), f1 (weighted): 81.90, loss: 1.15e+00\n",
      "  CPU time: 7504s, wall time: 3874s, perf_time_load: 0.05s, perf_time: 0.00s\n",
      "step 38710 / 49006 (epoch 39.49 / 50):\n",
      "  learning_rate = 2.00e-02, training accuracy = 100.00, training loss = 2.39e-01\n",
      "  validation accuracy: 82.31 (4225 / 5133), f1 (weighted): 81.98, loss: 1.13e+00\n",
      "  CPU time: 7551s, wall time: 3899s, perf_time_load: 0.05s, perf_time: 0.00s\n",
      "step 38955 / 49006 (epoch 39.74 / 50):\n",
      "  learning_rate = 2.00e-02, training accuracy = 96.88, training loss = 1.92e-01\n",
      "  validation accuracy: 82.06 (4212 / 5133), f1 (weighted): 81.60, loss: 1.14e+00\n",
      "  CPU time: 7601s, wall time: 3925s, perf_time_load: 0.05s, perf_time: 0.00s\n",
      "step 39200 / 49006 (epoch 39.99 / 50):\n",
      "  learning_rate = 2.00e-02, training accuracy = 100.00, training loss = 1.98e-01\n",
      "  validation accuracy: 82.86 (4253 / 5133), f1 (weighted): 82.35, loss: 1.16e+00\n",
      "  CPU time: 7648s, wall time: 3949s, perf_time_load: 0.05s, perf_time: 0.00s\n",
      "step 39445 / 49006 (epoch 40.24 / 50):\n",
      "  learning_rate = 2.00e-02, training accuracy = 93.75, training loss = 4.94e-01\n",
      "  validation accuracy: 82.41 (4230 / 5133), f1 (weighted): 82.13, loss: 1.18e+00\n",
      "  CPU time: 7695s, wall time: 3974s, perf_time_load: 0.05s, perf_time: 0.00s\n",
      "step 39690 / 49006 (epoch 40.49 / 50):\n",
      "  learning_rate = 2.00e-02, training accuracy = 100.00, training loss = 1.18e-01\n",
      "  validation accuracy: 82.21 (4220 / 5133), f1 (weighted): 81.84, loss: 1.15e+00\n",
      "  CPU time: 7746s, wall time: 4000s, perf_time_load: 0.05s, perf_time: 0.00s\n",
      "step 39935 / 49006 (epoch 40.74 / 50):\n",
      "  learning_rate = 2.00e-02, training accuracy = 100.00, training loss = 1.63e-01\n",
      "  validation accuracy: 82.31 (4225 / 5133), f1 (weighted): 81.95, loss: 1.16e+00\n",
      "  CPU time: 7795s, wall time: 4026s, perf_time_load: 0.07s, perf_time: 0.00s\n",
      "step 40180 / 49006 (epoch 40.99 / 50):\n",
      "  learning_rate = 2.00e-02, training accuracy = 100.00, training loss = 1.66e-01\n",
      "  validation accuracy: 82.72 (4246 / 5133), f1 (weighted): 82.44, loss: 1.12e+00\n",
      "  CPU time: 7842s, wall time: 4050s, perf_time_load: 0.05s, perf_time: 0.00s\n",
      "step 40425 / 49006 (epoch 41.24 / 50):\n",
      "  learning_rate = 2.00e-02, training accuracy = 96.88, training loss = 6.03e-01\n",
      "  validation accuracy: 81.90 (4204 / 5133), f1 (weighted): 81.51, loss: 1.15e+00\n",
      "  CPU time: 7892s, wall time: 4077s, perf_time_load: 0.05s, perf_time: 0.00s\n",
      "step 40670 / 49006 (epoch 41.49 / 50):\n",
      "  learning_rate = 2.00e-02, training accuracy = 96.88, training loss = 8.87e-02\n",
      "  validation accuracy: 82.29 (4224 / 5133), f1 (weighted): 81.96, loss: 1.16e+00\n",
      "  CPU time: 7939s, wall time: 4101s, perf_time_load: 0.05s, perf_time: 0.00s\n",
      "step 40915 / 49006 (epoch 41.74 / 50):\n",
      "  learning_rate = 2.00e-02, training accuracy = 100.00, training loss = 9.47e-02\n",
      "  validation accuracy: 82.49 (4234 / 5133), f1 (weighted): 82.27, loss: 1.15e+00\n",
      "  CPU time: 7987s, wall time: 4126s, perf_time_load: 0.05s, perf_time: 0.00s\n",
      "step 41160 / 49006 (epoch 41.99 / 50):\n",
      "  learning_rate = 2.00e-02, training accuracy = 100.00, training loss = 2.25e-01\n",
      "  validation accuracy: 82.35 (4227 / 5133), f1 (weighted): 81.98, loss: 1.14e+00\n",
      "  CPU time: 8037s, wall time: 4152s, perf_time_load: 0.05s, perf_time: 0.00s\n",
      "step 41405 / 49006 (epoch 42.24 / 50):\n",
      "  learning_rate = 2.00e-02, training accuracy = 96.88, training loss = 1.85e-01\n",
      "  validation accuracy: 81.82 (4200 / 5133), f1 (weighted): 81.66, loss: 1.15e+00\n",
      "  CPU time: 8085s, wall time: 4176s, perf_time_load: 0.05s, perf_time: 0.00s\n",
      "step 41650 / 49006 (epoch 42.49 / 50):\n",
      "  learning_rate = 2.00e-02, training accuracy = 100.00, training loss = 1.63e-01\n",
      "  validation accuracy: 82.49 (4234 / 5133), f1 (weighted): 82.21, loss: 1.16e+00\n",
      "  CPU time: 8133s, wall time: 4201s, perf_time_load: 0.05s, perf_time: 0.00s\n",
      "step 41895 / 49006 (epoch 42.74 / 50):\n",
      "  learning_rate = 2.00e-02, training accuracy = 100.00, training loss = 4.28e-02\n",
      "  validation accuracy: 82.23 (4221 / 5133), f1 (weighted): 81.83, loss: 1.18e+00\n",
      "  CPU time: 8183s, wall time: 4227s, perf_time_load: 0.05s, perf_time: 0.00s\n",
      "step 42140 / 49006 (epoch 42.99 / 50):\n",
      "  learning_rate = 2.00e-02, training accuracy = 100.00, training loss = 7.45e-02\n",
      "  validation accuracy: 82.02 (4210 / 5133), f1 (weighted): 81.93, loss: 1.15e+00\n",
      "  CPU time: 8230s, wall time: 4252s, perf_time_load: 0.05s, perf_time: 0.00s\n",
      "step 42385 / 49006 (epoch 43.24 / 50):\n",
      "  learning_rate = 2.00e-02, training accuracy = 100.00, training loss = 2.30e-02\n",
      "  validation accuracy: 82.47 (4233 / 5133), f1 (weighted): 82.08, loss: 1.13e+00\n",
      "  CPU time: 8278s, wall time: 4277s, perf_time_load: 0.05s, perf_time: 0.00s\n",
      "step 42630 / 49006 (epoch 43.49 / 50):\n",
      "  learning_rate = 2.00e-02, training accuracy = 100.00, training loss = 5.78e-01\n",
      "  validation accuracy: 82.08 (4213 / 5133), f1 (weighted): 81.73, loss: 1.18e+00\n",
      "  CPU time: 8325s, wall time: 4301s, perf_time_load: 0.05s, perf_time: 0.00s\n",
      "step 42875 / 49006 (epoch 43.74 / 50):\n",
      "  learning_rate = 2.00e-02, training accuracy = 100.00, training loss = 1.23e-01\n",
      "  validation accuracy: 82.12 (4215 / 5133), f1 (weighted): 81.82, loss: 1.13e+00\n",
      "  CPU time: 8371s, wall time: 4325s, perf_time_load: 0.05s, perf_time: 0.00s\n",
      "step 43120 / 49006 (epoch 43.99 / 50):\n",
      "  learning_rate = 2.00e-02, training accuracy = 93.75, training loss = 3.82e-01\n",
      "  validation accuracy: 82.33 (4226 / 5133), f1 (weighted): 81.94, loss: 1.15e+00\n",
      "  CPU time: 8420s, wall time: 4351s, perf_time_load: 0.05s, perf_time: 0.00s\n",
      "step 43365 / 49006 (epoch 44.24 / 50):\n",
      "  learning_rate = 2.00e-02, training accuracy = 100.00, training loss = 2.12e-01\n",
      "  validation accuracy: 82.45 (4232 / 5133), f1 (weighted): 82.08, loss: 1.17e+00\n",
      "  CPU time: 8468s, wall time: 4376s, perf_time_load: 0.05s, perf_time: 0.00s\n",
      "step 43610 / 49006 (epoch 44.49 / 50):\n",
      "  learning_rate = 2.00e-02, training accuracy = 93.75, training loss = 2.98e-01\n",
      "  validation accuracy: 81.98 (4208 / 5133), f1 (weighted): 81.77, loss: 1.15e+00\n",
      "  CPU time: 8515s, wall time: 4400s, perf_time_load: 0.05s, perf_time: 0.00s\n",
      "step 43855 / 49006 (epoch 44.74 / 50):\n",
      "  learning_rate = 2.00e-02, training accuracy = 100.00, training loss = 1.22e-01\n",
      "  validation accuracy: 82.62 (4241 / 5133), f1 (weighted): 82.39, loss: 1.15e+00\n",
      "  CPU time: 8563s, wall time: 4426s, perf_time_load: 0.05s, perf_time: 0.00s\n",
      "step 44100 / 49006 (epoch 44.99 / 50):\n",
      "  learning_rate = 2.00e-02, training accuracy = 100.00, training loss = 1.15e-01\n",
      "  validation accuracy: 82.51 (4235 / 5133), f1 (weighted): 82.25, loss: 1.14e+00\n",
      "  CPU time: 8615s, wall time: 4452s, perf_time_load: 0.06s, perf_time: 0.00s\n"
     ]
    },
    {
     "name": "stdout",
     "output_type": "stream",
     "text": [
      "step 44345 / 49006 (epoch 45.24 / 50):\n",
      "  learning_rate = 2.00e-02, training accuracy = 100.00, training loss = 5.22e-02\n",
      "  validation accuracy: 82.12 (4215 / 5133), f1 (weighted): 81.75, loss: 1.18e+00\n",
      "  CPU time: 8663s, wall time: 4477s, perf_time_load: 0.05s, perf_time: 0.00s\n",
      "step 44590 / 49006 (epoch 45.49 / 50):\n",
      "  learning_rate = 2.00e-02, training accuracy = 100.00, training loss = 1.75e-01\n",
      "  validation accuracy: 82.72 (4246 / 5133), f1 (weighted): 82.38, loss: 1.14e+00\n",
      "  CPU time: 8710s, wall time: 4501s, perf_time_load: 0.05s, perf_time: 0.00s\n",
      "step 44835 / 49006 (epoch 45.74 / 50):\n",
      "  learning_rate = 2.00e-02, training accuracy = 96.88, training loss = 2.30e-01\n",
      "  validation accuracy: 82.23 (4221 / 5133), f1 (weighted): 81.96, loss: 1.18e+00\n",
      "  CPU time: 8759s, wall time: 4527s, perf_time_load: 0.05s, perf_time: 0.00s\n",
      "step 45080 / 49006 (epoch 45.99 / 50):\n",
      "  learning_rate = 2.00e-02, training accuracy = 100.00, training loss = 5.64e-02\n",
      "  validation accuracy: 82.52 (4236 / 5133), f1 (weighted): 82.19, loss: 1.17e+00\n",
      "  CPU time: 8807s, wall time: 4551s, perf_time_load: 0.05s, perf_time: 0.00s\n",
      "step 45325 / 49006 (epoch 46.24 / 50):\n",
      "  learning_rate = 2.00e-02, training accuracy = 100.00, training loss = 2.12e-01\n",
      "  validation accuracy: 82.49 (4234 / 5133), f1 (weighted): 82.45, loss: 1.15e+00\n",
      "  CPU time: 8855s, wall time: 4577s, perf_time_load: 0.05s, perf_time: 0.00s\n",
      "step 45570 / 49006 (epoch 46.49 / 50):\n",
      "  learning_rate = 2.00e-02, training accuracy = 96.88, training loss = 1.55e-01\n",
      "  validation accuracy: 82.19 (4219 / 5133), f1 (weighted): 82.00, loss: 1.15e+00\n",
      "  CPU time: 8904s, wall time: 4602s, perf_time_load: 0.05s, perf_time: 0.00s\n",
      "step 45815 / 49006 (epoch 46.74 / 50):\n",
      "  learning_rate = 2.00e-02, training accuracy = 100.00, training loss = 4.47e-02\n",
      "  validation accuracy: 82.45 (4232 / 5133), f1 (weighted): 81.98, loss: 1.17e+00\n",
      "  CPU time: 8952s, wall time: 4627s, perf_time_load: 0.05s, perf_time: 0.00s\n",
      "step 46060 / 49006 (epoch 46.99 / 50):\n",
      "  learning_rate = 2.00e-02, training accuracy = 100.00, training loss = 2.33e-01\n",
      "  validation accuracy: 82.93 (4257 / 5133), f1 (weighted): 82.55, loss: 1.17e+00\n",
      "  CPU time: 8999s, wall time: 4651s, perf_time_load: 0.05s, perf_time: 0.00s\n",
      "step 46305 / 49006 (epoch 47.24 / 50):\n",
      "  learning_rate = 2.00e-02, training accuracy = 96.88, training loss = 2.78e-01\n",
      "  validation accuracy: 82.56 (4238 / 5133), f1 (weighted): 82.19, loss: 1.16e+00\n",
      "  CPU time: 9048s, wall time: 4677s, perf_time_load: 0.05s, perf_time: 0.00s\n",
      "step 46550 / 49006 (epoch 47.49 / 50):\n",
      "  learning_rate = 2.00e-02, training accuracy = 100.00, training loss = 3.19e-02\n",
      "  validation accuracy: 82.35 (4227 / 5133), f1 (weighted): 82.04, loss: 1.17e+00\n",
      "  CPU time: 9095s, wall time: 4701s, perf_time_load: 0.05s, perf_time: 0.00s\n",
      "step 46795 / 49006 (epoch 47.74 / 50):\n",
      "  learning_rate = 2.00e-02, training accuracy = 100.00, training loss = 6.23e-02\n",
      "  validation accuracy: 82.88 (4254 / 5133), f1 (weighted): 82.31, loss: 1.20e+00\n",
      "  CPU time: 9142s, wall time: 4727s, perf_time_load: 0.05s, perf_time: 0.00s\n",
      "step 47040 / 49006 (epoch 47.99 / 50):\n",
      "  learning_rate = 2.00e-02, training accuracy = 96.88, training loss = 2.81e-01\n",
      "  validation accuracy: 82.25 (4222 / 5133), f1 (weighted): 82.07, loss: 1.16e+00\n",
      "  CPU time: 9191s, wall time: 4752s, perf_time_load: 0.05s, perf_time: 0.00s\n",
      "step 47285 / 49006 (epoch 48.24 / 50):\n",
      "  learning_rate = 2.00e-02, training accuracy = 100.00, training loss = 4.80e-03\n",
      "  validation accuracy: 81.84 (4201 / 5133), f1 (weighted): 81.36, loss: 1.22e+00\n",
      "  CPU time: 9238s, wall time: 4777s, perf_time_load: 0.05s, perf_time: 0.00s\n",
      "step 47530 / 49006 (epoch 48.49 / 50):\n",
      "  learning_rate = 2.00e-02, training accuracy = 100.00, training loss = 5.14e-02\n",
      "  validation accuracy: 82.19 (4219 / 5133), f1 (weighted): 81.90, loss: 1.20e+00\n",
      "  CPU time: 9284s, wall time: 4802s, perf_time_load: 0.06s, perf_time: 0.00s\n",
      "step 47775 / 49006 (epoch 48.74 / 50):\n",
      "  learning_rate = 2.00e-02, training accuracy = 96.88, training loss = 1.85e-01\n",
      "  validation accuracy: 81.90 (4204 / 5133), f1 (weighted): 81.62, loss: 1.22e+00\n",
      "  CPU time: 9334s, wall time: 4828s, perf_time_load: 0.05s, perf_time: 0.00s\n",
      "step 48020 / 49006 (epoch 48.99 / 50):\n",
      "  learning_rate = 2.00e-02, training accuracy = 96.88, training loss = 4.27e-01\n",
      "  validation accuracy: 82.68 (4244 / 5133), f1 (weighted): 82.21, loss: 1.21e+00\n",
      "  CPU time: 9384s, wall time: 4856s, perf_time_load: 0.05s, perf_time: 0.00s\n",
      "step 48265 / 49006 (epoch 49.24 / 50):\n",
      "  learning_rate = 2.00e-02, training accuracy = 100.00, training loss = 8.49e-02\n",
      "  validation accuracy: 82.39 (4229 / 5133), f1 (weighted): 81.95, loss: 1.22e+00\n",
      "  CPU time: 9438s, wall time: 4887s, perf_time_load: 0.07s, perf_time: 0.00s\n",
      "step 48510 / 49006 (epoch 49.49 / 50):\n",
      "  learning_rate = 2.00e-02, training accuracy = 96.88, training loss = 1.59e-01\n",
      "  validation accuracy: 82.52 (4236 / 5133), f1 (weighted): 82.21, loss: 1.23e+00\n",
      "  CPU time: 9493s, wall time: 4918s, perf_time_load: 0.07s, perf_time: 0.00s\n",
      "step 48755 / 49006 (epoch 49.74 / 50):\n",
      "  learning_rate = 2.00e-02, training accuracy = 100.00, training loss = 3.35e-02\n",
      "  validation accuracy: 82.56 (4238 / 5133), f1 (weighted): 82.35, loss: 1.13e+00\n",
      "  CPU time: 9548s, wall time: 4950s, perf_time_load: 0.07s, perf_time: 0.00s\n",
      "step 49000 / 49006 (epoch 49.99 / 50):\n",
      "  learning_rate = 2.00e-02, training accuracy = 100.00, training loss = 1.25e-01\n",
      "  validation accuracy: 82.27 (4223 / 5133), f1 (weighted): 81.93, loss: 1.19e+00\n",
      "  CPU time: 9602s, wall time: 4981s, perf_time_load: 0.08s, perf_time: 0.00s\n",
      "step 49006 / 49006 (epoch 50.00 / 50):\n",
      "  learning_rate = 2.00e-02, training accuracy = 100.00, training loss = 1.18e-01\n",
      "  validation accuracy: 82.37 (4228 / 5133), f1 (weighted): 81.94, loss: 1.18e+00\n",
      "  CPU time: 9616s, wall time: 4993s, perf_time_load: 0.05s, perf_time: 0.00s\n",
      "validation accuracy: best = 83.19, mean = 82.30\n",
      "time per batch: mean = 0.05, var = 0.00043\n"
     ]
    }
   ],
   "source": [
    "accuracy_validation, loss_validation, loss_training, t_step, t_batch = model.fit(train_TFDataset, val_dataset, use_tf_dataset=True, cache=True)"
   ]
  },
  {
   "cell_type": "code",
   "execution_count": 37,
   "metadata": {},
   "outputs": [
    {
     "data": {
      "image/png": "[encoded data removed]",
      "text/plain": [
       "<Figure size 432x288 with 2 Axes>"
      ]
     },
     "metadata": {},
     "output_type": "display_data"
    }
   ],
   "source": [
    "plot.plot_loss(loss_training, loss_validation, t_step, params['eval_frequency'])"
   ]
  },
  {
   "cell_type": "markdown",
   "metadata": {},
   "source": [
    "Remarks"
   ]
  },
  {
   "cell_type": "code",
   "execution_count": 16,
   "metadata": {},
   "outputs": [
    {
     "name": "stdout",
     "output_type": "stream",
     "text": [
      "/mnt/scratch/students/gusset/DeepSphere/deepsphere/../checkpoints/shrec17_Cohen_simple_SGD_max_nsides_300epoch_reg_32sides_CNN\n",
      "INFO:tensorflow:Restoring parameters from /mnt/scratch/students/gusset/DeepSphere/deepsphere/../checkpoints/shrec17_Cohen_simple_SGD_max_nsides_300epoch_reg_32sides_CNN/model-294037\n"
     ]
    },
    {
     "data": {
      "text/plain": [
       "('accuracy: 96.53 (30277 / 31364), f1 (weighted): 96.54, loss: 1.16e-01\\nCPU time: 275s, wall time: 257s',\n",
       " 96.53424308123964,\n",
       " 96.54157073077505,\n",
       " 0.115866209483545)"
      ]
     },
     "execution_count": 16,
     "metadata": {},
     "output_type": "execute_result"
    }
   ],
   "source": [
    "model.evaluate(x_train, labels_train)"
   ]
  },
  {
   "cell_type": "code",
   "execution_count": null,
   "metadata": {},
   "outputs": [],
   "source": [
    "#predictions, loss = model.predict(x_val, labels_val)"
   ]
  },
  {
   "cell_type": "code",
   "execution_count": 26,
   "metadata": {},
   "outputs": [
    {
     "name": "stdout",
     "output_type": "stream",
     "text": [
      "/mnt/scratch/students/gusset/DeepSphere/deepsphere/../checkpoints/shrec17_newGraph_best_5K_cache_1aug_32sides_CNN\n",
      "INFO:tensorflow:Restoring parameters from /mnt/scratch/students/gusset/DeepSphere/deepsphere/../checkpoints/shrec17_newGraph_best_5K_cache_1aug_32sides_CNN/model-49006\n"
     ]
    },
    {
     "data": {
      "text/plain": [
       "('accuracy: 81.86 (4202 / 5133), f1 (weighted): 81.47, loss: 9.74e-01\\nCPU time: 12s, wall time: 11s',\n",
       " 81.86245860120786,\n",
       " 81.46578216620523,\n",
       " 0.9739741521947174)"
      ]
     },
     "execution_count": 26,
     "metadata": {},
     "output_type": "execute_result"
    }
   ],
   "source": [
    "# model.evaluate(x_val, labels_val)\n",
    "model.evaluate(val_dataset, None, cache=True)"
   ]
  },
  {
   "cell_type": "code",
   "execution_count": 27,
   "metadata": {
    "scrolled": true
   },
   "outputs": [
    {
     "name": "stdout",
     "output_type": "stream",
     "text": [
      "/mnt/scratch/students/gusset/DeepSphere/deepsphere/../checkpoints/shrec17_newGraph_best_5K_cache_1aug_32sides_CNN\n",
      "INFO:tensorflow:Restoring parameters from /mnt/scratch/students/gusset/DeepSphere/deepsphere/../checkpoints/shrec17_newGraph_best_5K_cache_1aug_32sides_CNN/model-49006\n"
     ]
    }
   ],
   "source": [
    "# probabilities = model.probs(x_val, nclass)\n",
    "probabilities, _ = model.probs(val_dataset, nclass, cache=True)\n",
    "if augmentation>1:\n",
    "    probabilities = probabilities.reshape((-1,augmentation,nclass))\n",
    "    probabilities = probabilities.mean(axis=1)\n",
    "    #ids_val = ids_val[::repeat]\n",
    "predictions = np.argmax(probabilities, axis=1)"
   ]
  },
  {
   "cell_type": "code",
   "execution_count": 28,
   "metadata": {},
   "outputs": [],
   "source": [
    "ids_val = val_dataset.get_ids()"
   ]
  },
  {
   "cell_type": "code",
   "execution_count": null,
   "metadata": {},
   "outputs": [],
   "source": [
    "#predictions = predictions.astype(np.int)"
   ]
  },
  {
   "cell_type": "code",
   "execution_count": 32,
   "metadata": {},
   "outputs": [],
   "source": [
    "from SHREC17.load_shrec import shrec_output"
   ]
  },
  {
   "cell_type": "code",
   "execution_count": 33,
   "metadata": {},
   "outputs": [],
   "source": [
    "shrec_output(probabilities, ids_val, datapath, 'results/val_perturbed')"
   ]
  },
  {
   "cell_type": "code",
   "execution_count": 34,
   "metadata": {},
   "outputs": [],
   "source": [
    "# for every file, find every object with the same class, sorted by most relevance\n",
    "os.makedirs(os.path.join(datapath,'results_aug/val_perturbed'), exist_ok=True)\n",
    "for i,_id in enumerate(ids_val):\n",
    "    idfile = os.path.join(datapath,'results_aug/val_perturbed',_id)\n",
    "    # predictions batchxclass\n",
    "    # pred_class batch == predictions\n",
    "    retrieved = [(probabilities[j, predictions[j]], ids_val[j]) for j in range(len(ids_val)) if predictions[j] == predictions[i]]\n",
    "    retrieved = sorted(retrieved, reverse=True)\n",
    "    retrieved = [i for _, i in retrieved]\n",
    "    with open(idfile, \"w\") as f:\n",
    "        f.write(\"\\n\".join(retrieved))"
   ]
  },
  {
   "cell_type": "markdown",
   "metadata": {},
   "source": [
    "NaN appears if remove i==j case"
   ]
  },
  {
   "cell_type": "markdown",
   "metadata": {},
   "source": [
    "## test network"
   ]
  },
  {
   "cell_type": "code",
   "execution_count": 35,
   "metadata": {},
   "outputs": [
    {
     "name": "stderr",
     "output_type": "stream",
     "text": [
      "10265it [00:20, 493.48it/s]\n"
     ]
    }
   ],
   "source": [
    "test_dataset = Shrec17Dataset(datapath, 'test', perturbed=noise_dataset, download=download, nside=Nside, augmentation=augmentation, nfile=None)"
   ]
  },
  {
   "cell_type": "code",
   "execution_count": 36,
   "metadata": {},
   "outputs": [
    {
     "data": {
      "image/png": "[encoded data removed]",
      "text/plain": [
       "<Figure size 432x288 with 1 Axes>"
      ]
     },
     "metadata": {},
     "output_type": "display_data"
    }
   ],
   "source": [
    "x_test, labels_test, ids_test = test_dataset.return_data(train=False)"
   ]
  },
  {
   "cell_type": "code",
   "execution_count": 37,
   "metadata": {},
   "outputs": [
    {
     "name": "stdout",
     "output_type": "stream",
     "text": [
      "/mnt/scratch/students/gusset/DeepSphere/deepsphere/../checkpoints/shrec17_newGraph_best_5K_cache_1aug_32sides_CNN\n",
      "INFO:tensorflow:Restoring parameters from /mnt/scratch/students/gusset/DeepSphere/deepsphere/../checkpoints/shrec17_newGraph_best_5K_cache_1aug_32sides_CNN/model-49006\n"
     ]
    },
    {
     "data": {
      "text/plain": [
       "('accuracy: 78.81 (8090 / 10265), f1 (weighted): 78.83, loss: 1.19e+00\\nCPU time: 14s, wall time: 13s',\n",
       " 78.81149537262543,\n",
       " 78.8281112626363,\n",
       " 1.1859818069283345)"
      ]
     },
     "execution_count": 37,
     "metadata": {},
     "output_type": "execute_result"
    }
   ],
   "source": [
    "model.evaluate(x_test, labels_test)"
   ]
  },
  {
   "cell_type": "code",
   "execution_count": null,
   "metadata": {},
   "outputs": [],
   "source": [
    "#predictions = model.predict(x_test)"
   ]
  },
  {
   "cell_type": "code",
   "execution_count": 38,
   "metadata": {},
   "outputs": [
    {
     "name": "stdout",
     "output_type": "stream",
     "text": [
      "/mnt/scratch/students/gusset/DeepSphere/deepsphere/../checkpoints/shrec17_newGraph_best_5K_cache_1aug_32sides_CNN\n",
      "INFO:tensorflow:Restoring parameters from /mnt/scratch/students/gusset/DeepSphere/deepsphere/../checkpoints/shrec17_newGraph_best_5K_cache_1aug_32sides_CNN/model-49006\n"
     ]
    }
   ],
   "source": [
    "probabilities = model.probs(x_test, nclass)\n",
    "if augmentation>1:\n",
    "    probabilities = probabilities.reshape((-1,augmentation,nclass))\n",
    "    probabilities = repeat.mean(axis=1)\n",
    "#probabilities = np.log(probabilities)\n",
    "predictions = np.argmax(probabilities, axis=1)"
   ]
  },
  {
   "cell_type": "code",
   "execution_count": null,
   "metadata": {},
   "outputs": [],
   "source": [
    "#predictions = predictions.astype(np.int)"
   ]
  },
  {
   "cell_type": "markdown",
   "metadata": {},
   "source": [
    "write to file"
   ]
  },
  {
   "cell_type": "code",
   "execution_count": 39,
   "metadata": {},
   "outputs": [],
   "source": [
    "# for every file, find every object with the same class, sorted by most relevance\n",
    "os.makedirs(os.path.join(datapath,'results_aug/test_perturbed'), exist_ok=True)\n",
    "for i, _id in enumerate(ids_test):\n",
    "    idfile = os.path.join(datapath,'results_aug/test_perturbed',_id)\n",
    "    # predictions batchxclass\n",
    "    # pred_class batch == predictions\n",
    "    retrieved = [(probabilities[j, predictions[j]], ids_test[j]) for j in range(len(ids_test)) if predictions[j] == predictions[i]]\n",
    "    retrieved = sorted(retrieved, reverse=True)\n",
    "    retrieved = [i for _, i in retrieved]\n",
    "    with open(idfile, \"w\") as f:\n",
    "        f.write(\"\\n\".join(retrieved))"
   ]
  },
  {
   "cell_type": "code",
   "execution_count": 40,
   "metadata": {},
   "outputs": [],
   "source": [
    "shrec_output(probabilities, ids_test, datapath, 'results/test_perturbed')"
   ]
  },
  {
   "cell_type": "markdown",
   "metadata": {},
   "source": [
    "Why not working?"
   ]
  },
  {
   "cell_type": "code",
   "execution_count": 62,
   "metadata": {},
   "outputs": [],
   "source": [
    "def _print_histogram(nclass, labels_train, labels_min=None):\n",
    "    if labels_train is None:\n",
    "        return\n",
    "    import matplotlib.pyplot as plt\n",
    "    from collections import Counter\n",
    "    hist_train=Counter(labels_train)\n",
    "    if labels_min is not None:\n",
    "        hist_min = Counter(labels_min)\n",
    "        hist_temp = hist_train - hist_min\n",
    "        hist_min = hist_min - hist_train\n",
    "        hist_train = hist_temp + hist_min\n",
    "#         for i in range(self.nclass):\n",
    "#             hist_train.append(np.sum(labels_train == i))\n",
    "    labels, values = zip(*hist_train.items())\n",
    "    indexes = np.asarray(labels)\n",
    "#     miss = set(indexes) - set(labels)\n",
    "#     if len(miss) is not 0:\n",
    "#         hist_train.update({elem:0 for elem in miss})\n",
    "#     labels, values = zip(*hist_train.items())\n",
    "    width = 1\n",
    "    plt.bar(labels, values, width)\n",
    "    plt.title(\"labels distribution\")\n",
    "    plt.ylim(0,1700)\n",
    "    #plt.xticks(indexes + width * 0.5, labels)\n",
    "    plt.show()"
   ]
  },
  {
   "cell_type": "code",
   "execution_count": 63,
   "metadata": {},
   "outputs": [
    {
     "data": {
      "image/png": "[encoded data removed]",
      "text/plain": [
       "<Figure size 432x288 with 1 Axes>"
      ]
     },
     "metadata": {},
     "output_type": "display_data"
    },
    {
     "data": {
      "image/png": "[encoded data removed]",
      "text/plain": [
       "<Figure size 432x288 with 1 Axes>"
      ]
     },
     "metadata": {},
     "output_type": "display_data"
    },
    {
     "data": {
      "image/png": "[encoded data removed]",
      "text/plain": [
       "<Figure size 432x288 with 1 Axes>"
      ]
     },
     "metadata": {},
     "output_type": "display_data"
    }
   ],
   "source": [
    "_print_histogram(55, labels_test)\n",
    "_print_histogram(55, predictions)\n",
    "_print_histogram(55, labels_test, predictions)"
   ]
  },
  {
   "cell_type": "code",
   "execution_count": 43,
   "metadata": {},
   "outputs": [],
   "source": [
    "from sklearn.metrics import confusion_matrix"
   ]
  },
  {
   "cell_type": "code",
   "execution_count": 44,
   "metadata": {},
   "outputs": [
    {
     "data": {
      "text/plain": [
       "<matplotlib.image.AxesImage at 0x7f1fdaff4a58>"
      ]
     },
     "execution_count": 44,
     "metadata": {},
     "output_type": "execute_result"
    },
    {
     "data": {
      "image/png": "[encoded data removed]",
      "text/plain": [
       "<Figure size 432x288 with 1 Axes>"
      ]
     },
     "metadata": {},
     "output_type": "display_data"
    }
   ],
   "source": [
    "plt.spy(confusion_matrix(labels_test, predictions, range(55)))"
   ]
  },
  {
   "cell_type": "code",
   "execution_count": null,
   "metadata": {},
   "outputs": [],
   "source": []
  }
 ],
 "metadata": {
  "kernelspec": {
   "display_name": "Python 3",
   "language": "python",
   "name": "python3"
  },
  "language_info": {
   "codemirror_mode": {
    "name": "ipython",
    "version": 3
   },
   "file_extension": ".py",
   "mimetype": "text/x-python",
   "name": "python",
   "nbconvert_exporter": "python",
   "pygments_lexer": "ipython3",
   "version": "3.6.7"
  }
 },
 "nbformat": 4,
 "nbformat_minor": 2
}
