{
 "cells": [
  {
   "cell_type": "markdown",
   "metadata": {},
   "source": [
    "# DeepSphere using SHREC17 dataset\n",
    "### Benchmark with Cohen method S2CNN[[1]](http://arxiv.org/abs/1801.10130) and Esteves method[[2]](http://arxiv.org/abs/1711.06721)\n",
    "Multi-class classification of 3D objects, using the interesting property of rotation equivariance.\n",
    "\n",
    "The 3D objects are projected on a unit sphere.\n",
    "Cohen and Esteves use equiangular sampling, while our method use a HEAlpix sampling\n",
    "\n",
    "Several features are collected:\n",
    "* projection ray length (from sphere border to intersection [0, 2])\n",
    "* cos/sin with surface normal\n",
    "* same features using the convex hull of the 3D object"
   ]
  },
  {
   "cell_type": "markdown",
   "metadata": {},
   "source": [
    "## 0.1 Load libs"
   ]
  },
  {
   "cell_type": "code",
   "execution_count": 1,
   "metadata": {},
   "outputs": [],
   "source": [
    "%load_ext autoreload\n",
    "%autoreload 2\n",
    "%matplotlib inline"
   ]
  },
  {
   "cell_type": "code",
   "execution_count": 2,
   "metadata": {},
   "outputs": [],
   "source": [
    "import os\n",
    "import shutil\n",
    "import sys\n",
    "\n",
    "os.environ[\"CUDA_VISIBLE_DEVICES\"] = \"1\"  # change to chosen GPU to use, nothing if work on CPU\n",
    "\n",
    "import numpy as np\n",
    "import time\n",
    "import matplotlib.pyplot as plt\n",
    "import healpy as hp"
   ]
  },
  {
   "cell_type": "code",
   "execution_count": 3,
   "metadata": {},
   "outputs": [],
   "source": [
    "from deepsphere import models, experiment_helper, plot, utils\n",
    "from deepsphere.data import LabeledDatasetWithNoise, LabeledDataset\n",
    "import hyperparameters\n",
    "\n",
    "from SHREC17.load_shrec import fix_dataset, Shrec17Dataset, Shrec17DatasetCache, Shrec17DatasetTF"
   ]
  },
  {
   "cell_type": "markdown",
   "metadata": {},
   "source": [
    "## 0.2 Define parameters"
   ]
  },
  {
   "cell_type": "code",
   "execution_count": 53,
   "metadata": {},
   "outputs": [],
   "source": [
    "Nside = 32\n",
    "experiment_type = 'CNN' # 'FCN'\n",
    "ename = '_'+experiment_type\n",
    "datapath = '../data/shrec17/' # localisation of the .obj files"
   ]
  },
  {
   "cell_type": "code",
   "execution_count": 99,
   "metadata": {},
   "outputs": [],
   "source": [
    "noise_dataset = True    # use perturbed dataset (Cohen and Esteves do the same)\n",
    "augmentation = 3        # number of element per file (1 = no augmentation of dataset)\n",
    "nfeat = 6"
   ]
  },
  {
   "cell_type": "markdown",
   "metadata": {},
   "source": [
    "## 1 Load dataset"
   ]
  },
  {
   "cell_type": "code",
   "execution_count": 6,
   "metadata": {},
   "outputs": [],
   "source": [
    "# if datasets are already downloaded but not preprocessed\n",
    "fix = False\n",
    "download = False\n",
    "if fix:\n",
    "    fix_dataset(datapath+'val_perturbed')\n",
    "    fix_dataset(datapath+'test_perturbed')"
   ]
  },
  {
   "cell_type": "markdown",
   "metadata": {},
   "source": [
    "download dataset if True, preprocess data and store it in npy files, and load it in a dataset object"
   ]
  },
  {
   "cell_type": "code",
   "execution_count": 79,
   "metadata": {},
   "outputs": [],
   "source": [
    "# train_dataset = Shrec17Dataset(datapath, 'train', perturbed=noise_dataset, download=download, nside=Nside, augmentation=augmentation, nfile=None, load=False)\n"
   ]
  },
  {
   "cell_type": "markdown",
   "metadata": {},
   "source": [
    "Better to keep validation and testing set in RAM, but not always possible"
   ]
  },
  {
   "cell_type": "code",
   "execution_count": 100,
   "metadata": {},
   "outputs": [],
   "source": [
    "val_dataset = Shrec17DatasetCache(datapath, 'val', perturbed=noise_dataset, download=download, nside=Nside, nfeat=nfeat, augmentation=1, nfile=None)"
   ]
  },
  {
   "cell_type": "code",
   "execution_count": 101,
   "metadata": {},
   "outputs": [],
   "source": [
    "val_nonrot_dataset = Shrec17DatasetCache(datapath, 'val', perturbed=noise_dataset, download=download, nside=Nside, nfeat=nfeat, experiment='deepsphere_norot', augmentation=1, nfile=None)"
   ]
  },
  {
   "cell_type": "markdown",
   "metadata": {},
   "source": [
    "Try do make a tensorflow dataset object"
   ]
  },
  {
   "cell_type": "code",
   "execution_count": 102,
   "metadata": {},
   "outputs": [],
   "source": [
    "train_TFDataset = Shrec17DatasetTF(datapath, 'train', perturbed=noise_dataset, download=download, nside=Nside, nfeat=nfeat, augmentation=augmentation, nfile=None)"
   ]
  },
  {
   "cell_type": "code",
   "execution_count": 10,
   "metadata": {},
   "outputs": [],
   "source": [
    "#dataset = train_TFDataset.get_tf_dataset(32)"
   ]
  },
  {
   "cell_type": "code",
   "execution_count": 11,
   "metadata": {},
   "outputs": [],
   "source": [
    "# import time\n",
    "# import tensorflow as tf\n",
    "\n",
    "# #dataset = tf_dataset_file(datapath, dataset, file_pattern, 32, Nside, augmentation)\n",
    "# t_start = time.time()\n",
    "# data_next = dataset.make_one_shot_iterator().get_next()\n",
    "# config = tf.ConfigProto()\n",
    "# config.gpu_options.allow_growth = True\n",
    "# steps = train_TFDataset.N // 32 + 1\n",
    "# with tf.Session(config=config) as sess:\n",
    "#     sess.run(tf.global_variables_initializer())\n",
    "#     try:\n",
    "#         for i in range(steps):\n",
    "#             out = sess.run(data_next)\n",
    "#     except tf.errors.OutOfRangeError:\n",
    "#         print(\"Done\") # Never reach this as will iterate on infinite sets\n",
    "# t_end = time.time()\n",
    "# print(str(t_end-t_start)+\" s\")\n",
    "\n",
    "# # t_start = time.time()\n",
    "# # data_iter = train_dataset.iter(32)\n",
    "# # steps = int(train_dataset.N / 32)\n",
    "# # for i in range(steps):\n",
    "# #     next(data_iter)\n",
    "# #     #feed_dict = {self.ph_data: batch_data, self.ph_labels: batch_labels, self.ph_training: True}\n",
    "# # t_end = time.time()\n",
    "# # print(str(t_end-t_start)+\" s\")"
   ]
  },
  {
   "cell_type": "markdown",
   "metadata": {},
   "source": [
    "## 1.1 Preprocess the dataset"
   ]
  },
  {
   "cell_type": "markdown",
   "metadata": {},
   "source": [
    "Shuffle the training dataset and print the classes distribution"
   ]
  },
  {
   "cell_type": "code",
   "execution_count": 103,
   "metadata": {},
   "outputs": [
    {
     "name": "stdout",
     "output_type": "stream",
     "text": [
      "number of class: 55 \n",
      "number of elements: 94092\n"
     ]
    }
   ],
   "source": [
    "nclass = train_TFDataset.nclass\n",
    "num_elem = train_TFDataset.N\n",
    "#ids_train = train_dataset.ids\n",
    "print('number of class:',nclass,'\\nnumber of elements:',num_elem)#,'\\nfirst id:',ids_train[0])"
   ]
  },
  {
   "cell_type": "code",
   "execution_count": 13,
   "metadata": {},
   "outputs": [],
   "source": [
    "# x_val, labels_val, ids_val = val_dataset.return_data(train=False)"
   ]
  },
  {
   "cell_type": "markdown",
   "metadata": {},
   "source": [
    "## 2 Classification using DeepSphere"
   ]
  },
  {
   "cell_type": "markdown",
   "metadata": {},
   "source": [
    "Use of the Dataset object used for other DeepSphere experiments"
   ]
  },
  {
   "cell_type": "code",
   "execution_count": 15,
   "metadata": {},
   "outputs": [],
   "source": [
    "# #training = LabeledDatasetWithNoise(x_train, labels_train, end_level=sigma_noise)\n",
    "# #training = LabeledDataset(x_train, labels_train)\n",
    "# validation = LabeledDataset(x_val, labels_val)"
   ]
  },
  {
   "cell_type": "code",
   "execution_count": 104,
   "metadata": {},
   "outputs": [],
   "source": [
    "#EXP_NAME = 'shrec17_Graph_Cohen_4K_{}feat_{}aug_{}sides{}'.format(nfeat, augmentation, Nside, ename)\n",
    "#EXP_NAME = 'shrec17_Cohen_simple_SGD_max_nsides_300epoch_{}sides{}'.format(Nside, ename)\n",
    "EXP_NAME = 'shrec17_newBestGraphFull_best_4K_triplet_norot_{}aug_{}sides{}'.format(augmentation, Nside, ename)\n",
    "#EXP_NAME = 'essai_0loss'"
   ]
  },
  {
   "cell_type": "markdown",
   "metadata": {},
   "source": [
    "Load model with hyperparameters chosen.\n",
    "For each experiment, a new EXP_NAME is chosen, and new hyperparameters are store.\n",
    "All informations are present 'DeepSphere/Shrec17/experiments.md'\n",
    "The fastest way to reproduce an experiment is to revert to the commit of the experiment to load the correct files and notebook"
   ]
  },
  {
   "cell_type": "markdown",
   "metadata": {},
   "source": [
    "Adding a layer in the fully connected can be beneficial"
   ]
  },
  {
   "cell_type": "code",
   "execution_count": 106,
   "metadata": {},
   "outputs": [
    {
     "name": "stdout",
     "output_type": "stream",
     "text": [
      "#sides: [32, 16, 8, 4, 2, 1, 1]\n",
      "#pixels: [12288, 3072, 768, 192, 48, 12, 12]\n",
      "#samples per batch: 32\n",
      "=> #pixels per batch (input): 393,216\n",
      "=> #pixels for training (input): 57,810,124,800\n",
      "Learning rate will start at 2.0e-02 and finish at 2.0e-02.\n",
      "NN architecture\n",
      "  input: M_0 = 12288\n",
      "  layer 1: cgconv1\n",
      "    representation: M_0 * F_1 / p_1 = 12288 * 16 / 4 = 49152\n",
      "    weights: F_0 * F_1 * K_1 = 6 * 16 * 4 = 384\n",
      "    biases: F_1 = 16\n",
      "    batch normalization\n",
      "  layer 2: cgconv2\n",
      "    representation: M_1 * F_2 / p_2 = 3072 * 32 / 4 = 24576\n",
      "    weights: F_1 * F_2 * K_2 = 16 * 32 * 4 = 2048\n",
      "    biases: F_2 = 32\n",
      "    batch normalization\n",
      "  layer 3: cgconv3\n",
      "    representation: M_2 * F_3 / p_3 = 768 * 64 / 4 = 12288\n",
      "    weights: F_2 * F_3 * K_3 = 32 * 64 * 4 = 8192\n",
      "    biases: F_3 = 64\n",
      "    batch normalization\n",
      "  layer 4: cgconv4\n",
      "    representation: M_3 * F_4 / p_4 = 192 * 128 / 4 = 6144\n",
      "    weights: F_3 * F_4 * K_4 = 64 * 128 * 4 = 32768\n",
      "    biases: F_4 = 128\n",
      "    batch normalization\n",
      "  layer 5: cgconv5\n",
      "    representation: M_4 * F_5 / p_5 = 48 * 256 / 4 = 3072\n",
      "    weights: F_4 * F_5 * K_5 = 128 * 256 * 4 = 131072\n",
      "    biases: F_5 = 256\n",
      "    batch normalization\n",
      "  Statistical layer: mean\n",
      "    representation: 1 * 256 = 256\n",
      "  layer 6: logits (softmax)\n",
      "    representation: M_6 = 55\n",
      "    weights: M_5 * M_6 = 256 * 55 = 14080\n"
     ]
    }
   ],
   "source": [
    "params = hyperparameters.get_params_shrec17_optim(num_elem, EXP_NAME, Nside, nclass, nfeat_in=nfeat, architecture=experiment_type)\n",
    "params[\"tf_dataset\"] = train_TFDataset.get_tf_dataset(params[\"batch_size\"])\n",
    "params[\"std\"] = [0.002, 0.009, 0.025, 0.09, 0.15, 0.5]\n",
    "params[\"full\"] = [True]*6\n",
    "params[\"extra_loss\"]=True\n",
    "model = models.deepsphere(**params)"
   ]
  },
  {
   "cell_type": "code",
   "execution_count": 21,
   "metadata": {},
   "outputs": [],
   "source": [
    "#EXP_NAME = \"shrec17_best_4K_cache_1aug_128sides_CNN\"\n",
    "shutil.rmtree('summaries/{}/'.format(EXP_NAME), ignore_errors=True)\n",
    "shutil.rmtree('checkpoints/{}/'.format(EXP_NAME), ignore_errors=True)"
   ]
  },
  {
   "cell_type": "markdown",
   "metadata": {},
   "source": [
    "Find a correct learning rate"
   ]
  },
  {
   "cell_type": "code",
   "execution_count": null,
   "metadata": {
    "scrolled": true
   },
   "outputs": [
    {
     "name": "stdout",
     "output_type": "stream",
     "text": [
      "NN architecture\n",
      "  input: M_0 = 196608\n",
      "  layer 1: cgconv1\n",
      "    representation: M_0 * F_1 / p_1 = 196608 * 16 / 4 = 786432\n",
      "    weights: F_0 * F_1 * K_1 = 6 * 16 * 5 = 480\n",
      "    biases: F_1 = 16\n",
      "    batch normalization\n",
      "  layer 2: cgconv2\n",
      "    representation: M_1 * F_2 / p_2 = 49152 * 32 / 4 = 393216\n",
      "    weights: F_1 * F_2 * K_2 = 16 * 32 * 5 = 2560\n",
      "    biases: F_2 = 32\n",
      "    batch normalization\n",
      "  layer 3: cgconv3\n",
      "    representation: M_2 * F_3 / p_3 = 12288 * 64 / 4 = 196608\n",
      "    weights: F_2 * F_3 * K_3 = 32 * 64 * 5 = 10240\n",
      "    biases: F_3 = 64\n",
      "    batch normalization\n",
      "  layer 4: cgconv4\n",
      "    representation: M_3 * F_4 / p_4 = 3072 * 128 / 4 = 98304\n",
      "    weights: F_3 * F_4 * K_4 = 64 * 128 * 5 = 40960\n",
      "    biases: F_4 = 128\n",
      "    batch normalization\n",
      "  layer 5: cgconv5\n",
      "    representation: M_4 * F_5 / p_5 = 768 * 256 / 4 = 49152\n",
      "    weights: F_4 * F_5 * K_5 = 128 * 256 * 5 = 163840\n",
      "    biases: F_5 = 256\n",
      "    batch normalization\n",
      "  Statistical layer: mean\n",
      "    representation: 1 * 256 = 256\n",
      "  layer 6: logits (softmax)\n",
      "    representation: M_6 = 55\n",
      "    weights: M_5 * M_6 = 256 * 55 = 14080\n",
      "step 490 / 19602 (epoch 0.50 / 20):\n",
      "  learning_rate = 1.78e-06, training loss = 4.24e+00\n"
     ]
    },
    {
     "name": "stderr",
     "output_type": "stream",
     "text": [
      "/home/gusset/miniconda3/envs/PDMsphere/lib/python3.6/site-packages/sklearn/metrics/classification.py:1135: UndefinedMetricWarning: F-score is ill-defined and being set to 0.0 in labels with no predicted samples.\n",
      "  'precision', 'predicted', average, warn_for)\n"
     ]
    },
    {
     "name": "stdout",
     "output_type": "stream",
     "text": [
      "  validation accuracy: 0.76 (39 / 5133), f1 (weighted): 0.80, loss: 4.29e+00\n",
      "  CPU time: 1477s, wall time: 797s, perf_time_load: 1.16s, perf_time: 1.16s\n",
      "step 980 / 19602 (epoch 1.00 / 20):\n",
      "  learning_rate = 3.16e-06, training loss = 4.13e+00\n",
      "  validation accuracy: 3.78 (194 / 5133), f1 (weighted): 2.88, loss: 4.19e+00\n",
      "  CPU time: 2964s, wall time: 1587s, perf_time_load: 1.13s, perf_time: 1.13s\n",
      "step 1470 / 19602 (epoch 1.50 / 20):\n",
      "  learning_rate = 5.62e-06, training loss = 4.08e+00\n",
      "  validation accuracy: 10.29 (528 / 5133), f1 (weighted): 4.54, loss: 4.00e+00\n",
      "  CPU time: 4446s, wall time: 2374s, perf_time_load: 1.16s, perf_time: 1.16s\n",
      "step 1960 / 19602 (epoch 2.00 / 20):\n",
      "  learning_rate = 9.99e-06, training loss = 3.78e+00\n",
      "  validation accuracy: 26.57 (1364 / 5133), f1 (weighted): 15.49, loss: 3.70e+00\n",
      "  CPU time: 5924s, wall time: 3166s, perf_time_load: 1.15s, perf_time: 1.15s\n",
      "step 2450 / 19602 (epoch 2.50 / 20):\n",
      "  learning_rate = 1.78e-05, training loss = 3.08e+00\n",
      "  validation accuracy: 35.52 (1823 / 5133), f1 (weighted): 23.55, loss: 3.37e+00\n",
      "  CPU time: 7409s, wall time: 3951s, perf_time_load: 1.15s, perf_time: 1.15s\n",
      "step 2940 / 19602 (epoch 3.00 / 20):\n",
      "  learning_rate = 3.16e-05, training loss = 2.92e+00\n",
      "  validation accuracy: 41.22 (2116 / 5133), f1 (weighted): 27.08, loss: 3.05e+00\n",
      "  CPU time: 8890s, wall time: 4737s, perf_time_load: 1.17s, perf_time: 1.17s\n",
      "step 3430 / 19602 (epoch 3.50 / 20):\n",
      "  learning_rate = 5.62e-05, training loss = 2.43e+00\n",
      "  validation accuracy: 43.13 (2214 / 5133), f1 (weighted): 29.75, loss: 2.78e+00\n",
      "  CPU time: 10385s, wall time: 5525s, perf_time_load: 1.14s, perf_time: 1.14s\n",
      "step 3920 / 19602 (epoch 4.00 / 20):\n",
      "  learning_rate = 9.99e-05, training loss = 2.51e+00\n",
      "  validation accuracy: 46.13 (2368 / 5133), f1 (weighted): 34.35, loss: 2.55e+00\n",
      "  CPU time: 11895s, wall time: 6315s, perf_time_load: 1.14s, perf_time: 1.14s\n",
      "step 4410 / 19602 (epoch 4.50 / 20):\n",
      "  learning_rate = 1.78e-04, training loss = 2.13e+00\n",
      "  validation accuracy: 48.61 (2495 / 5133), f1 (weighted): 38.04, loss: 2.32e+00\n",
      "  CPU time: 13355s, wall time: 7094s, perf_time_load: 1.17s, perf_time: 1.17s\n",
      "step 4900 / 19602 (epoch 5.00 / 20):\n",
      "  learning_rate = 3.16e-04, training loss = 2.27e+00\n",
      "  validation accuracy: 52.41 (2690 / 5133), f1 (weighted): 43.24, loss: 2.12e+00\n",
      "  CPU time: 14828s, wall time: 7876s, perf_time_load: 1.17s, perf_time: 1.17s\n",
      "step 5390 / 19602 (epoch 5.50 / 20):\n",
      "  learning_rate = 5.61e-04, training loss = 1.93e+00\n",
      "  validation accuracy: 56.91 (2921 / 5133), f1 (weighted): 49.32, loss: 1.93e+00\n",
      "  CPU time: 16301s, wall time: 8660s, perf_time_load: 1.17s, perf_time: 1.17s\n",
      "step 5880 / 19602 (epoch 6.00 / 20):\n",
      "  learning_rate = 9.98e-04, training loss = 1.77e+00\n",
      "  validation accuracy: 61.33 (3148 / 5133), f1 (weighted): 55.17, loss: 1.75e+00\n",
      "  CPU time: 17783s, wall time: 9427s, perf_time_load: 1.11s, perf_time: 1.11s\n",
      "step 6370 / 19602 (epoch 6.50 / 20):\n",
      "  learning_rate = 1.77e-03, training loss = 1.69e+00\n",
      "  validation accuracy: 64.50 (3311 / 5133), f1 (weighted): 59.56, loss: 1.60e+00\n",
      "  CPU time: 19248s, wall time: 10200s, perf_time_load: 1.13s, perf_time: 1.13s\n"
     ]
    }
   ],
   "source": [
    "backup = params.copy()\n",
    "\n",
    "params, learning_rate = utils.test_learning_rates(params, train_TFDataset.N, 1e-6, 1e-1, num_epochs=20)\n",
    "\n",
    "shutil.rmtree('summaries/{}/'.format(params['dir_name']), ignore_errors=True)\n",
    "shutil.rmtree('checkpoints/{}/'.format(params['dir_name']), ignore_errors=True)\n",
    "\n",
    "model = models.deepsphere(**params)\n",
    "_, loss_validation, _, _ = model.fit(train_TFDataset, val_dataset, use_tf_dataset=True, cache=True)\n",
    "\n",
    "params.update(backup)\n",
    "\n",
    "plt.semilogx(learning_rate, loss_validation, '.-')"
   ]
  },
  {
   "cell_type": "code",
   "execution_count": null,
   "metadata": {},
   "outputs": [],
   "source": [
    "shutil.rmtree('summaries/lr_finder/', ignore_errors=True)\n",
    "shutil.rmtree('checkpoints/lr_finder/', ignore_errors=True)"
   ]
  },
  {
   "cell_type": "markdown",
   "metadata": {},
   "source": [
    "0.9 seems to be a good learning rate for SGD with current parameters"
   ]
  },
  {
   "cell_type": "markdown",
   "metadata": {},
   "source": [
    "## 2.2 Train Network"
   ]
  },
  {
   "cell_type": "code",
   "execution_count": 107,
   "metadata": {
    "scrolled": true
   },
   "outputs": [
    {
     "name": "stdout",
     "output_type": "stream",
     "text": [
      "conv1/weights:0\n",
      "conv1/bias:0\n",
      "conv2/weights:0\n",
      "conv2/bias:0\n",
      "conv3/weights:0\n",
      "conv3/bias:0\n",
      "conv4/weights:0\n",
      "conv4/bias:0\n",
      "conv5/weights:0\n",
      "conv5/bias:0\n",
      "logits/weights:0\n",
      "the number of parameters in the model is: 189,040\n"
     ]
    }
   ],
   "source": [
    "print(\"the number of parameters in the model is: {:,}\".format(model.get_nbr_var()))"
   ]
  },
  {
   "cell_type": "code",
   "execution_count": null,
   "metadata": {
    "scrolled": true
   },
   "outputs": [
    {
     "name": "stdout",
     "output_type": "stream",
     "text": [
      "step 735 / 147018 (epoch 0.25 / 50):\n",
      "  learning_rate = 2.00e-02, training accuracy = 81.25, training loss = 1.43e+00\n"
     ]
    },
    {
     "name": "stderr",
     "output_type": "stream",
     "text": [
      "/home/gusset/miniconda3/envs/PDMsphere/lib/python3.6/site-packages/sklearn/metrics/classification.py:1135: UndefinedMetricWarning: F-score is ill-defined and being set to 0.0 in labels with no predicted samples.\n",
      "  'precision', 'predicted', average, warn_for)\n"
     ]
    },
    {
     "name": "stdout",
     "output_type": "stream",
     "text": [
      "  validation accuracy: 72.12 (3702 / 5133), f1 (weighted): 69.39, loss: 1.71e+00\n",
      "  CPU time: 207s, wall time: 156s, perf_time_load: 0.17s, perf_time: 0.00s\n",
      "step 1470 / 147018 (epoch 0.50 / 50):\n",
      "  learning_rate = 2.00e-02, training accuracy = 78.12, training loss = 1.25e+00\n",
      "  validation accuracy: 76.76 (3940 / 5133), f1 (weighted): 75.25, loss: 1.35e+00\n",
      "  CPU time: 407s, wall time: 307s, perf_time_load: 0.15s, perf_time: 0.00s\n",
      "step 2205 / 147018 (epoch 0.75 / 50):\n",
      "  learning_rate = 2.00e-02, training accuracy = 81.25, training loss = 8.53e-01\n",
      "  validation accuracy: 80.26 (4120 / 5133), f1 (weighted): 78.59, loss: 1.17e+00\n",
      "  CPU time: 613s, wall time: 458s, perf_time_load: 0.15s, perf_time: 0.00s\n",
      "step 2940 / 147018 (epoch 1.00 / 50):\n",
      "  learning_rate = 2.00e-02, training accuracy = 78.12, training loss = 1.16e+00\n",
      "  validation accuracy: 80.09 (4111 / 5133), f1 (weighted): 78.84, loss: 1.14e+00\n",
      "  CPU time: 798s, wall time: 609s, perf_time_load: 0.17s, perf_time: 0.00s\n",
      "step 3675 / 147018 (epoch 1.25 / 50):\n",
      "  learning_rate = 2.00e-02, training accuracy = 90.62, training loss = 7.18e-01\n",
      "  validation accuracy: 81.04 (4160 / 5133), f1 (weighted): 79.69, loss: 1.05e+00\n",
      "  CPU time: 976s, wall time: 758s, perf_time_load: 0.15s, perf_time: 0.00s\n",
      "step 4410 / 147018 (epoch 1.50 / 50):\n",
      "  learning_rate = 2.00e-02, training accuracy = 90.62, training loss = 5.32e-01\n",
      "  validation accuracy: 81.02 (4159 / 5133), f1 (weighted): 80.10, loss: 1.06e+00\n",
      "  CPU time: 1163s, wall time: 907s, perf_time_load: 0.18s, perf_time: 0.00s\n",
      "step 5145 / 147018 (epoch 1.75 / 50):\n",
      "  learning_rate = 2.00e-02, training accuracy = 84.38, training loss = 5.66e-01\n",
      "  validation accuracy: 80.54 (4134 / 5133), f1 (weighted): 79.38, loss: 1.06e+00\n",
      "  CPU time: 1365s, wall time: 1055s, perf_time_load: 0.17s, perf_time: 0.00s\n",
      "step 5880 / 147018 (epoch 2.00 / 50):\n",
      "  learning_rate = 2.00e-02, training accuracy = 87.50, training loss = 1.06e+00\n",
      "  validation accuracy: 81.51 (4184 / 5133), f1 (weighted): 80.79, loss: 1.00e+00\n",
      "  CPU time: 1565s, wall time: 1206s, perf_time_load: 0.18s, perf_time: 0.00s\n",
      "step 6615 / 147018 (epoch 2.25 / 50):\n",
      "  learning_rate = 2.00e-02, training accuracy = 87.50, training loss = 7.46e-01\n",
      "  validation accuracy: 82.58 (4239 / 5133), f1 (weighted): 81.57, loss: 9.85e-01\n",
      "  CPU time: 1763s, wall time: 1354s, perf_time_load: 0.15s, perf_time: 0.00s\n",
      "step 7350 / 147018 (epoch 2.50 / 50):\n",
      "  learning_rate = 2.00e-02, training accuracy = 96.88, training loss = 2.81e-01\n",
      "  validation accuracy: 82.49 (4234 / 5133), f1 (weighted): 81.99, loss: 9.51e-01\n",
      "  CPU time: 1960s, wall time: 1503s, perf_time_load: 0.22s, perf_time: 0.00s\n",
      "step 8085 / 147018 (epoch 2.75 / 50):\n",
      "  learning_rate = 2.00e-02, training accuracy = 96.88, training loss = 4.25e-01\n",
      "  validation accuracy: 82.84 (4252 / 5133), f1 (weighted): 81.96, loss: 9.49e-01\n",
      "  CPU time: 2155s, wall time: 1650s, perf_time_load: 0.23s, perf_time: 0.00s\n",
      "step 8820 / 147018 (epoch 3.00 / 50):\n",
      "  learning_rate = 2.00e-02, training accuracy = 93.75, training loss = 2.37e-01\n",
      "  validation accuracy: 82.43 (4231 / 5133), f1 (weighted): 82.04, loss: 9.53e-01\n",
      "  CPU time: 2349s, wall time: 1798s, perf_time_load: 0.18s, perf_time: 0.00s\n",
      "step 9555 / 147018 (epoch 3.25 / 50):\n",
      "  learning_rate = 2.00e-02, training accuracy = 87.50, training loss = 6.78e-01\n",
      "  validation accuracy: 82.41 (4230 / 5133), f1 (weighted): 81.76, loss: 9.47e-01\n",
      "  CPU time: 2544s, wall time: 1949s, perf_time_load: 0.15s, perf_time: 0.00s\n",
      "step 10290 / 147018 (epoch 3.50 / 50):\n",
      "  learning_rate = 2.00e-02, training accuracy = 90.62, training loss = 8.16e-01\n",
      "  validation accuracy: 82.68 (4244 / 5133), f1 (weighted): 82.20, loss: 9.59e-01\n",
      "  CPU time: 2743s, wall time: 2098s, perf_time_load: 0.17s, perf_time: 0.00s\n",
      "step 11025 / 147018 (epoch 3.75 / 50):\n",
      "  learning_rate = 2.00e-02, training accuracy = 93.75, training loss = 2.21e-01\n",
      "  validation accuracy: 82.86 (4253 / 5133), f1 (weighted): 82.08, loss: 9.49e-01\n",
      "  CPU time: 2948s, wall time: 2248s, perf_time_load: 0.16s, perf_time: 0.00s\n",
      "step 11760 / 147018 (epoch 4.00 / 50):\n",
      "  learning_rate = 2.00e-02, training accuracy = 96.88, training loss = 5.15e-01\n",
      "  validation accuracy: 82.72 (4246 / 5133), f1 (weighted): 82.14, loss: 9.52e-01\n",
      "  CPU time: 3144s, wall time: 2398s, perf_time_load: 0.17s, perf_time: 0.00s\n",
      "step 12495 / 147018 (epoch 4.25 / 50):\n",
      "  learning_rate = 2.00e-02, training accuracy = 87.50, training loss = 6.99e-01\n",
      "  validation accuracy: 83.67 (4295 / 5133), f1 (weighted): 83.08, loss: 9.26e-01\n",
      "  CPU time: 3334s, wall time: 2544s, perf_time_load: 0.19s, perf_time: 0.00s\n",
      "step 13230 / 147018 (epoch 4.50 / 50):\n",
      "  learning_rate = 2.00e-02, training accuracy = 90.62, training loss = 3.12e-01\n",
      "  validation accuracy: 83.19 (4270 / 5133), f1 (weighted): 82.74, loss: 9.03e-01\n",
      "  CPU time: 3520s, wall time: 2685s, perf_time_load: 0.15s, perf_time: 0.00s\n",
      "step 13965 / 147018 (epoch 4.75 / 50):\n",
      "  learning_rate = 2.00e-02, training accuracy = 84.38, training loss = 4.33e-01\n",
      "  validation accuracy: 82.95 (4258 / 5133), f1 (weighted): 82.57, loss: 9.17e-01\n",
      "  CPU time: 3706s, wall time: 2828s, perf_time_load: 0.21s, perf_time: 0.00s\n",
      "step 14700 / 147018 (epoch 5.00 / 50):\n",
      "  learning_rate = 2.00e-02, training accuracy = 90.62, training loss = 6.49e-01\n",
      "  validation accuracy: 83.07 (4264 / 5133), f1 (weighted): 82.78, loss: 9.06e-01\n",
      "  CPU time: 3888s, wall time: 2970s, perf_time_load: 0.16s, perf_time: 0.00s\n",
      "step 15435 / 147018 (epoch 5.25 / 50):\n",
      "  learning_rate = 2.00e-02, training accuracy = 90.62, training loss = 2.82e-01\n",
      "  validation accuracy: 83.07 (4264 / 5133), f1 (weighted): 82.83, loss: 9.35e-01\n",
      "  CPU time: 4070s, wall time: 3112s, perf_time_load: 0.17s, perf_time: 0.00s\n",
      "step 16170 / 147018 (epoch 5.50 / 50):\n",
      "  learning_rate = 2.00e-02, training accuracy = 84.38, training loss = 4.29e-01\n",
      "  validation accuracy: 84.02 (4313 / 5133), f1 (weighted): 83.52, loss: 8.92e-01\n",
      "  CPU time: 4252s, wall time: 3256s, perf_time_load: 0.17s, perf_time: 0.00s\n",
      "step 16905 / 147018 (epoch 5.75 / 50):\n",
      "  learning_rate = 2.00e-02, training accuracy = 93.75, training loss = 2.87e-01\n",
      "  validation accuracy: 84.30 (4327 / 5133), f1 (weighted): 83.81, loss: 8.97e-01\n",
      "  CPU time: 4430s, wall time: 3398s, perf_time_load: 0.16s, perf_time: 0.00s\n",
      "step 17640 / 147018 (epoch 6.00 / 50):\n",
      "  learning_rate = 2.00e-02, training accuracy = 100.00, training loss = 5.16e-02\n",
      "  validation accuracy: 83.54 (4288 / 5133), f1 (weighted): 83.20, loss: 8.97e-01\n",
      "  CPU time: 4617s, wall time: 3541s, perf_time_load: 0.15s, perf_time: 0.00s\n",
      "step 18375 / 147018 (epoch 6.25 / 50):\n",
      "  learning_rate = 2.00e-02, training accuracy = 96.88, training loss = 1.84e-01\n",
      "  validation accuracy: 83.91 (4307 / 5133), f1 (weighted): 83.68, loss: 8.96e-01\n",
      "  CPU time: 4802s, wall time: 3685s, perf_time_load: 0.16s, perf_time: 0.00s\n",
      "step 19110 / 147018 (epoch 6.50 / 50):\n",
      "  learning_rate = 2.00e-02, training accuracy = 93.75, training loss = 2.10e-01\n",
      "  validation accuracy: 82.86 (4253 / 5133), f1 (weighted): 82.46, loss: 9.20e-01\n",
      "  CPU time: 4986s, wall time: 3826s, perf_time_load: 0.15s, perf_time: 0.00s\n",
      "step 19845 / 147018 (epoch 6.75 / 50):\n",
      "  learning_rate = 2.00e-02, training accuracy = 96.88, training loss = 1.36e-01\n",
      "  validation accuracy: 83.99 (4311 / 5133), f1 (weighted): 83.56, loss: 9.09e-01\n",
      "  CPU time: 5162s, wall time: 3971s, perf_time_load: 0.15s, perf_time: 0.00s\n",
      "step 20580 / 147018 (epoch 7.00 / 50):\n",
      "  learning_rate = 2.00e-02, training accuracy = 87.50, training loss = 5.14e-01\n",
      "  validation accuracy: 84.28 (4326 / 5133), f1 (weighted): 83.97, loss: 9.00e-01\n",
      "  CPU time: 5342s, wall time: 4122s, perf_time_load: 0.17s, perf_time: 0.00s\n",
      "step 21315 / 147018 (epoch 7.25 / 50):\n",
      "  learning_rate = 2.00e-02, training accuracy = 96.88, training loss = 3.52e-01\n",
      "  validation accuracy: 83.77 (4300 / 5133), f1 (weighted): 83.51, loss: 9.06e-01\n",
      "  CPU time: 5526s, wall time: 4270s, perf_time_load: 0.16s, perf_time: 0.00s\n",
      "step 22050 / 147018 (epoch 7.50 / 50):\n",
      "  learning_rate = 2.00e-02, training accuracy = 100.00, training loss = 9.96e-02\n",
      "  validation accuracy: 83.58 (4290 / 5133), f1 (weighted): 83.22, loss: 8.97e-01\n",
      "  CPU time: 5715s, wall time: 4414s, perf_time_load: 0.21s, perf_time: 0.00s\n",
      "step 22785 / 147018 (epoch 7.75 / 50):\n",
      "  learning_rate = 2.00e-02, training accuracy = 100.00, training loss = 2.98e-01\n"
     ]
    },
    {
     "name": "stdout",
     "output_type": "stream",
     "text": [
      "  validation accuracy: 84.28 (4326 / 5133), f1 (weighted): 83.91, loss: 9.15e-01\n",
      "  CPU time: 5902s, wall time: 4559s, perf_time_load: 0.20s, perf_time: 0.00s\n",
      "step 23520 / 147018 (epoch 8.00 / 50):\n",
      "  learning_rate = 2.00e-02, training accuracy = 96.88, training loss = 3.79e-01\n",
      "  validation accuracy: 83.69 (4296 / 5133), f1 (weighted): 83.28, loss: 9.10e-01\n",
      "  CPU time: 6084s, wall time: 4703s, perf_time_load: 0.17s, perf_time: 0.00s\n",
      "step 24255 / 147018 (epoch 8.25 / 50):\n",
      "  learning_rate = 2.00e-02, training accuracy = 90.62, training loss = 2.63e-01\n",
      "  validation accuracy: 83.97 (4310 / 5133), f1 (weighted): 83.75, loss: 9.07e-01\n",
      "  CPU time: 6263s, wall time: 4846s, perf_time_load: 0.18s, perf_time: 0.00s\n",
      "step 24990 / 147018 (epoch 8.50 / 50):\n",
      "  learning_rate = 2.00e-02, training accuracy = 96.88, training loss = 2.93e-01\n",
      "  validation accuracy: 82.82 (4251 / 5133), f1 (weighted): 82.46, loss: 9.43e-01\n",
      "  CPU time: 6444s, wall time: 4992s, perf_time_load: 0.15s, perf_time: 0.00s\n",
      "step 25725 / 147018 (epoch 8.75 / 50):\n",
      "  learning_rate = 2.00e-02, training accuracy = 93.75, training loss = 4.14e-01\n",
      "  validation accuracy: 83.60 (4291 / 5133), f1 (weighted): 83.19, loss: 9.06e-01\n",
      "  CPU time: 6631s, wall time: 5138s, perf_time_load: 0.15s, perf_time: 0.00s\n",
      "step 26460 / 147018 (epoch 9.00 / 50):\n",
      "  learning_rate = 2.00e-02, training accuracy = 96.88, training loss = 2.42e-01\n",
      "  validation accuracy: 83.58 (4290 / 5133), f1 (weighted): 83.05, loss: 9.23e-01\n",
      "  CPU time: 6817s, wall time: 5280s, perf_time_load: 0.17s, perf_time: 0.00s\n",
      "step 27195 / 147018 (epoch 9.25 / 50):\n",
      "  learning_rate = 2.00e-02, training accuracy = 93.75, training loss = 1.94e-01\n",
      "  validation accuracy: 83.95 (4309 / 5133), f1 (weighted): 83.80, loss: 9.15e-01\n",
      "  CPU time: 7002s, wall time: 5421s, perf_time_load: 0.17s, perf_time: 0.00s\n",
      "step 27930 / 147018 (epoch 9.50 / 50):\n",
      "  learning_rate = 2.00e-02, training accuracy = 100.00, training loss = 2.84e-01\n",
      "  validation accuracy: 83.42 (4282 / 5133), f1 (weighted): 83.13, loss: 9.31e-01\n",
      "  CPU time: 7183s, wall time: 5563s, perf_time_load: 0.17s, perf_time: 0.00s\n",
      "step 28665 / 147018 (epoch 9.75 / 50):\n",
      "  learning_rate = 2.00e-02, training accuracy = 84.38, training loss = 1.01e+00\n",
      "  validation accuracy: 83.69 (4296 / 5133), f1 (weighted): 83.42, loss: 9.73e-01\n",
      "  CPU time: 7366s, wall time: 5704s, perf_time_load: 0.16s, perf_time: 0.00s\n",
      "step 29400 / 147018 (epoch 10.00 / 50):\n",
      "  learning_rate = 2.00e-02, training accuracy = 96.88, training loss = 3.20e-01\n",
      "  validation accuracy: 83.75 (4299 / 5133), f1 (weighted): 83.38, loss: 9.09e-01\n",
      "  CPU time: 7551s, wall time: 5844s, perf_time_load: 0.15s, perf_time: 0.00s\n",
      "step 30135 / 147018 (epoch 10.25 / 50):\n",
      "  learning_rate = 2.00e-02, training accuracy = 96.88, training loss = 1.22e-01\n",
      "  validation accuracy: 83.81 (4302 / 5133), f1 (weighted): 83.57, loss: 9.15e-01\n",
      "  CPU time: 7731s, wall time: 5982s, perf_time_load: 0.15s, perf_time: 0.00s\n",
      "step 30870 / 147018 (epoch 10.50 / 50):\n",
      "  learning_rate = 2.00e-02, training accuracy = 100.00, training loss = 1.33e-01\n",
      "  validation accuracy: 84.12 (4318 / 5133), f1 (weighted): 83.74, loss: 9.17e-01\n",
      "  CPU time: 7917s, wall time: 6119s, perf_time_load: 0.16s, perf_time: 0.00s\n",
      "step 31605 / 147018 (epoch 10.75 / 50):\n",
      "  learning_rate = 2.00e-02, training accuracy = 93.75, training loss = 7.13e-01\n",
      "  validation accuracy: 84.20 (4322 / 5133), f1 (weighted): 83.71, loss: 9.22e-01\n",
      "  CPU time: 8101s, wall time: 6258s, perf_time_load: 0.15s, perf_time: 0.00s\n",
      "step 32340 / 147018 (epoch 11.00 / 50):\n",
      "  learning_rate = 2.00e-02, training accuracy = 96.88, training loss = 1.48e-01\n",
      "  validation accuracy: 84.16 (4320 / 5133), f1 (weighted): 83.76, loss: 9.25e-01\n",
      "  CPU time: 8279s, wall time: 6398s, perf_time_load: 0.16s, perf_time: 0.00s\n",
      "step 33075 / 147018 (epoch 11.25 / 50):\n",
      "  learning_rate = 2.00e-02, training accuracy = 96.88, training loss = 5.92e-01\n",
      "  validation accuracy: 84.08 (4316 / 5133), f1 (weighted): 83.84, loss: 9.40e-01\n",
      "  CPU time: 8459s, wall time: 6536s, perf_time_load: 0.17s, perf_time: 0.00s\n",
      "step 33810 / 147018 (epoch 11.50 / 50):\n",
      "  learning_rate = 2.00e-02, training accuracy = 96.88, training loss = 2.01e-01\n",
      "  validation accuracy: 83.60 (4291 / 5133), f1 (weighted): 83.33, loss: 9.32e-01\n",
      "  CPU time: 8640s, wall time: 6672s, perf_time_load: 0.15s, perf_time: 0.00s\n",
      "step 34545 / 147018 (epoch 11.75 / 50):\n",
      "  learning_rate = 2.00e-02, training accuracy = 96.88, training loss = 4.84e-01\n",
      "  validation accuracy: 83.83 (4303 / 5133), f1 (weighted): 83.56, loss: 9.31e-01\n",
      "  CPU time: 8825s, wall time: 6808s, perf_time_load: 0.15s, perf_time: 0.00s\n",
      "step 35280 / 147018 (epoch 12.00 / 50):\n",
      "  learning_rate = 2.00e-02, training accuracy = 93.75, training loss = 2.84e-01\n",
      "  validation accuracy: 84.20 (4322 / 5133), f1 (weighted): 83.88, loss: 9.22e-01\n",
      "  CPU time: 9010s, wall time: 6946s, perf_time_load: 0.15s, perf_time: 0.00s\n",
      "step 36015 / 147018 (epoch 12.25 / 50):\n",
      "  learning_rate = 2.00e-02, training accuracy = 93.75, training loss = 5.24e-01\n",
      "  validation accuracy: 83.95 (4309 / 5133), f1 (weighted): 83.83, loss: 9.46e-01\n",
      "  CPU time: 9195s, wall time: 7084s, perf_time_load: 0.16s, perf_time: 0.00s\n",
      "step 36750 / 147018 (epoch 12.50 / 50):\n",
      "  learning_rate = 2.00e-02, training accuracy = 100.00, training loss = 1.22e-01\n",
      "  validation accuracy: 83.54 (4288 / 5133), f1 (weighted): 83.18, loss: 9.44e-01\n",
      "  CPU time: 9378s, wall time: 7221s, perf_time_load: 0.16s, perf_time: 0.00s\n",
      "step 37485 / 147018 (epoch 12.75 / 50):\n",
      "  learning_rate = 2.00e-02, training accuracy = 96.88, training loss = 1.12e-01\n",
      "  validation accuracy: 83.67 (4295 / 5133), f1 (weighted): 83.49, loss: 9.40e-01\n",
      "  CPU time: 9558s, wall time: 7358s, perf_time_load: 0.18s, perf_time: 0.00s\n",
      "step 38220 / 147018 (epoch 13.00 / 50):\n",
      "  learning_rate = 2.00e-02, training accuracy = 100.00, training loss = 2.60e-01\n",
      "  validation accuracy: 83.85 (4304 / 5133), f1 (weighted): 83.63, loss: 9.36e-01\n",
      "  CPU time: 9740s, wall time: 7496s, perf_time_load: 0.15s, perf_time: 0.00s\n",
      "step 38955 / 147018 (epoch 13.25 / 50):\n",
      "  learning_rate = 2.00e-02, training accuracy = 90.62, training loss = 4.25e-01\n",
      "  validation accuracy: 84.18 (4321 / 5133), f1 (weighted): 83.97, loss: 9.31e-01\n",
      "  CPU time: 9926s, wall time: 7632s, perf_time_load: 0.15s, perf_time: 0.00s\n",
      "step 39690 / 147018 (epoch 13.50 / 50):\n",
      "  learning_rate = 2.00e-02, training accuracy = 96.88, training loss = 2.47e-01\n",
      "  validation accuracy: 84.06 (4315 / 5133), f1 (weighted): 83.71, loss: 9.19e-01\n",
      "  CPU time: 10110s, wall time: 7769s, perf_time_load: 0.15s, perf_time: 0.00s\n",
      "step 40425 / 147018 (epoch 13.75 / 50):\n",
      "  learning_rate = 2.00e-02, training accuracy = 96.88, training loss = 1.89e-01\n",
      "  validation accuracy: 83.36 (4279 / 5133), f1 (weighted): 82.94, loss: 9.60e-01\n",
      "  CPU time: 10292s, wall time: 7907s, perf_time_load: 0.16s, perf_time: 0.00s\n",
      "step 41160 / 147018 (epoch 14.00 / 50):\n",
      "  learning_rate = 2.00e-02, training accuracy = 96.88, training loss = 2.33e-01\n",
      "  validation accuracy: 84.06 (4315 / 5133), f1 (weighted): 83.80, loss: 9.44e-01\n",
      "  CPU time: 10475s, wall time: 8045s, perf_time_load: 0.15s, perf_time: 0.00s\n",
      "step 41895 / 147018 (epoch 14.25 / 50):\n",
      "  learning_rate = 2.00e-02, training accuracy = 90.62, training loss = 4.15e-01\n",
      "  validation accuracy: 84.16 (4320 / 5133), f1 (weighted): 83.68, loss: 9.91e-01\n",
      "  CPU time: 10656s, wall time: 8182s, perf_time_load: 0.16s, perf_time: 0.00s\n",
      "step 42630 / 147018 (epoch 14.50 / 50):\n",
      "  learning_rate = 2.00e-02, training accuracy = 100.00, training loss = 1.05e-01\n",
      "  validation accuracy: 83.95 (4309 / 5133), f1 (weighted): 83.62, loss: 9.48e-01\n",
      "  CPU time: 10841s, wall time: 8320s, perf_time_load: 0.17s, perf_time: 0.00s\n",
      "step 43365 / 147018 (epoch 14.75 / 50):\n",
      "  learning_rate = 2.00e-02, training accuracy = 100.00, training loss = 2.32e-01\n",
      "  validation accuracy: 83.77 (4300 / 5133), f1 (weighted): 83.43, loss: 9.66e-01\n",
      "  CPU time: 11026s, wall time: 8456s, perf_time_load: 0.17s, perf_time: 0.00s\n",
      "step 44100 / 147018 (epoch 15.00 / 50):\n",
      "  learning_rate = 2.00e-02, training accuracy = 100.00, training loss = 3.22e-01\n",
      "  validation accuracy: 83.83 (4303 / 5133), f1 (weighted): 83.54, loss: 9.42e-01\n",
      "  CPU time: 11210s, wall time: 8593s, perf_time_load: 0.17s, perf_time: 0.00s\n"
     ]
    },
    {
     "name": "stdout",
     "output_type": "stream",
     "text": [
      "step 44835 / 147018 (epoch 15.25 / 50):\n",
      "  learning_rate = 2.00e-02, training accuracy = 100.00, training loss = 1.54e-01\n",
      "  validation accuracy: 83.73 (4298 / 5133), f1 (weighted): 83.55, loss: 9.70e-01\n",
      "  CPU time: 11393s, wall time: 8730s, perf_time_load: 0.15s, perf_time: 0.00s\n",
      "step 45570 / 147018 (epoch 15.50 / 50):\n",
      "  learning_rate = 2.00e-02, training accuracy = 100.00, training loss = 6.00e-02\n",
      "  validation accuracy: 84.16 (4320 / 5133), f1 (weighted): 83.77, loss: 9.58e-01\n",
      "  CPU time: 11577s, wall time: 8866s, perf_time_load: 0.16s, perf_time: 0.00s\n",
      "step 46305 / 147018 (epoch 15.75 / 50):\n",
      "  learning_rate = 2.00e-02, training accuracy = 100.00, training loss = 6.47e-02\n",
      "  validation accuracy: 84.67 (4346 / 5133), f1 (weighted): 84.34, loss: 9.31e-01\n",
      "  CPU time: 11760s, wall time: 9006s, perf_time_load: 0.18s, perf_time: 0.00s\n",
      "step 47040 / 147018 (epoch 16.00 / 50):\n",
      "  learning_rate = 2.00e-02, training accuracy = 100.00, training loss = 1.77e-01\n",
      "  validation accuracy: 84.28 (4326 / 5133), f1 (weighted): 84.02, loss: 9.37e-01\n",
      "  CPU time: 11945s, wall time: 9143s, perf_time_load: 0.15s, perf_time: 0.00s\n",
      "step 47775 / 147018 (epoch 16.25 / 50):\n",
      "  learning_rate = 2.00e-02, training accuracy = 93.75, training loss = 3.17e-01\n",
      "  validation accuracy: 83.93 (4308 / 5133), f1 (weighted): 83.68, loss: 9.58e-01\n",
      "  CPU time: 12128s, wall time: 9281s, perf_time_load: 0.15s, perf_time: 0.00s\n",
      "step 48510 / 147018 (epoch 16.50 / 50):\n",
      "  learning_rate = 2.00e-02, training accuracy = 96.88, training loss = 4.47e-01\n",
      "  validation accuracy: 83.69 (4296 / 5133), f1 (weighted): 83.52, loss: 9.48e-01\n",
      "  CPU time: 12305s, wall time: 9416s, perf_time_load: 0.15s, perf_time: 0.00s\n",
      "step 49245 / 147018 (epoch 16.75 / 50):\n",
      "  learning_rate = 2.00e-02, training accuracy = 100.00, training loss = 1.68e-01\n",
      "  validation accuracy: 84.10 (4317 / 5133), f1 (weighted): 83.79, loss: 9.68e-01\n",
      "  CPU time: 12472s, wall time: 9549s, perf_time_load: 0.18s, perf_time: 0.00s\n",
      "step 49980 / 147018 (epoch 17.00 / 50):\n",
      "  learning_rate = 2.00e-02, training accuracy = 93.75, training loss = 1.20e-01\n",
      "  validation accuracy: 84.02 (4313 / 5133), f1 (weighted): 83.77, loss: 9.58e-01\n",
      "  CPU time: 12650s, wall time: 9685s, perf_time_load: 0.16s, perf_time: 0.00s\n",
      "step 50715 / 147018 (epoch 17.25 / 50):\n",
      "  learning_rate = 2.00e-02, training accuracy = 100.00, training loss = 4.11e-01\n",
      "  validation accuracy: 84.36 (4330 / 5133), f1 (weighted): 84.17, loss: 9.52e-01\n",
      "  CPU time: 12824s, wall time: 9824s, perf_time_load: 0.15s, perf_time: 0.00s\n",
      "step 51450 / 147018 (epoch 17.50 / 50):\n",
      "  learning_rate = 2.00e-02, training accuracy = 93.75, training loss = 1.89e-01\n",
      "  validation accuracy: 84.16 (4320 / 5133), f1 (weighted): 83.99, loss: 9.55e-01\n",
      "  CPU time: 13001s, wall time: 9959s, perf_time_load: 0.15s, perf_time: 0.00s\n",
      "step 52185 / 147018 (epoch 17.75 / 50):\n",
      "  learning_rate = 2.00e-02, training accuracy = 100.00, training loss = 2.73e-02\n",
      "  validation accuracy: 84.45 (4335 / 5133), f1 (weighted): 84.08, loss: 9.40e-01\n",
      "  CPU time: 13176s, wall time: 10094s, perf_time_load: 0.15s, perf_time: 0.00s\n",
      "step 52920 / 147018 (epoch 18.00 / 50):\n",
      "  learning_rate = 2.00e-02, training accuracy = 96.88, training loss = 1.58e-01\n",
      "  validation accuracy: 84.04 (4314 / 5133), f1 (weighted): 83.87, loss: 9.73e-01\n",
      "  CPU time: 13343s, wall time: 10225s, perf_time_load: 0.15s, perf_time: 0.00s\n",
      "step 53655 / 147018 (epoch 18.25 / 50):\n",
      "  learning_rate = 2.00e-02, training accuracy = 90.62, training loss = 2.41e-01\n",
      "  validation accuracy: 84.53 (4339 / 5133), f1 (weighted): 84.13, loss: 9.61e-01\n",
      "  CPU time: 13521s, wall time: 10360s, perf_time_load: 0.18s, perf_time: 0.00s\n",
      "step 54390 / 147018 (epoch 18.50 / 50):\n",
      "  learning_rate = 2.00e-02, training accuracy = 100.00, training loss = 1.30e-01\n",
      "  validation accuracy: 84.84 (4355 / 5133), f1 (weighted): 84.64, loss: 9.29e-01\n",
      "  CPU time: 13695s, wall time: 10501s, perf_time_load: 0.16s, perf_time: 0.00s\n",
      "step 55125 / 147018 (epoch 18.75 / 50):\n",
      "  learning_rate = 2.00e-02, training accuracy = 96.88, training loss = 1.58e-01\n",
      "  validation accuracy: 84.34 (4329 / 5133), f1 (weighted): 84.15, loss: 9.48e-01\n",
      "  CPU time: 13862s, wall time: 10633s, perf_time_load: 0.20s, perf_time: 0.00s\n",
      "step 55860 / 147018 (epoch 19.00 / 50):\n",
      "  learning_rate = 2.00e-02, training accuracy = 96.88, training loss = 1.08e-01\n",
      "  validation accuracy: 84.10 (4317 / 5133), f1 (weighted): 83.79, loss: 9.54e-01\n",
      "  CPU time: 14043s, wall time: 10769s, perf_time_load: 0.15s, perf_time: 0.00s\n",
      "step 56595 / 147018 (epoch 19.25 / 50):\n",
      "  learning_rate = 2.00e-02, training accuracy = 96.88, training loss = 4.83e-01\n",
      "  validation accuracy: 83.46 (4284 / 5133), f1 (weighted): 83.23, loss: 1.00e+00\n",
      "  CPU time: 14228s, wall time: 10907s, perf_time_load: 0.16s, perf_time: 0.00s\n",
      "step 57330 / 147018 (epoch 19.50 / 50):\n",
      "  learning_rate = 2.00e-02, training accuracy = 90.62, training loss = 2.92e-01\n",
      "  validation accuracy: 83.50 (4286 / 5133), f1 (weighted): 83.38, loss: 1.02e+00\n",
      "  CPU time: 14395s, wall time: 11039s, perf_time_load: 0.16s, perf_time: 0.00s\n",
      "step 58065 / 147018 (epoch 19.75 / 50):\n",
      "  learning_rate = 2.00e-02, training accuracy = 100.00, training loss = 1.85e-01\n",
      "  validation accuracy: 84.22 (4323 / 5133), f1 (weighted): 83.98, loss: 9.89e-01\n",
      "  CPU time: 14563s, wall time: 11171s, perf_time_load: 0.15s, perf_time: 0.00s\n",
      "step 58800 / 147018 (epoch 20.00 / 50):\n",
      "  learning_rate = 2.00e-02, training accuracy = 96.88, training loss = 1.16e-01\n",
      "  validation accuracy: 83.79 (4301 / 5133), f1 (weighted): 83.65, loss: 1.01e+00\n",
      "  CPU time: 14738s, wall time: 11307s, perf_time_load: 0.17s, perf_time: 0.00s\n",
      "step 59535 / 147018 (epoch 20.25 / 50):\n",
      "  learning_rate = 2.00e-02, training accuracy = 96.88, training loss = 1.69e-01\n",
      "  validation accuracy: 84.41 (4333 / 5133), f1 (weighted): 84.11, loss: 9.79e-01\n",
      "  CPU time: 14922s, wall time: 11445s, perf_time_load: 0.15s, perf_time: 0.00s\n",
      "step 60270 / 147018 (epoch 20.50 / 50):\n",
      "  learning_rate = 2.00e-02, training accuracy = 96.88, training loss = 1.92e-01\n",
      "  validation accuracy: 84.24 (4324 / 5133), f1 (weighted): 83.99, loss: 9.76e-01\n",
      "  CPU time: 15105s, wall time: 11583s, perf_time_load: 0.16s, perf_time: 0.00s\n",
      "step 61005 / 147018 (epoch 20.75 / 50):\n",
      "  learning_rate = 2.00e-02, training accuracy = 100.00, training loss = 1.36e-01\n",
      "  validation accuracy: 83.91 (4307 / 5133), f1 (weighted): 83.88, loss: 9.90e-01\n",
      "  CPU time: 15290s, wall time: 11719s, perf_time_load: 0.15s, perf_time: 0.00s\n",
      "step 61740 / 147018 (epoch 21.00 / 50):\n",
      "  learning_rate = 2.00e-02, training accuracy = 100.00, training loss = 5.01e-02\n",
      "  validation accuracy: 83.91 (4307 / 5133), f1 (weighted): 83.62, loss: 9.99e-01\n",
      "  CPU time: 15477s, wall time: 11856s, perf_time_load: 0.15s, perf_time: 0.00s\n",
      "step 62475 / 147018 (epoch 21.25 / 50):\n",
      "  learning_rate = 2.00e-02, training accuracy = 100.00, training loss = 6.92e-02\n",
      "  validation accuracy: 84.30 (4327 / 5133), f1 (weighted): 84.16, loss: 9.95e-01\n",
      "  CPU time: 15661s, wall time: 12002s, perf_time_load: 0.20s, perf_time: 0.00s\n",
      "step 63210 / 147018 (epoch 21.50 / 50):\n",
      "  learning_rate = 2.00e-02, training accuracy = 96.88, training loss = 4.00e-01\n",
      "  validation accuracy: 84.26 (4325 / 5133), f1 (weighted): 83.99, loss: 1.03e+00\n",
      "  CPU time: 15850s, wall time: 12142s, perf_time_load: 0.16s, perf_time: 0.00s\n",
      "step 63945 / 147018 (epoch 21.75 / 50):\n",
      "  learning_rate = 2.00e-02, training accuracy = 100.00, training loss = 4.68e-02\n",
      "  validation accuracy: 84.30 (4327 / 5133), f1 (weighted): 84.09, loss: 9.84e-01\n",
      "  CPU time: 16036s, wall time: 12279s, perf_time_load: 0.15s, perf_time: 0.00s\n",
      "step 64680 / 147018 (epoch 22.00 / 50):\n",
      "  learning_rate = 2.00e-02, training accuracy = 100.00, training loss = 1.89e-01\n",
      "  validation accuracy: 83.89 (4306 / 5133), f1 (weighted): 83.64, loss: 1.01e+00\n",
      "  CPU time: 16223s, wall time: 12417s, perf_time_load: 0.15s, perf_time: 0.00s\n",
      "step 65415 / 147018 (epoch 22.25 / 50):\n",
      "  learning_rate = 2.00e-02, training accuracy = 96.88, training loss = 2.91e-01\n",
      "  validation accuracy: 84.36 (4330 / 5133), f1 (weighted): 84.16, loss: 9.91e-01\n",
      "  CPU time: 16404s, wall time: 12558s, perf_time_load: 0.16s, perf_time: 0.00s\n",
      "step 66150 / 147018 (epoch 22.50 / 50):\n",
      "  learning_rate = 2.00e-02, training accuracy = 100.00, training loss = 2.37e-02\n"
     ]
    },
    {
     "name": "stdout",
     "output_type": "stream",
     "text": [
      "  validation accuracy: 84.02 (4313 / 5133), f1 (weighted): 83.76, loss: 1.03e+00\n",
      "  CPU time: 16589s, wall time: 12695s, perf_time_load: 0.16s, perf_time: 0.00s\n",
      "step 66885 / 147018 (epoch 22.75 / 50):\n",
      "  learning_rate = 2.00e-02, training accuracy = 100.00, training loss = 1.45e-01\n",
      "  validation accuracy: 84.08 (4316 / 5133), f1 (weighted): 83.78, loss: 1.00e+00\n",
      "  CPU time: 16775s, wall time: 12833s, perf_time_load: 0.15s, perf_time: 0.00s\n",
      "step 67620 / 147018 (epoch 23.00 / 50):\n",
      "  learning_rate = 2.00e-02, training accuracy = 96.88, training loss = 3.60e-01\n",
      "  validation accuracy: 84.26 (4325 / 5133), f1 (weighted): 84.13, loss: 9.76e-01\n",
      "  CPU time: 16956s, wall time: 12970s, perf_time_load: 0.15s, perf_time: 0.00s\n",
      "step 68355 / 147018 (epoch 23.25 / 50):\n",
      "  learning_rate = 2.00e-02, training accuracy = 96.88, training loss = 2.73e-01\n",
      "  validation accuracy: 84.41 (4333 / 5133), f1 (weighted): 84.19, loss: 9.90e-01\n",
      "  CPU time: 17142s, wall time: 13106s, perf_time_load: 0.16s, perf_time: 0.00s\n",
      "step 69090 / 147018 (epoch 23.50 / 50):\n",
      "  learning_rate = 2.00e-02, training accuracy = 100.00, training loss = 2.77e-01\n",
      "  validation accuracy: 84.34 (4329 / 5133), f1 (weighted): 84.10, loss: 1.01e+00\n",
      "  CPU time: 17332s, wall time: 13246s, perf_time_load: 0.17s, perf_time: 0.00s\n",
      "step 69825 / 147018 (epoch 23.75 / 50):\n",
      "  learning_rate = 2.00e-02, training accuracy = 100.00, training loss = 3.26e-02\n",
      "  validation accuracy: 84.16 (4320 / 5133), f1 (weighted): 83.97, loss: 1.01e+00\n",
      "  CPU time: 17531s, wall time: 13388s, perf_time_load: 0.17s, perf_time: 0.00s\n",
      "step 70560 / 147018 (epoch 24.00 / 50):\n",
      "  learning_rate = 2.00e-02, training accuracy = 90.62, training loss = 3.63e-01\n",
      "  validation accuracy: 84.18 (4321 / 5133), f1 (weighted): 83.90, loss: 1.03e+00\n",
      "  CPU time: 17731s, wall time: 13529s, perf_time_load: 0.18s, perf_time: 0.00s\n",
      "step 71295 / 147018 (epoch 24.25 / 50):\n",
      "  learning_rate = 2.00e-02, training accuracy = 100.00, training loss = 2.86e-02\n",
      "  validation accuracy: 84.16 (4320 / 5133), f1 (weighted): 83.85, loss: 1.04e+00\n",
      "  CPU time: 17930s, wall time: 13670s, perf_time_load: 0.15s, perf_time: 0.00s\n",
      "step 72030 / 147018 (epoch 24.50 / 50):\n",
      "  learning_rate = 2.00e-02, training accuracy = 96.88, training loss = 9.42e-02\n",
      "  validation accuracy: 84.36 (4330 / 5133), f1 (weighted): 84.12, loss: 9.99e-01\n",
      "  CPU time: 18131s, wall time: 13812s, perf_time_load: 0.17s, perf_time: 0.00s\n",
      "step 72765 / 147018 (epoch 24.75 / 50):\n",
      "  learning_rate = 2.00e-02, training accuracy = 100.00, training loss = 2.13e-01\n",
      "  validation accuracy: 84.65 (4345 / 5133), f1 (weighted): 84.50, loss: 9.97e-01\n",
      "  CPU time: 18335s, wall time: 13953s, perf_time_load: 0.16s, perf_time: 0.00s\n",
      "step 73500 / 147018 (epoch 25.00 / 50):\n",
      "  learning_rate = 2.00e-02, training accuracy = 100.00, training loss = 1.53e-01\n",
      "  validation accuracy: 84.51 (4338 / 5133), f1 (weighted): 84.35, loss: 9.78e-01\n",
      "  CPU time: 18534s, wall time: 14095s, perf_time_load: 0.17s, perf_time: 0.00s\n",
      "step 74235 / 147018 (epoch 25.25 / 50):\n",
      "  learning_rate = 2.00e-02, training accuracy = 100.00, training loss = 1.12e-01\n",
      "  validation accuracy: 84.28 (4326 / 5133), f1 (weighted): 83.96, loss: 1.00e+00\n",
      "  CPU time: 18732s, wall time: 14237s, perf_time_load: 0.17s, perf_time: 0.00s\n",
      "step 74970 / 147018 (epoch 25.50 / 50):\n",
      "  learning_rate = 2.00e-02, training accuracy = 96.88, training loss = 1.14e-01\n",
      "  validation accuracy: 84.34 (4329 / 5133), f1 (weighted): 84.00, loss: 9.79e-01\n",
      "  CPU time: 18931s, wall time: 14377s, perf_time_load: 0.15s, perf_time: 0.00s\n",
      "step 75705 / 147018 (epoch 25.75 / 50):\n",
      "  learning_rate = 2.00e-02, training accuracy = 96.88, training loss = 3.11e-01\n",
      "  validation accuracy: 83.87 (4305 / 5133), f1 (weighted): 83.68, loss: 1.02e+00\n",
      "  CPU time: 19128s, wall time: 14519s, perf_time_load: 0.16s, perf_time: 0.00s\n",
      "step 76440 / 147018 (epoch 26.00 / 50):\n",
      "  learning_rate = 2.00e-02, training accuracy = 100.00, training loss = 5.62e-02\n",
      "  validation accuracy: 84.18 (4321 / 5133), f1 (weighted): 84.00, loss: 1.01e+00\n",
      "  CPU time: 19325s, wall time: 14659s, perf_time_load: 0.16s, perf_time: 0.00s\n",
      "step 77175 / 147018 (epoch 26.25 / 50):\n",
      "  learning_rate = 2.00e-02, training accuracy = 100.00, training loss = 2.55e-01\n",
      "  validation accuracy: 84.41 (4333 / 5133), f1 (weighted): 84.23, loss: 1.00e+00\n",
      "  CPU time: 19518s, wall time: 14799s, perf_time_load: 0.17s, perf_time: 0.00s\n",
      "step 77910 / 147018 (epoch 26.50 / 50):\n",
      "  learning_rate = 2.00e-02, training accuracy = 100.00, training loss = 8.04e-02\n",
      "  validation accuracy: 84.10 (4317 / 5133), f1 (weighted): 83.86, loss: 1.01e+00\n",
      "  CPU time: 19714s, wall time: 14940s, perf_time_load: 0.16s, perf_time: 0.00s\n"
     ]
    }
   ],
   "source": [
    "accuracy_validation, loss_validation, loss_training, t_step, t_batch = model.fit(train_TFDataset, val_dataset, use_tf_dataset=True, cache=True)"
   ]
  },
  {
   "cell_type": "code",
   "execution_count": 30,
   "metadata": {},
   "outputs": [
    {
     "data": {
      "image/png": "[encoded data removed]",
      "text/plain": [
       "<Figure size 432x288 with 2 Axes>"
      ]
     },
     "metadata": {},
     "output_type": "display_data"
    }
   ],
   "source": [
    "plot.plot_loss(loss_training, loss_validation, t_step, params['eval_frequency'])"
   ]
  },
  {
   "cell_type": "markdown",
   "metadata": {},
   "source": [
    "Remarks"
   ]
  },
  {
   "cell_type": "code",
   "execution_count": 16,
   "metadata": {},
   "outputs": [
    {
     "name": "stdout",
     "output_type": "stream",
     "text": [
      "/mnt/scratch/students/gusset/DeepSphere/deepsphere/../checkpoints/shrec17_Cohen_simple_SGD_max_nsides_300epoch_reg_32sides_CNN\n",
      "INFO:tensorflow:Restoring parameters from /mnt/scratch/students/gusset/DeepSphere/deepsphere/../checkpoints/shrec17_Cohen_simple_SGD_max_nsides_300epoch_reg_32sides_CNN/model-294037\n"
     ]
    },
    {
     "data": {
      "text/plain": [
       "('accuracy: 96.53 (30277 / 31364), f1 (weighted): 96.54, loss: 1.16e-01\\nCPU time: 275s, wall time: 257s',\n",
       " 96.53424308123964,\n",
       " 96.54157073077505,\n",
       " 0.115866209483545)"
      ]
     },
     "execution_count": 16,
     "metadata": {},
     "output_type": "execute_result"
    }
   ],
   "source": [
    "model.evaluate(x_train, labels_train)"
   ]
  },
  {
   "cell_type": "code",
   "execution_count": null,
   "metadata": {},
   "outputs": [],
   "source": [
    "#predictions, loss = model.predict(x_val, labels_val)"
   ]
  },
  {
   "cell_type": "code",
   "execution_count": 98,
   "metadata": {
    "scrolled": true
   },
   "outputs": [
    {
     "name": "stdout",
     "output_type": "stream",
     "text": [
      "/mnt/scratch/students/gusset/DeepSphere/deepsphere/../checkpoints/shrec17_newGraph_best_4K_all_3aug_32sides_CNN\n",
      "INFO:tensorflow:Restoring parameters from /mnt/scratch/students/gusset/DeepSphere/deepsphere/../checkpoints/shrec17_newGraph_best_4K_all_3aug_32sides_CNN/model-294037\n"
     ]
    },
    {
     "data": {
      "text/plain": [
       "('accuracy: 84.24 (12972 / 15399), f1 (weighted): 83.93, loss: 1.09e+00\\nCPU time: 52s, wall time: 61s',\n",
       " 84.23923631404637,\n",
       " 83.92844681653466,\n",
       " 1.0901064912877085)"
      ]
     },
     "execution_count": 98,
     "metadata": {},
     "output_type": "execute_result"
    }
   ],
   "source": [
    "# model.evaluate(x_val, labels_val)\n",
    "model.evaluate(val_dataset, None, cache=True)"
   ]
  },
  {
   "cell_type": "code",
   "execution_count": 86,
   "metadata": {},
   "outputs": [
    {
     "name": "stdout",
     "output_type": "stream",
     "text": [
      "/mnt/scratch/students/gusset/DeepSphere/deepsphere/../checkpoints/shrec17_newGraph_best_4K_all_3aug_32sides_CNN\n",
      "INFO:tensorflow:Restoring parameters from /mnt/scratch/students/gusset/DeepSphere/deepsphere/../checkpoints/shrec17_newGraph_best_4K_all_3aug_32sides_CNN/model-294037\n"
     ]
    },
    {
     "data": {
      "text/plain": [
       "('accuracy: 84.53 (4339 / 5133), f1 (weighted): 84.18, loss: 1.08e+00\\nCPU time: 14s, wall time: 18s',\n",
       " 84.5314630820183,\n",
       " 84.18278247800087,\n",
       " 1.0770438693546538)"
      ]
     },
     "execution_count": 86,
     "metadata": {},
     "output_type": "execute_result"
    }
   ],
   "source": [
    "model.evaluate(val_nonrot_dataset, None, cache=True)"
   ]
  },
  {
   "cell_type": "code",
   "execution_count": 55,
   "metadata": {
    "scrolled": true
   },
   "outputs": [
    {
     "name": "stdout",
     "output_type": "stream",
     "text": [
      "/mnt/scratch/students/gusset/DeepSphere/deepsphere/../checkpoints/shrec17_newGraph_best_4K_triplet_6feat_1aug_32sides_CNN\n",
      "INFO:tensorflow:Restoring parameters from /mnt/scratch/students/gusset/DeepSphere/deepsphere/../checkpoints/shrec17_newGraph_best_4K_triplet_6feat_1aug_32sides_CNN/model-49006\n"
     ]
    },
    {
     "name": "stderr",
     "output_type": "stream",
     "text": [
      "INFO:tensorflow:Restoring parameters from /mnt/scratch/students/gusset/DeepSphere/deepsphere/../checkpoints/shrec17_newGraph_best_4K_triplet_6feat_1aug_32sides_CNN/model-49006\n"
     ]
    }
   ],
   "source": [
    "# probabilities = model.probs(x_val, nclass)\n",
    "probabilities, _ = model.probs(val_dataset, nclass, cache=True)\n",
    "if augmentation>1:\n",
    "    probabilities = probabilities.reshape((-1,augmentation,nclass))\n",
    "    probabilities = probabilities.mean(axis=1)\n",
    "    #ids_val = ids_val[::repeat]\n",
    "predictions = np.argmax(probabilities, axis=1)"
   ]
  },
  {
   "cell_type": "code",
   "execution_count": 87,
   "metadata": {
    "scrolled": true
   },
   "outputs": [
    {
     "name": "stdout",
     "output_type": "stream",
     "text": [
      "/mnt/scratch/students/gusset/DeepSphere/deepsphere/../checkpoints/shrec17_newGraph_best_4K_all_3aug_32sides_CNN\n",
      "INFO:tensorflow:Restoring parameters from /mnt/scratch/students/gusset/DeepSphere/deepsphere/../checkpoints/shrec17_newGraph_best_4K_all_3aug_32sides_CNN/model-294037\n"
     ]
    }
   ],
   "source": [
    "# probabilities = model.probs(x_val, nclass)\n",
    "probabilities, _ = model.probs(val_nonrot_dataset, nclass, cache=True)\n",
    "# if augmentation>1:\n",
    "#     probabilities = probabilities.reshape((-1,augmentation,nclass))\n",
    "#     probabilities = probabilities.mean(axis=1)\n",
    "    #ids_val = ids_val[::repeat]\n",
    "predictions = np.argmax(probabilities, axis=1)"
   ]
  },
  {
   "cell_type": "code",
   "execution_count": 88,
   "metadata": {},
   "outputs": [],
   "source": [
    "ids_val = val_dataset.get_ids()"
   ]
  },
  {
   "cell_type": "code",
   "execution_count": 20,
   "metadata": {},
   "outputs": [],
   "source": [
    "#predictions = predictions.astype(np.int)"
   ]
  },
  {
   "cell_type": "code",
   "execution_count": 21,
   "metadata": {},
   "outputs": [],
   "source": [
    "from SHREC17.load_shrec import shrec_output"
   ]
  },
  {
   "cell_type": "code",
   "execution_count": 56,
   "metadata": {},
   "outputs": [
    {
     "name": "stdout",
     "output_type": "stream",
     "text": [
      "/mnt/scratch/students/gusset/DeepSphere/deepsphere/../checkpoints/shrec17_newGraph_best_4K_triplet_6feat_1aug_32sides_CNN\n",
      "INFO:tensorflow:Restoring parameters from /mnt/scratch/students/gusset/DeepSphere/deepsphere/../checkpoints/shrec17_newGraph_best_4K_triplet_6feat_1aug_32sides_CNN/model-49006\n"
     ]
    },
    {
     "name": "stderr",
     "output_type": "stream",
     "text": [
      "INFO:tensorflow:Restoring parameters from /mnt/scratch/students/gusset/DeepSphere/deepsphere/../checkpoints/shrec17_newGraph_best_4K_triplet_6feat_1aug_32sides_CNN/model-49006\n"
     ]
    }
   ],
   "source": [
    "shrec_output(model.get_descriptor(val_dataset), ids_val, probabilities, datapath, 'results/val_perturbed')"
   ]
  },
  {
   "cell_type": "code",
   "execution_count": 89,
   "metadata": {},
   "outputs": [],
   "source": [
    "# for every file, find every object with the same class, sorted by most relevance\n",
    "os.makedirs(os.path.join(datapath,'results_aug/val_perturbed'), exist_ok=True)\n",
    "for i,_id in enumerate(ids_val):\n",
    "    idfile = os.path.join(datapath,'results_aug/val_perturbed',_id)\n",
    "    # predictions batchxclass\n",
    "    # pred_class batch == predictions\n",
    "    retrieved = [(probabilities[j, predictions[j]], ids_val[j]) for j in range(len(ids_val)) if predictions[j] == predictions[i]]\n",
    "    retrieved = sorted(retrieved, reverse=True)\n",
    "    retrieved = [i for _, i in retrieved]\n",
    "    with open(idfile, \"w\") as f:\n",
    "        f.write(\"\\n\".join(retrieved))"
   ]
  },
  {
   "cell_type": "markdown",
   "metadata": {},
   "source": [
    "NaN appears if remove i==j case"
   ]
  },
  {
   "cell_type": "markdown",
   "metadata": {},
   "source": [
    "## test network"
   ]
  },
  {
   "cell_type": "code",
   "execution_count": 62,
   "metadata": {},
   "outputs": [
    {
     "name": "stderr",
     "output_type": "stream",
     "text": [
      "\n",
      "0it [00:00, ?it/s]\u001b[A\n",
      "79it [00:00, 778.06it/s]\u001b[A\n",
      "153it [00:00, 758.42it/s]\u001b[A\n",
      "245it [00:00, 809.64it/s]\u001b[A\n",
      "337it [00:00, 836.38it/s]\u001b[A\n",
      "408it [00:00, 811.22it/s]\u001b[A\n",
      "499it [00:00, 827.17it/s]\u001b[A\n",
      "591it [00:00, 840.17it/s]\u001b[A\n",
      "683it [00:00, 849.59it/s]\u001b[A\n",
      "775it [00:00, 855.37it/s]\u001b[A\n",
      "864it [00:01, 857.92it/s]\u001b[A\n",
      "955it [00:01, 860.50it/s]Exception in thread Thread-10:\n",
      "Traceback (most recent call last):\n",
      "  File \"/home/gusset/miniconda3/envs/PDMsphere/lib/python3.6/threading.py\", line 916, in _bootstrap_inner\n",
      "    self.run()\n",
      "  File \"/home/gusset/miniconda3/envs/PDMsphere/lib/python3.6/site-packages/tqdm/_tqdm.py\", line 148, in run\n",
      "    for instance in self.tqdm_cls._instances:\n",
      "  File \"/home/gusset/miniconda3/envs/PDMsphere/lib/python3.6/_weakrefset.py\", line 60, in __iter__\n",
      "    for itemref in self.data:\n",
      "RuntimeError: Set changed size during iteration\n",
      "\n",
      "10265it [00:10, 958.56it/s]\n"
     ]
    }
   ],
   "source": [
    "test_dataset = Shrec17Dataset(datapath, 'test', perturbed=noise_dataset, download=download, nside=Nside, augmentation=augmentation, nfile=None)"
   ]
  },
  {
   "cell_type": "code",
   "execution_count": 90,
   "metadata": {},
   "outputs": [],
   "source": [
    "test_nonrot_dataset = Shrec17DatasetCache(datapath, 'test', perturbed=noise_dataset, download=download, \n",
    "                                          nside=Nside, experiment='deepsphere_norot', augmentation=augmentation, nfile=None)"
   ]
  },
  {
   "cell_type": "code",
   "execution_count": 63,
   "metadata": {},
   "outputs": [
    {
     "data": {
      "image/png": "[encoded data removed]",
      "text/plain": [
       "<Figure size 432x288 with 1 Axes>"
      ]
     },
     "metadata": {},
     "output_type": "display_data"
    }
   ],
   "source": [
    "x_test, labels_test, ids_test = test_dataset.return_data(train=False)"
   ]
  },
  {
   "cell_type": "code",
   "execution_count": 77,
   "metadata": {},
   "outputs": [
    {
     "name": "stdout",
     "output_type": "stream",
     "text": [
      "/mnt/scratch/students/gusset/DeepSphere/deepsphere/../checkpoints/shrec17_newBestGraph_best_4K_6feat_1aug_32sides_CNN\n",
      "INFO:tensorflow:Restoring parameters from /mnt/scratch/students/gusset/DeepSphere/deepsphere/../checkpoints/shrec17_newBestGraph_best_4K_6feat_1aug_32sides_CNN/model-26950\n"
     ]
    },
    {
     "data": {
      "text/plain": [
       "('accuracy: 77.80 (7986 / 10265), f1 (weighted): 77.98, loss: 1.17e+00\\nCPU time: 15s, wall time: 15s',\n",
       " 77.79834388699464,\n",
       " 77.97818766736253,\n",
       " 1.1658846674346366)"
      ]
     },
     "execution_count": 77,
     "metadata": {},
     "output_type": "execute_result"
    }
   ],
   "source": [
    "model.evaluate(x_test, labels_test)"
   ]
  },
  {
   "cell_type": "code",
   "execution_count": 91,
   "metadata": {},
   "outputs": [
    {
     "name": "stdout",
     "output_type": "stream",
     "text": [
      "/mnt/scratch/students/gusset/DeepSphere/deepsphere/../checkpoints/shrec17_newGraph_best_4K_all_3aug_32sides_CNN\n",
      "INFO:tensorflow:Restoring parameters from /mnt/scratch/students/gusset/DeepSphere/deepsphere/../checkpoints/shrec17_newGraph_best_4K_all_3aug_32sides_CNN/model-294037\n"
     ]
    },
    {
     "data": {
      "text/plain": [
       "('accuracy: 80.42 (8255 / 10265), f1 (weighted): 80.65, loss: 1.40e+00\\nCPU time: 27s, wall time: 35s',\n",
       " 80.4188991719435,\n",
       " 80.65244263465385,\n",
       " 1.4044862921390078)"
      ]
     },
     "execution_count": 91,
     "metadata": {},
     "output_type": "execute_result"
    }
   ],
   "source": [
    "model.evaluate(test_nonrot_dataset, None, cache=True)"
   ]
  },
  {
   "cell_type": "code",
   "execution_count": null,
   "metadata": {},
   "outputs": [],
   "source": [
    "#predictions = model.predict(x_test)"
   ]
  },
  {
   "cell_type": "code",
   "execution_count": 57,
   "metadata": {},
   "outputs": [
    {
     "name": "stdout",
     "output_type": "stream",
     "text": [
      "/mnt/scratch/students/gusset/DeepSphere/deepsphere/../checkpoints/shrec17_newGraph_best_4K_triplet_6feat_1aug_32sides_CNN\n",
      "INFO:tensorflow:Restoring parameters from /mnt/scratch/students/gusset/DeepSphere/deepsphere/../checkpoints/shrec17_newGraph_best_4K_triplet_6feat_1aug_32sides_CNN/model-49006\n"
     ]
    },
    {
     "name": "stderr",
     "output_type": "stream",
     "text": [
      "INFO:tensorflow:Restoring parameters from /mnt/scratch/students/gusset/DeepSphere/deepsphere/../checkpoints/shrec17_newGraph_best_4K_triplet_6feat_1aug_32sides_CNN/model-49006\n"
     ]
    }
   ],
   "source": [
    "probabilities = model.probs(x_test, nclass)\n",
    "# if augmentation>1:\n",
    "#     probabilities = probabilities.reshape((-1,augmentation,nclass))\n",
    "#     probabilities = probabilities.mean(axis=1)\n",
    "#probabilities = np.log(probabilities)\n",
    "predictions = np.argmax(probabilities, axis=1)"
   ]
  },
  {
   "cell_type": "code",
   "execution_count": 92,
   "metadata": {},
   "outputs": [
    {
     "name": "stdout",
     "output_type": "stream",
     "text": [
      "/mnt/scratch/students/gusset/DeepSphere/deepsphere/../checkpoints/shrec17_newGraph_best_4K_all_3aug_32sides_CNN\n",
      "INFO:tensorflow:Restoring parameters from /mnt/scratch/students/gusset/DeepSphere/deepsphere/../checkpoints/shrec17_newGraph_best_4K_all_3aug_32sides_CNN/model-294037\n"
     ]
    },
    {
     "ename": "AxisError",
     "evalue": "axis 1 is out of bounds for array of dimension 1",
     "output_type": "error",
     "traceback": [
      "\u001b[0;31m---------------------------------------------------------------------------\u001b[0m",
      "\u001b[0;31mAttributeError\u001b[0m                            Traceback (most recent call last)",
      "\u001b[0;32m~/miniconda3/envs/PDMsphere/lib/python3.6/site-packages/numpy/core/fromnumeric.py\u001b[0m in \u001b[0;36m_wrapfunc\u001b[0;34m(obj, method, *args, **kwds)\u001b[0m\n\u001b[1;32m     51\u001b[0m     \u001b[0;32mtry\u001b[0m\u001b[0;34m:\u001b[0m\u001b[0;34m\u001b[0m\u001b[0;34m\u001b[0m\u001b[0m\n\u001b[0;32m---> 52\u001b[0;31m         \u001b[0;32mreturn\u001b[0m \u001b[0mgetattr\u001b[0m\u001b[0;34m(\u001b[0m\u001b[0mobj\u001b[0m\u001b[0;34m,\u001b[0m \u001b[0mmethod\u001b[0m\u001b[0;34m)\u001b[0m\u001b[0;34m(\u001b[0m\u001b[0;34m*\u001b[0m\u001b[0margs\u001b[0m\u001b[0;34m,\u001b[0m \u001b[0;34m**\u001b[0m\u001b[0mkwds\u001b[0m\u001b[0;34m)\u001b[0m\u001b[0;34m\u001b[0m\u001b[0;34m\u001b[0m\u001b[0m\n\u001b[0m\u001b[1;32m     53\u001b[0m \u001b[0;34m\u001b[0m\u001b[0m\n",
      "\u001b[0;31mAttributeError\u001b[0m: 'tuple' object has no attribute 'argmax'",
      "\nDuring handling of the above exception, another exception occurred:\n",
      "\u001b[0;31mAxisError\u001b[0m                                 Traceback (most recent call last)",
      "\u001b[0;32m<ipython-input-92-0df2255eca19>\u001b[0m in \u001b[0;36m<module>\u001b[0;34m()\u001b[0m\n\u001b[1;32m      4\u001b[0m \u001b[0;31m#     probabilities = repeat.mean(axis=1)\u001b[0m\u001b[0;34m\u001b[0m\u001b[0;34m\u001b[0m\u001b[0;34m\u001b[0m\u001b[0m\n\u001b[1;32m      5\u001b[0m \u001b[0;31m#probabilities = np.log(probabilities)\u001b[0m\u001b[0;34m\u001b[0m\u001b[0;34m\u001b[0m\u001b[0;34m\u001b[0m\u001b[0m\n\u001b[0;32m----> 6\u001b[0;31m \u001b[0mpredictions\u001b[0m \u001b[0;34m=\u001b[0m \u001b[0mnp\u001b[0m\u001b[0;34m.\u001b[0m\u001b[0margmax\u001b[0m\u001b[0;34m(\u001b[0m\u001b[0mprobabilities\u001b[0m\u001b[0;34m,\u001b[0m \u001b[0maxis\u001b[0m\u001b[0;34m=\u001b[0m\u001b[0;36m1\u001b[0m\u001b[0;34m)\u001b[0m\u001b[0;34m\u001b[0m\u001b[0;34m\u001b[0m\u001b[0m\n\u001b[0m",
      "\u001b[0;32m~/miniconda3/envs/PDMsphere/lib/python3.6/site-packages/numpy/core/fromnumeric.py\u001b[0m in \u001b[0;36margmax\u001b[0;34m(a, axis, out)\u001b[0m\n\u001b[1;32m   1002\u001b[0m \u001b[0;34m\u001b[0m\u001b[0m\n\u001b[1;32m   1003\u001b[0m     \"\"\"\n\u001b[0;32m-> 1004\u001b[0;31m     \u001b[0;32mreturn\u001b[0m \u001b[0m_wrapfunc\u001b[0m\u001b[0;34m(\u001b[0m\u001b[0ma\u001b[0m\u001b[0;34m,\u001b[0m \u001b[0;34m'argmax'\u001b[0m\u001b[0;34m,\u001b[0m \u001b[0maxis\u001b[0m\u001b[0;34m=\u001b[0m\u001b[0maxis\u001b[0m\u001b[0;34m,\u001b[0m \u001b[0mout\u001b[0m\u001b[0;34m=\u001b[0m\u001b[0mout\u001b[0m\u001b[0;34m)\u001b[0m\u001b[0;34m\u001b[0m\u001b[0;34m\u001b[0m\u001b[0m\n\u001b[0m\u001b[1;32m   1005\u001b[0m \u001b[0;34m\u001b[0m\u001b[0m\n\u001b[1;32m   1006\u001b[0m \u001b[0;34m\u001b[0m\u001b[0m\n",
      "\u001b[0;32m~/miniconda3/envs/PDMsphere/lib/python3.6/site-packages/numpy/core/fromnumeric.py\u001b[0m in \u001b[0;36m_wrapfunc\u001b[0;34m(obj, method, *args, **kwds)\u001b[0m\n\u001b[1;32m     60\u001b[0m     \u001b[0;31m# a downstream library like 'pandas'.\u001b[0m\u001b[0;34m\u001b[0m\u001b[0;34m\u001b[0m\u001b[0;34m\u001b[0m\u001b[0m\n\u001b[1;32m     61\u001b[0m     \u001b[0;32mexcept\u001b[0m \u001b[0;34m(\u001b[0m\u001b[0mAttributeError\u001b[0m\u001b[0;34m,\u001b[0m \u001b[0mTypeError\u001b[0m\u001b[0;34m)\u001b[0m\u001b[0;34m:\u001b[0m\u001b[0;34m\u001b[0m\u001b[0;34m\u001b[0m\u001b[0m\n\u001b[0;32m---> 62\u001b[0;31m         \u001b[0;32mreturn\u001b[0m \u001b[0m_wrapit\u001b[0m\u001b[0;34m(\u001b[0m\u001b[0mobj\u001b[0m\u001b[0;34m,\u001b[0m \u001b[0mmethod\u001b[0m\u001b[0;34m,\u001b[0m \u001b[0;34m*\u001b[0m\u001b[0margs\u001b[0m\u001b[0;34m,\u001b[0m \u001b[0;34m**\u001b[0m\u001b[0mkwds\u001b[0m\u001b[0;34m)\u001b[0m\u001b[0;34m\u001b[0m\u001b[0;34m\u001b[0m\u001b[0m\n\u001b[0m\u001b[1;32m     63\u001b[0m \u001b[0;34m\u001b[0m\u001b[0m\n\u001b[1;32m     64\u001b[0m \u001b[0;34m\u001b[0m\u001b[0m\n",
      "\u001b[0;32m~/miniconda3/envs/PDMsphere/lib/python3.6/site-packages/numpy/core/fromnumeric.py\u001b[0m in \u001b[0;36m_wrapit\u001b[0;34m(obj, method, *args, **kwds)\u001b[0m\n\u001b[1;32m     40\u001b[0m     \u001b[0;32mexcept\u001b[0m \u001b[0mAttributeError\u001b[0m\u001b[0;34m:\u001b[0m\u001b[0;34m\u001b[0m\u001b[0;34m\u001b[0m\u001b[0m\n\u001b[1;32m     41\u001b[0m         \u001b[0mwrap\u001b[0m \u001b[0;34m=\u001b[0m \u001b[0;32mNone\u001b[0m\u001b[0;34m\u001b[0m\u001b[0;34m\u001b[0m\u001b[0m\n\u001b[0;32m---> 42\u001b[0;31m     \u001b[0mresult\u001b[0m \u001b[0;34m=\u001b[0m \u001b[0mgetattr\u001b[0m\u001b[0;34m(\u001b[0m\u001b[0masarray\u001b[0m\u001b[0;34m(\u001b[0m\u001b[0mobj\u001b[0m\u001b[0;34m)\u001b[0m\u001b[0;34m,\u001b[0m \u001b[0mmethod\u001b[0m\u001b[0;34m)\u001b[0m\u001b[0;34m(\u001b[0m\u001b[0;34m*\u001b[0m\u001b[0margs\u001b[0m\u001b[0;34m,\u001b[0m \u001b[0;34m**\u001b[0m\u001b[0mkwds\u001b[0m\u001b[0;34m)\u001b[0m\u001b[0;34m\u001b[0m\u001b[0;34m\u001b[0m\u001b[0m\n\u001b[0m\u001b[1;32m     43\u001b[0m     \u001b[0;32mif\u001b[0m \u001b[0mwrap\u001b[0m\u001b[0;34m:\u001b[0m\u001b[0;34m\u001b[0m\u001b[0;34m\u001b[0m\u001b[0m\n\u001b[1;32m     44\u001b[0m         \u001b[0;32mif\u001b[0m \u001b[0;32mnot\u001b[0m \u001b[0misinstance\u001b[0m\u001b[0;34m(\u001b[0m\u001b[0mresult\u001b[0m\u001b[0;34m,\u001b[0m \u001b[0mmu\u001b[0m\u001b[0;34m.\u001b[0m\u001b[0mndarray\u001b[0m\u001b[0;34m)\u001b[0m\u001b[0;34m:\u001b[0m\u001b[0;34m\u001b[0m\u001b[0;34m\u001b[0m\u001b[0m\n",
      "\u001b[0;31mAxisError\u001b[0m: axis 1 is out of bounds for array of dimension 1"
     ]
    }
   ],
   "source": [
    "probabilities, _ = model.probs(test_nonrot_dataset, nclass, cache=True)\n",
    "# if augmentation>1:\n",
    "#     probabilities = probabilities.reshape((-1,augmentation,nclass))\n",
    "#     probabilities = probabilities.mean(axis=1)\n",
    "#probabilities = np.log(probabilities)\n",
    "predictions = np.argmax(probabilities, axis=1)"
   ]
  },
  {
   "cell_type": "code",
   "execution_count": null,
   "metadata": {},
   "outputs": [],
   "source": [
    "#predictions = predictions.astype(np.int)"
   ]
  },
  {
   "cell_type": "markdown",
   "metadata": {},
   "source": [
    "write to file"
   ]
  },
  {
   "cell_type": "code",
   "execution_count": null,
   "metadata": {},
   "outputs": [],
   "source": [
    "# for every file, find every object with the same class, sorted by most relevance\n",
    "os.makedirs(os.path.join(datapath,'results_aug/test_perturbed'), exist_ok=True)\n",
    "for i, _id in enumerate(ids_test):\n",
    "    idfile = os.path.join(datapath,'results_aug/test_perturbed',_id)\n",
    "    # predictions batchxclass\n",
    "    # pred_class batch == predictions\n",
    "    retrieved = [(probabilities[j, predictions[j]], ids_test[j]) for j in range(len(ids_test)) if predictions[j] == predictions[i]]\n",
    "    retrieved = sorted(retrieved, reverse=True)\n",
    "    retrieved = [i for _, i in retrieved]\n",
    "    with open(idfile, \"w\") as f:\n",
    "        f.write(\"\\n\".join(retrieved))"
   ]
  },
  {
   "cell_type": "code",
   "execution_count": 64,
   "metadata": {},
   "outputs": [
    {
     "name": "stdout",
     "output_type": "stream",
     "text": [
      "/mnt/scratch/students/gusset/DeepSphere/deepsphere/../checkpoints/shrec17_newGraph_best_4K_triplet_6feat_1aug_32sides_CNN\n",
      "INFO:tensorflow:Restoring parameters from /mnt/scratch/students/gusset/DeepSphere/deepsphere/../checkpoints/shrec17_newGraph_best_4K_triplet_6feat_1aug_32sides_CNN/model-49006\n"
     ]
    },
    {
     "name": "stderr",
     "output_type": "stream",
     "text": [
      "INFO:tensorflow:Restoring parameters from /mnt/scratch/students/gusset/DeepSphere/deepsphere/../checkpoints/shrec17_newGraph_best_4K_triplet_6feat_1aug_32sides_CNN/model-49006\n"
     ]
    }
   ],
   "source": [
    "shrec_output(model.get_descriptor(LabeledDataset(x_test, labels_test)), ids_test, probabilities, datapath, 'results/test_perturbed')"
   ]
  },
  {
   "cell_type": "markdown",
   "metadata": {},
   "source": [
    "Why not working?"
   ]
  },
  {
   "cell_type": "code",
   "execution_count": 60,
   "metadata": {},
   "outputs": [],
   "source": [
    "def _print_histogram(nclass, labels_train, labels_min=None):\n",
    "    if labels_train is None:\n",
    "        return\n",
    "    import matplotlib.pyplot as plt\n",
    "    from collections import Counter\n",
    "    hist_train=Counter(labels_train)\n",
    "    if labels_min is not None:\n",
    "        hist_min = Counter(labels_min)\n",
    "        hist_temp = hist_train - hist_min\n",
    "        hist_min = hist_min - hist_train\n",
    "        hist_train = hist_temp + hist_min\n",
    "#         for i in range(self.nclass):\n",
    "#             hist_train.append(np.sum(labels_train == i))\n",
    "    labels, values = zip(*hist_train.items())\n",
    "    indexes = np.asarray(labels)\n",
    "#     miss = set(indexes) - set(labels)\n",
    "#     if len(miss) is not 0:\n",
    "#         hist_train.update({elem:0 for elem in miss})\n",
    "#     labels, values = zip(*hist_train.items())\n",
    "    width = 1\n",
    "    plt.bar(labels, values, width)\n",
    "    plt.title(\"labels distribution\")\n",
    "    plt.ylim(0,1700)\n",
    "    #plt.xticks(indexes + width * 0.5, labels)\n",
    "    plt.show()"
   ]
  },
  {
   "cell_type": "code",
   "execution_count": 61,
   "metadata": {},
   "outputs": [
    {
     "data": {
      "image/png": "[encoded data removed]",
      "text/plain": [
       "<Figure size 432x288 with 1 Axes>"
      ]
     },
     "metadata": {},
     "output_type": "display_data"
    },
    {
     "data": {
      "image/png": "[encoded data removed]",
      "text/plain": [
       "<Figure size 432x288 with 1 Axes>"
      ]
     },
     "metadata": {},
     "output_type": "display_data"
    },
    {
     "data": {
      "image/png": "[encoded data removed]",
      "text/plain": [
       "<Figure size 432x288 with 1 Axes>"
      ]
     },
     "metadata": {},
     "output_type": "display_data"
    }
   ],
   "source": [
    "_print_histogram(55, labels_test)\n",
    "_print_histogram(55, predictions)\n",
    "_print_histogram(55, labels_test, predictions)"
   ]
  },
  {
   "cell_type": "code",
   "execution_count": 94,
   "metadata": {},
   "outputs": [],
   "source": [
    "from sklearn.metrics import confusion_matrix"
   ]
  },
  {
   "cell_type": "code",
   "execution_count": 95,
   "metadata": {},
   "outputs": [
    {
     "ename": "NameError",
     "evalue": "name 'predictions' is not defined",
     "output_type": "error",
     "traceback": [
      "\u001b[0;31m---------------------------------------------------------------------------\u001b[0m",
      "\u001b[0;31mNameError\u001b[0m                                 Traceback (most recent call last)",
      "\u001b[0;32m<ipython-input-95-55fd6de51401>\u001b[0m in \u001b[0;36m<module>\u001b[0;34m()\u001b[0m\n\u001b[0;32m----> 1\u001b[0;31m \u001b[0mplt\u001b[0m\u001b[0;34m.\u001b[0m\u001b[0mspy\u001b[0m\u001b[0;34m(\u001b[0m\u001b[0mconfusion_matrix\u001b[0m\u001b[0;34m(\u001b[0m\u001b[0mlabels_test\u001b[0m\u001b[0;34m,\u001b[0m \u001b[0mpredictions\u001b[0m\u001b[0;34m,\u001b[0m \u001b[0mrange\u001b[0m\u001b[0;34m(\u001b[0m\u001b[0;36m55\u001b[0m\u001b[0;34m)\u001b[0m\u001b[0;34m)\u001b[0m\u001b[0;34m,\u001b[0m \u001b[0mcmap\u001b[0m \u001b[0;34m=\u001b[0m \u001b[0mplt\u001b[0m\u001b[0;34m.\u001b[0m\u001b[0mcm\u001b[0m\u001b[0;34m.\u001b[0m\u001b[0mgist_heat_r\u001b[0m\u001b[0;34m)\u001b[0m\u001b[0;34m\u001b[0m\u001b[0;34m\u001b[0m\u001b[0m\n\u001b[0m",
      "\u001b[0;31mNameError\u001b[0m: name 'predictions' is not defined"
     ]
    }
   ],
   "source": [
    "plt.spy(confusion_matrix(labels_test, predictions, range(55)), cmap = plt.cm.gist_heat_r)"
   ]
  },
  {
   "cell_type": "code",
   "execution_count": null,
   "metadata": {},
   "outputs": [],
   "source": []
  }
 ],
 "metadata": {
  "kernelspec": {
   "display_name": "Python 3",
   "language": "python",
   "name": "python3"
  },
  "language_info": {
   "codemirror_mode": {
    "name": "ipython",
    "version": 3
   },
   "file_extension": ".py",
   "mimetype": "text/x-python",
   "name": "python",
   "nbconvert_exporter": "python",
   "pygments_lexer": "ipython3",
   "version": "3.6.7"
  }
 },
 "nbformat": 4,
 "nbformat_minor": 2
}
